{
  "nbformat": 4,
  "nbformat_minor": 0,
  "metadata": {
    "colab": {
      "name": "Curso_de_Estatística_Parte_1.ipynb",
      "provenance": [],
      "collapsed_sections": [
        "cVgsZ_E3jQKg",
        "r0Fe_qnzjQKj",
        "z202MzWZpum1",
        "Vw7vSgEKpunD",
        "Y0WhtMGHpunF",
        "oB4TCBFojQKt",
        "7mMXLTukjQK-",
        "d_LW5gMIjQK_",
        "PNIg_4VEjQK_",
        "JhpyjkEFjQLA",
        "SsN3ikjqjQLB",
        "ymuM2feTpunO",
        "D82ocp_djQLR",
        "eaXQUxnXjQLa",
        "miXdZZPzpunS",
        "wxsSD-VVjQLb",
        "kZ786JkLpunX",
        "5eO-RhaljQL6",
        "Js9iLwNkjQME",
        "uIb17Es3jQMP",
        "Wrya4suEX7H-",
        "kcHJFW-YjQMP",
        "yYnKkU08punh",
        "9geu3UcKjQMS",
        "c1nWKy9Spunj",
        "e0IuYdJFjQMT",
        "rAzzZIaIpunm",
        "nK27TxrkjQMl",
        "CmCu6BXQjQMo",
        "8qqIwK1kpunp",
        "YwhBwz-JjQMr",
        "_-0gjQWFjQMu",
        "ljg_9Wu7punv",
        "b7ZchyFsjQMu",
        "WazchssNjQM1",
        "eS4I2H7jjQM7",
        "vcaIo45UjQND",
        "f4XrApNxjQNE",
        "W3SkRMBMpun_",
        "tHD3yNqzjQNW",
        "WrCn9hw0jQNX",
        "jV5mQT_djQNX",
        "wQl_CsytjQNg",
        "X9w1Iqt3jQNg",
        "D3J4MvMpjQNg",
        "p4_M8lfKpuoP"
      ]
    },
    "kernelspec": {
      "display_name": "R",
      "language": "R",
      "name": "ir"
    },
    "language_info": {
      "codemirror_mode": "r",
      "file_extension": ".r",
      "mimetype": "text/x-r-source",
      "name": "R",
      "pygments_lexer": "r",
      "version": "3.6.1"
    }
  },
  "cells": [
    {
      "cell_type": "markdown",
      "metadata": {
        "id": "WvMflodMjQKe"
      },
      "source": [
        "***\n",
        "# <font color=green size=10>CURSO DE ESTATÍSTICA - PARTE 1</font>\n",
        "***"
      ]
    },
    {
      "cell_type": "markdown",
      "metadata": {
        "id": "cVgsZ_E3jQKg"
      },
      "source": [
        "# <font color=green>1 CONHECENDO OS DADOS</font>\n",
        "***"
      ]
    },
    {
      "cell_type": "markdown",
      "metadata": {
        "id": "TDjqYYNojQKh"
      },
      "source": [
        "## <font color=green>1.1 Dataset do projeto</font>\n",
        "***"
      ]
    },
    {
      "cell_type": "markdown",
      "metadata": {
        "id": "iN1gIbaKjQKh"
      },
      "source": [
        "### Pesquisa Nacional por Amostra de Domicílios - 2015\n",
        "\n",
        "A <b>Pesquisa Nacional por Amostra de Domicílios - PNAD</b> investiga anualmente, de forma permanente, características gerais da população, de educação, trabalho, rendimento e habitação e outras, com periodicidade variável, de acordo com as necessidades de informação para o país, como as características sobre migração, fecundidade, nupcialidade, saúde, segurança alimentar, entre outros temas. O levantamento dessas estatísticas constitui, ao longo dos 49 anos de realização da pesquisa, um importante instrumento para formulação, validação e avaliação de políticas orientadas para o desenvolvimento socioeconômico e a melhoria das condições de vida no Brasil."
      ]
    },
    {
      "cell_type": "markdown",
      "metadata": {
        "id": "U6V7br1RjQKi"
      },
      "source": [
        "### Fonte dos Dados\n",
        "\n",
        "https://ww2.ibge.gov.br/home/estatistica/populacao/trabalhoerendimento/pnad2015/microdados.shtm"
      ]
    },
    {
      "cell_type": "markdown",
      "metadata": {
        "id": "r0Fe_qnzjQKj"
      },
      "source": [
        "### Variáveis utilizadas\n",
        "\n",
        "> ### Renda\n",
        "> ***\n",
        "\n",
        "Rendimento mensal do trabalho principal para pessoas de 10 anos ou mais de idade.\n",
        "\n",
        "> ### Idade\n",
        "> ***\n",
        "\n",
        "Idade do morador na data de referência em anos.\n",
        "\n",
        "> ### Altura (elaboração própria)\n",
        "> ***\n",
        "\n",
        "Altura do morador em metros.\n",
        "\n",
        "> ### UF\n",
        "> ***\n",
        "\n",
        "|Código|Descrição|\n",
        "|---|---|\n",
        "|11|Rondônia|\n",
        "|12|Acre|\n",
        "|13|Amazonas|\n",
        "|14|Roraima|\n",
        "|15|Pará|\n",
        "|16|Amapá|\n",
        "|17|Tocantins|\n",
        "|21|Maranhão|\n",
        "|22|Piauí|\n",
        "|23|Ceará|\n",
        "|24|Rio Grande do Norte|\n",
        "|25|Paraíba|\n",
        "|26|Pernambuco|\n",
        "|27|Alagoas|\n",
        "|28|Sergipe|\n",
        "|29|Bahia|\n",
        "|31|Minas Gerais|\n",
        "|32|Espírito Santo|\n",
        "|33|Rio de Janeiro|\n",
        "|35|São Paulo|\n",
        "|41|Paraná|\n",
        "|42|Santa Catarina|\n",
        "|43|Rio Grande do Sul|\n",
        "|50|Mato Grosso do Sul|\n",
        "|51|Mato Grosso|\n",
        "|52|Goiás|\n",
        "|53|Distrito Federal|\n",
        "\n",
        "> ### Sexo\t\n",
        "> ***\n",
        "\n",
        "|Código|Descrição|\n",
        "|---|---|\n",
        "|0|Masculino|\n",
        "|1|Feminino|\n",
        "\n",
        "> ### Anos de Estudo\n",
        "> ***\n",
        "\n",
        "|Código|Descrição|\n",
        "|---|---|\n",
        "|1|Sem instrução e menos de 1 ano|\n",
        "|2|1 ano|\n",
        "|3|2 anos|\n",
        "|4|3 anos|\n",
        "|5|4 anos|\n",
        "|6|5 anos|\n",
        "|7|6 anos|\n",
        "|8|7 anos|\n",
        "|9|8 anos|\n",
        "|10|9 anos|\n",
        "|11|10 anos|\n",
        "|12|11 anos|\n",
        "|13|12 anos|\n",
        "|14|13 anos|\n",
        "|15|14 anos|\n",
        "|16|15 anos ou mais|\n",
        "|17|Não determinados| \n",
        "||Não aplicável|\n",
        "\n",
        "> ### Cor\n",
        "> ***\n",
        "\n",
        "|Código|Descrição|\n",
        "|---|---|\n",
        "|0|Indígena|\n",
        "|2|Branca|\n",
        "|4|Preta|\n",
        "|6|Amarela|\n",
        "|8|Parda|\n",
        "|9|Sem declaração|"
      ]
    },
    {
      "cell_type": "markdown",
      "metadata": {
        "id": "OK1IQH5cX7Gb"
      },
      "source": [
        "#### <font color='red'>Observação</font>\n",
        "***\n",
        "> Os seguintes tratamentos foram realizados nos dados originais:\n",
        "> 1. Foram eliminados os registros onde a <b>Renda</b> era inválida (999 999 999 999);\n",
        "> 2. Foram eliminados os registros onde a <b>Renda</b> era missing;\n",
        "> 3. Foram considerados somente os registros das <b>Pessoas de Referência</b> de cada domicílio (responsável pelo domicílio)."
      ]
    },
    {
      "cell_type": "markdown",
      "metadata": {
        "id": "z202MzWZpum1"
      },
      "source": [
        "### R (informações básicas)"
      ]
    },
    {
      "cell_type": "code",
      "metadata": {
        "id": "Zr-OuTIqpum2",
        "colab": {
          "base_uri": "https://localhost:8080/"
        },
        "outputId": "2150d5ec-761e-41dc-f4e3-8dd327273766"
      },
      "source": [
        "sessionInfo() # Mostra caracteristicas da máquina do google "
      ],
      "execution_count": null,
      "outputs": [
        {
          "output_type": "display_data",
          "data": {
            "text/plain": [
              "R version 4.1.3 (2022-03-10)\n",
              "Platform: x86_64-pc-linux-gnu (64-bit)\n",
              "Running under: Ubuntu 18.04.5 LTS\n",
              "\n",
              "Matrix products: default\n",
              "BLAS:   /usr/lib/x86_64-linux-gnu/openblas/libblas.so.3\n",
              "LAPACK: /usr/lib/x86_64-linux-gnu/libopenblasp-r0.2.20.so\n",
              "\n",
              "locale:\n",
              " [1] LC_CTYPE=en_US.UTF-8       LC_NUMERIC=C              \n",
              " [3] LC_TIME=en_US.UTF-8        LC_COLLATE=en_US.UTF-8    \n",
              " [5] LC_MONETARY=en_US.UTF-8    LC_MESSAGES=en_US.UTF-8   \n",
              " [7] LC_PAPER=en_US.UTF-8       LC_NAME=C                 \n",
              " [9] LC_ADDRESS=C               LC_TELEPHONE=C            \n",
              "[11] LC_MEASUREMENT=en_US.UTF-8 LC_IDENTIFICATION=C       \n",
              "\n",
              "attached base packages:\n",
              "[1] stats     graphics  grDevices utils     datasets  methods   base     \n",
              "\n",
              "loaded via a namespace (and not attached):\n",
              " [1] fansi_1.0.2     utf8_1.2.2      digest_0.6.29   crayon_1.5.0   \n",
              " [5] IRdisplay_1.1   repr_1.1.4      lifecycle_1.0.1 jsonlite_1.8.0 \n",
              " [9] evaluate_0.15   pillar_1.7.0    rlang_1.0.2     cli_3.2.0      \n",
              "[13] uuid_1.0-4      vctrs_0.3.8     ellipsis_0.3.2  IRkernel_1.3   \n",
              "[17] tools_4.1.3     glue_1.6.2      fastmap_1.1.0   compiler_4.1.3 \n",
              "[21] base64enc_0.1-3 pbdZMQ_0.3-7    htmltools_0.5.2"
            ]
          },
          "metadata": {}
        }
      ]
    },
    {
      "cell_type": "markdown",
      "metadata": {
        "id": "Vw7vSgEKpunD"
      },
      "source": [
        "### Importando bibliotecas \n",
        "#### A bilioteca dplyr\n",
        "https://www.rdocumentation.org/packages/dplyr"
      ]
    },
    {
      "cell_type": "code",
      "metadata": {
        "scrolled": false,
        "id": "SSl65rixpunE",
        "colab": {
          "base_uri": "https://localhost:8080/"
        },
        "outputId": "95e4c73b-a969-4e69-f1f5-f48f13a24d88"
      },
      "source": [
        "library(dplyr)"
      ],
      "execution_count": null,
      "outputs": [
        {
          "output_type": "stream",
          "name": "stderr",
          "text": [
            "\n",
            "Attaching package: ‘dplyr’\n",
            "\n",
            "\n",
            "The following objects are masked from ‘package:stats’:\n",
            "\n",
            "    filter, lag\n",
            "\n",
            "\n",
            "The following objects are masked from ‘package:base’:\n",
            "\n",
            "    intersect, setdiff, setequal, union\n",
            "\n",
            "\n"
          ]
        }
      ]
    },
    {
      "cell_type": "markdown",
      "metadata": {
        "id": "xy4XzMdFpunF"
      },
      "source": [
        "### <font color=red>Documentações:\n",
        "\n",
        "- [**select**](https://www.rdocumentation.org/packages/dplyr/versions/0.7.8/topics/select)\n",
        "- [**arrange**](https://www.rdocumentation.org/packages/dplyr/versions/0.7.8/topics/arrange)\n",
        "- [**read.csv**](https://www.rdocumentation.org/packages/utils/versions/3.6.1/topics/read.table)\n",
        "- [**head**](https://www.rdocumentation.org/packages/utils/versions/3.6.1/topics/head)"
      ]
    },
    {
      "cell_type": "markdown",
      "metadata": {
        "id": "Y0WhtMGHpunF"
      },
      "source": [
        "### Acessando a ajuda"
      ]
    },
    {
      "cell_type": "code",
      "metadata": {
        "id": "qc7Z7sL7punG"
      },
      "source": [
        "?select"
      ],
      "execution_count": null,
      "outputs": []
    },
    {
      "cell_type": "code",
      "metadata": {
        "id": "la2wgDj-punG"
      },
      "source": [
        "?head"
      ],
      "execution_count": null,
      "outputs": []
    },
    {
      "cell_type": "markdown",
      "metadata": {
        "id": "8Rw70V6ojQKk"
      },
      "source": [
        "---\n",
        "### Importando o dataset do projeto"
      ]
    },
    {
      "cell_type": "code",
      "metadata": {
        "id": "8QgOpE-wjQKl"
      },
      "source": [
        "dados = read.csv(\"dados.csv\")"
      ],
      "execution_count": null,
      "outputs": []
    },
    {
      "cell_type": "code",
      "metadata": {
        "id": "ufRZ7TLwjQKo",
        "scrolled": true,
        "colab": {
          "base_uri": "https://localhost:8080/"
        },
        "outputId": "e7418a3e-38ae-4f6c-a841-274e59345e5d"
      },
      "source": [
        "dados"
      ],
      "execution_count": null,
      "outputs": [
        {
          "output_type": "display_data",
          "data": {
            "text/html": [
              "<table class=\"dataframe\">\n",
              "<caption>A data.frame: 76840 × 7</caption>\n",
              "<thead>\n",
              "\t<tr><th scope=col>UF</th><th scope=col>Sexo</th><th scope=col>Idade</th><th scope=col>Cor</th><th scope=col>Anos.de.Estudo</th><th scope=col>Renda</th><th scope=col>Altura</th></tr>\n",
              "\t<tr><th scope=col>&lt;int&gt;</th><th scope=col>&lt;int&gt;</th><th scope=col>&lt;int&gt;</th><th scope=col>&lt;int&gt;</th><th scope=col>&lt;int&gt;</th><th scope=col>&lt;int&gt;</th><th scope=col>&lt;dbl&gt;</th></tr>\n",
              "</thead>\n",
              "<tbody>\n",
              "\t<tr><td>11</td><td>0</td><td>23</td><td>8</td><td>12</td><td> 800</td><td>1.603808</td></tr>\n",
              "\t<tr><td>11</td><td>1</td><td>23</td><td>2</td><td>12</td><td>1150</td><td>1.739790</td></tr>\n",
              "\t<tr><td>11</td><td>1</td><td>35</td><td>8</td><td>15</td><td> 880</td><td>1.760444</td></tr>\n",
              "\t<tr><td>11</td><td>0</td><td>46</td><td>2</td><td> 6</td><td>3500</td><td>1.783158</td></tr>\n",
              "\t<tr><td>11</td><td>1</td><td>47</td><td>8</td><td> 9</td><td> 150</td><td>1.690631</td></tr>\n",
              "\t<tr><td>11</td><td>1</td><td>34</td><td>8</td><td>12</td><td> 790</td><td>1.637906</td></tr>\n",
              "\t<tr><td>11</td><td>0</td><td>57</td><td>8</td><td>12</td><td>3150</td><td>1.570078</td></tr>\n",
              "\t<tr><td>11</td><td>1</td><td>60</td><td>8</td><td>12</td><td>1700</td><td>1.608495</td></tr>\n",
              "\t<tr><td>11</td><td>1</td><td>50</td><td>4</td><td>14</td><td>1800</td><td>1.780329</td></tr>\n",
              "\t<tr><td>11</td><td>0</td><td>26</td><td>8</td><td>12</td><td>1150</td><td>1.793203</td></tr>\n",
              "\t<tr><td>11</td><td>1</td><td>46</td><td>8</td><td>12</td><td>3000</td><td>1.787003</td></tr>\n",
              "\t<tr><td>11</td><td>1</td><td>49</td><td>8</td><td> 6</td><td>2500</td><td>1.712912</td></tr>\n",
              "\t<tr><td>11</td><td>1</td><td>52</td><td>2</td><td> 6</td><td>1200</td><td>1.736442</td></tr>\n",
              "\t<tr><td>11</td><td>0</td><td>38</td><td>8</td><td>12</td><td>2000</td><td>1.750827</td></tr>\n",
              "\t<tr><td>11</td><td>0</td><td>45</td><td>2</td><td>12</td><td>2000</td><td>1.780450</td></tr>\n",
              "\t<tr><td>11</td><td>0</td><td>34</td><td>2</td><td>16</td><td>6000</td><td>1.711825</td></tr>\n",
              "\t<tr><td>11</td><td>1</td><td>43</td><td>8</td><td>10</td><td>1050</td><td>1.789012</td></tr>\n",
              "\t<tr><td>11</td><td>0</td><td>53</td><td>8</td><td>16</td><td>7000</td><td>1.673665</td></tr>\n",
              "\t<tr><td>11</td><td>0</td><td>57</td><td>2</td><td>12</td><td>2000</td><td>1.715138</td></tr>\n",
              "\t<tr><td>11</td><td>1</td><td>62</td><td>8</td><td>12</td><td>1150</td><td>1.765973</td></tr>\n",
              "\t<tr><td>11</td><td>0</td><td>69</td><td>8</td><td> 1</td><td>3030</td><td>1.746351</td></tr>\n",
              "\t<tr><td>11</td><td>1</td><td>41</td><td>8</td><td>16</td><td>4000</td><td>1.660873</td></tr>\n",
              "\t<tr><td>11</td><td>0</td><td>34</td><td>8</td><td> 5</td><td> 788</td><td>1.746048</td></tr>\n",
              "\t<tr><td>11</td><td>0</td><td>25</td><td>8</td><td>12</td><td>1000</td><td>1.726496</td></tr>\n",
              "\t<tr><td>11</td><td>0</td><td>33</td><td>8</td><td> 9</td><td> 800</td><td>1.778914</td></tr>\n",
              "\t<tr><td>11</td><td>1</td><td>44</td><td>8</td><td> 5</td><td> 788</td><td>1.668638</td></tr>\n",
              "\t<tr><td>11</td><td>0</td><td>33</td><td>2</td><td>16</td><td>1600</td><td>1.783771</td></tr>\n",
              "\t<tr><td>11</td><td>0</td><td>65</td><td>2</td><td>12</td><td>1700</td><td>1.873445</td></tr>\n",
              "\t<tr><td>11</td><td>0</td><td>33</td><td>8</td><td>14</td><td>2000</td><td>1.890250</td></tr>\n",
              "\t<tr><td>11</td><td>0</td><td>32</td><td>8</td><td>12</td><td>2400</td><td>1.660204</td></tr>\n",
              "\t<tr><td>⋮</td><td>⋮</td><td>⋮</td><td>⋮</td><td>⋮</td><td>⋮</td><td>⋮</td></tr>\n",
              "\t<tr><td>53</td><td>0</td><td>34</td><td>4</td><td>12</td><td> 2500</td><td>1.802241</td></tr>\n",
              "\t<tr><td>53</td><td>1</td><td>57</td><td>2</td><td>11</td><td> 1000</td><td>1.823047</td></tr>\n",
              "\t<tr><td>53</td><td>1</td><td>32</td><td>4</td><td>12</td><td>  788</td><td>1.681405</td></tr>\n",
              "\t<tr><td>53</td><td>0</td><td>35</td><td>4</td><td> 9</td><td> 2100</td><td>1.671112</td></tr>\n",
              "\t<tr><td>53</td><td>1</td><td>49</td><td>8</td><td>12</td><td> 5260</td><td>1.799319</td></tr>\n",
              "\t<tr><td>53</td><td>0</td><td>51</td><td>8</td><td> 1</td><td> 5000</td><td>1.599400</td></tr>\n",
              "\t<tr><td>53</td><td>0</td><td>37</td><td>8</td><td>12</td><td>  950</td><td>1.620497</td></tr>\n",
              "\t<tr><td>53</td><td>0</td><td>47</td><td>8</td><td>12</td><td> 1109</td><td>1.920274</td></tr>\n",
              "\t<tr><td>53</td><td>0</td><td>27</td><td>8</td><td>10</td><td>  850</td><td>1.793074</td></tr>\n",
              "\t<tr><td>53</td><td>1</td><td>49</td><td>8</td><td> 9</td><td>  788</td><td>1.695710</td></tr>\n",
              "\t<tr><td>53</td><td>1</td><td>27</td><td>8</td><td>12</td><td>  866</td><td>1.729035</td></tr>\n",
              "\t<tr><td>53</td><td>0</td><td>20</td><td>2</td><td> 8</td><td> 1300</td><td>1.660409</td></tr>\n",
              "\t<tr><td>53</td><td>0</td><td>49</td><td>8</td><td>12</td><td> 8700</td><td>1.775182</td></tr>\n",
              "\t<tr><td>53</td><td>0</td><td>43</td><td>8</td><td>10</td><td> 5000</td><td>1.584493</td></tr>\n",
              "\t<tr><td>53</td><td>0</td><td>64</td><td>2</td><td>12</td><td> 5000</td><td>1.717452</td></tr>\n",
              "\t<tr><td>53</td><td>0</td><td>55</td><td>2</td><td>16</td><td>13000</td><td>1.729995</td></tr>\n",
              "\t<tr><td>53</td><td>0</td><td>39</td><td>2</td><td>12</td><td> 6000</td><td>1.739046</td></tr>\n",
              "\t<tr><td>53</td><td>1</td><td>41</td><td>2</td><td>16</td><td>10000</td><td>1.696208</td></tr>\n",
              "\t<tr><td>53</td><td>0</td><td>62</td><td>2</td><td>16</td><td>10000</td><td>1.817097</td></tr>\n",
              "\t<tr><td>53</td><td>0</td><td>42</td><td>8</td><td>12</td><td>32000</td><td>1.788923</td></tr>\n",
              "\t<tr><td>53</td><td>0</td><td>62</td><td>2</td><td>16</td><td> 3500</td><td>1.725379</td></tr>\n",
              "\t<tr><td>53</td><td>1</td><td>44</td><td>2</td><td>16</td><td>30000</td><td>1.783962</td></tr>\n",
              "\t<tr><td>53</td><td>1</td><td>49</td><td>2</td><td>12</td><td> 5000</td><td>1.757146</td></tr>\n",
              "\t<tr><td>53</td><td>0</td><td>30</td><td>4</td><td> 6</td><td> 1900</td><td>1.662560</td></tr>\n",
              "\t<tr><td>53</td><td>1</td><td>35</td><td>4</td><td> 1</td><td> 1100</td><td>1.741089</td></tr>\n",
              "\t<tr><td>53</td><td>1</td><td>46</td><td>2</td><td>11</td><td>  812</td><td>1.687030</td></tr>\n",
              "\t<tr><td>53</td><td>0</td><td>30</td><td>4</td><td> 7</td><td> 1500</td><td>1.792934</td></tr>\n",
              "\t<tr><td>53</td><td>0</td><td>32</td><td>8</td><td>12</td><td> 1300</td><td>1.830587</td></tr>\n",
              "\t<tr><td>53</td><td>0</td><td>57</td><td>8</td><td> 4</td><td> 1500</td><td>1.726344</td></tr>\n",
              "\t<tr><td>53</td><td>0</td><td>38</td><td>8</td><td> 4</td><td>  900</td><td>1.658305</td></tr>\n",
              "</tbody>\n",
              "</table>\n"
            ],
            "text/markdown": "\nA data.frame: 76840 × 7\n\n| UF &lt;int&gt; | Sexo &lt;int&gt; | Idade &lt;int&gt; | Cor &lt;int&gt; | Anos.de.Estudo &lt;int&gt; | Renda &lt;int&gt; | Altura &lt;dbl&gt; |\n|---|---|---|---|---|---|---|\n| 11 | 0 | 23 | 8 | 12 |  800 | 1.603808 |\n| 11 | 1 | 23 | 2 | 12 | 1150 | 1.739790 |\n| 11 | 1 | 35 | 8 | 15 |  880 | 1.760444 |\n| 11 | 0 | 46 | 2 |  6 | 3500 | 1.783158 |\n| 11 | 1 | 47 | 8 |  9 |  150 | 1.690631 |\n| 11 | 1 | 34 | 8 | 12 |  790 | 1.637906 |\n| 11 | 0 | 57 | 8 | 12 | 3150 | 1.570078 |\n| 11 | 1 | 60 | 8 | 12 | 1700 | 1.608495 |\n| 11 | 1 | 50 | 4 | 14 | 1800 | 1.780329 |\n| 11 | 0 | 26 | 8 | 12 | 1150 | 1.793203 |\n| 11 | 1 | 46 | 8 | 12 | 3000 | 1.787003 |\n| 11 | 1 | 49 | 8 |  6 | 2500 | 1.712912 |\n| 11 | 1 | 52 | 2 |  6 | 1200 | 1.736442 |\n| 11 | 0 | 38 | 8 | 12 | 2000 | 1.750827 |\n| 11 | 0 | 45 | 2 | 12 | 2000 | 1.780450 |\n| 11 | 0 | 34 | 2 | 16 | 6000 | 1.711825 |\n| 11 | 1 | 43 | 8 | 10 | 1050 | 1.789012 |\n| 11 | 0 | 53 | 8 | 16 | 7000 | 1.673665 |\n| 11 | 0 | 57 | 2 | 12 | 2000 | 1.715138 |\n| 11 | 1 | 62 | 8 | 12 | 1150 | 1.765973 |\n| 11 | 0 | 69 | 8 |  1 | 3030 | 1.746351 |\n| 11 | 1 | 41 | 8 | 16 | 4000 | 1.660873 |\n| 11 | 0 | 34 | 8 |  5 |  788 | 1.746048 |\n| 11 | 0 | 25 | 8 | 12 | 1000 | 1.726496 |\n| 11 | 0 | 33 | 8 |  9 |  800 | 1.778914 |\n| 11 | 1 | 44 | 8 |  5 |  788 | 1.668638 |\n| 11 | 0 | 33 | 2 | 16 | 1600 | 1.783771 |\n| 11 | 0 | 65 | 2 | 12 | 1700 | 1.873445 |\n| 11 | 0 | 33 | 8 | 14 | 2000 | 1.890250 |\n| 11 | 0 | 32 | 8 | 12 | 2400 | 1.660204 |\n| ⋮ | ⋮ | ⋮ | ⋮ | ⋮ | ⋮ | ⋮ |\n| 53 | 0 | 34 | 4 | 12 |  2500 | 1.802241 |\n| 53 | 1 | 57 | 2 | 11 |  1000 | 1.823047 |\n| 53 | 1 | 32 | 4 | 12 |   788 | 1.681405 |\n| 53 | 0 | 35 | 4 |  9 |  2100 | 1.671112 |\n| 53 | 1 | 49 | 8 | 12 |  5260 | 1.799319 |\n| 53 | 0 | 51 | 8 |  1 |  5000 | 1.599400 |\n| 53 | 0 | 37 | 8 | 12 |   950 | 1.620497 |\n| 53 | 0 | 47 | 8 | 12 |  1109 | 1.920274 |\n| 53 | 0 | 27 | 8 | 10 |   850 | 1.793074 |\n| 53 | 1 | 49 | 8 |  9 |   788 | 1.695710 |\n| 53 | 1 | 27 | 8 | 12 |   866 | 1.729035 |\n| 53 | 0 | 20 | 2 |  8 |  1300 | 1.660409 |\n| 53 | 0 | 49 | 8 | 12 |  8700 | 1.775182 |\n| 53 | 0 | 43 | 8 | 10 |  5000 | 1.584493 |\n| 53 | 0 | 64 | 2 | 12 |  5000 | 1.717452 |\n| 53 | 0 | 55 | 2 | 16 | 13000 | 1.729995 |\n| 53 | 0 | 39 | 2 | 12 |  6000 | 1.739046 |\n| 53 | 1 | 41 | 2 | 16 | 10000 | 1.696208 |\n| 53 | 0 | 62 | 2 | 16 | 10000 | 1.817097 |\n| 53 | 0 | 42 | 8 | 12 | 32000 | 1.788923 |\n| 53 | 0 | 62 | 2 | 16 |  3500 | 1.725379 |\n| 53 | 1 | 44 | 2 | 16 | 30000 | 1.783962 |\n| 53 | 1 | 49 | 2 | 12 |  5000 | 1.757146 |\n| 53 | 0 | 30 | 4 |  6 |  1900 | 1.662560 |\n| 53 | 1 | 35 | 4 |  1 |  1100 | 1.741089 |\n| 53 | 1 | 46 | 2 | 11 |   812 | 1.687030 |\n| 53 | 0 | 30 | 4 |  7 |  1500 | 1.792934 |\n| 53 | 0 | 32 | 8 | 12 |  1300 | 1.830587 |\n| 53 | 0 | 57 | 8 |  4 |  1500 | 1.726344 |\n| 53 | 0 | 38 | 8 |  4 |   900 | 1.658305 |\n\n",
            "text/latex": "A data.frame: 76840 × 7\n\\begin{tabular}{lllllll}\n UF & Sexo & Idade & Cor & Anos.de.Estudo & Renda & Altura\\\\\n <int> & <int> & <int> & <int> & <int> & <int> & <dbl>\\\\\n\\hline\n\t 11 & 0 & 23 & 8 & 12 &  800 & 1.603808\\\\\n\t 11 & 1 & 23 & 2 & 12 & 1150 & 1.739790\\\\\n\t 11 & 1 & 35 & 8 & 15 &  880 & 1.760444\\\\\n\t 11 & 0 & 46 & 2 &  6 & 3500 & 1.783158\\\\\n\t 11 & 1 & 47 & 8 &  9 &  150 & 1.690631\\\\\n\t 11 & 1 & 34 & 8 & 12 &  790 & 1.637906\\\\\n\t 11 & 0 & 57 & 8 & 12 & 3150 & 1.570078\\\\\n\t 11 & 1 & 60 & 8 & 12 & 1700 & 1.608495\\\\\n\t 11 & 1 & 50 & 4 & 14 & 1800 & 1.780329\\\\\n\t 11 & 0 & 26 & 8 & 12 & 1150 & 1.793203\\\\\n\t 11 & 1 & 46 & 8 & 12 & 3000 & 1.787003\\\\\n\t 11 & 1 & 49 & 8 &  6 & 2500 & 1.712912\\\\\n\t 11 & 1 & 52 & 2 &  6 & 1200 & 1.736442\\\\\n\t 11 & 0 & 38 & 8 & 12 & 2000 & 1.750827\\\\\n\t 11 & 0 & 45 & 2 & 12 & 2000 & 1.780450\\\\\n\t 11 & 0 & 34 & 2 & 16 & 6000 & 1.711825\\\\\n\t 11 & 1 & 43 & 8 & 10 & 1050 & 1.789012\\\\\n\t 11 & 0 & 53 & 8 & 16 & 7000 & 1.673665\\\\\n\t 11 & 0 & 57 & 2 & 12 & 2000 & 1.715138\\\\\n\t 11 & 1 & 62 & 8 & 12 & 1150 & 1.765973\\\\\n\t 11 & 0 & 69 & 8 &  1 & 3030 & 1.746351\\\\\n\t 11 & 1 & 41 & 8 & 16 & 4000 & 1.660873\\\\\n\t 11 & 0 & 34 & 8 &  5 &  788 & 1.746048\\\\\n\t 11 & 0 & 25 & 8 & 12 & 1000 & 1.726496\\\\\n\t 11 & 0 & 33 & 8 &  9 &  800 & 1.778914\\\\\n\t 11 & 1 & 44 & 8 &  5 &  788 & 1.668638\\\\\n\t 11 & 0 & 33 & 2 & 16 & 1600 & 1.783771\\\\\n\t 11 & 0 & 65 & 2 & 12 & 1700 & 1.873445\\\\\n\t 11 & 0 & 33 & 8 & 14 & 2000 & 1.890250\\\\\n\t 11 & 0 & 32 & 8 & 12 & 2400 & 1.660204\\\\\n\t ⋮ & ⋮ & ⋮ & ⋮ & ⋮ & ⋮ & ⋮\\\\\n\t 53 & 0 & 34 & 4 & 12 &  2500 & 1.802241\\\\\n\t 53 & 1 & 57 & 2 & 11 &  1000 & 1.823047\\\\\n\t 53 & 1 & 32 & 4 & 12 &   788 & 1.681405\\\\\n\t 53 & 0 & 35 & 4 &  9 &  2100 & 1.671112\\\\\n\t 53 & 1 & 49 & 8 & 12 &  5260 & 1.799319\\\\\n\t 53 & 0 & 51 & 8 &  1 &  5000 & 1.599400\\\\\n\t 53 & 0 & 37 & 8 & 12 &   950 & 1.620497\\\\\n\t 53 & 0 & 47 & 8 & 12 &  1109 & 1.920274\\\\\n\t 53 & 0 & 27 & 8 & 10 &   850 & 1.793074\\\\\n\t 53 & 1 & 49 & 8 &  9 &   788 & 1.695710\\\\\n\t 53 & 1 & 27 & 8 & 12 &   866 & 1.729035\\\\\n\t 53 & 0 & 20 & 2 &  8 &  1300 & 1.660409\\\\\n\t 53 & 0 & 49 & 8 & 12 &  8700 & 1.775182\\\\\n\t 53 & 0 & 43 & 8 & 10 &  5000 & 1.584493\\\\\n\t 53 & 0 & 64 & 2 & 12 &  5000 & 1.717452\\\\\n\t 53 & 0 & 55 & 2 & 16 & 13000 & 1.729995\\\\\n\t 53 & 0 & 39 & 2 & 12 &  6000 & 1.739046\\\\\n\t 53 & 1 & 41 & 2 & 16 & 10000 & 1.696208\\\\\n\t 53 & 0 & 62 & 2 & 16 & 10000 & 1.817097\\\\\n\t 53 & 0 & 42 & 8 & 12 & 32000 & 1.788923\\\\\n\t 53 & 0 & 62 & 2 & 16 &  3500 & 1.725379\\\\\n\t 53 & 1 & 44 & 2 & 16 & 30000 & 1.783962\\\\\n\t 53 & 1 & 49 & 2 & 12 &  5000 & 1.757146\\\\\n\t 53 & 0 & 30 & 4 &  6 &  1900 & 1.662560\\\\\n\t 53 & 1 & 35 & 4 &  1 &  1100 & 1.741089\\\\\n\t 53 & 1 & 46 & 2 & 11 &   812 & 1.687030\\\\\n\t 53 & 0 & 30 & 4 &  7 &  1500 & 1.792934\\\\\n\t 53 & 0 & 32 & 8 & 12 &  1300 & 1.830587\\\\\n\t 53 & 0 & 57 & 8 &  4 &  1500 & 1.726344\\\\\n\t 53 & 0 & 38 & 8 &  4 &   900 & 1.658305\\\\\n\\end{tabular}\n",
            "text/plain": [
              "      UF Sexo Idade Cor Anos.de.Estudo Renda Altura  \n",
              "1     11 0    23    8   12              800  1.603808\n",
              "2     11 1    23    2   12             1150  1.739790\n",
              "3     11 1    35    8   15              880  1.760444\n",
              "4     11 0    46    2    6             3500  1.783158\n",
              "5     11 1    47    8    9              150  1.690631\n",
              "6     11 1    34    8   12              790  1.637906\n",
              "7     11 0    57    8   12             3150  1.570078\n",
              "8     11 1    60    8   12             1700  1.608495\n",
              "9     11 1    50    4   14             1800  1.780329\n",
              "10    11 0    26    8   12             1150  1.793203\n",
              "11    11 1    46    8   12             3000  1.787003\n",
              "12    11 1    49    8    6             2500  1.712912\n",
              "13    11 1    52    2    6             1200  1.736442\n",
              "14    11 0    38    8   12             2000  1.750827\n",
              "15    11 0    45    2   12             2000  1.780450\n",
              "16    11 0    34    2   16             6000  1.711825\n",
              "17    11 1    43    8   10             1050  1.789012\n",
              "18    11 0    53    8   16             7000  1.673665\n",
              "19    11 0    57    2   12             2000  1.715138\n",
              "20    11 1    62    8   12             1150  1.765973\n",
              "21    11 0    69    8    1             3030  1.746351\n",
              "22    11 1    41    8   16             4000  1.660873\n",
              "23    11 0    34    8    5              788  1.746048\n",
              "24    11 0    25    8   12             1000  1.726496\n",
              "25    11 0    33    8    9              800  1.778914\n",
              "26    11 1    44    8    5              788  1.668638\n",
              "27    11 0    33    2   16             1600  1.783771\n",
              "28    11 0    65    2   12             1700  1.873445\n",
              "29    11 0    33    8   14             2000  1.890250\n",
              "30    11 0    32    8   12             2400  1.660204\n",
              "⋮     ⋮  ⋮    ⋮     ⋮   ⋮              ⋮     ⋮       \n",
              "76811 53 0    34    4   12              2500 1.802241\n",
              "76812 53 1    57    2   11              1000 1.823047\n",
              "76813 53 1    32    4   12               788 1.681405\n",
              "76814 53 0    35    4    9              2100 1.671112\n",
              "76815 53 1    49    8   12              5260 1.799319\n",
              "76816 53 0    51    8    1              5000 1.599400\n",
              "76817 53 0    37    8   12               950 1.620497\n",
              "76818 53 0    47    8   12              1109 1.920274\n",
              "76819 53 0    27    8   10               850 1.793074\n",
              "76820 53 1    49    8    9               788 1.695710\n",
              "76821 53 1    27    8   12               866 1.729035\n",
              "76822 53 0    20    2    8              1300 1.660409\n",
              "76823 53 0    49    8   12              8700 1.775182\n",
              "76824 53 0    43    8   10              5000 1.584493\n",
              "76825 53 0    64    2   12              5000 1.717452\n",
              "76826 53 0    55    2   16             13000 1.729995\n",
              "76827 53 0    39    2   12              6000 1.739046\n",
              "76828 53 1    41    2   16             10000 1.696208\n",
              "76829 53 0    62    2   16             10000 1.817097\n",
              "76830 53 0    42    8   12             32000 1.788923\n",
              "76831 53 0    62    2   16              3500 1.725379\n",
              "76832 53 1    44    2   16             30000 1.783962\n",
              "76833 53 1    49    2   12              5000 1.757146\n",
              "76834 53 0    30    4    6              1900 1.662560\n",
              "76835 53 1    35    4    1              1100 1.741089\n",
              "76836 53 1    46    2   11               812 1.687030\n",
              "76837 53 0    30    4    7              1500 1.792934\n",
              "76838 53 0    32    8   12              1300 1.830587\n",
              "76839 53 0    57    8    4              1500 1.726344\n",
              "76840 53 0    38    8    4               900 1.658305"
            ]
          },
          "metadata": {}
        }
      ]
    },
    {
      "cell_type": "code",
      "metadata": {
        "id": "GsC_WhLFjQKq",
        "scrolled": false,
        "colab": {
          "base_uri": "https://localhost:8080/"
        },
        "outputId": "6fe6b908-62c9-4536-fd2a-bf88cd419d64"
      },
      "source": [
        "head(dados)"
      ],
      "execution_count": null,
      "outputs": [
        {
          "output_type": "display_data",
          "data": {
            "text/html": [
              "<table class=\"dataframe\">\n",
              "<caption>A data.frame: 6 × 7</caption>\n",
              "<thead>\n",
              "\t<tr><th></th><th scope=col>UF</th><th scope=col>Sexo</th><th scope=col>Idade</th><th scope=col>Cor</th><th scope=col>Anos.de.Estudo</th><th scope=col>Renda</th><th scope=col>Altura</th></tr>\n",
              "\t<tr><th></th><th scope=col>&lt;int&gt;</th><th scope=col>&lt;int&gt;</th><th scope=col>&lt;int&gt;</th><th scope=col>&lt;int&gt;</th><th scope=col>&lt;int&gt;</th><th scope=col>&lt;int&gt;</th><th scope=col>&lt;dbl&gt;</th></tr>\n",
              "</thead>\n",
              "<tbody>\n",
              "\t<tr><th scope=row>1</th><td>11</td><td>0</td><td>23</td><td>8</td><td>12</td><td> 800</td><td>1.603808</td></tr>\n",
              "\t<tr><th scope=row>2</th><td>11</td><td>1</td><td>23</td><td>2</td><td>12</td><td>1150</td><td>1.739790</td></tr>\n",
              "\t<tr><th scope=row>3</th><td>11</td><td>1</td><td>35</td><td>8</td><td>15</td><td> 880</td><td>1.760444</td></tr>\n",
              "\t<tr><th scope=row>4</th><td>11</td><td>0</td><td>46</td><td>2</td><td> 6</td><td>3500</td><td>1.783158</td></tr>\n",
              "\t<tr><th scope=row>5</th><td>11</td><td>1</td><td>47</td><td>8</td><td> 9</td><td> 150</td><td>1.690631</td></tr>\n",
              "\t<tr><th scope=row>6</th><td>11</td><td>1</td><td>34</td><td>8</td><td>12</td><td> 790</td><td>1.637906</td></tr>\n",
              "</tbody>\n",
              "</table>\n"
            ],
            "text/markdown": "\nA data.frame: 6 × 7\n\n| <!--/--> | UF &lt;int&gt; | Sexo &lt;int&gt; | Idade &lt;int&gt; | Cor &lt;int&gt; | Anos.de.Estudo &lt;int&gt; | Renda &lt;int&gt; | Altura &lt;dbl&gt; |\n|---|---|---|---|---|---|---|---|\n| 1 | 11 | 0 | 23 | 8 | 12 |  800 | 1.603808 |\n| 2 | 11 | 1 | 23 | 2 | 12 | 1150 | 1.739790 |\n| 3 | 11 | 1 | 35 | 8 | 15 |  880 | 1.760444 |\n| 4 | 11 | 0 | 46 | 2 |  6 | 3500 | 1.783158 |\n| 5 | 11 | 1 | 47 | 8 |  9 |  150 | 1.690631 |\n| 6 | 11 | 1 | 34 | 8 | 12 |  790 | 1.637906 |\n\n",
            "text/latex": "A data.frame: 6 × 7\n\\begin{tabular}{r|lllllll}\n  & UF & Sexo & Idade & Cor & Anos.de.Estudo & Renda & Altura\\\\\n  & <int> & <int> & <int> & <int> & <int> & <int> & <dbl>\\\\\n\\hline\n\t1 & 11 & 0 & 23 & 8 & 12 &  800 & 1.603808\\\\\n\t2 & 11 & 1 & 23 & 2 & 12 & 1150 & 1.739790\\\\\n\t3 & 11 & 1 & 35 & 8 & 15 &  880 & 1.760444\\\\\n\t4 & 11 & 0 & 46 & 2 &  6 & 3500 & 1.783158\\\\\n\t5 & 11 & 1 & 47 & 8 &  9 &  150 & 1.690631\\\\\n\t6 & 11 & 1 & 34 & 8 & 12 &  790 & 1.637906\\\\\n\\end{tabular}\n",
            "text/plain": [
              "  UF Sexo Idade Cor Anos.de.Estudo Renda Altura  \n",
              "1 11 0    23    8   12              800  1.603808\n",
              "2 11 1    23    2   12             1150  1.739790\n",
              "3 11 1    35    8   15              880  1.760444\n",
              "4 11 0    46    2    6             3500  1.783158\n",
              "5 11 1    47    8    9              150  1.690631\n",
              "6 11 1    34    8   12              790  1.637906"
            ]
          },
          "metadata": {}
        }
      ]
    },
    {
      "cell_type": "markdown",
      "metadata": {
        "id": "E3Mx0tVqjQKs"
      },
      "source": [
        "## <font color=green>1.2 Tipos de dados</font>\n",
        "***"
      ]
    },
    {
      "cell_type": "markdown",
      "metadata": {
        "id": "oB4TCBFojQKt"
      },
      "source": [
        "### Variáveis qualitativas ordinais\n",
        "\n",
        "► Variáveis que podem ser ordenadas ou hierarquizardas"
      ]
    },
    {
      "cell_type": "markdown",
      "metadata": {
        "id": "RuxZMSVDpunI"
      },
      "source": [
        "### <font color=red>Documentações:\n",
        "\n",
        "- [**select**](https://www.rdocumentation.org/packages/dplyr/versions/0.7.8/topics/select)\n",
        "- [**unique**](https://www.rdocumentation.org/packages/base/versions/3.6.1/topics/unique)\n",
        "- [**arrange**](https://www.rdocumentation.org/packages/dplyr/versions/0.7.8/topics/arrange)\n",
        "- [**c**](https://www.rdocumentation.org/packages/base/versions/3.6.1/topics/c)\n",
        "- [**sprintf**](https://www.rdocumentation.org/packages/base/versions/3.6.1/topics/sprintf)\n",
        "- [**glue**](https://www.rdocumentation.org/packages/glue/versions/1.3.1/topics/glue)\n",
        "- [**min e max**](https://www.rdocumentation.org/packages/base/versions/3.6.1/topics/Extremes)"
      ]
    },
    {
      "cell_type": "code",
      "metadata": {
        "scrolled": true,
        "id": "5pFNoy0DpunJ",
        "colab": {
          "base_uri": "https://localhost:8080/"
        },
        "outputId": "d2aca8b5-648b-4546-87e5-ad8dfea05bd1"
      },
      "source": [
        "head(dados)"
      ],
      "execution_count": null,
      "outputs": [
        {
          "output_type": "display_data",
          "data": {
            "text/html": [
              "<table class=\"dataframe\">\n",
              "<caption>A data.frame: 6 × 7</caption>\n",
              "<thead>\n",
              "\t<tr><th></th><th scope=col>UF</th><th scope=col>Sexo</th><th scope=col>Idade</th><th scope=col>Cor</th><th scope=col>Anos.de.Estudo</th><th scope=col>Renda</th><th scope=col>Altura</th></tr>\n",
              "\t<tr><th></th><th scope=col>&lt;int&gt;</th><th scope=col>&lt;int&gt;</th><th scope=col>&lt;int&gt;</th><th scope=col>&lt;int&gt;</th><th scope=col>&lt;int&gt;</th><th scope=col>&lt;int&gt;</th><th scope=col>&lt;dbl&gt;</th></tr>\n",
              "</thead>\n",
              "<tbody>\n",
              "\t<tr><th scope=row>1</th><td>11</td><td>0</td><td>23</td><td>8</td><td>12</td><td> 800</td><td>1.603808</td></tr>\n",
              "\t<tr><th scope=row>2</th><td>11</td><td>1</td><td>23</td><td>2</td><td>12</td><td>1150</td><td>1.739790</td></tr>\n",
              "\t<tr><th scope=row>3</th><td>11</td><td>1</td><td>35</td><td>8</td><td>15</td><td> 880</td><td>1.760444</td></tr>\n",
              "\t<tr><th scope=row>4</th><td>11</td><td>0</td><td>46</td><td>2</td><td> 6</td><td>3500</td><td>1.783158</td></tr>\n",
              "\t<tr><th scope=row>5</th><td>11</td><td>1</td><td>47</td><td>8</td><td> 9</td><td> 150</td><td>1.690631</td></tr>\n",
              "\t<tr><th scope=row>6</th><td>11</td><td>1</td><td>34</td><td>8</td><td>12</td><td> 790</td><td>1.637906</td></tr>\n",
              "</tbody>\n",
              "</table>\n"
            ],
            "text/markdown": "\nA data.frame: 6 × 7\n\n| <!--/--> | UF &lt;int&gt; | Sexo &lt;int&gt; | Idade &lt;int&gt; | Cor &lt;int&gt; | Anos.de.Estudo &lt;int&gt; | Renda &lt;int&gt; | Altura &lt;dbl&gt; |\n|---|---|---|---|---|---|---|---|\n| 1 | 11 | 0 | 23 | 8 | 12 |  800 | 1.603808 |\n| 2 | 11 | 1 | 23 | 2 | 12 | 1150 | 1.739790 |\n| 3 | 11 | 1 | 35 | 8 | 15 |  880 | 1.760444 |\n| 4 | 11 | 0 | 46 | 2 |  6 | 3500 | 1.783158 |\n| 5 | 11 | 1 | 47 | 8 |  9 |  150 | 1.690631 |\n| 6 | 11 | 1 | 34 | 8 | 12 |  790 | 1.637906 |\n\n",
            "text/latex": "A data.frame: 6 × 7\n\\begin{tabular}{r|lllllll}\n  & UF & Sexo & Idade & Cor & Anos.de.Estudo & Renda & Altura\\\\\n  & <int> & <int> & <int> & <int> & <int> & <int> & <dbl>\\\\\n\\hline\n\t1 & 11 & 0 & 23 & 8 & 12 &  800 & 1.603808\\\\\n\t2 & 11 & 1 & 23 & 2 & 12 & 1150 & 1.739790\\\\\n\t3 & 11 & 1 & 35 & 8 & 15 &  880 & 1.760444\\\\\n\t4 & 11 & 0 & 46 & 2 &  6 & 3500 & 1.783158\\\\\n\t5 & 11 & 1 & 47 & 8 &  9 &  150 & 1.690631\\\\\n\t6 & 11 & 1 & 34 & 8 & 12 &  790 & 1.637906\\\\\n\\end{tabular}\n",
            "text/plain": [
              "  UF Sexo Idade Cor Anos.de.Estudo Renda Altura  \n",
              "1 11 0    23    8   12              800  1.603808\n",
              "2 11 1    23    2   12             1150  1.739790\n",
              "3 11 1    35    8   15              880  1.760444\n",
              "4 11 0    46    2    6             3500  1.783158\n",
              "5 11 1    47    8    9              150  1.690631\n",
              "6 11 1    34    8   12              790  1.637906"
            ]
          },
          "metadata": {}
        }
      ]
    },
    {
      "cell_type": "code",
      "metadata": {
        "scrolled": true,
        "id": "MpHgc1RZpunJ",
        "colab": {
          "base_uri": "https://localhost:8080/"
        },
        "outputId": "b8f10d00-4e4e-450a-89b6-47649e0cf95e"
      },
      "source": [
        "select(dados,Anos.de.Estudo)"
      ],
      "execution_count": null,
      "outputs": [
        {
          "output_type": "display_data",
          "data": {
            "text/html": [
              "<table class=\"dataframe\">\n",
              "<caption>A data.frame: 76840 × 1</caption>\n",
              "<thead>\n",
              "\t<tr><th scope=col>Anos.de.Estudo</th></tr>\n",
              "\t<tr><th scope=col>&lt;int&gt;</th></tr>\n",
              "</thead>\n",
              "<tbody>\n",
              "\t<tr><td>12</td></tr>\n",
              "\t<tr><td>12</td></tr>\n",
              "\t<tr><td>15</td></tr>\n",
              "\t<tr><td> 6</td></tr>\n",
              "\t<tr><td> 9</td></tr>\n",
              "\t<tr><td>12</td></tr>\n",
              "\t<tr><td>12</td></tr>\n",
              "\t<tr><td>12</td></tr>\n",
              "\t<tr><td>14</td></tr>\n",
              "\t<tr><td>12</td></tr>\n",
              "\t<tr><td>12</td></tr>\n",
              "\t<tr><td> 6</td></tr>\n",
              "\t<tr><td> 6</td></tr>\n",
              "\t<tr><td>12</td></tr>\n",
              "\t<tr><td>12</td></tr>\n",
              "\t<tr><td>16</td></tr>\n",
              "\t<tr><td>10</td></tr>\n",
              "\t<tr><td>16</td></tr>\n",
              "\t<tr><td>12</td></tr>\n",
              "\t<tr><td>12</td></tr>\n",
              "\t<tr><td> 1</td></tr>\n",
              "\t<tr><td>16</td></tr>\n",
              "\t<tr><td> 5</td></tr>\n",
              "\t<tr><td>12</td></tr>\n",
              "\t<tr><td> 9</td></tr>\n",
              "\t<tr><td> 5</td></tr>\n",
              "\t<tr><td>16</td></tr>\n",
              "\t<tr><td>12</td></tr>\n",
              "\t<tr><td>14</td></tr>\n",
              "\t<tr><td>12</td></tr>\n",
              "\t<tr><td>⋮</td></tr>\n",
              "\t<tr><td>12</td></tr>\n",
              "\t<tr><td>11</td></tr>\n",
              "\t<tr><td>12</td></tr>\n",
              "\t<tr><td> 9</td></tr>\n",
              "\t<tr><td>12</td></tr>\n",
              "\t<tr><td> 1</td></tr>\n",
              "\t<tr><td>12</td></tr>\n",
              "\t<tr><td>12</td></tr>\n",
              "\t<tr><td>10</td></tr>\n",
              "\t<tr><td> 9</td></tr>\n",
              "\t<tr><td>12</td></tr>\n",
              "\t<tr><td> 8</td></tr>\n",
              "\t<tr><td>12</td></tr>\n",
              "\t<tr><td>10</td></tr>\n",
              "\t<tr><td>12</td></tr>\n",
              "\t<tr><td>16</td></tr>\n",
              "\t<tr><td>12</td></tr>\n",
              "\t<tr><td>16</td></tr>\n",
              "\t<tr><td>16</td></tr>\n",
              "\t<tr><td>12</td></tr>\n",
              "\t<tr><td>16</td></tr>\n",
              "\t<tr><td>16</td></tr>\n",
              "\t<tr><td>12</td></tr>\n",
              "\t<tr><td> 6</td></tr>\n",
              "\t<tr><td> 1</td></tr>\n",
              "\t<tr><td>11</td></tr>\n",
              "\t<tr><td> 7</td></tr>\n",
              "\t<tr><td>12</td></tr>\n",
              "\t<tr><td> 4</td></tr>\n",
              "\t<tr><td> 4</td></tr>\n",
              "</tbody>\n",
              "</table>\n"
            ],
            "text/markdown": "\nA data.frame: 76840 × 1\n\n| Anos.de.Estudo &lt;int&gt; |\n|---|\n| 12 |\n| 12 |\n| 15 |\n|  6 |\n|  9 |\n| 12 |\n| 12 |\n| 12 |\n| 14 |\n| 12 |\n| 12 |\n|  6 |\n|  6 |\n| 12 |\n| 12 |\n| 16 |\n| 10 |\n| 16 |\n| 12 |\n| 12 |\n|  1 |\n| 16 |\n|  5 |\n| 12 |\n|  9 |\n|  5 |\n| 16 |\n| 12 |\n| 14 |\n| 12 |\n| ⋮ |\n| 12 |\n| 11 |\n| 12 |\n|  9 |\n| 12 |\n|  1 |\n| 12 |\n| 12 |\n| 10 |\n|  9 |\n| 12 |\n|  8 |\n| 12 |\n| 10 |\n| 12 |\n| 16 |\n| 12 |\n| 16 |\n| 16 |\n| 12 |\n| 16 |\n| 16 |\n| 12 |\n|  6 |\n|  1 |\n| 11 |\n|  7 |\n| 12 |\n|  4 |\n|  4 |\n\n",
            "text/latex": "A data.frame: 76840 × 1\n\\begin{tabular}{l}\n Anos.de.Estudo\\\\\n <int>\\\\\n\\hline\n\t 12\\\\\n\t 12\\\\\n\t 15\\\\\n\t  6\\\\\n\t  9\\\\\n\t 12\\\\\n\t 12\\\\\n\t 12\\\\\n\t 14\\\\\n\t 12\\\\\n\t 12\\\\\n\t  6\\\\\n\t  6\\\\\n\t 12\\\\\n\t 12\\\\\n\t 16\\\\\n\t 10\\\\\n\t 16\\\\\n\t 12\\\\\n\t 12\\\\\n\t  1\\\\\n\t 16\\\\\n\t  5\\\\\n\t 12\\\\\n\t  9\\\\\n\t  5\\\\\n\t 16\\\\\n\t 12\\\\\n\t 14\\\\\n\t 12\\\\\n\t ⋮\\\\\n\t 12\\\\\n\t 11\\\\\n\t 12\\\\\n\t  9\\\\\n\t 12\\\\\n\t  1\\\\\n\t 12\\\\\n\t 12\\\\\n\t 10\\\\\n\t  9\\\\\n\t 12\\\\\n\t  8\\\\\n\t 12\\\\\n\t 10\\\\\n\t 12\\\\\n\t 16\\\\\n\t 12\\\\\n\t 16\\\\\n\t 16\\\\\n\t 12\\\\\n\t 16\\\\\n\t 16\\\\\n\t 12\\\\\n\t  6\\\\\n\t  1\\\\\n\t 11\\\\\n\t  7\\\\\n\t 12\\\\\n\t  4\\\\\n\t  4\\\\\n\\end{tabular}\n",
            "text/plain": [
              "      Anos.de.Estudo\n",
              "1     12            \n",
              "2     12            \n",
              "3     15            \n",
              "4      6            \n",
              "5      9            \n",
              "6     12            \n",
              "7     12            \n",
              "8     12            \n",
              "9     14            \n",
              "10    12            \n",
              "11    12            \n",
              "12     6            \n",
              "13     6            \n",
              "14    12            \n",
              "15    12            \n",
              "16    16            \n",
              "17    10            \n",
              "18    16            \n",
              "19    12            \n",
              "20    12            \n",
              "21     1            \n",
              "22    16            \n",
              "23     5            \n",
              "24    12            \n",
              "25     9            \n",
              "26     5            \n",
              "27    16            \n",
              "28    12            \n",
              "29    14            \n",
              "30    12            \n",
              "⋮     ⋮             \n",
              "76811 12            \n",
              "76812 11            \n",
              "76813 12            \n",
              "76814  9            \n",
              "76815 12            \n",
              "76816  1            \n",
              "76817 12            \n",
              "76818 12            \n",
              "76819 10            \n",
              "76820  9            \n",
              "76821 12            \n",
              "76822  8            \n",
              "76823 12            \n",
              "76824 10            \n",
              "76825 12            \n",
              "76826 16            \n",
              "76827 12            \n",
              "76828 16            \n",
              "76829 16            \n",
              "76830 12            \n",
              "76831 16            \n",
              "76832 16            \n",
              "76833 12            \n",
              "76834  6            \n",
              "76835  1            \n",
              "76836 11            \n",
              "76837  7            \n",
              "76838 12            \n",
              "76839  4            \n",
              "76840  4            "
            ]
          },
          "metadata": {}
        }
      ]
    },
    {
      "cell_type": "code",
      "metadata": {
        "scrolled": true,
        "id": "lodVAsiepunJ",
        "colab": {
          "base_uri": "https://localhost:8080/"
        },
        "outputId": "3a1a9e1a-73b0-4cb1-8d90-477e34f8ac21"
      },
      "source": [
        "unique(select(dados,Anos.de.Estudo))"
      ],
      "execution_count": null,
      "outputs": [
        {
          "output_type": "display_data",
          "data": {
            "text/html": [
              "<table class=\"dataframe\">\n",
              "<caption>A data.frame: 17 × 1</caption>\n",
              "<thead>\n",
              "\t<tr><th></th><th scope=col>Anos.de.Estudo</th></tr>\n",
              "\t<tr><th></th><th scope=col>&lt;int&gt;</th></tr>\n",
              "</thead>\n",
              "<tbody>\n",
              "\t<tr><th scope=row>1</th><td>12</td></tr>\n",
              "\t<tr><th scope=row>3</th><td>15</td></tr>\n",
              "\t<tr><th scope=row>4</th><td> 6</td></tr>\n",
              "\t<tr><th scope=row>5</th><td> 9</td></tr>\n",
              "\t<tr><th scope=row>9</th><td>14</td></tr>\n",
              "\t<tr><th scope=row>16</th><td>16</td></tr>\n",
              "\t<tr><th scope=row>17</th><td>10</td></tr>\n",
              "\t<tr><th scope=row>21</th><td> 1</td></tr>\n",
              "\t<tr><th scope=row>23</th><td> 5</td></tr>\n",
              "\t<tr><th scope=row>37</th><td> 7</td></tr>\n",
              "\t<tr><th scope=row>38</th><td> 3</td></tr>\n",
              "\t<tr><th scope=row>44</th><td> 2</td></tr>\n",
              "\t<tr><th scope=row>50</th><td> 4</td></tr>\n",
              "\t<tr><th scope=row>51</th><td> 8</td></tr>\n",
              "\t<tr><th scope=row>63</th><td>11</td></tr>\n",
              "\t<tr><th scope=row>75</th><td>17</td></tr>\n",
              "\t<tr><th scope=row>161</th><td>13</td></tr>\n",
              "</tbody>\n",
              "</table>\n"
            ],
            "text/markdown": "\nA data.frame: 17 × 1\n\n| <!--/--> | Anos.de.Estudo &lt;int&gt; |\n|---|---|\n| 1 | 12 |\n| 3 | 15 |\n| 4 |  6 |\n| 5 |  9 |\n| 9 | 14 |\n| 16 | 16 |\n| 17 | 10 |\n| 21 |  1 |\n| 23 |  5 |\n| 37 |  7 |\n| 38 |  3 |\n| 44 |  2 |\n| 50 |  4 |\n| 51 |  8 |\n| 63 | 11 |\n| 75 | 17 |\n| 161 | 13 |\n\n",
            "text/latex": "A data.frame: 17 × 1\n\\begin{tabular}{r|l}\n  & Anos.de.Estudo\\\\\n  & <int>\\\\\n\\hline\n\t1 & 12\\\\\n\t3 & 15\\\\\n\t4 &  6\\\\\n\t5 &  9\\\\\n\t9 & 14\\\\\n\t16 & 16\\\\\n\t17 & 10\\\\\n\t21 &  1\\\\\n\t23 &  5\\\\\n\t37 &  7\\\\\n\t38 &  3\\\\\n\t44 &  2\\\\\n\t50 &  4\\\\\n\t51 &  8\\\\\n\t63 & 11\\\\\n\t75 & 17\\\\\n\t161 & 13\\\\\n\\end{tabular}\n",
            "text/plain": [
              "    Anos.de.Estudo\n",
              "1   12            \n",
              "3   15            \n",
              "4    6            \n",
              "5    9            \n",
              "9   14            \n",
              "16  16            \n",
              "17  10            \n",
              "21   1            \n",
              "23   5            \n",
              "37   7            \n",
              "38   3            \n",
              "44   2            \n",
              "50   4            \n",
              "51   8            \n",
              "63  11            \n",
              "75  17            \n",
              "161 13            "
            ]
          },
          "metadata": {}
        }
      ]
    },
    {
      "cell_type": "code",
      "metadata": {
        "scrolled": true,
        "id": "l9j1KzUJpunJ",
        "colab": {
          "base_uri": "https://localhost:8080/"
        },
        "outputId": "2b15edfa-92b6-4eaa-ca6a-aa62e3e0acfc"
      },
      "source": [
        "arrange(unique(select(dados,Anos.de.Estudo)),Anos.de.Estudo) # O arrange necessita da variavel depois pq ele vai organizar o banco de acordo com a variável solicitada"
      ],
      "execution_count": null,
      "outputs": [
        {
          "output_type": "display_data",
          "data": {
            "text/html": [
              "<table class=\"dataframe\">\n",
              "<caption>A data.frame: 17 × 1</caption>\n",
              "<thead>\n",
              "\t<tr><th scope=col>Anos.de.Estudo</th></tr>\n",
              "\t<tr><th scope=col>&lt;int&gt;</th></tr>\n",
              "</thead>\n",
              "<tbody>\n",
              "\t<tr><td> 1</td></tr>\n",
              "\t<tr><td> 2</td></tr>\n",
              "\t<tr><td> 3</td></tr>\n",
              "\t<tr><td> 4</td></tr>\n",
              "\t<tr><td> 5</td></tr>\n",
              "\t<tr><td> 6</td></tr>\n",
              "\t<tr><td> 7</td></tr>\n",
              "\t<tr><td> 8</td></tr>\n",
              "\t<tr><td> 9</td></tr>\n",
              "\t<tr><td>10</td></tr>\n",
              "\t<tr><td>11</td></tr>\n",
              "\t<tr><td>12</td></tr>\n",
              "\t<tr><td>13</td></tr>\n",
              "\t<tr><td>14</td></tr>\n",
              "\t<tr><td>15</td></tr>\n",
              "\t<tr><td>16</td></tr>\n",
              "\t<tr><td>17</td></tr>\n",
              "</tbody>\n",
              "</table>\n"
            ],
            "text/markdown": "\nA data.frame: 17 × 1\n\n| Anos.de.Estudo &lt;int&gt; |\n|---|\n|  1 |\n|  2 |\n|  3 |\n|  4 |\n|  5 |\n|  6 |\n|  7 |\n|  8 |\n|  9 |\n| 10 |\n| 11 |\n| 12 |\n| 13 |\n| 14 |\n| 15 |\n| 16 |\n| 17 |\n\n",
            "text/latex": "A data.frame: 17 × 1\n\\begin{tabular}{l}\n Anos.de.Estudo\\\\\n <int>\\\\\n\\hline\n\t  1\\\\\n\t  2\\\\\n\t  3\\\\\n\t  4\\\\\n\t  5\\\\\n\t  6\\\\\n\t  7\\\\\n\t  8\\\\\n\t  9\\\\\n\t 10\\\\\n\t 11\\\\\n\t 12\\\\\n\t 13\\\\\n\t 14\\\\\n\t 15\\\\\n\t 16\\\\\n\t 17\\\\\n\\end{tabular}\n",
            "text/plain": [
              "   Anos.de.Estudo\n",
              "1   1            \n",
              "2   2            \n",
              "3   3            \n",
              "4   4            \n",
              "5   5            \n",
              "6   6            \n",
              "7   7            \n",
              "8   8            \n",
              "9   9            \n",
              "10 10            \n",
              "11 11            \n",
              "12 12            \n",
              "13 13            \n",
              "14 14            \n",
              "15 15            \n",
              "16 16            \n",
              "17 17            "
            ]
          },
          "metadata": {}
        }
      ]
    },
    {
      "cell_type": "code",
      "metadata": {
        "id": "wBuin0GJpunJ",
        "colab": {
          "base_uri": "https://localhost:8080/"
        },
        "outputId": "3728aa1a-409d-473c-90f7-795bcbe6fb31"
      },
      "source": [
        "c(1,2,3,'Oi')\n",
        "c(arrange(unique(select(dados,Anos.de.Estudo)),Anos.de.Estudo))"
      ],
      "execution_count": null,
      "outputs": [
        {
          "output_type": "display_data",
          "data": {
            "text/html": [
              "<style>\n",
              ".list-inline {list-style: none; margin:0; padding: 0}\n",
              ".list-inline>li {display: inline-block}\n",
              ".list-inline>li:not(:last-child)::after {content: \"\\00b7\"; padding: 0 .5ex}\n",
              "</style>\n",
              "<ol class=list-inline><li>'1'</li><li>'2'</li><li>'3'</li><li>'Oi'</li></ol>\n"
            ],
            "text/markdown": "1. '1'\n2. '2'\n3. '3'\n4. 'Oi'\n\n\n",
            "text/latex": "\\begin{enumerate*}\n\\item '1'\n\\item '2'\n\\item '3'\n\\item 'Oi'\n\\end{enumerate*}\n",
            "text/plain": [
              "[1] \"1\"  \"2\"  \"3\"  \"Oi\""
            ]
          },
          "metadata": {}
        },
        {
          "output_type": "display_data",
          "data": {
            "text/html": [
              "<strong>$Anos.de.Estudo</strong> = <style>\n",
              ".list-inline {list-style: none; margin:0; padding: 0}\n",
              ".list-inline>li {display: inline-block}\n",
              ".list-inline>li:not(:last-child)::after {content: \"\\00b7\"; padding: 0 .5ex}\n",
              "</style>\n",
              "<ol class=list-inline><li>1</li><li>2</li><li>3</li><li>4</li><li>5</li><li>6</li><li>7</li><li>8</li><li>9</li><li>10</li><li>11</li><li>12</li><li>13</li><li>14</li><li>15</li><li>16</li><li>17</li></ol>\n"
            ],
            "text/markdown": "**$Anos.de.Estudo** = 1. 1\n2. 2\n3. 3\n4. 4\n5. 5\n6. 6\n7. 7\n8. 8\n9. 9\n10. 10\n11. 11\n12. 12\n13. 13\n14. 14\n15. 15\n16. 16\n17. 17\n\n\n",
            "text/latex": "\\textbf{\\$Anos.de.Estudo} = \\begin{enumerate*}\n\\item 1\n\\item 2\n\\item 3\n\\item 4\n\\item 5\n\\item 6\n\\item 7\n\\item 8\n\\item 9\n\\item 10\n\\item 11\n\\item 12\n\\item 13\n\\item 14\n\\item 15\n\\item 16\n\\item 17\n\\end{enumerate*}\n",
            "text/plain": [
              "$Anos.de.Estudo\n",
              " [1]  1  2  3  4  5  6  7  8  9 10 11 12 13 14 15 16 17\n"
            ]
          },
          "metadata": {}
        }
      ]
    },
    {
      "cell_type": "markdown",
      "metadata": {
        "id": "i2mCIMyojQKv"
      },
      "source": [
        "### Variáveis qualitativas nominais\n",
        "\n",
        "► Variáveis que não podem ser ordenadas ou hierarquizardas"
      ]
    },
    {
      "cell_type": "code",
      "metadata": {
        "scrolled": true,
        "id": "M35KHgr-punK",
        "colab": {
          "base_uri": "https://localhost:8080/"
        },
        "outputId": "17051d97-adeb-436d-8680-2275bbc3b365"
      },
      "source": [
        "c(arrange(unique(select(dados,UF)),UF))"
      ],
      "execution_count": null,
      "outputs": [
        {
          "output_type": "display_data",
          "data": {
            "text/html": [
              "<strong>$UF</strong> = <style>\n",
              ".list-inline {list-style: none; margin:0; padding: 0}\n",
              ".list-inline>li {display: inline-block}\n",
              ".list-inline>li:not(:last-child)::after {content: \"\\00b7\"; padding: 0 .5ex}\n",
              "</style>\n",
              "<ol class=list-inline><li>11</li><li>12</li><li>13</li><li>14</li><li>15</li><li>16</li><li>17</li><li>21</li><li>22</li><li>23</li><li>24</li><li>25</li><li>26</li><li>27</li><li>28</li><li>29</li><li>31</li><li>32</li><li>33</li><li>35</li><li>41</li><li>42</li><li>43</li><li>50</li><li>51</li><li>52</li><li>53</li></ol>\n"
            ],
            "text/markdown": "**$UF** = 1. 11\n2. 12\n3. 13\n4. 14\n5. 15\n6. 16\n7. 17\n8. 21\n9. 22\n10. 23\n11. 24\n12. 25\n13. 26\n14. 27\n15. 28\n16. 29\n17. 31\n18. 32\n19. 33\n20. 35\n21. 41\n22. 42\n23. 43\n24. 50\n25. 51\n26. 52\n27. 53\n\n\n",
            "text/latex": "\\textbf{\\$UF} = \\begin{enumerate*}\n\\item 11\n\\item 12\n\\item 13\n\\item 14\n\\item 15\n\\item 16\n\\item 17\n\\item 21\n\\item 22\n\\item 23\n\\item 24\n\\item 25\n\\item 26\n\\item 27\n\\item 28\n\\item 29\n\\item 31\n\\item 32\n\\item 33\n\\item 35\n\\item 41\n\\item 42\n\\item 43\n\\item 50\n\\item 51\n\\item 52\n\\item 53\n\\end{enumerate*}\n",
            "text/plain": [
              "$UF\n",
              " [1] 11 12 13 14 15 16 17 21 22 23 24 25 26 27 28 29 31 32 33 35 41 42 43 50 51\n",
              "[26] 52 53\n"
            ]
          },
          "metadata": {}
        }
      ]
    },
    {
      "cell_type": "code",
      "metadata": {
        "id": "rnAIhfVTpunK",
        "colab": {
          "base_uri": "https://localhost:8080/"
        },
        "outputId": "0a9615b6-c86d-4f07-dd8b-2efc21faeb73"
      },
      "source": [
        "c(arrange(unique(select(dados,Sexo)),Sexo))"
      ],
      "execution_count": null,
      "outputs": [
        {
          "output_type": "display_data",
          "data": {
            "text/html": [
              "<strong>$Sexo</strong> = <style>\n",
              ".list-inline {list-style: none; margin:0; padding: 0}\n",
              ".list-inline>li {display: inline-block}\n",
              ".list-inline>li:not(:last-child)::after {content: \"\\00b7\"; padding: 0 .5ex}\n",
              "</style>\n",
              "<ol class=list-inline><li>0</li><li>1</li></ol>\n"
            ],
            "text/markdown": "**$Sexo** = 1. 0\n2. 1\n\n\n",
            "text/latex": "\\textbf{\\$Sexo} = \\begin{enumerate*}\n\\item 0\n\\item 1\n\\end{enumerate*}\n",
            "text/plain": [
              "$Sexo\n",
              "[1] 0 1\n"
            ]
          },
          "metadata": {}
        }
      ]
    },
    {
      "cell_type": "code",
      "metadata": {
        "id": "CaRv7Pq9punK",
        "colab": {
          "base_uri": "https://localhost:8080/"
        },
        "outputId": "c603f9c0-3194-49ab-cf61-a646fd720ca8"
      },
      "source": [
        "c(arrange(unique(select(dados,Cor)),Cor))"
      ],
      "execution_count": null,
      "outputs": [
        {
          "output_type": "display_data",
          "data": {
            "text/html": [
              "<strong>$Cor</strong> = <style>\n",
              ".list-inline {list-style: none; margin:0; padding: 0}\n",
              ".list-inline>li {display: inline-block}\n",
              ".list-inline>li:not(:last-child)::after {content: \"\\00b7\"; padding: 0 .5ex}\n",
              "</style>\n",
              "<ol class=list-inline><li>0</li><li>2</li><li>4</li><li>6</li><li>8</li></ol>\n"
            ],
            "text/markdown": "**$Cor** = 1. 0\n2. 2\n3. 4\n4. 6\n5. 8\n\n\n",
            "text/latex": "\\textbf{\\$Cor} = \\begin{enumerate*}\n\\item 0\n\\item 2\n\\item 4\n\\item 6\n\\item 8\n\\end{enumerate*}\n",
            "text/plain": [
              "$Cor\n",
              "[1] 0 2 4 6 8\n"
            ]
          },
          "metadata": {}
        }
      ]
    },
    {
      "cell_type": "markdown",
      "metadata": {
        "id": "FQhi81LsjQK5"
      },
      "source": [
        "### Variáveis quantitativas discretas\n",
        "\n",
        "► Variáveis que representam uma contagem onde os valores possíveis formam um conjunto finito ou enumerável."
      ]
    },
    {
      "cell_type": "code",
      "metadata": {
        "id": "urF2FMgWpunL",
        "colab": {
          "base_uri": "https://localhost:8080/"
        },
        "outputId": "e444c799-05b5-4106-87ef-928feb527470"
      },
      "source": [
        "sprintf(\"Temos na base de dados, idades de %s até %s\", min(dados$Idade), max(dados$Idade)) # $ isso é tipo um ponto"
      ],
      "execution_count": null,
      "outputs": [
        {
          "output_type": "display_data",
          "data": {
            "text/html": [
              "'Temos na base de dados, idades de 13 até 99'"
            ],
            "text/markdown": "'Temos na base de dados, idades de 13 até 99'",
            "text/latex": "'Temos na base de dados, idades de 13 até 99'",
            "text/plain": [
              "[1] \"Temos na base de dados, idades de 13 até 99\""
            ]
          },
          "metadata": {}
        }
      ]
    },
    {
      "cell_type": "code",
      "metadata": {
        "id": "k1kZ03ZkpunL"
      },
      "source": [
        "library(glue)"
      ],
      "execution_count": null,
      "outputs": []
    },
    {
      "cell_type": "code",
      "metadata": {
        "id": "ITSKmIbhpunL",
        "colab": {
          "base_uri": "https://localhost:8080/"
        },
        "outputId": "57f4efd1-8bb9-40fa-cd89-8849d7a5dd97"
      },
      "source": [
        "glue(\"Temos na base de dados, idades de {min(dados$Idade)} até {max(dados$Idade)}\")"
      ],
      "execution_count": null,
      "outputs": [
        {
          "output_type": "display_data",
          "data": {
            "text/html": [
              "'Temos na base de dados, idades de 13 até 99'"
            ],
            "text/markdown": "'Temos na base de dados, idades de 13 até 99'",
            "text/latex": "'Temos na base de dados, idades de 13 até 99'",
            "text/plain": [
              "Temos na base de dados, idades de 13 até 99"
            ]
          },
          "metadata": {}
        }
      ]
    },
    {
      "cell_type": "markdown",
      "metadata": {
        "id": "7mMXLTukjQK-"
      },
      "source": [
        "#### <font color='red'>Observação</font>\n",
        "***\n",
        "> A variável idade pode ser classificada de três formas distintas:\n",
        "> 1. <b>QUANTITATIVA DISCRETA</b> - quando representa anos completos (números inteiros);\n",
        "> 2. <b>QUANTITATIVA CONTÍNUA</b> - quando representa a idade exata, sendo representado por frações de anos; e\n",
        "> 3. <b>QUALITATIVA ORDINAL</b> - quando representa faixas de idade."
      ]
    },
    {
      "cell_type": "markdown",
      "metadata": {
        "id": "J0L2OkaQjQK7"
      },
      "source": [
        "### Variáveis quantitativas contínuas\n",
        "\n",
        "► Variáveis que representam uma contagem ou mensuração que assumem valores em uma escala contínua (números reais)."
      ]
    },
    {
      "cell_type": "code",
      "metadata": {
        "id": "r6J6lEcWpunM",
        "colab": {
          "base_uri": "https://localhost:8080/"
        },
        "outputId": "704ae183-d32c-43c3-dfae-0a4bb443300f"
      },
      "source": [
        "glue(\"Temos na base de dados, Alturas de {min(dados$Altura)} até {max(dados$Altura)}\")"
      ],
      "execution_count": null,
      "outputs": [
        {
          "output_type": "display_data",
          "data": {
            "text/html": [
              "'Temos na base de dados, Alturas de 1.339244614 até 2.028496765'"
            ],
            "text/markdown": "'Temos na base de dados, Alturas de 1.339244614 até 2.028496765'",
            "text/latex": "'Temos na base de dados, Alturas de 1.339244614 até 2.028496765'",
            "text/plain": [
              "Temos na base de dados, Alturas de 1.339244614 até 2.028496765"
            ]
          },
          "metadata": {}
        }
      ]
    },
    {
      "cell_type": "markdown",
      "metadata": {
        "id": "d_LW5gMIjQK_"
      },
      "source": [
        "### Classificação de uma variável\n",
        "<img src='https://caelum-online-public.s3.amazonaws.com/1177-estatistica-parte1/01/img001.png' width='70%'>"
      ]
    },
    {
      "cell_type": "markdown",
      "metadata": {
        "id": "PNIg_4VEjQK_"
      },
      "source": [
        "# <font color=green>2 DISTRIBUIÇÃO DE FREQUÊNCIAS</font>\n",
        "***\n",
        "\n",
        "O primeiro passo em um trabalho de análise é o conhecimento do comportamento das variáveis envolvidas no estudo. Utilizando técnicas estatísticas como as análises das <b>DISTRIBUIÇÕES DE FREQUÊNCIAS</b> e <b>HISTOGRAMAS</b> podemos avaliar melhor a forma como os fenômenos em estudo se distribuem."
      ]
    },
    {
      "cell_type": "markdown",
      "metadata": {
        "id": "JhpyjkEFjQLA"
      },
      "source": [
        "## <font color=green>2.1 Distribuição de frequências para variáveis qualitativas</font>\n",
        "***"
      ]
    },
    {
      "cell_type": "markdown",
      "metadata": {
        "id": "SsN3ikjqjQLB"
      },
      "source": [
        "### Método 1"
      ]
    },
    {
      "cell_type": "markdown",
      "metadata": {
        "id": "ymuM2feTpunO"
      },
      "source": [
        "### <font color=red>Documentações:\n",
        "\n",
        "- [**table**](https://www.rdocumentation.org/packages/base/versions/3.6.1/topics/table)\n",
        "- [**prop.table**](https://www.rdocumentation.org/packages/base/versions/3.6.1/topics/prop.table)\n",
        "- [**cbind**](https://www.rdocumentation.org/packages/base/versions/3.6.1/topics/cbind)\n",
        "- [**row+colnames**](https://www.rdocumentation.org/packages/base/versions/3.6.1/topics/row%2Bcolnames)"
      ]
    },
    {
      "cell_type": "code",
      "metadata": {
        "id": "TaKxHLuspunP",
        "colab": {
          "base_uri": "https://localhost:8080/"
        },
        "outputId": "d72dfee9-ca4e-4045-8af5-f200a09732f3"
      },
      "source": [
        "table(dados$Sexo) # vamos criar uma tabela com apenas os valores de sexo, vendo quando existe na base de dados"
      ],
      "execution_count": null,
      "outputs": [
        {
          "output_type": "display_data",
          "data": {
            "text/plain": [
              "\n",
              "    0     1 \n",
              "53250 23590 "
            ]
          },
          "metadata": {}
        }
      ]
    },
    {
      "cell_type": "code",
      "metadata": {
        "id": "SzjBL__MpunP",
        "colab": {
          "base_uri": "https://localhost:8080/"
        },
        "outputId": "41c9b146-8e32-4a7f-e8b6-a27dc4320f5f"
      },
      "source": [
        "prop.table(table(dados$Sexo)) #Conseguimos descobrir a proporção  de homens e mulheres no dataset"
      ],
      "execution_count": null,
      "outputs": [
        {
          "output_type": "display_data",
          "data": {
            "text/plain": [
              "\n",
              "        0         1 \n",
              "0.6929984 0.3070016 "
            ]
          },
          "metadata": {}
        }
      ]
    },
    {
      "cell_type": "code",
      "metadata": {
        "id": "sE3b3tgfyuBd",
        "colab": {
          "base_uri": "https://localhost:8080/"
        },
        "outputId": "203707a4-0957-4d5a-f375-91d21fae9fa1"
      },
      "source": [
        "prop.table(table(dados$Sexo)) * 100 # Conseguimos a mesma base de dados só que em percentual"
      ],
      "execution_count": null,
      "outputs": [
        {
          "output_type": "display_data",
          "data": {
            "text/plain": [
              "\n",
              "       0        1 \n",
              "69.29984 30.70016 "
            ]
          },
          "metadata": {}
        }
      ]
    },
    {
      "cell_type": "code",
      "metadata": {
        "id": "3T6vFJN7y7O1",
        "colab": {
          "base_uri": "https://localhost:8080/"
        },
        "outputId": "b28f811b-d949-4831-9cea-508d385c6499"
      },
      "source": [
        "# Conseguimos melhorar a tabela através de algumas outras linhas\n",
        "\n",
        "Dist_Freq_Qualitativa = cbind(table(dados$Sexo), prop.table(table(dados$Sexo)))\n",
        "Dist_Freq_Qualitativa"
      ],
      "execution_count": null,
      "outputs": [
        {
          "output_type": "display_data",
          "data": {
            "text/html": [
              "<table class=\"dataframe\">\n",
              "<caption>A matrix: 2 × 2 of type dbl</caption>\n",
              "<tbody>\n",
              "\t<tr><th scope=row>0</th><td>53250</td><td>0.6929984</td></tr>\n",
              "\t<tr><th scope=row>1</th><td>23590</td><td>0.3070016</td></tr>\n",
              "</tbody>\n",
              "</table>\n"
            ],
            "text/markdown": "\nA matrix: 2 × 2 of type dbl\n\n| 0 | 53250 | 0.6929984 |\n| 1 | 23590 | 0.3070016 |\n\n",
            "text/latex": "A matrix: 2 × 2 of type dbl\n\\begin{tabular}{r|ll}\n\t0 & 53250 & 0.6929984\\\\\n\t1 & 23590 & 0.3070016\\\\\n\\end{tabular}\n",
            "text/plain": [
              "  [,1]  [,2]     \n",
              "0 53250 0.6929984\n",
              "1 23590 0.3070016"
            ]
          },
          "metadata": {}
        }
      ]
    },
    {
      "cell_type": "code",
      "metadata": {
        "id": "z2NfxN1-z6OC",
        "colab": {
          "base_uri": "https://localhost:8080/"
        },
        "outputId": "8a4d0c89-6d06-4ded-a196-44ca06090a59"
      },
      "source": [
        "# Ou podemos melhorar mais ainda:\n",
        "# Colocando nome nas colunas\n",
        "Dist_Freq_Qualitativa_Modelo2 = cbind(Frequencia = table(dados$Sexo), Proporcao = prop.table(table(dados$Sexo)), Percentual = prop.table(table(dados$Sexo)) * 100)\n",
        "Dist_Freq_Qualitativa_Modelo2\n"
      ],
      "execution_count": null,
      "outputs": [
        {
          "output_type": "display_data",
          "data": {
            "text/html": [
              "<table class=\"dataframe\">\n",
              "<caption>A matrix: 2 × 3 of type dbl</caption>\n",
              "<thead>\n",
              "\t<tr><th></th><th scope=col>Frequencia</th><th scope=col>Proporcao</th><th scope=col>Percentual</th></tr>\n",
              "</thead>\n",
              "<tbody>\n",
              "\t<tr><th scope=row>0</th><td>53250</td><td>0.6929984</td><td>69.29984</td></tr>\n",
              "\t<tr><th scope=row>1</th><td>23590</td><td>0.3070016</td><td>30.70016</td></tr>\n",
              "</tbody>\n",
              "</table>\n"
            ],
            "text/markdown": "\nA matrix: 2 × 3 of type dbl\n\n| <!--/--> | Frequencia | Proporcao | Percentual |\n|---|---|---|---|\n| 0 | 53250 | 0.6929984 | 69.29984 |\n| 1 | 23590 | 0.3070016 | 30.70016 |\n\n",
            "text/latex": "A matrix: 2 × 3 of type dbl\n\\begin{tabular}{r|lll}\n  & Frequencia & Proporcao & Percentual\\\\\n\\hline\n\t0 & 53250 & 0.6929984 & 69.29984\\\\\n\t1 & 23590 & 0.3070016 & 30.70016\\\\\n\\end{tabular}\n",
            "text/plain": [
              "  Frequencia Proporcao Percentual\n",
              "0 53250      0.6929984 69.29984  \n",
              "1 23590      0.3070016 30.70016  "
            ]
          },
          "metadata": {}
        }
      ]
    },
    {
      "cell_type": "code",
      "metadata": {
        "id": "MfrFZPDtpunP",
        "colab": {
          "base_uri": "https://localhost:8080/"
        },
        "outputId": "d15a5447-6607-4af6-88b0-b3edca27dc57"
      },
      "source": [
        "# Podemos colocar os nomes nas colunas assim tbm:\n",
        "colnames(Dist_Freq_Qualitativa) =  c('Frequência', 'Porcentagem (%)')\n",
        "Dist_Freq_Qualitativa"
      ],
      "execution_count": null,
      "outputs": [
        {
          "output_type": "display_data",
          "data": {
            "text/html": [
              "<table class=\"dataframe\">\n",
              "<caption>A matrix: 2 × 2 of type dbl</caption>\n",
              "<thead>\n",
              "\t<tr><th></th><th scope=col>Frequência</th><th scope=col>Porcentagem (%)</th></tr>\n",
              "</thead>\n",
              "<tbody>\n",
              "\t<tr><th scope=row>0</th><td>53250</td><td>0.6929984</td></tr>\n",
              "\t<tr><th scope=row>1</th><td>23590</td><td>0.3070016</td></tr>\n",
              "</tbody>\n",
              "</table>\n"
            ],
            "text/markdown": "\nA matrix: 2 × 2 of type dbl\n\n| <!--/--> | Frequência | Porcentagem (%) |\n|---|---|---|\n| 0 | 53250 | 0.6929984 |\n| 1 | 23590 | 0.3070016 |\n\n",
            "text/latex": "A matrix: 2 × 2 of type dbl\n\\begin{tabular}{r|ll}\n  & Frequência & Porcentagem (\\%)\\\\\n\\hline\n\t0 & 53250 & 0.6929984\\\\\n\t1 & 23590 & 0.3070016\\\\\n\\end{tabular}\n",
            "text/plain": [
              "  Frequência Porcentagem (%)\n",
              "0 53250      0.6929984      \n",
              "1 23590      0.3070016      "
            ]
          },
          "metadata": {}
        }
      ]
    },
    {
      "cell_type": "code",
      "metadata": {
        "id": "1B24QmHzpunP",
        "colab": {
          "base_uri": "https://localhost:8080/"
        },
        "outputId": "5caa5390-efcd-465a-c10c-6eaa0e550761"
      },
      "source": [
        "# Para nomear as linhas:\n",
        "rownames(Dist_Freq_Qualitativa) = c('Masculino', 'Feminino')\n",
        "Dist_Freq_Qualitativa"
      ],
      "execution_count": null,
      "outputs": [
        {
          "output_type": "display_data",
          "data": {
            "text/html": [
              "<table class=\"dataframe\">\n",
              "<caption>A matrix: 2 × 2 of type dbl</caption>\n",
              "<thead>\n",
              "\t<tr><th></th><th scope=col>Frequência</th><th scope=col>Porcentagem (%)</th></tr>\n",
              "</thead>\n",
              "<tbody>\n",
              "\t<tr><th scope=row>Masculino</th><td>53250</td><td>0.6929984</td></tr>\n",
              "\t<tr><th scope=row>Feminino</th><td>23590</td><td>0.3070016</td></tr>\n",
              "</tbody>\n",
              "</table>\n"
            ],
            "text/markdown": "\nA matrix: 2 × 2 of type dbl\n\n| <!--/--> | Frequência | Porcentagem (%) |\n|---|---|---|\n| Masculino | 53250 | 0.6929984 |\n| Feminino | 23590 | 0.3070016 |\n\n",
            "text/latex": "A matrix: 2 × 2 of type dbl\n\\begin{tabular}{r|ll}\n  & Frequência & Porcentagem (\\%)\\\\\n\\hline\n\tMasculino & 53250 & 0.6929984\\\\\n\tFeminino & 23590 & 0.3070016\\\\\n\\end{tabular}\n",
            "text/plain": [
              "          Frequência Porcentagem (%)\n",
              "Masculino 53250      0.6929984      \n",
              "Feminino  23590      0.3070016      "
            ]
          },
          "metadata": {}
        }
      ]
    },
    {
      "cell_type": "markdown",
      "metadata": {
        "id": "D82ocp_djQLR"
      },
      "source": [
        "### Método 2"
      ]
    },
    {
      "cell_type": "markdown",
      "metadata": {
        "id": "JxxTPt9bpunQ"
      },
      "source": [
        "### <font color=red>Documentações:\n",
        "\n",
        "- [**tapply**](https://www.rdocumentation.org/packages/base/versions/3.6.1/topics/tapply)"
      ]
    },
    {
      "cell_type": "code",
      "metadata": {
        "id": "nmM7KmodpunQ",
        "colab": {
          "base_uri": "https://localhost:8080/"
        },
        "outputId": "d4ab0832-3873-4360-d135-9c095dd5a429"
      },
      "source": [
        "# Agora com duas variaveis\n",
        "Frequencia = table(dados$Sexo,dados$Cor)\n",
        "Frequencia"
      ],
      "execution_count": null,
      "outputs": [
        {
          "output_type": "display_data",
          "data": {
            "text/plain": [
              "   \n",
              "        0     2     4     6     8\n",
              "  0   256 22194  5502   235 25063\n",
              "  1   101  9621  2889   117 10862"
            ]
          },
          "metadata": {}
        }
      ]
    },
    {
      "cell_type": "code",
      "metadata": {
        "id": "d8XMZiEfjQLS",
        "colab": {
          "base_uri": "https://localhost:8080/"
        },
        "outputId": "ef583b94-23c7-4916-cb2c-37f120f68fff"
      },
      "source": [
        "# Até agora sem segredo:\n",
        "rownames(Frequencia) = c('Masculino', 'Feminino')\n",
        "colnames(Frequencia) = c('Indígena', 'Branca', 'Preta', 'Amarela', 'Parda')\n",
        "# Para deixar mais bonitinho, Cbind\n",
        "Frequencia = cbind(Frequencia)\n",
        "Frequencia"
      ],
      "execution_count": null,
      "outputs": [
        {
          "output_type": "display_data",
          "data": {
            "text/html": [
              "<table class=\"dataframe\">\n",
              "<caption>A matrix: 2 × 5 of type int</caption>\n",
              "<thead>\n",
              "\t<tr><th></th><th scope=col>Indígena</th><th scope=col>Branca</th><th scope=col>Preta</th><th scope=col>Amarela</th><th scope=col>Parda</th></tr>\n",
              "</thead>\n",
              "<tbody>\n",
              "\t<tr><th scope=row>Masculino</th><td>256</td><td>22194</td><td>5502</td><td>235</td><td>25063</td></tr>\n",
              "\t<tr><th scope=row>Feminino</th><td>101</td><td> 9621</td><td>2889</td><td>117</td><td>10862</td></tr>\n",
              "</tbody>\n",
              "</table>\n"
            ],
            "text/markdown": "\nA matrix: 2 × 5 of type int\n\n| <!--/--> | Indígena | Branca | Preta | Amarela | Parda |\n|---|---|---|---|---|---|\n| Masculino | 256 | 22194 | 5502 | 235 | 25063 |\n| Feminino | 101 |  9621 | 2889 | 117 | 10862 |\n\n",
            "text/latex": "A matrix: 2 × 5 of type int\n\\begin{tabular}{r|lllll}\n  & Indígena & Branca & Preta & Amarela & Parda\\\\\n\\hline\n\tMasculino & 256 & 22194 & 5502 & 235 & 25063\\\\\n\tFeminino & 101 &  9621 & 2889 & 117 & 10862\\\\\n\\end{tabular}\n",
            "text/plain": [
              "          Indígena Branca Preta Amarela Parda\n",
              "Masculino 256      22194  5502  235     25063\n",
              "Feminino  101       9621  2889  117     10862"
            ]
          },
          "metadata": {}
        }
      ]
    },
    {
      "cell_type": "code",
      "metadata": {
        "id": "YLCyOKYcjQLU",
        "colab": {
          "base_uri": "https://localhost:8080/"
        },
        "outputId": "8173ffd3-5e4d-4653-a7bb-24e42b07c8f3"
      },
      "source": [
        "# Valores em percentual, o R é bem inteligente, com letra com número e mesmo assim ele fez a proporsão bonitinho\n",
        "Percentual2 = prop.table(Frequencia) * 100\n",
        "Percentual2"
      ],
      "execution_count": null,
      "outputs": [
        {
          "output_type": "display_data",
          "data": {
            "text/html": [
              "<table class=\"dataframe\">\n",
              "<caption>A matrix: 2 × 5 of type dbl</caption>\n",
              "<thead>\n",
              "\t<tr><th></th><th scope=col>Indígena</th><th scope=col>Branca</th><th scope=col>Preta</th><th scope=col>Amarela</th><th scope=col>Parda</th></tr>\n",
              "</thead>\n",
              "<tbody>\n",
              "\t<tr><th scope=row>Masculino</th><td>0.3331598</td><td>28.88339</td><td>7.160333</td><td>0.3058303</td><td>32.61713</td></tr>\n",
              "\t<tr><th scope=row>Feminino</th><td>0.1314420</td><td>12.52082</td><td>3.759761</td><td>0.1522644</td><td>14.13587</td></tr>\n",
              "</tbody>\n",
              "</table>\n"
            ],
            "text/markdown": "\nA matrix: 2 × 5 of type dbl\n\n| <!--/--> | Indígena | Branca | Preta | Amarela | Parda |\n|---|---|---|---|---|---|\n| Masculino | 0.3331598 | 28.88339 | 7.160333 | 0.3058303 | 32.61713 |\n| Feminino | 0.1314420 | 12.52082 | 3.759761 | 0.1522644 | 14.13587 |\n\n",
            "text/latex": "A matrix: 2 × 5 of type dbl\n\\begin{tabular}{r|lllll}\n  & Indígena & Branca & Preta & Amarela & Parda\\\\\n\\hline\n\tMasculino & 0.3331598 & 28.88339 & 7.160333 & 0.3058303 & 32.61713\\\\\n\tFeminino & 0.1314420 & 12.52082 & 3.759761 & 0.1522644 & 14.13587\\\\\n\\end{tabular}\n",
            "text/plain": [
              "          Indígena  Branca   Preta    Amarela   Parda   \n",
              "Masculino 0.3331598 28.88339 7.160333 0.3058303 32.61713\n",
              "Feminino  0.1314420 12.52082 3.759761 0.1522644 14.13587"
            ]
          },
          "metadata": {}
        }
      ]
    },
    {
      "cell_type": "code",
      "metadata": {
        "id": "IgFBg-hDpunR",
        "colab": {
          "base_uri": "https://localhost:8080/"
        },
        "outputId": "17b60f37-b01c-4a78-a0c7-e9e8f38b8797"
      },
      "source": [
        "# Agora com tres variaveis, onde a terceira vai ser a renda média, perceba que ela é uma variavel quantitiva !\n",
        "# Para isso vamos usar o Tapply, e para passar a lista já pronta pra ele temos que fazer essa lista virar uma lista tipo a do python\n",
        "# Então uma explicação do que vai acontecer está abaixo:\n",
        "list(c(1,2,3),c(5,6,7,8,9,10))\n",
        "# então vamos fazer isso no codigo debaixo"
      ],
      "execution_count": null,
      "outputs": [
        {
          "output_type": "display_data",
          "data": {
            "text/html": [
              "<ol>\n",
              "\t<li><style>\n",
              ".list-inline {list-style: none; margin:0; padding: 0}\n",
              ".list-inline>li {display: inline-block}\n",
              ".list-inline>li:not(:last-child)::after {content: \"\\00b7\"; padding: 0 .5ex}\n",
              "</style>\n",
              "<ol class=list-inline><li>1</li><li>2</li><li>3</li></ol>\n",
              "</li>\n",
              "\t<li><style>\n",
              ".list-inline {list-style: none; margin:0; padding: 0}\n",
              ".list-inline>li {display: inline-block}\n",
              ".list-inline>li:not(:last-child)::after {content: \"\\00b7\"; padding: 0 .5ex}\n",
              "</style>\n",
              "<ol class=list-inline><li>5</li><li>6</li><li>7</li><li>8</li><li>9</li><li>10</li></ol>\n",
              "</li>\n",
              "</ol>\n"
            ],
            "text/markdown": "1. 1. 1\n2. 2\n3. 3\n\n\n\n2. 1. 5\n2. 6\n3. 7\n4. 8\n5. 9\n6. 10\n\n\n\n\n\n",
            "text/latex": "\\begin{enumerate}\n\\item \\begin{enumerate*}\n\\item 1\n\\item 2\n\\item 3\n\\end{enumerate*}\n\n\\item \\begin{enumerate*}\n\\item 5\n\\item 6\n\\item 7\n\\item 8\n\\item 9\n\\item 10\n\\end{enumerate*}\n\n\\end{enumerate}\n",
            "text/plain": [
              "[[1]]\n",
              "[1] 1 2 3\n",
              "\n",
              "[[2]]\n",
              "[1]  5  6  7  8  9 10\n"
            ]
          },
          "metadata": {}
        }
      ]
    },
    {
      "cell_type": "code",
      "metadata": {
        "id": "yQZMn8-cpunR",
        "colab": {
          "base_uri": "https://localhost:8080/"
        },
        "outputId": "861a15ac-2cf4-4e63-e72f-4dc59f701175"
      },
      "source": [
        "medias = tapply(dados$Renda,list(dados$Sexo,dados$Cor))\n",
        "# Vamos pegar a média desse frankstein abaixo\n",
        "medias = tapply(dados$Renda,list(dados$Sexo,dados$Cor), mean)\n",
        "# Agora vamos colocar o nome nas coisas denovo...\n",
        "rownames(medias) = c('Masculino', 'Feminino')\n",
        "colnames(medias) = c('Indígena', 'Branca', 'Preta', 'Amarela', 'Parda')\n",
        "medias\n",
        "\n",
        "# é um pouco complexo... Mas vamos conseguir com o tempo"
      ],
      "execution_count": null,
      "outputs": [
        {
          "output_type": "display_data",
          "data": {
            "text/html": [
              "<table class=\"dataframe\">\n",
              "<caption>A matrix: 2 × 5 of type dbl</caption>\n",
              "<thead>\n",
              "\t<tr><th></th><th scope=col>Indígena</th><th scope=col>Branca</th><th scope=col>Preta</th><th scope=col>Amarela</th><th scope=col>Parda</th></tr>\n",
              "</thead>\n",
              "<tbody>\n",
              "\t<tr><th scope=row>Masculino</th><td>1081.711</td><td>2925.744</td><td>1603.862</td><td>4758.251</td><td>1659.577</td></tr>\n",
              "\t<tr><th scope=row>Feminino</th><td>2464.386</td><td>2109.867</td><td>1134.596</td><td>3027.342</td><td>1176.759</td></tr>\n",
              "</tbody>\n",
              "</table>\n"
            ],
            "text/markdown": "\nA matrix: 2 × 5 of type dbl\n\n| <!--/--> | Indígena | Branca | Preta | Amarela | Parda |\n|---|---|---|---|---|---|\n| Masculino | 1081.711 | 2925.744 | 1603.862 | 4758.251 | 1659.577 |\n| Feminino | 2464.386 | 2109.867 | 1134.596 | 3027.342 | 1176.759 |\n\n",
            "text/latex": "A matrix: 2 × 5 of type dbl\n\\begin{tabular}{r|lllll}\n  & Indígena & Branca & Preta & Amarela & Parda\\\\\n\\hline\n\tMasculino & 1081.711 & 2925.744 & 1603.862 & 4758.251 & 1659.577\\\\\n\tFeminino & 2464.386 & 2109.867 & 1134.596 & 3027.342 & 1176.759\\\\\n\\end{tabular}\n",
            "text/plain": [
              "          Indígena Branca   Preta    Amarela  Parda   \n",
              "Masculino 1081.711 2925.744 1603.862 4758.251 1659.577\n",
              "Feminino  2464.386 2109.867 1134.596 3027.342 1176.759"
            ]
          },
          "metadata": {}
        }
      ]
    },
    {
      "cell_type": "markdown",
      "metadata": {
        "id": "eaXQUxnXjQLa"
      },
      "source": [
        "## <font color=green>2.2 Distribuição de frequências para variáveis quantitativas (classes personalizadas)</font>\n",
        "***"
      ]
    },
    {
      "cell_type": "markdown",
      "metadata": {
        "id": "miXdZZPzpunS"
      },
      "source": [
        "### <font color=red>Documentações:\n",
        "\n",
        "- [**cut**](https://www.rdocumentation.org/packages/base/versions/3.6.1/topics/cut)\n",
        "- [**order**](https://www.rdocumentation.org/packages/base/versions/3.6.1/topics/order)\n",
        "- [**row.names**](https://www.rdocumentation.org/packages/base/versions/3.6.1/topics/row.names)"
      ]
    },
    {
      "cell_type": "markdown",
      "metadata": {
        "id": "wxsSD-VVjQLb"
      },
      "source": [
        "### Passo 1 - Especificar os limites de cada classe\n",
        "\n",
        "Utilizar a seguinte classificação:\n",
        "\n",
        "<b>A</b> ► Acima de 20 SM\n",
        "\n",
        "<b>B</b> ► De 10 a 20 SM\n",
        "\n",
        "<b>C</b> ► De 4 a 10 SM\n",
        "\n",
        "<b>D</b> ► De 2 a 4 SM\n",
        "\n",
        "<b>E</b> ► Até 2 SM\n",
        "\n",
        "onde <b>SM</b> é o valor do salário mínimo na época. Em nosso caso <b>R$ 788,00</b> (2015):\n",
        "\n",
        "<b>A</b> ► Acima de 15.760\n",
        "\n",
        "<b>B</b> ► De 7.880 a 15.760\n",
        "\n",
        "<b>C</b> ► De 3.152 a 7.880\n",
        "\n",
        "<b>D</b> ► De 1.576 a 3.152\n",
        "\n",
        "<b>E</b> ► Até 1.576\n"
      ]
    },
    {
      "cell_type": "code",
      "metadata": {
        "id": "Z08790GUjQLc",
        "colab": {
          "base_uri": "https://localhost:8080/"
        },
        "outputId": "adb72bea-a227-4d43-8d8a-96f5debc8235"
      },
      "source": [
        "min(dados$Renda)"
      ],
      "execution_count": null,
      "outputs": [
        {
          "output_type": "display_data",
          "data": {
            "text/html": [
              "0"
            ],
            "text/markdown": "0",
            "text/latex": "0",
            "text/plain": [
              "[1] 0"
            ]
          },
          "metadata": {}
        }
      ]
    },
    {
      "cell_type": "code",
      "metadata": {
        "id": "5q2V5-0FjQLe",
        "colab": {
          "base_uri": "https://localhost:8080/"
        },
        "outputId": "99888168-4ce7-49d7-e0c4-9a7da404fd4f"
      },
      "source": [
        "max(dados$Renda)"
      ],
      "execution_count": null,
      "outputs": [
        {
          "output_type": "display_data",
          "data": {
            "text/html": [
              "200000"
            ],
            "text/markdown": "200000",
            "text/latex": "200000",
            "text/plain": [
              "[1] 200000"
            ]
          },
          "metadata": {}
        }
      ]
    },
    {
      "cell_type": "code",
      "metadata": {
        "id": "Qt5F5w2UjQLg"
      },
      "source": [
        "classes = c(0, 1576, 3152, 7880, 15760, 200000)"
      ],
      "execution_count": null,
      "outputs": []
    },
    {
      "cell_type": "code",
      "metadata": {
        "id": "DKPIGOLLjQLi"
      },
      "source": [
        "labels = c('E', 'D', 'C', 'B', 'A')"
      ],
      "execution_count": null,
      "outputs": []
    },
    {
      "cell_type": "markdown",
      "metadata": {
        "id": "IQhlvrQUjQLk"
      },
      "source": [
        "### Passo 2 - Criar a tabela de frequências"
      ]
    },
    {
      "cell_type": "code",
      "metadata": {
        "id": "iqTz2JrIpunW",
        "colab": {
          "base_uri": "https://localhost:8080/"
        },
        "outputId": "682b11e3-3bc0-44df-bcab-e9ec182ab7be"
      },
      "source": [
        "cut(\n",
        "    x = dados$Renda,\n",
        "    breaks = classes,\n",
        "    labels = labels,\n",
        "    include.lowest = TRUE\n",
        ") "
      ],
      "execution_count": null,
      "outputs": [
        {
          "output_type": "display_data",
          "data": {
            "text/html": [
              "<style>\n",
              ".list-inline {list-style: none; margin:0; padding: 0}\n",
              ".list-inline>li {display: inline-block}\n",
              ".list-inline>li:not(:last-child)::after {content: \"\\00b7\"; padding: 0 .5ex}\n",
              "</style>\n",
              "<ol class=list-inline><li>E</li><li>E</li><li>E</li><li>C</li><li>E</li><li>E</li><li>D</li><li>D</li><li>D</li><li>E</li><li>D</li><li>D</li><li>E</li><li>D</li><li>D</li><li>C</li><li>E</li><li>C</li><li>D</li><li>E</li><li>D</li><li>C</li><li>E</li><li>E</li><li>E</li><li>E</li><li>D</li><li>D</li><li>D</li><li>D</li><li>D</li><li>E</li><li>E</li><li>D</li><li>E</li><li>E</li><li>E</li><li>E</li><li>E</li><li>E</li><li>E</li><li>E</li><li>E</li><li>E</li><li>D</li><li>E</li><li>E</li><li>E</li><li>C</li><li>E</li><li>D</li><li>D</li><li>E</li><li>C</li><li>C</li><li>E</li><li>E</li><li>E</li><li>E</li><li>E</li><li>E</li><li>E</li><li>E</li><li>E</li><li>E</li><li>E</li><li>E</li><li>E</li><li>E</li><li>E</li><li>E</li><li>D</li><li>D</li><li>E</li><li>D</li><li>E</li><li>E</li><li>E</li><li>E</li><li>E</li><li>E</li><li>E</li><li>E</li><li>E</li><li>E</li><li>E</li><li>E</li><li>D</li><li>E</li><li>D</li><li>E</li><li>E</li><li>E</li><li>E</li><li>E</li><li>E</li><li>E</li><li>E</li><li>E</li><li>E</li><li>E</li><li>E</li><li>E</li><li>E</li><li>D</li><li>E</li><li>E</li><li>E</li><li>D</li><li>C</li><li>D</li><li>E</li><li>D</li><li>E</li><li>E</li><li>E</li><li>E</li><li>E</li><li>E</li><li>D</li><li>E</li><li>A</li><li>D</li><li>D</li><li>E</li><li>E</li><li>E</li><li>E</li><li>E</li><li>E</li><li>E</li><li>E</li><li>E</li><li>E</li><li>D</li><li>E</li><li>E</li><li>D</li><li>E</li><li>D</li><li>D</li><li>E</li><li>E</li><li>D</li><li>D</li><li>B</li><li>E</li><li>C</li><li>D</li><li>E</li><li>E</li><li>E</li><li>C</li><li>D</li><li>D</li><li>C</li><li>D</li><li>C</li><li>E</li><li>E</li><li>E</li><li>E</li><li>D</li><li>E</li><li>E</li><li>E</li><li>C</li><li>E</li><li>C</li><li>D</li><li>C</li><li>E</li><li>D</li><li>D</li><li>C</li><li>E</li><li>E</li><li>E</li><li>E</li><li>D</li><li>E</li><li>D</li><li>E</li><li>E</li><li>E</li><li>E</li><li>E</li><li>D</li><li>D</li><li>D</li><li>D</li><li>E</li><li>E</li><li>E</li><li>D</li><li>E</li><li>E</li><li>B</li><li>C</li><li>E</li><li>⋯</li><li>C</li><li>A</li><li>A</li><li>A</li><li>D</li><li>E</li><li>A</li><li>C</li><li>A</li><li>B</li><li>A</li><li>A</li><li>A</li><li>A</li><li>B</li><li>B</li><li>A</li><li>E</li><li>E</li><li>E</li><li>E</li><li>D</li><li>D</li><li>E</li><li>E</li><li>D</li><li>D</li><li>E</li><li>E</li><li>E</li><li>E</li><li>D</li><li>E</li><li>D</li><li>E</li><li>E</li><li>E</li><li>D</li><li>E</li><li>D</li><li>D</li><li>D</li><li>D</li><li>D</li><li>C</li><li>C</li><li>C</li><li>E</li><li>E</li><li>E</li><li>E</li><li>E</li><li>E</li><li>E</li><li>C</li><li>E</li><li>D</li><li>D</li><li>E</li><li>E</li><li>E</li><li>E</li><li>E</li><li>E</li><li>E</li><li>E</li><li>D</li><li>E</li><li>E</li><li>E</li><li>E</li><li>E</li><li>E</li><li>D</li><li>E</li><li>E</li><li>E</li><li>E</li><li>E</li><li>D</li><li>C</li><li>D</li><li>D</li><li>D</li><li>E</li><li>C</li><li>D</li><li>E</li><li>C</li><li>D</li><li>C</li><li>D</li><li>E</li><li>E</li><li>E</li><li>D</li><li>D</li><li>E</li><li>D</li><li>E</li><li>E</li><li>E</li><li>E</li><li>C</li><li>D</li><li>D</li><li>E</li><li>D</li><li>D</li><li>D</li><li>E</li><li>C</li><li>E</li><li>C</li><li>D</li><li>E</li><li>E</li><li>E</li><li>D</li><li>E</li><li>E</li><li>D</li><li>D</li><li>E</li><li>E</li><li>E</li><li>E</li><li>D</li><li>E</li><li>D</li><li>E</li><li>E</li><li>B</li><li>E</li><li>D</li><li>C</li><li>D</li><li>E</li><li>C</li><li>D</li><li>E</li><li>E</li><li>E</li><li>D</li><li>E</li><li>E</li><li>D</li><li>E</li><li>E</li><li>E</li><li>E</li><li>E</li><li>E</li><li>E</li><li>D</li><li>D</li><li>E</li><li>E</li><li>E</li><li>E</li><li>E</li><li>C</li><li>E</li><li>E</li><li>E</li><li>E</li><li>D</li><li>E</li><li>E</li><li>E</li><li>D</li><li>E</li><li>E</li><li>D</li><li>C</li><li>C</li><li>E</li><li>E</li><li>E</li><li>E</li><li>E</li><li>E</li><li>B</li><li>C</li><li>C</li><li>B</li><li>C</li><li>B</li><li>B</li><li>A</li><li>C</li><li>A</li><li>C</li><li>D</li><li>E</li><li>E</li><li>E</li><li>E</li><li>E</li><li>E</li></ol>\n",
              "\n",
              "<details>\n",
              "\t<summary style=display:list-item;cursor:pointer>\n",
              "\t\t<strong>Levels</strong>:\n",
              "\t</summary>\n",
              "\t<style>\n",
              "\t.list-inline {list-style: none; margin:0; padding: 0}\n",
              "\t.list-inline>li {display: inline-block}\n",
              "\t.list-inline>li:not(:last-child)::after {content: \"\\00b7\"; padding: 0 .5ex}\n",
              "\t</style>\n",
              "\t<ol class=list-inline><li>'E'</li><li>'D'</li><li>'C'</li><li>'B'</li><li>'A'</li></ol>\n",
              "</details>"
            ],
            "text/markdown": "1. E\n2. E\n3. E\n4. C\n5. E\n6. E\n7. D\n8. D\n9. D\n10. E\n11. D\n12. D\n13. E\n14. D\n15. D\n16. C\n17. E\n18. C\n19. D\n20. E\n21. D\n22. C\n23. E\n24. E\n25. E\n26. E\n27. D\n28. D\n29. D\n30. D\n31. D\n32. E\n33. E\n34. D\n35. E\n36. E\n37. E\n38. E\n39. E\n40. E\n41. E\n42. E\n43. E\n44. E\n45. D\n46. E\n47. E\n48. E\n49. C\n50. E\n51. D\n52. D\n53. E\n54. C\n55. C\n56. E\n57. E\n58. E\n59. E\n60. E\n61. E\n62. E\n63. E\n64. E\n65. E\n66. E\n67. E\n68. E\n69. E\n70. E\n71. E\n72. D\n73. D\n74. E\n75. D\n76. E\n77. E\n78. E\n79. E\n80. E\n81. E\n82. E\n83. E\n84. E\n85. E\n86. E\n87. E\n88. D\n89. E\n90. D\n91. E\n92. E\n93. E\n94. E\n95. E\n96. E\n97. E\n98. E\n99. E\n100. E\n101. E\n102. E\n103. E\n104. E\n105. D\n106. E\n107. E\n108. E\n109. D\n110. C\n111. D\n112. E\n113. D\n114. E\n115. E\n116. E\n117. E\n118. E\n119. E\n120. D\n121. E\n122. A\n123. D\n124. D\n125. E\n126. E\n127. E\n128. E\n129. E\n130. E\n131. E\n132. E\n133. E\n134. E\n135. D\n136. E\n137. E\n138. D\n139. E\n140. D\n141. D\n142. E\n143. E\n144. D\n145. D\n146. B\n147. E\n148. C\n149. D\n150. E\n151. E\n152. E\n153. C\n154. D\n155. D\n156. C\n157. D\n158. C\n159. E\n160. E\n161. E\n162. E\n163. D\n164. E\n165. E\n166. E\n167. C\n168. E\n169. C\n170. D\n171. C\n172. E\n173. D\n174. D\n175. C\n176. E\n177. E\n178. E\n179. E\n180. D\n181. E\n182. D\n183. E\n184. E\n185. E\n186. E\n187. E\n188. D\n189. D\n190. D\n191. D\n192. E\n193. E\n194. E\n195. D\n196. E\n197. E\n198. B\n199. C\n200. E\n201. ⋯\n202. C\n203. A\n204. A\n205. A\n206. D\n207. E\n208. A\n209. C\n210. A\n211. B\n212. A\n213. A\n214. A\n215. A\n216. B\n217. B\n218. A\n219. E\n220. E\n221. E\n222. E\n223. D\n224. D\n225. E\n226. E\n227. D\n228. D\n229. E\n230. E\n231. E\n232. E\n233. D\n234. E\n235. D\n236. E\n237. E\n238. E\n239. D\n240. E\n241. D\n242. D\n243. D\n244. D\n245. D\n246. C\n247. C\n248. C\n249. E\n250. E\n251. E\n252. E\n253. E\n254. E\n255. E\n256. C\n257. E\n258. D\n259. D\n260. E\n261. E\n262. E\n263. E\n264. E\n265. E\n266. E\n267. E\n268. D\n269. E\n270. E\n271. E\n272. E\n273. E\n274. E\n275. D\n276. E\n277. E\n278. E\n279. E\n280. E\n281. D\n282. C\n283. D\n284. D\n285. D\n286. E\n287. C\n288. D\n289. E\n290. C\n291. D\n292. C\n293. D\n294. E\n295. E\n296. E\n297. D\n298. D\n299. E\n300. D\n301. E\n302. E\n303. E\n304. E\n305. C\n306. D\n307. D\n308. E\n309. D\n310. D\n311. D\n312. E\n313. C\n314. E\n315. C\n316. D\n317. E\n318. E\n319. E\n320. D\n321. E\n322. E\n323. D\n324. D\n325. E\n326. E\n327. E\n328. E\n329. D\n330. E\n331. D\n332. E\n333. E\n334. B\n335. E\n336. D\n337. C\n338. D\n339. E\n340. C\n341. D\n342. E\n343. E\n344. E\n345. D\n346. E\n347. E\n348. D\n349. E\n350. E\n351. E\n352. E\n353. E\n354. E\n355. E\n356. D\n357. D\n358. E\n359. E\n360. E\n361. E\n362. E\n363. C\n364. E\n365. E\n366. E\n367. E\n368. D\n369. E\n370. E\n371. E\n372. D\n373. E\n374. E\n375. D\n376. C\n377. C\n378. E\n379. E\n380. E\n381. E\n382. E\n383. E\n384. B\n385. C\n386. C\n387. B\n388. C\n389. B\n390. B\n391. A\n392. C\n393. A\n394. C\n395. D\n396. E\n397. E\n398. E\n399. E\n400. E\n401. E\n\n\n\n**Levels**: 1. 'E'\n2. 'D'\n3. 'C'\n4. 'B'\n5. 'A'\n\n\n",
            "text/latex": "\\begin{enumerate*}\n\\item E\n\\item E\n\\item E\n\\item C\n\\item E\n\\item E\n\\item D\n\\item D\n\\item D\n\\item E\n\\item D\n\\item D\n\\item E\n\\item D\n\\item D\n\\item C\n\\item E\n\\item C\n\\item D\n\\item E\n\\item D\n\\item C\n\\item E\n\\item E\n\\item E\n\\item E\n\\item D\n\\item D\n\\item D\n\\item D\n\\item D\n\\item E\n\\item E\n\\item D\n\\item E\n\\item E\n\\item E\n\\item E\n\\item E\n\\item E\n\\item E\n\\item E\n\\item E\n\\item E\n\\item D\n\\item E\n\\item E\n\\item E\n\\item C\n\\item E\n\\item D\n\\item D\n\\item E\n\\item C\n\\item C\n\\item E\n\\item E\n\\item E\n\\item E\n\\item E\n\\item E\n\\item E\n\\item E\n\\item E\n\\item E\n\\item E\n\\item E\n\\item E\n\\item E\n\\item E\n\\item E\n\\item D\n\\item D\n\\item E\n\\item D\n\\item E\n\\item E\n\\item E\n\\item E\n\\item E\n\\item E\n\\item E\n\\item E\n\\item E\n\\item E\n\\item E\n\\item E\n\\item D\n\\item E\n\\item D\n\\item E\n\\item E\n\\item E\n\\item E\n\\item E\n\\item E\n\\item E\n\\item E\n\\item E\n\\item E\n\\item E\n\\item E\n\\item E\n\\item E\n\\item D\n\\item E\n\\item E\n\\item E\n\\item D\n\\item C\n\\item D\n\\item E\n\\item D\n\\item E\n\\item E\n\\item E\n\\item E\n\\item E\n\\item E\n\\item D\n\\item E\n\\item A\n\\item D\n\\item D\n\\item E\n\\item E\n\\item E\n\\item E\n\\item E\n\\item E\n\\item E\n\\item E\n\\item E\n\\item E\n\\item D\n\\item E\n\\item E\n\\item D\n\\item E\n\\item D\n\\item D\n\\item E\n\\item E\n\\item D\n\\item D\n\\item B\n\\item E\n\\item C\n\\item D\n\\item E\n\\item E\n\\item E\n\\item C\n\\item D\n\\item D\n\\item C\n\\item D\n\\item C\n\\item E\n\\item E\n\\item E\n\\item E\n\\item D\n\\item E\n\\item E\n\\item E\n\\item C\n\\item E\n\\item C\n\\item D\n\\item C\n\\item E\n\\item D\n\\item D\n\\item C\n\\item E\n\\item E\n\\item E\n\\item E\n\\item D\n\\item E\n\\item D\n\\item E\n\\item E\n\\item E\n\\item E\n\\item E\n\\item D\n\\item D\n\\item D\n\\item D\n\\item E\n\\item E\n\\item E\n\\item D\n\\item E\n\\item E\n\\item B\n\\item C\n\\item E\n\\item ⋯\n\\item C\n\\item A\n\\item A\n\\item A\n\\item D\n\\item E\n\\item A\n\\item C\n\\item A\n\\item B\n\\item A\n\\item A\n\\item A\n\\item A\n\\item B\n\\item B\n\\item A\n\\item E\n\\item E\n\\item E\n\\item E\n\\item D\n\\item D\n\\item E\n\\item E\n\\item D\n\\item D\n\\item E\n\\item E\n\\item E\n\\item E\n\\item D\n\\item E\n\\item D\n\\item E\n\\item E\n\\item E\n\\item D\n\\item E\n\\item D\n\\item D\n\\item D\n\\item D\n\\item D\n\\item C\n\\item C\n\\item C\n\\item E\n\\item E\n\\item E\n\\item E\n\\item E\n\\item E\n\\item E\n\\item C\n\\item E\n\\item D\n\\item D\n\\item E\n\\item E\n\\item E\n\\item E\n\\item E\n\\item E\n\\item E\n\\item E\n\\item D\n\\item E\n\\item E\n\\item E\n\\item E\n\\item E\n\\item E\n\\item D\n\\item E\n\\item E\n\\item E\n\\item E\n\\item E\n\\item D\n\\item C\n\\item D\n\\item D\n\\item D\n\\item E\n\\item C\n\\item D\n\\item E\n\\item C\n\\item D\n\\item C\n\\item D\n\\item E\n\\item E\n\\item E\n\\item D\n\\item D\n\\item E\n\\item D\n\\item E\n\\item E\n\\item E\n\\item E\n\\item C\n\\item D\n\\item D\n\\item E\n\\item D\n\\item D\n\\item D\n\\item E\n\\item C\n\\item E\n\\item C\n\\item D\n\\item E\n\\item E\n\\item E\n\\item D\n\\item E\n\\item E\n\\item D\n\\item D\n\\item E\n\\item E\n\\item E\n\\item E\n\\item D\n\\item E\n\\item D\n\\item E\n\\item E\n\\item B\n\\item E\n\\item D\n\\item C\n\\item D\n\\item E\n\\item C\n\\item D\n\\item E\n\\item E\n\\item E\n\\item D\n\\item E\n\\item E\n\\item D\n\\item E\n\\item E\n\\item E\n\\item E\n\\item E\n\\item E\n\\item E\n\\item D\n\\item D\n\\item E\n\\item E\n\\item E\n\\item E\n\\item E\n\\item C\n\\item E\n\\item E\n\\item E\n\\item E\n\\item D\n\\item E\n\\item E\n\\item E\n\\item D\n\\item E\n\\item E\n\\item D\n\\item C\n\\item C\n\\item E\n\\item E\n\\item E\n\\item E\n\\item E\n\\item E\n\\item B\n\\item C\n\\item C\n\\item B\n\\item C\n\\item B\n\\item B\n\\item A\n\\item C\n\\item A\n\\item C\n\\item D\n\\item E\n\\item E\n\\item E\n\\item E\n\\item E\n\\item E\n\\end{enumerate*}\n\n\\emph{Levels}: \\begin{enumerate*}\n\\item 'E'\n\\item 'D'\n\\item 'C'\n\\item 'B'\n\\item 'A'\n\\end{enumerate*}\n",
            "text/plain": [
              "    [1] E E E C E E D D D E D D E D D C E C D E D C E E E E D D D D D E E D E E\n",
              "   [37] E E E E E E E E D E E E C E D D E C C E E E E E E E E E E E E E E E E D\n",
              "   [73] D E D E E E E E E E E E E E E D E D E E E E E E E E E E E E E E D E E E\n",
              "  [109] D C D E D E E E E E E D E A D D E E E E E E E E E E D E E D E D D E E D\n",
              "  [145] D B E C D E E E C D D C D C E E E E D E E E C E C D C E D D C E E E E D\n",
              "  [181] E D E E E E E D D D D E E E D E E B C E E D E E E E E E D B E C D E D E\n",
              "  [217] E E E E E E E E B E C D E C E D C E D C E E E E D E D E D E E B E E D E\n",
              "  [253] D E D E E E E D E E E E D E E E D E E E D E E E D D E E E E D E D C E E\n",
              "  [289] D E E E E E E E E E E E E E E E D E E E E E E E E E D D E E E E E D E E\n",
              "  [325] E E D E E E E E D E D D C C C E E E E E E E E E D E D E E E D E C E E E\n",
              "  [361] D D D E E E E E E E E E E D E D E E E E E B E D E E D E E D D E D E D E\n",
              "  [397] D C D B E D B E D D D C C E E C E B E E E E D C C C E E E E D E D E E E\n",
              "  [433] C E E C C D E E E D E E E E E E D E C D E E E E C E E E E E E E E E E D\n",
              "  [469] E E E E E E E D E E C E E E E E E E D E C D E E D E E E E D E E E E E E\n",
              "  [505] D E E E E E A E E E E E E E D C D E E E C E E C E E E E E E D D D E D E\n",
              "  [541] E E E D D E D D D C E C E E E E D E E D C E C E E D E E E E E E B E D D\n",
              "  [577] E E E E E E D D C E D D E E E E E D C E E E E E E E E E E D E E E E E E\n",
              "  [613] E C E E D E E E E E E E D E E D D E E E E D E E D E E D E D E E E E C E\n",
              "  [649] D D E E E E E E E E E C D E E E D C D E D D D D E D C C E E B C C A E C\n",
              "  [685] D E D E E E E E D D C E E E D D D C D E E D D E E D E D D E C E D C E D\n",
              "  [721] E C E D E D D B E D D D C D C C E E E E D E D C C C D D E E E E C B D C\n",
              "  [757] D D D E D E E D C C D E E D E D E E D E C C D C E E C D E B E E D E E E\n",
              "  [793] E E D E E D E D E E E E E D D D E E D E E C C D D E E E D E D D E E D E\n",
              "  [829] E E D E C E D E D E E E E E D C E E D D D C C D D E E D D D D E E E E E\n",
              "  [865] E D D D E E D D E E E D D C E E E D E D D D E E E E E D D D C D E C C E\n",
              "  [901] E E E E E E E E D D E C C D E E D E E E E D D D D E D D B C C C C D C B\n",
              "  [937] D E D E E D E D E E E D E E E E E E E E D E D E C D C C E C D E E D D E\n",
              "  [973] E C D E E E C E E C C C B E D E E C A E D E E E E E D E D E E E D D E E\n",
              " [1009] B E D E E E E E E E E E E E E D D E E E C E C D E E E E E E E D D E C E\n",
              " [1045] B E D E D E E E E B C E D E D E E E D E E E D D E E E E D E D C E D D E\n",
              " [1081] E E E C C D E D D D C D D E E E E E E E E E D E D D E E D E E E E E D E\n",
              " [1117] C C E E D C E E E D E E E E E E E E E B E E E E D C E E C D E D E E C E\n",
              " [1153] E E E E D C E E E D C E E E E E E E E E E D E E E E E E E E E D E E E D\n",
              " [1189] E E E E E E E D E E D E E E E E E E E D E D E E E E E E E D C E E C E E\n",
              " [1225] D E E D E E E E E E E E E E E E E E E E E E E E E E E E E E E E E E C E\n",
              " [1261] E E E C D E E C D E E E E E E E E E E E E E E E E E E E E D E E D E E D\n",
              " [1297] E E E D E E E E E E D E E E E E E E E E E E E E E E E E E E E E E E E E\n",
              " [1333] E E E E D E B D D C E D C D E E E B E E E D E D E E D E E D E E E D E E\n",
              " [1369] E E E D D E E E E E E D D D C E E E E D E E E E E D E E E E E D E E E E\n",
              " [1405] D E E E E E E C D E C E E D E E E D E E E E E C C B E B D C E B E E E E\n",
              " [1441] E D E E E E D E E E E E E E E E E E E E E C E D D E D E E E E E E E E D\n",
              " [1477] E D E D E E E D C E E E E E D E E E E E E E E E E E E E E E E E E E E E\n",
              " [1513] E E E E E E E E E E D E E E E E E D C E D D D C E E E E E D C C E E E D\n",
              " [1549] E C E D E E E E E E E E E E E D E E E E E E E D D E E E E E B E E E E A\n",
              " [1585] E E E E E E D E D E E C A B D D E E E C D E E E E E E E E E C D E D E E\n",
              " [1621] E E E C E E E E E E D E D E E E E E E E E E E E E E E E E E E E E E E E\n",
              " [1657] E E E E E E E E E D C E D E E E E E E D E E E E E E E D D E E E E E E E\n",
              " [1693] E E E E E E E E E E E D E E E E E E E E E E E E E D D D E D E E C E E D\n",
              " [1729] E E C E E E E E E E E E E E E D E E E E E E E E E E E E E E E E E E C E\n",
              " [1765] E E E E E E C E E E E E E E E E E E E E E E D E E E E D E E D C E E D E\n",
              " [1801] E E E E D E E E E E D D E E C D E B C D E E E E E D E E E E E C D E E D\n",
              " [1837] D E E E E E D E E E E C C C E C E E E E E D D E A E D D D D E E E E D E\n",
              " [1873] E E E E D D E D E E C D D E E E D C E E E D D E C E C C D C E E D C E E\n",
              " [1909] D E E E E E E E E D E E D E E E E E C B E E E C E E E D C E D E C C B A\n",
              " [1945] D C C E A E E D E E E E E E E C E E E E E E E E E E E E E D D E E C E E\n",
              " [1981] E E E D E E E E E C E E C C D C E C D E C D E D D D E D E E E E C C C E\n",
              " [2017] D E C D B E D E E E C E D C E C E E D D D E C C D E E D E D C D D E D E\n",
              " [2053] E E E E E E E E E E E E E E E E E D E E D D A E E E E E E D E E E E D E\n",
              " [2089] E E D E C E D D E E E E E E E D E E E E E E E E E E E D E E E E C E C C\n",
              " [2125] E E E E E E E C E D E E E E D E E E C E E D E E E E E E E E E C E E B E\n",
              " [2161] D E D D E E E E E E E E E E E E E D E E E E E E E E E E E E E E E E E E\n",
              " [2197] E D E E E E E E E C E E D E E E E E E E D E E E E E E C E E E E E E E E\n",
              " [2233] E E D D E E E D D E E E E E E E E E E E E C D D E E C E E D E C E C E E\n",
              " [2269] C E E E E E E E E E E E E D E E E E E E E E E E E E E E E E E E E E E E\n",
              " [2305] E E E D E E E E E E E C D E E E E E E E E E E C E E E E E E E E E E D E\n",
              " [2341] E E E E C E C E E E E E E E D D E E E E D C E C E C C E C D E E E E E E\n",
              " [2377] E E D E E D E E E C D E E E E E E E E E E E E C E E E E E E E E E D E E\n",
              " [2413] E E E E E C E E E E E E E E E E B E D E E E E E E E E E E E E E E E E E\n",
              " [2449] E E E E E E E E C E E E D E E E E E E E D E E E E E E E C E E E E E D E\n",
              " [2485] E E E E E C E D E E E C E E E E E E E E E E E E E E E E E E E E E E E E\n",
              " [2521] E E E E E E E E E E E E E D E E E D E E E E E E E E E E E D E E E D E E\n",
              " [2557] E D C D E E E E E E D E E E E E E E E E E E E E E E E E E E E E E E E E\n",
              " [2593] C E E E E E E E E E E E E E C E D E E E E E E E E E E E E E E E D D E E\n",
              " [2629] E E E E E E E E E E E E E E D E E E E E E E E E E E E E E E E E E E E E\n",
              " [2665] D D E E E E E E E E E E E E E E E E E E E E E E E E E E E E E E E E D E\n",
              " [2701] E E E E E C D C C E E E D E E E E E E E E D E E E E D E D E D D E E E D\n",
              " [2737] E E E D E E E E C E E D C E D E E C E C E E E E E E E E E E E E C E E E\n",
              " [2773] D E E E D E E E E E E E C D E E E E D E E E E E E E E E D C E E D E E E\n",
              " [2809] E D E E B E E D D E E E D E E E E E E E D D E C E E E E E E E E C D D E\n",
              " [2845] E E E E E E E E E E E E E E E E E E E E D E E E E E E E E E E E E E E E\n",
              " [2881] E E E E E E E E E E E E E E E E E E E E E E E E D E E E E E D E E E E E\n",
              " [2917] E E E E E E E E E E E C E E D E E D E E E E E E E E D E E D C E E E E E\n",
              " [2953] E E E E E E E E E E E E E E E E E E E E E E C E E D E C D E D E E E D D\n",
              " [2989] E D D E E D E D E C E C E E D E E E E E C D C C D E E E E D E E E E D E\n",
              " [3025] D E C E E A D E E D E C E E B E C E E E E E D D D E E E D E B D E E E E\n",
              " [3061] E D E E E E E E E E E D C E C E E D C E E D E C D E D E C E E E E E D E\n",
              " [3097] E C E E E E E C E D E E D E C C C B E D C C D E D E E C E E E E E E E E\n",
              " [3133] D E E D E E E E C B D D D C D D C E E C C D E D C A C C E E E E D E D E\n",
              " [3169] E D E D E E E E E D D E E D E E E E E E D D E E E D E E C E D D C C E E\n",
              " [3205] E C D E E D E E D E E E E E E E D D D C E E E E E E D E E E C E E B E E\n",
              " [3241] D E D E E E D C D E E E C D E E D E E E D D E E E D E E E E E D E E E E\n",
              " [3277] E E E E E D E D E E D E C E E E E D D E E E E E D E E E E E E C E C B D\n",
              " [3313] E D E E E E D E E D D E E E E E E E E E D E B D B C D D D C C C C C E D\n",
              " [3349] E E E D E E D E D B E E E E E E C B C C E E E E E E E E B C E D D C C A\n",
              " [3385] C D C C D C E C E D D D E C E D D D E E E E E E E E E E E D E E D E D E\n",
              " [3421] E D E E E E E E E E E E E E E E E E E E E E D E D E E C E E E E D D E E\n",
              " [3457] D D E E E E D E E C E D C C C C C B D B D C D E D D E E E D D E D D E E\n",
              " [3493] D E D E B D B B B D D E D C C E E B C D D C E C C C E E C E E E E C E D\n",
              " [3529] B C D D B C C E C D D D D C D D D D E E C D E D B B B D C B C B C C E D\n",
              " [3565] C C C D C D D D D D D C E E D E C E E E E E E D E D E C E D B D D C D D\n",
              " [3601] E D E E E E E C D C E D D C E E D D E C B E E E E E E E E E E E E E E E\n",
              " [3637] E E E E E C E E E E D E E E E E E D E E E D E E D D E E E E E E E E D D\n",
              " [3673] E E E E E E E E E D E D E E E E E E D E E E E E D E C E E E E E E D E E\n",
              " [3709] E E E E E E D E D E E E D E E E E E E D E E E E E E E E C E E E E E E C\n",
              " [3745] E E E E E E D D D C C C D E D D C E D D E C D D E D E E E D D C E E E E\n",
              " [3781] E D C D C E E E E E C E E E E D E D E E E E D E E C E E E E D E D E C E\n",
              " [3817] E D E E E E D D D D E E E E C E E E E E E E B E E E C E E E E D D E E E\n",
              " [3853] E E D C E E E D E E D C C C C D C D D D E C D C E D E D D C E E E E E E\n",
              " [3889] E E E E E E D E E E E E E D E D E B E E E E E E E E E E E D E E E E E E\n",
              " [3925] E E E E E E E D D D E E E D D E E E E E D E E D E C E D C E E E E C D E\n",
              " [3961] E E C E E D E E E E E E E E E D E E E E E E D E E E E E E D E E D D D D\n",
              " [3997] C E E E E E E E E D E E E E D E E E E E E D D E E E D D D E E D E D D E\n",
              " [4033] E D E E E D E E E D E E E E E D E E E E E E E E C E E E D E E E E D E D\n",
              " [4069] C E E E E E E E E E E E C D E E E E E C E E C E E D D E E E E E E E E E\n",
              " [4105] E E D E E C E E E E E E E E D D E E E E E D E E E E E E E E E E E C E E\n",
              " [4141] E C E E E E E E E D E E E E E E E E E D E E E E E E E E E E E E E E E E\n",
              " [4177] E E E E E E E E E E E E E E E E E E E E E E E D E E E E E E E D D E D D\n",
              " [4213] E D E E E D E E E E E E E E E E E E E E E E E E E E E E E E E E E E E E\n",
              " [4249] E E E E E E E E E E E E E E E E E E E E E E E E E E D E E E E E E E E E\n",
              " [4285] B E E E D E E E E E E E E E E E E E E E E E E E E E D E E E E E E E E E\n",
              " [4321] E E E E E E E E E E D E E E E E E E D E E E E E E E E E E E E E E E E E\n",
              " [4357] D E E E E E E E E E E E E D E E E E E E E E E E D E E D E D E E D D E E\n",
              " [4393] E E E D E D E E E E E C E E E E E E E E E E E E E E E D E C E E E E E E\n",
              " [4429] E E D D E E E E E E E E E E E E E E E E E E E E E E E E E E E E E E E E\n",
              " [4465] E E E E D E E E E E D E E E E E E E E E E E E E E E E D E E E E E E E C\n",
              " [4501] E E E D E E D E E E E E E E E E E E E E E E E E E E E E E E E E E E E D\n",
              " [4537] D E C D E E E E E E E E E E E E E E D E E E E E E E D C E E E E E E E E\n",
              " [4573] E E E E E E E C D E E E E E C E D D E E E E E E E E E E E E E E E E E E\n",
              " [4609] E E D E D E E E E E E E E E E E E E C E E E E E E E E E E E E E E D E E\n",
              " [4645] E D E E D E E E D E D D E E D C E E E E E E E E E E E E E E C E E E E E\n",
              " [4681] C C E C C D E E C E E B E C D E D E C E E D E C E D C B E C C E D B C C\n",
              " [4717] C C E C B B C B C D D C D E C E C E E E D E E E C B E E C D E C E A E D\n",
              " [4753] D C E E E E E C D E E D D E E E D D C C D C D D D E C B C E D D E E E C\n",
              " [4789] E E E E E D E E D E C C E E E D E E E E D E E E E C E D E E E E E E E E\n",
              " [4825] D E C E D E E E E E E E E E E D E D E E E C E E E D E E E E D E E E E E\n",
              " [4861] E E E E D E E D E E E E E E E E E E E D E E E E D D E E C E D E D C E E\n",
              " [4897] D C E E E E E E E E E E D D C E E E E D D E E E E E E D E D D E E E C E\n",
              " [4933] D E E E E E E E D D E E E E D E E B E D C D E E E D C D E E E D E E E E\n",
              " [4969] E D E E E E E E C A E D C C D E E E E C C E E C E E E D E E D E E E C E\n",
              " [5005] D E C D D E D E B D E D D E E E D C D D E E E D E E D E C C C E D D E E\n",
              " [5041] E D E D E E E C E D E E E E E E E E E E E E E E E E E E E E E E E E E E\n",
              " [5077] E E E E E E E D E E E B E E E E E E E E E E E E E D E E E E E E D E D E\n",
              " [5113] E E E E E D E E E E E D E E E E E E E E E E C B E D E E D E C E C C E E\n",
              " [5149] D E E D E E E E E E D E E E E E E E E E E E E D E E E E E E E D E E E E\n",
              " [5185] E D E E E E E E E E E E D E E E E E C E E E E E E E E E E E E E E E E E\n",
              " [5221] E E E D E E E E D E E E E E E E E E E E E E E E D E E E E E C E E E D E\n",
              " [5257] E D E E E E E E E E E E E E E E E D E E E E E E E E C E E D E D E D E E\n",
              " [5293] E E E E C D E E E E E E E D E E E C E E E E E E E E E C D C E E D D D D\n",
              " [5329] D E E E D D B E C E D E C E D D D B E E D E E D C E E E C E C C D D E D\n",
              " [5365] C C D E D D D C D E D D E D E E E E C D D D D D D D E E E D E E E E D E\n",
              " [5401] E E E E E E E E E E E E E E E E E E E E D E E E E E D E E E E E D E E E\n",
              " [5437] E E C E E C B C E E E D E E E E E E E E E E C C E C E E E E D C E E B E\n",
              " [5473] E E E E E E D E E D D D E E D E E E E D E C E E C D E E E E E E E E E E\n",
              " [5509] B E E E E E E D E E E E E C E D D E C E E D E E E E E C E E E E E E E E\n",
              " [5545] E E E E E E E E E D E E E E E E E E E E E E E E E E E E E E E E E E E D\n",
              " [5581] E E E E E E E E E E E E E E E E E E E E E E E E E E E C D E E E E E E D\n",
              " [5617] C C A C B E B C C B B E C E E E D E D E E D D E E C C C D C D B E D D D\n",
              " [5653] E E A D E D E E E D C E E C C C E E E D D D E E E E E E D D E E E E D E\n",
              " [5689] E E E E E E E E E E E D E E E E E E E E C E E E E E E E E E E E D E E E\n",
              " [5725] D E D E E E E E E E E E E E E E E D D D E E E E E E D D E E E E E E E E\n",
              " [5761] E E E E E E E E E E E E D E E E E E E D E E E E E E E E E E E E E E E E\n",
              " [5797] E E E E E E E E E E E E D E E E E E E E E E E E D E E E E E E E E E E E\n",
              " [5833] E E E E E E E E E E E E E E E E E E E E E E E E E E E E E E E E E E E E\n",
              " [5869] E E E E E E E D E E E E E E E E E E E E E E E E E E E E D D E E E D D E\n",
              " [5905] E E E E E E E C E D E E E E E E E E D E E E E E E E E E E E E E E E E E\n",
              " [5941] E E E E E E E E E D E E E C D D C E E D E E E E E E E E E E E E E E E E\n",
              " [5977] E E E D E E E E E E E E E E E E E E E E E E E E E E E E E E E D E E E D\n",
              " [6013] E D E E E E E D E E E E E E E E E D E E E E E E C E E E E D C E E E E E\n",
              " [6049] E D E E E D D E E E E E E E E E D E E E D E D D E E D E E D C C C D D E\n",
              " [6085] B B C C B E A B C B A C B E D E E E E E B C E A D E C D E C C B C D C B\n",
              " [6121] D D C B B E D E E D D C B B B B C B B A B D C C E E D C E D C A C E D D\n",
              " [6157] C E E D E E E D C D C E E C E D C E B B E E E E D E E E E E C E D E E E\n",
              " [6193] D E E E E E E E E E E E E E E E E E E E E E E E E E E C B B E D E E E B\n",
              " [6229] C E A B E D B E D C D C E B D E C D E E D C E E E D E E E E E E E E E E\n",
              " [6265] E E E E E E E E E E E E E E E E E E E E E E E E E E E E E E E C C D E E\n",
              " [6301] E E E C D D D C E E C D D E C D E D D E E E E E D E C E D E C E E E D E\n",
              " [6337] E D E E E E E E D E E E E E E D E E E E E D D E E E E E E E E E D E E E\n",
              " [6373] E E E D E E C E E E D E E E E E E E E E E E E E E C E E C C E E E E E E\n",
              " [6409] E E E E E E E E E E E E E E E E E E E E D E C E E D E C D D E D C D E E\n",
              " [6445] E E E E E E E E E E E E E E E E E E E E E E E E E D D D E E D E B D D C\n",
              " [6481] E D C D E D E D C C E D D C D C C C C E E D D D E E D C C E D D E E E D\n",
              " [6517] D E E B D E E E E E E E D E E E D E E C E E E D D D E D E E E E D E E E\n",
              " [6553] C E D E D E E E E E E E E E E E E E E E E E E D E D C E D D E E E E E E\n",
              " [6589] E E E C E E E E E E E E E E E C C E E D E E E E E E E E E E E E E E D E\n",
              " [6625] E C E E E C D E E C E D C C E D E D E E D D E E E E C E E E E D E E E E\n",
              " [6661] E E D E E E E D E E E D E E E E E E E D E E E E E E E E D E B D E D E E\n",
              " [6697] E E E E C E E E E E E E E E E E E E E E E E E E E E E E E E E E D E E E\n",
              " [6733] E D C D C E D D D E C E D E C E B E E E E E E E E C D D E E E E E E E E\n",
              " [6769] E E E E D E E E E E E E E E E E E E E E E E E D D E E E E D E E E E E E\n",
              " [6805] D E E E E C E E E E E E D E D C E E E E C E C E E E D D E C D B C C D E\n",
              " [6841] C E D B D E E E E E E E C C E D E E E E E E E E E E E E E E E D E E E E\n",
              " [6877] E E E E E E E E E E E C E E E D E E E E E E E D E E E E E E E E E E D E\n",
              " [6913] E D E E D E E E C E D E E E E E E E E E E E E E E D E E E D D E E E E E\n",
              " [6949] E E E E E C D E C E E E E E E E E D D D C C E E E C E E E E E E E E E E\n",
              " [6985] E C E E E E E E E D D E E E C E E E E E E E E E E E E E E E E E E E E D\n",
              " [7021] E E E E E E E E E C E E E E E E C E E E E E E E E E E E E E E E E E C D\n",
              " [7057] E E E E E E D E E E E E E E E E E E E E E E E E E E E E E E E E E E E D\n",
              " [7093] C E E E E E E E E E E E E E E D E E E E C E E E E B C D E E D D E E E D\n",
              " [7129] D E E E D D E E C C E E E E E E E D D E E E E D E E C C D D C C C E E B\n",
              " [7165] C E D E E C D E E E E E D D B E D E E D C E E E E E E D E C B D D E E C\n",
              " [7201] C E D E E E C D E E E E E E E E E E E E E E C E E D E E C E B E E E E E\n",
              " [7237] D E E E E E E E E E E E D E E E E E E D E E E E D D E E E E E E E E E E\n",
              " [7273] C E E E E E C E E D E E E E D E E E E E E E D E E D D C E C E D E E E E\n",
              " [7309] E E E E E E E E D E E E D E E D E E E E E D C E E E E E C E E E D E E C\n",
              " [7345] E D E E E E E E E E E E E D E E E E E E D E E E E E E E E D E E E E E E\n",
              " [7381] E E E E D E E E A E E C E D E E E E E E E E E E E E E D E E E E D E E E\n",
              " [7417] E E E E D E E E E C E E E D E E E E E E E E E E E E D C C E E E E B E E\n",
              " [7453] E E D E E E E E E E E E E E E E E E E E E E E D D C E E E E E E E E E E\n",
              " [7489] E E E E E E E E E E E E E E E D E D E E E E E E E E C D D E D D E E E E\n",
              " [7525] E E E C E E E E E E E E E E E E E E E E E E E E E E E E E E E E E E E E\n",
              " [7561] E E E E E E E E E E E E E E E E C E E D E E E E E E E E E E E E E E E E\n",
              " [7597] E D E E E E E E E E D E E E E E E E E E D E E D E E E E E E E E E E D E\n",
              " [7633] E E E E D E D D D D E E D D E E E E D E E E E D E E E D E E E B C E E E\n",
              " [7669] E E E E E E E D E E C D C E E E E E E E E E E E E E E E E E E E E E E E\n",
              " [7705] E E E D E E E E C E E D D E E E E C E E E E E E E E E E E E E E E C E D\n",
              " [7741] E E E E E E E E E E D E E E D E E D E E D E D E D E E E E E E D E E E E\n",
              " [7777] E E E E E E E E C E D E E E E E E D E E E E D E D E E E E E E E E E E E\n",
              " [7813] E E E E E E E E E E E E D E D E E E C D E D E E E D E E E E E E E E E E\n",
              " [7849] E D E E E E E D E E E E E E D E E E E E E E E E C D E E E E E E E E E E\n",
              " [7885] E E E E E E E E E E E E E C E E E C E E E E E E E E E E E E E E E C B E\n",
              " [7921] E E E E E E E E E E E E E E E E E E E D E E E D D D D E E E E E E E E E\n",
              " [7957] E E E E E E E B E E E E E E E E E E E E E E E D E E C E D C E E E E E E\n",
              " [7993] E E D E E D E E E E E E E E E E E E E E E E E E E C D D E D D D D D E E\n",
              " [8029] E D E D D E E E E E E D C E E C D D E E E E E D C C D B C D E E D D E E\n",
              " [8065] E E E E E E E D E C E E E E E E E D E E E D E E D E D E D E E E E E E E\n",
              " [8101] E E E E E E E E E E E E E E E E E E E E E E E E E E E E C D E C D E D E\n",
              " [8137] E E E E E D D D E E D E D E E E E E E E E E E E E C D E C D C D E E E E\n",
              " [8173] E E E E D D E E E E E E E E E E E E E E D E D E E D D E E E E C E D E D\n",
              " [8209] E E E E E E E E E E E E E E E E E E D E E E E E E E E E E E E E E E E E\n",
              " [8245] C C E C E E D E D D E E D E E E E E C E E E C E D E E E E E D E E E C E\n",
              " [8281] C E D D E D E D E E E C D E E E E E D D E E D E D D E E E E E E D E E E\n",
              " [8317] E E E E E E E E E E E D E E E C E E E E E E E E E D E E D E E E E E E E\n",
              " [8353] E E E E D E E E E D E E D E C E E E E E E D E E E E E D E E E E E E E E\n",
              " [8389] E D E E D C D E C E E E E E E E E E C E E E E E E E E E E E E E E E E D\n",
              " [8425] E E D E E E E E E E E E E E D E E E E C E D E E E E E D E E D E E E E D\n",
              " [8461] E E E E E E E E E E E E E E E E E E E E E E E C E E E D E E E E E E E E\n",
              " [8497] E E E E E D E D E D E E E E E E E E E E E E E E C E E E E E E E D E D E\n",
              " [8533] E E E E E E E E E E E E E E D D E E E D E E E E E E E E E E E E E E E E\n",
              " [8569] E E E E E D E E D E D E C D E E E E E E E E E E D D E E D E E E E E E C\n",
              " [8605] E E E E D E E E E D E E E E E E E E E D E D E E E E E E C E E E E E E E\n",
              " [8641] E D E E E E D E E E E D C C D B E E E D E C E E E D E E D E E E E E E E\n",
              " [8677] E D E E E E E E E E E E E E E E E E E E E C E E E E E E E E E E E E E D\n",
              " [8713] E E B D E C E E E E E D E E D E E E E E E E E E E E E D E E E E D E E E\n",
              " [8749] E E E E D D E D E E E E D E E D E E E B E E E D E E C D D E E C E E E E\n",
              " [8785] E E E E E E E E E A D E E E E D E D E E E E E D E E E E E D E D E E D E\n",
              " [8821] E E E E D E D E D E E D E E E E E D E E E E C E C E E E E E E E D E E E\n",
              " [8857] E E E E E E E E E E E E E E E E E E E E D E E E E E E E E E E E E E E E\n",
              " [8893] E E E E E E E D D E E D E E D D E D E E E E E E E E E D E E D E E E E E\n",
              " [8929] E E D E E C E E C E E E E E E E E E E D E E E E E E E E E C E E E E E E\n",
              " [8965] E E E E E C E E E E E E E E E E E E E E E E C E E E E E E E E E E E E E\n",
              " [9001] E E E C E E D E E E E E E E E E E E E E E E E E E E E D E E E E E E E D\n",
              " [9037] E E E E E D E E E E E E E E E E E E E E C E E E E E E E E D E E E E E D\n",
              " [9073] E E E E E E E E E E E E D E D E D E E E E E E E E E E E E E C E D D E D\n",
              " [9109] E D D C D C E E E E C E E E C D E D E E D E E D E D E E E E E E E E E E\n",
              " [9145] E D E E E E E E E E E E E E E E D E E E E E E E E E E E E E E E E E E E\n",
              " [9181] E E E E E E E E E E E E D E D D E D E E D E C D E E E E E E E D D E E E\n",
              " [9217] E E E E E E E D D D E D E E D E E E E E E E C E E E E C E E E E E E E E\n",
              " [9253] E E E E E E E E E E E E E E E E E E E E E E E E E E E E E E E E C D E E\n",
              " [9289] E E E C C D E E E E D E E E E E D E E E E E E E E E E E E E E E E E E E\n",
              " [9325] E E E E E E E D E E E D E E E E E D E A E E E E E E E E E E E E D E E E\n",
              " [9361] E E E D E E E C E E E E E E E E E D E D E E E E E E E E E E E E E E E E\n",
              " [9397] E E E D D D E E E E E E E E E D E E E E E E E E E E E E E E E E E E E E\n",
              " [9433] E D E D E E E E E E E E E E D A E E E E E E E E E E E E E E E E D E E D\n",
              " [9469] D E E E E D C E E E E E E E E E E E E E E E E E E E D E E E E E E E E E\n",
              " [9505] E E E E E E E E E E D E D E E E D B D D E C D C C E C B C D E E E D E E\n",
              " [9541] E E E E E E E E E D D E E E E E E E E E E E E E E E E E E E D E E E E E\n",
              " [9577] D E E D E E E D E D E E E E E E E E E E B E E E E E E E E E E A E E E E\n",
              " [9613] E E E C E D E E E E E E E E E E E E E E E E E E E E E E E E E E E E E E\n",
              " [9649] E E E E E E E E D E E E E E D E E E E E E E E E E E E E E E E D E E E D\n",
              " [9685] E E E E E E E E E E E E E E E E E C D E E E E C E E E C E D E E C D D E\n",
              " [9721] E E E E C D C E C E E E E E D D B E C D C B E E C C E D D C C C E E E E\n",
              " [9757] D D D C E C E D E D E D D E C D D D E E E E E C B E C E E E E E E C C E\n",
              " [9793] D E E E E E E E E E E E E D E E D E D D E E B D E E E E D E D D E C E C\n",
              " [9829] B E E E E D E D C E D E D D D B C C E E E E E E E E E E D E D C C D E E\n",
              " [9865] E E E E D D E D E E E E E E D D E E E E E D E C D E D E E D E D D D E D\n",
              " [9901] E E E E E E C D E D E E E E C E E D D E C C D D E D E D E D E E D E D E\n",
              " [9937] E C B C D E E E D E E D E E E E E E E E E E E E E E E E E E C E E E E D\n",
              " [9973] E E E E E E D E E E C C C D E B E C C E D D E D C D E D D E D E E D D D\n",
              "[10009] D C E E C E E D E E D E E E E D E E E E D E E C E D D E D E C E E E E E\n",
              "[10045] E E E E E E D C E D E E E E E E E E E E D E E E E E C E E C E D C E E E\n",
              "[10081] E E E D E E D C E E E D D D E E E E E D D E E E C E D D C D D D B D E D\n",
              "[10117] D D C E D E E E C B E E D E E D E E E E E B E E E E C E D E E E C E E E\n",
              "[10153] E E E E E E E E D D D D D D E D E E E E E E E D D D E E E E D E E E D E\n",
              "[10189] E E E E E D E E E E C E E E E E D E E E D E D E D E E E E E E E D D E E\n",
              "[10225] E D C E E E E E E E E C E E B D C E D E D E D D E D E C E E E E E E E E\n",
              "[10261] D E E D E E E D E E E E D E E E E E E E E E E D D C E E D E E E E E E E\n",
              "[10297] E E E E D E E E E E E E E E A E E E E E E E E E E E E E E D E E C E D C\n",
              "[10333] E E E B D E E E E E E E E E E C E E D E E E D E D E E E D E E E E D E E\n",
              "[10369] C E E E E D E D E E D E E E E E E C E C E D D D E D E C E E C D E E E E\n",
              "[10405] E E E E E E D E D E C E E D E C E E E E E E E E E E E D E E E E E E E E\n",
              "[10441] E E D E D D E E E E E E E E E E E E E E E E E D C D D C E C E E E D D B\n",
              "[10477] D E C E E E E E E E E E E E E E E E E E E D D E D E E E E E E E E E E D\n",
              "[10513] E E E E E E E E E E E E E E E E E E D E E E E E E E D C E E C E E E E E\n",
              "[10549] E E E E E E E E E E D E E D C E E E E D E D E E D E C E D E E E E E E C\n",
              "[10585] E E E D E B E E E E E E E E E E E E E E E E E E E E E E E E E E D E E E\n",
              "[10621] D E E E E E E D E E E E E E E E C E E E E E E E E E E E E E E E E E E E\n",
              "[10657] E E E E E E E E E E D D C E D D E C E E E D E D D E E E E E E E E E E B\n",
              "[10693] C E E E E D E B D C C D D E E E E E D D D E C E E B D C E D D E E E E E\n",
              "[10729] D C C E C E E E E D B D E E B E E E E D E E E D E E E E E E E D D D D C\n",
              "[10765] E E D D D E E C D E E C E E E D E C E B D D E C E E E D E D E E E E E E\n",
              "[10801] E E E E E D D C C D E E E E E D C C E E D E D E E E E C E E E E E E E E\n",
              "[10837] E E D E E E E C E E E E E E E E E D E E E E E E E E E E E E E E E E E E\n",
              "[10873] E E E E E C E E D E E E E E E E E E E E E E E E D E C E B E E E E D E E\n",
              "[10909] E D E E E D E C E C D E E E E E E E E E E E E E E E E E E E E E E E E E\n",
              "[10945] E E E E E E E E E E E D D E E E E E E E E E E E E E E E E E E E E D E C\n",
              "[10981] C E C E E C D C E C E D D E D E D E E C D D D D E E E D E C C E E E D E\n",
              "[11017] E E E E E E E E E E C D E D E C C C E E E E C E E E E E E E E E D E E E\n",
              "[11053] E E E E E E E E E A E E E E E E E E D E E C E C E E E E E D E E B E E E\n",
              "[11089] E E E D E E E E E E E E E E D E E E E E E E E E E E E E E E E C C E E E\n",
              "[11125] E E D E D E D D D E D D E E E E E E E E E E E E E E E E E E E E E E E D\n",
              "[11161] E E E E E E E E E E E E E E E E E D E D E D E E E E E E E E E E E E E E\n",
              "[11197] E E E D E E D E E E E E C E D D E E E C E E E E E E E E E E E C E E E E\n",
              "[11233] E D C D D E E E E D E E D E D E E D D C E C E E E E D D B D E E E E D D\n",
              "[11269] E E C C C B B C A B C C B C E C D B C E E C B D B C E E D E D D D E E C\n",
              "[11305] C E C C B E E E E E E E C D D E D E E D E E E E C D B D C C D D D C E C\n",
              "[11341] E E C E C C C C E D C C D E E E B E D C D D C D E E E D E E E E E E C C\n",
              "[11377] E E E E E E E E C E C E C E E E E C D E C E E E D E C C D E E D D C D E\n",
              "[11413] C C E E E E B C D D E E E E E D E E E E D D E D D D E E E D E E E E E E\n",
              "[11449] E E B A C B A B A B A C B C C D A D E E D E D E E C E E E E E E E E E E\n",
              "[11485] C E E E E E E E E D D E E E D E E E E E E E E E E E E E E E E D E E E E\n",
              "[11521] E E E E E E E E E D D E E D E D E E E E E E E E D E E E E E E E E E E E\n",
              "[11557] E E E E E E E D E E E E E E E E E E E E E E E E E E E E E E E E E E E E\n",
              "[11593] C D E E E E E D E E E E E E E E E E E E E E E E E E E E E E E E E D E E\n",
              "[11629] E E E E E E E E E E E E E D E E D E E D E E E E E E E E D E E E E E D D\n",
              "[11665] E E D C E E E E E E E E E E E E D E D D E E E E E E E E E E D E E D E E\n",
              "[11701] E E D D E D E D D E C E E B E E D E E E E E C E E E E E E E E E E E E E\n",
              "[11737] E E E E E E E E D E E E E E E E E E E E E E E E E E E E E E E E E E E E\n",
              "[11773] E E E E E E E E E E E E E E E E E E E E E E E E E E E E E E E E E E E E\n",
              "[11809] E E C E E E E E E D E E D E E E E D E D E E E E E E E E E E E E E E E E\n",
              "[11845] E E E E E E E E E E E E E E E E E E E E E E E E E E E E D E E E E E E E\n",
              "[11881] E E E D E E E E E E E C D E E E E E E E E E E E E E E E E E E E E E E E\n",
              "[11917] E E E E E E E E E E E E E E E E E E E E E E E E E E E E E E E E E E C E\n",
              "[11953] E E E E E E E E E E E E E D E E E D E E E E E E E E E E E E E E E E E E\n",
              "[11989] E E E E E E E E E E E D E E E E D E E E D E E E E D C E D E E E E E E E\n",
              "[12025] E E E E E E E E E E E E E E E E E E E E E E E E E E E E E E C E E E E E\n",
              "[12061] E E E E E E E E E E E E E E E E E E E E E E E E E E E E E E E E E E E E\n",
              "[12097] E E E D E E E E E E E D E E E E E E E E E E E E E E E E E E E E E E E D\n",
              "[12133] E E E E E C D E E E E E E E E E E D E E E E D E D E E B C D E D C D C E\n",
              "[12169] E E D E E E E E E E E E D E E E E E E E E E E E B E C E C E E E E E E E\n",
              "[12205] D E E C D E C E E E E E E E E E E E D E E E E E E C E E E E E E E D E E\n",
              "[12241] E E E E E E E E E E E E E E E E E E E E E E D E E E E E E E D E E E E E\n",
              "[12277] E E E E E E E E E E E D E E E E E E E E E E E E E E E E E E E E E E E E\n",
              "[12313] E E E E E D E E E E E E E E E E D E E E E E E E E D E E E E E E E E E E\n",
              "[12349] E E E E E E E E E E E E E E E D E E E E E E E E E E E E E E E E E E E E\n",
              "[12385] E E E E E E E E E E E E C E E D E E E C E E E E E E E E E E E E E E E E\n",
              "[12421] E E E E E E E E E E E E E E E E E C E E E E E E E E E E E E E E E E E E\n",
              "[12457] E E D E E E E E E E E E E E E E E E D E E E E C E E E E E E E E E C E E\n",
              "[12493] E E E E E E E E E E E E D E E E E E E E E E E E E E E E E E E E E E E E\n",
              "[12529] E E D E E D D E E E E E E E E E E E E E E E E E E E E E E E E E D E E E\n",
              "[12565] E E E E E E E E E E E E E E E E D E E E E E E E E E E E D E E E E E E E\n",
              "[12601] E E E E E E E E E E E D E E E E E E E D E E E E E E E E D E E E E E E E\n",
              "[12637] E E E E E C E E E E E E E E E E E E D E E E E E E E E E E E E E E E E E\n",
              "[12673] E E E E E E E E E E E E E E E E E E E E E E E E E E E E E E E E D E E E\n",
              "[12709] E E E E E E E E E E E E E E C E E E E E E E E E E E E E E E E E E E E E\n",
              "[12745] E D E E E D E E E E E E E D D E E E E E E E E E E D E E E E E E E E E D\n",
              "[12781] D E C E E E D D E E E E E C C E D E E E E E E E D E E B E E E E D E E E\n",
              "[12817] D C E E E D E C E B A A B A A B E E C C C D C B C C C D B E B E C C D B\n",
              "[12853] C E E B C D D E E E E D E E E E E D E E D E E D D C C E E E E E E D E E\n",
              "[12889] E E E D E E E E E D E E E E E E E E E E E E E D E E E E E E E E B D E E\n",
              "[12925] D E E B D D E E E E C D D B E E E E E D E E D E E C C E E D D D E E E E\n",
              "[12961] C E E E E E E E E E E E E D E E D D E E E E D C E A C E E E E E D D E E\n",
              "[12997] E B B B A C D E D D E D D E D E D E E E E E E E E B C D E C E D D C D E\n",
              "[13033] C D B B C C C C C C B B E E E E E E E D E E E D E E E E C D C D E E E E\n",
              "[13069] E B E E E E E E E E E E E E E D E E E E E E E E E E E E E E E E E E E D\n",
              "[13105] E E E E E E E E E E E E E E E E E E E E E E E E E E E E E E E E E E E E\n",
              "[13141] E E E E E E E E E E E E E E E E E E E E E D E E E E E E E E E E E E E E\n",
              "[13177] E E E E E E E E E E E E E E E E E E E E D E E E E D E E E E E E E E E E\n",
              "[13213] E E E E E E E E E E E E E E E D D C E E E E D E E E E E E E E E E E D E\n",
              "[13249] E E E E E E E E E E E E E E E E E E E E E E E E E E E D D D E E D E D C\n",
              "[13285] E B E E D E E E E E E E E E E E E E E E E E E E E E E E E E E E E E E E\n",
              "[13321] E E E E E E E E E E E E E E E E E E E E E E E E E E E E E E E E E E D E\n",
              "[13357] E E D E E E E E E D E E C D E E E E E E C E E E E D E E E E E E E E E E\n",
              "[13393] E E E E E E E E E E E E E E E E E E E D D E E E E E E E E E E E E E E E\n",
              "[13429] E E E E E E E E E E E C E E E E E E E E E E E E E E E D E E E E E E E E\n",
              "[13465] E D E E E E E E E E E E E E E E E E E E E E D D E C E E E D E E E E D E\n",
              "[13501] E D E E E E C E E C E E E E C E E E E E E E E D E E E E E E E C E E E E\n",
              "[13537] E E E E E E D E E E E E E E E E E E E E E E E E E E C B E E D D E D C D\n",
              "[13573] E D E E E E D E E D E E E E C E D E E E E E E E E D E E E D E E E E E E\n",
              "[13609] D E E E E E E E E E E E E E E E E E E D E E E E E E E E E E E E E E E E\n",
              "[13645] E E E E E E E E E E E E E E E E E E E C E E E E E E E E E E E E E E E E\n",
              "[13681] E E E E E E E E E C E E E E E E E E E E C E D D E E E E E E E E E E E E\n",
              "[13717] E E E E E E E E E E E E E E E E E E E E E E E E E E E E E E E E E E E E\n",
              "[13753] E E E E E E E E E E E E E E E E E E E E E E E E E E D E E E E E E E E E\n",
              "[13789] E E E E E E E E E E E E E E E E E E E E E E E E E E E C E E C E E E E E\n",
              "[13825] E E E E E E E E E D E E E E E E E E D E E E E D E E E E E D E E C E D E\n",
              "[13861] E E E E E E E E E E E E E E E E A E E E E E E D E E E E E E E E E C E E\n",
              "[13897] E E E E E E E D C E E E E E E E E E E E E E E E E D E E E D C E E E E E\n",
              "[13933] E E E E E E E E E E E E E E D E E E E E E E E E E E E E D E E E E E E E\n",
              "[13969] E E D D E E E D E E E E E E E E E E E E E E E E E E E E C D E E E E E E\n",
              "[14005] E E E D E E E E E E E E E C E C E E C E D E E E E E E E E E E E E E E E\n",
              "[14041] D C E E E E E E E E E E D D E E E E E C E E C E E E E E E E E E E E E E\n",
              "[14077] E E E E E E E E E D E E E E E E E B E E E E E E E E D D C E C E E E E E\n",
              "[14113] E E E E E E E E E E E E E E E E E E E E E E E E E C E E E E D E D E E E\n",
              "[14149] E E E E E E E D E E E E E C A D E E E E E A D B A E E E D D E E C E C E\n",
              "[14185] D C D C D E D E E E E E E E E C E E E E D E E E E E E E C C E E E E E E\n",
              "[14221] D E E E E E D E E E E E E E E E E E E E E D D D A E C B D A D E B E E E\n",
              "[14257] E E D E E E E E E E E E D E E E E E D E E E E E E E E E E E E E E E E E\n",
              "[14293] E E D E E E E E E E D E D E B E E E E E E E E E E D E E E E E E D E D E\n",
              "[14329] E E E D D E E E E D E E E E E E E E E E E E E E E E E E E E E E E D E E\n",
              "[14365] E E E E E E E E E E E E E D E E E E E D E D E D D C D E E D E E C E E E\n",
              "[14401] E E E D E E E D D D E E E E E D C C E D D D C C E B E E E E E C E E E E\n",
              "[14437] C E E E E E E E E E E E E E E E D E E E E E D E E D E E E E E E E D E E\n",
              "[14473] D E E E E D E D E E E E E E E E E E E D E E E E E E E E E E E E E E E E\n",
              "[14509] E E E E E E E E E E E E E E E E E E E E E E E C E E E E E E E E E E E E\n",
              "[14545] E E E E E E E E E E E E E E E D E E E E E E E E E E E E E E E E E E E E\n",
              "[14581] E E E E E E E E E E E E E E E E E D E E E D D E E E E E E E E E E E E D\n",
              "[14617] E D E E E E E E C E E E E E E E E E E E E E E E E E E E E E E E E E E E\n",
              "[14653] E E E E E E C E E E E E E E E E E E E E E E D E E E E E E E E E E E E E\n",
              "[14689] E E E E D E E E E E E E E E B E E E E E E E E E E C E E E E E E D E E E\n",
              "[14725] E E E E E E E E E E E E E E E E E E E E E E E E E E D D E E E E D E E C\n",
              "[14761] E D E D E D E E E D D C E E E E E E D E E E E E E E D E E E E E E E E E\n",
              "[14797] E E E E E E E E E E E D E E E E E E E E E E D E E E D E E E E E E E E E\n",
              "[14833] D E E E E D E E E E E E E E E E E B E E E E E E E E E D E E E E E E D D\n",
              "[14869] D D E E E D E E E E E E E E E E C E E E D E E E D D D D E E E D D D E E\n",
              "[14905] E E E E E E E E D E E E D E D E E D E E E E E E E E E D E E E E E D E D\n",
              "[14941] E E E E E E C E D E D E E C B E E E E E D E E E E C E E E D E E D E E D\n",
              "[14977] E E D E E E E D E E B C D D D D D E E E D E E D D E E E E E E E E E E E\n",
              "[15013] E E E E E E E E E E E C E E E E E E E E E E E E E E E E E E E E E E E E\n",
              "[15049] E E E E E E E E E E E E E E E E E E E E E E E E E E E E E E E E E E E E\n",
              "[15085] E E E E E E E E E E E E E E E E E E E E E E E E E E E E E E E E E E E E\n",
              "[15121] E E D E D E E E E E E E E E E D E D D E E E D E E E D E E E E E E E E E\n",
              "[15157] E E E E E E C D C C C C C C C C C C D E E E E E E E E E E E E E E E E D\n",
              "[15193] E D E E E E E E E E E E E E E E E E E E E E E D E E E E C C E C D E E E\n",
              "[15229] E E E E E D E D C E E E E E E E E E C C D D D D E E E E E E D E E E E E\n",
              "[15265] E E E E E E E E E E E E D E E E E D E B E E D E E B B C A E B C D E E E\n",
              "[15301] E E E E E E E E E C E E D E E E C D C B E E D E C E E E E E E E E E E E\n",
              "[15337] E E E E E E D E E E C E E D E E E E E E E E E E E E D E E D D E E E D D\n",
              "[15373] D E E E D D E D E E D E E E E D E E E E E E E E E E E E E E E E E E D E\n",
              "[15409] E E E E E C E D E E D A C E C E E D D C E E E E C B D E E C D D E D E E\n",
              "[15445] D C E E C E C B E E E E E E E E D D E E E E E C C E E D D C D E A C C C\n",
              "[15481] C B C E D D E E E E E E D E E E E E E E E D C C D E C C E E C C B A E D\n",
              "[15517] D E D E E E E D B C C B B A B E D E E E E C E E E E E E E D E C D C D C\n",
              "[15553] E E D E E D D D D C E E D D E E E E E E E D E D E E D E E D D E D C C E\n",
              "[15589] C E E D B E E E E E C E E D E E E E E E D E E D E E E E E E E E E E E E\n",
              "[15625] E E E E E E E E E E E C E D E E E E E B E E E E E D E E E E E D C E E D\n",
              "[15661] E E E E E D D E C E E C E E E E E B C E E E E C C E E E E E E E E E E E\n",
              "[15697] D C E E E E D E E E E E E E E D E E E C C D C E B C C B C C D E D C C E\n",
              "[15733] E E E E C E E D E E E E E E E E E D E E E E D E E E E E B A E E E E E E\n",
              "[15769] E E E D E E E E E E E C C E E E E E D E E E E D D E E C B C E E E D E D\n",
              "[15805] C E D E E E E C D E D E D E E D D B D D C E D E E E E D E E E E E D E E\n",
              "[15841] E E E E E E E D D E E D E E E E E E E E E E D E E E E E E E E E E E E E\n",
              "[15877] E E E E E E E E E E E E E E E D E E C E C E E E E E D D E E C E A A E B\n",
              "[15913] D B E E E E E E E D E E C E D E E E E C E E E D E E E E E E E E D E E E\n",
              "[15949] E E E E E E E E C E E E E E E C E E E D E E E E E E E C E E E E E E E E\n",
              "[15985] D E E E E E E E E E E A E D E E E E E C E E E E E E E E E E D E E E C E\n",
              "[16021] E E D E E E D E E E E E E E E E D E E E C E E E E E E E E E E D E D C E\n",
              "[16057] E E E E E E E E E E E D E E E E E E E E D E D E E E E E E E E E E E E E\n",
              "[16093] C D E E D D E E E E E E E E D E E E E E E E E E E E E E E D E E E E D E\n",
              "[16129] E D E D E E E E E D E E E E E D E E D E E E D E E E E E E E E D E E E E\n",
              "[16165] E E E E E E E E E E E E E E D E D E C D E E E B E E E E E E E E D B C E\n",
              "[16201] D E E E E E E E E E E E E E E E E E E E C E D E E D E E E E E E E E E E\n",
              "[16237] E D E E E E E E E E E E E E E E E E E E D E E D E E E E E E E E E E E E\n",
              "[16273] E E E C E E C E E E E E C D D E E E D E E E E D D E D E E D D D E C E B\n",
              "[16309] E E E E E E E E E E D E E D D E E E D E E E E D D D C E E E E E E E E E\n",
              "[16345] D E E E E D E D E E E E E E E E E C E D E E E C D E D E E E E E D E E D\n",
              "[16381] C D D D C C E D C C B C B C C C C E C E E E E E D E D C E E E E C E E E\n",
              "[16417] E E E D E C C C C E D D E D E E E D E E E D E E E E D E E E E E D E E E\n",
              "[16453] E E E E E E C D D E E E E E D E E E D D D E C C D E D D D E D E E E E E\n",
              "[16489] C D E E E E E E E C E D C E E E E E D E E E E E E E E E E E D E D E B E\n",
              "[16525] E E E E C E E E E E E D E E E E E E E E E E E E E E E E E E E E D D E E\n",
              "[16561] E E E D E E E E C E D E D E E E E E E E E D C E E D E E E E E E E E E D\n",
              "[16597] E D E E E E E E E C E E E E D E E E E E E E D E E E E E E E E E E E E E\n",
              "[16633] E E E E E E E C C C C D E E E D E E E E E E D E E E E E E E E E E E E B\n",
              "[16669] C E E E D E E E E E E E E E E E E E E E E E E E E E E E E E E E E E E E\n",
              "[16705] E E E E E E E E E D E E E E E E E E E E E E E E E E E E E E E E E E E E\n",
              "[16741] E E E E E E E E E E D E E E E E E E E C C E E E E E E E E E D E E E E E\n",
              "[16777] E E E E E E E D E D E E E E E E E E E E E E E E E E E E E E E D E E E D\n",
              "[16813] E E E E E E E E C E E C E E E D E E E E E E E E E E E E E E E E E E E E\n",
              "[16849] E E E E E E E E E E E E B E E E E E E E E E E E E E E E E E E E E E C D\n",
              "[16885] D E E E E E D E E E D E E E E E E E E E E E E E D E E E E E E E E E E E\n",
              "[16921] E E E E D E E E E C E E E E D E E E C C E E E E E E E E E E E D E E E E\n",
              "[16957] E E E E E D E E D D E E E E D E E E E E E D E D E E D E E E E D E D E E\n",
              "[16993] E E E E C E E E E E E E E E E E E E E D E D E E E E E E E E E E E E E E\n",
              "[17029] E E E E E E E E E E E E E D E E E C E E E E E E E D E E E C E D E E C E\n",
              "[17065] E E E E E E E E D E E E E E E D E E E E E E E E E C E D E E E E E E E E\n",
              "[17101] E E E E E E E D E E E E D E E E E D E E E E E E E E E E E E E E E E D E\n",
              "[17137] E E E E E E E E E E E E E E E E E E D E E E E E E E E E E E E E E E E E\n",
              "[17173] E E E E E E E E E E E E E E E E E E E E E E E E E E E E E E E E E E E E\n",
              "[17209] E E D E E E E E E E E E E E E E E E E E E E E E E E D E D E D E C E E E\n",
              "[17245] B D E E E E E E D E D E E D E E E D E E E E E E E E E E E E E E E E E E\n",
              "[17281] C E E E E E D C C C E E E E E E E E E E E E E E E D E E E E E E E E E D\n",
              "[17317] D E E E E E E E E E E E E E E E E E E E E E E E E E E D E E E E E D E C\n",
              "[17353] E E E E E D D D E C E E E E E E D D E E E E E E E E E E E E E E E E E E\n",
              "[17389] E E E E E E C E E E E E E E E E E E E E E E E E E E E E E E C E E C E E\n",
              "[17425] E E E E D E E E E E E E E E E E E E E E E E E E E E E E E E E E D E E E\n",
              "[17461] E E E E E D E E E E E E E E E C E E E E E C E E E E E E E E E E E E E E\n",
              "[17497] E E E E E E E E E E E E E D E D E E E E E E E E E E E E E E E E E E E E\n",
              "[17533] C E E E E E E E E E E E E E C E E E E E E E E E E E E E E E D E E E E E\n",
              "[17569] E E E E E E D E E E E E E E E E E E E E E E E E E E E E E E E E E E E E\n",
              "[17605] E E E D C E E E D D E E E E E E E E E E E C C D C E D E E D D D E D E E\n",
              "[17641] E E E E E E E E E E E E E E D E E E E E E E E E E E D E E E D E E E D E\n",
              "[17677] E E E E E E E E E E E D B E E E E E E E E E E E E E E D E E E E E B E E\n",
              "[17713] D D C B B D E E E E E E E E E E E E E E E E E E D E D C E E E E E E E E\n",
              "[17749] E D E E E E E E E E E E E C E E D E E E E E E E E E E E E E E E E E E E\n",
              "[17785] E E E C E E E E D D E E E E E D E E C E E E E E E E E E E E D E E E E E\n",
              "[17821] E E E D E E E E E E E E E E E E E E E E E E E E E E E E E E E E E E E E\n",
              "[17857] C C C C E E C E E D E E E E E E E E E E E E E E E E E E E E E E C D C C\n",
              "[17893] D D E D E E E E E D E E E D D E E E D E E E E E D E D E E E E C E D D E\n",
              "[17929] E E E E E E E D E E E E D E C E D D E D E E E E D E E E E E E D E E E E\n",
              "[17965] E E E E E C C C C E C E C E E D D E E E D E E D B D E D C C E E C D C C\n",
              "[18001] B E E E E D E E E E E E D C E E E E E D E E D D C E E D E D E D C D B E\n",
              "[18037] D D E E E C D E E E E E D D E E D C E E E E D E E E D E C E E E E E D E\n",
              "[18073] E E E E E E E E E E E E E E E E E E E E E E E E E E E E E E E E E E E E\n",
              "[18109] E E E E E E E C E E E E E E E E E D E E E E E E E E E E E E E E E D E C\n",
              "[18145] E E E E E E E E C E E E E E E E E E E E E E E E E E E E E E E E E E E E\n",
              "[18181] E E E E D E E E E E E E E E E E E E E E E E E E E E E E D E E D E E E E\n",
              "[18217] E E E E C E E E D E E E E E E D E E E D E E D E E E E E E E E E E E E E\n",
              "[18253] D E E E D E E E D E E E E E E E E E E E E E E E E E E E E E E E E E E E\n",
              "[18289] E E E E E E E D E E D B C E D D B E C E E E C C E C E E E E E C E E C C\n",
              "[18325] D D C D E E E E E E E E E E E D D C E D D D E E E C E E E E E E D E E E\n",
              "[18361] E E E D E E E D E E E E E E E E E E D E D E E E E D E E E E E D D E E E\n",
              "[18397] E E E E D E E E D E E E E E E D D D E E E E E E E E E E E E E E E E E E\n",
              "[18433] E E D E E C E D C E C B D B D B B D E D E E E E D E C C D B C C D E E D\n",
              "[18469] B E B C C C B D E E E D C E D D C C C C E E E E E E E E E E E E D C E E\n",
              "[18505] D E E E C E E E D E E E D E E E E E C E C E E D C E E E E E E E E E E E\n",
              "[18541] E E E E D E D E E E E E E E E E E E E E E D D E D E E E E E E E E E E E\n",
              "[18577] E E E E E E E E E E E E E E E E E E E E E E E E E E E E E E E E E E E E\n",
              "[18613] E E E E E E E E E E E E E E D E E E E D E E D D E E E E E E E E E E E E\n",
              "[18649] E E E E E E E E D E D E E D E C E E E D E E E E E E E D D C E E D E E E\n",
              "[18685] C E E E E E E E E E E E E E E D E E E E E E E E E E E E E D E E D E E E\n",
              "[18721] E E E E E E E D E E E E E E E E E E E E E E E E E E E E E E E E E E E E\n",
              "[18757] D E E E E D E E E D E E E E E E D E E E E E E E E E E E E E E E E E E E\n",
              "[18793] E E D C E E E E E E E E E D E E E E E E E E E E E E E C E E E E E E E E\n",
              "[18829] D E E E E E E E E E E E E E E E E E E E E E E E E E E E E E E E E E E E\n",
              "[18865] E E E E E E E E E D E E E E E E E E E E E B E E D D E E E E E E E E E E\n",
              "[18901] E E E E E E E E E E E E E E E E E E E E E E E E E E E E E E E C E E E E\n",
              "[18937] E E E E E E C E D E D D E E D D E D D E C E E E E C B B C B C A C C E D\n",
              "[18973] D B E E D E E E C C E E E E E E E E E E E E E E E E E E E E D E E E E D\n",
              "[19009] D E E E E E E E E E D E E E E E E E D E E D E E E D E E E E E E E C E E\n",
              "[19045] E E C E E E B E D E E E E E E E E E E E E E E E E D E E E C E E E B E E\n",
              "[19081] E E E E D E E E E D E D E E E E D E D E E E E E D D E E E D E E E E E E\n",
              "[19117] E E D E E E E E E C E E E E E E E C D E E D E E B E D E E E E D B C E E\n",
              "[19153] C E E E E E E E E E E E E E E E E E E E D E E E E E E E E E E D E E E E\n",
              "[19189] E E E E E E E E E E E D E E D E E E D E E E E E E E D E E E E E E E E E\n",
              "[19225] E E E E E E E E E E E E E D E E E E D C E D E E D E C E E D E E E E E E\n",
              "[19261] E E E E E E E E E E E E D D D E E E E E E E E E E E E E E E E E E E E E\n",
              "[19297] D E E E E E E E E E E E E E E E E E E E E E E E E E E E E D E E E E E E\n",
              "[19333] D E E E E E E E E E D D D D C C E D C D D C C C E C E E E E E E E E E E\n",
              "[19369] E E E C D D E D E D D C D E E E E E D C E E E E D E E E E B D C E D E D\n",
              "[19405] E E E E E E E D E D C E D D C E C C C B C E B B C E D E E E D E E D E E\n",
              "[19441] E D E D E E E D E E E E E E E E D E E E E E E C C C A C C C C E E E E E\n",
              "[19477] D E E D D E E D E D C E C C D C E E E E E E E C D B C C C B B E E E E D\n",
              "[19513] E E E E E E E E E E E E E E E D E E D C E D D D E E C D D B E E E E E E\n",
              "[19549] E E E C C C C C D C D C D D E E E D B C D D D D C B E E E E D E E E D E\n",
              "[19585] D E E E E E E E D E E E E E E D E E E E E E D E E D E E E E E E E E E E\n",
              "[19621] E E E E E E E E E E E E D D E E E E E E E E E E E B E D E E E E E E E E\n",
              "[19657] E E E C E E E E E E E E E D E D E E E E E E E E E D E D E E A E E C E C\n",
              "[19693] D E D E E D D E E E E C E E E E D D E E E D E E E E E E E E E E E E E E\n",
              "[19729] D E D E E E E E E E E E E E E E E E D E E E E E E E D E E E E E E E E E\n",
              "[19765] E E E E E E E E E E E E E E E E E E E E E E D E E E E E E E E D B D E E\n",
              "[19801] E E E D E E E E E E E E E E E E E E E E E E E E E E E E E E E E E E E E\n",
              "[19837] E E E E E E E E E E E E E E E E E E E E E E E E E E E E E E E E E E E E\n",
              "[19873] E E E E E E E C D E D E E E E E E E E E E E E E E E E E D E C E E E E D\n",
              "[19909] E E E E E E E E D E E E E E E E E E E E E E E E E E E E E D D E E E E E\n",
              "[19945] E E E E E E E E D E E E E E E E E E E E E E E E E E E E E E E E E E E E\n",
              "[19981] E E E E E E E C E E E E E E E E E E E E E E E E E E D E E E E E E E E E\n",
              "[20017] E E E E E E E E E E E D E E E E E E E E E E E E E E B E D E B D E C E E\n",
              "[20053] E D E D D E E E E E E E C E E E E E E E E E E D E E E D E E E E E E E E\n",
              "[20089] E E E E E E E E E D E E E E E E E E E E E D E E E D E E E E E E C E E E\n",
              "[20125] E C E E E E D E E C E D E E E E E E B E E E E E E D E E E E E E D E E E\n",
              "[20161] E E E E B E E E C E E E E E E E D C E E E E E E E E E E E E E E E E E E\n",
              "[20197] E D E C D C C C E E C E E D E D E D E E E C D E E D E E D E E E E E E E\n",
              "[20233] E E E E E D E E D E E E E E E E E E E E D E E C E E E D E E E E E E E E\n",
              "[20269] E E E E E E E E E E E E E E C E E E D E D E C C B C E E E E E C E E E E\n",
              "[20305] E E E E E E E E E E E E E E E E E E E E E E E E E E E E E E E E E E E E\n",
              "[20341] E E E E E E E E E E E E E E E E E E E E E E E E E E E E C E E E E E E D\n",
              "[20377] E E E E E E E E E E E E E E E E E E D E E E E E E E E E E E E E E E E E\n",
              "[20413] E E E E E E E E E E E E E E E E E E E E E D D E D E C D C E B E D B D E\n",
              "[20449] C E D E E E E E E E E E E E E E E E E C E E E E E E E D E D E E E E E E\n",
              "[20485] E E E E D E E E D E D E E D E E C E D E E D C E E E E E E E E E E E E E\n",
              "[20521] E E E E E E D E E D E E E E E E D C E E E E D E E E E E E E E E E D E E\n",
              "[20557] E E D E E E E D E E E E E E E D D D E E E E E E E E E E E E E E E E E E\n",
              "[20593] E E E E E E E E E E E E E D E E E E E E E E E E C E D D E E E E E E E E\n",
              "[20629] E D D E E E E E C E C E E E D D E E E E D E D E E E E D E E D E E E E E\n",
              "[20665] E D E E E E E E E E E E E E E E E E E D E E E E E D E E E E E E E E E E\n",
              "[20701] E E E D A E E D D E E E E E E E C B D E D E E E E E E E E E E C D E E E\n",
              "[20737] E E D C C E E E E D D D D E E E E E E E E E D E E E E E E E E E C D D D\n",
              "[20773] E E E E E E D E E E E E E E E E E D E E E E E E E E E D E E C E E E E E\n",
              "[20809] E E D E E E E E E E E E E E E E E E E E E E E E E E E E E E E E E E E E\n",
              "[20845] E E C E E E E E E E D E E E E E E E E E E E C E E E D C E D E E E E E E\n",
              "[20881] E E E E E E E E E E E E E E E E D E E E E E E E E A C E E E E E E E E E\n",
              "[20917] E E E E E E D D D E D C B D E D C D D E B C E E C E E E E E E E E C E E\n",
              "[20953] E E E E E E E D E E D E E E D E E E E E E E E E E E E E E E E E E E E D\n",
              "[20989] E E E E E E E E E E E E E E E E D E D D E E E E E E E E E E E E E D E D\n",
              "[21025] E E E E D E E B E E E E E E D E E E E E E E E E E D D E E E E E E E E D\n",
              "[21061] E E E E E E E E E E E E E E E E D E E E E E E E E E E E E E E E E E E E\n",
              "[21097] C E D D E E E E E E E E E E E E E E E E E C D E E E E E E D E E E E E D\n",
              "[21133] E E D E E E C E E E E E E E E E E E E E D E E E E E E E E E E E E E E D\n",
              "[21169] E E E C D E E D E E E E E E E E E E E E E E E D E E E E E E E E E E E E\n",
              "[21205] E E E E E E E E D E E E E E E E C E E D E E E E E E E E C E E E D E E E\n",
              "[21241] E E E E E E E E E D E E E E E E E E E E E E E E C E E E E E E E D E E E\n",
              "[21277] E D D E E D E E E E D B E C E B A C E E E E E E D E E E E E D E D E E D\n",
              "[21313] C C D E E E E E B E E E D E E E D E E E E E D C E E E D E E E E E D C E\n",
              "[21349] E E D E E C E E D D E D D E E E E E E E E E E E D B C E E E E D E D E E\n",
              "[21385] E E E E E E E E E E E E E E E D E E D A E E E E E E E E E C D D E E E E\n",
              "[21421] E E E E E E E E E E E C D E E E E E E E E E E D D E E E D E E E E E D E\n",
              "[21457] E D D E E E E E E E E E C E E E D E E E E C E E E E E E E E D E E E E E\n",
              "[21493] E E E E E E E E D E E E D D E D E E E E E E D E E D E E E E C E E D E E\n",
              "[21529] D D E D E E E E E E E E E E E E C E E E E E E D E E E E E E E E D D E D\n",
              "[21565] E E D E E E E E E E E E E E E E E E E D E E E C E E E E E E E E E E E E\n",
              "[21601] E E E E D E E E D E E E E E D E D E D E E E D E E E E E E E E E D E E E\n",
              "[21637] E C D E E C D E D E E D E E E E E E E E C E E E E D E E E E E E D E E E\n",
              "[21673] E E D D E E E E E E E E E E E E E D E E E E E E E E E E E E E E E E E E\n",
              "[21709] E E E E E C E E E E E E E E E E E E B E E E E E E E E E D D E E E E E E\n",
              "[21745] E E E E D E D E E E E E E E E E E E E E E E E E E E E E E E E D E E E E\n",
              "[21781] E E E E E E E E E C E D E E D D D C C E E E E E E E E E E E E E E E E E\n",
              "[21817] E E E E D C D E C E E E E E D E E D E E A C E E E E E E E E E E E E E C\n",
              "[21853] D E E E E E E E E E E C C D E E D E E E E E E E E E E E D C D E D C C E\n",
              "[21889] B E E E E E E E D D C B D C B C D E C D E E E E E C E E E E E E E E E E\n",
              "[21925] E E D E E D D E C E E E D E E E E D E D E E E E D C C E E E D E C E E E\n",
              "[21961] E E D E E E E E D C E E E E E E E C E E E E E E E E E E E E E E E E E E\n",
              "[21997] E E E E E E E E E E E E D E D D C E E E E E D E E C D E E E D D C E E E\n",
              "[22033] E E E E E E E E E E E E E E E D E E E E E E E E E E E E E E E E E E E E\n",
              "[22069] E E E E E E E E E D E E E D C D E D E D E D E D E E D E E E E D D E E C\n",
              "[22105] E E E E E E E E D E D E E D D E E E E E E D E E D E E D E A E E E E D E\n",
              "[22141] E E E E E E E D E D E B D E E E E E D E C E E D D E E E E D E C E D D D\n",
              "[22177] E E D E E E D E E C D D E D B E E E D E D E E D D C E E E E E E E E E E\n",
              "[22213] D E E E E E E E E E E E E D E E E C E E D E E E E E E E E E C E D E E E\n",
              "[22249] E E E E E E E E D E E E E E E E E E E E E D E E E E D E E E E D E C C D\n",
              "[22285] C D C D E D D E C D C C E E E E E E E D C E E E E E E E E E E E E E E E\n",
              "[22321] E E E E E E E E E E E E E E E E E D E E E E E E D D C D C E C E D D D E\n",
              "[22357] C E E C C C C C D D C D E E B D E E E E E E E E E E E E E E E E E E E E\n",
              "[22393] E E E E E E E E E E E E E E E E E D E E E E E E E E E E E E D E E D E D\n",
              "[22429] D E E D C C E D D E E E E D E E E D E E E E E E E E E E D E E D D C B E\n",
              "[22465] D B B C E E E E E E E E D E E E E E E E E D D E D E D E E E E E D E E E\n",
              "[22501] E D E E D E D D E E E E D E E E E E E D E E E E E E E E E E E D D E E E\n",
              "[22537] E E C E E E E D E E E D B C B B C D E E E E E C E E E E E E E E E E E E\n",
              "[22573] E E D E E E E E E E E D E E D E E C E E D E E E E D E E E E C E E E E E\n",
              "[22609] E E D C E E E E E E D E E E E E E E E E E E D D E E E E E E D D E E E E\n",
              "[22645] D C C D E E E E E E E E E E E E E D E D D C C C C C C C D C A D A A C B\n",
              "[22681] C B C D D E B E B B D C C E E E E D E D E E E E E E E D D E E E E E E E\n",
              "[22717] E E E E C E D E E E E E E E E E E E E E E E E E E E E E E E D E D E E E\n",
              "[22753] E E E B A D A C C D C B B C C B C D D C C A C D D D E E E E E D E E E E\n",
              "[22789] E E E E E E D E E D E E E E E E E E E C C C C C C B D E D D E B D C B C\n",
              "[22825] C C E B B B D B D C C E D D E D C E E C D B D C B C E E E E E E E E E E\n",
              "[22861] E C E E E E E E E C E E E E E E E E E D E E E E E E E E C E D E E E E E\n",
              "[22897] E D D E E D E D E D D C E E E E E E E E B C E E E D E C E E E B D C C E\n",
              "[22933] E D E E B E E E E E E E D E E E E C E C B D E B E E E E C C E C C B C C\n",
              "[22969] C C A C C C D B B D E C E E E E E E E E E E E E D C E E E E E D E E C E\n",
              "[23005] E E E E C E E D D E D E E E E E E E E D E C E E E E C E C E E E E D E E\n",
              "[23041] E D B E C D E E E E E E E E C E E E E E E E E E E C E E E D E E E E E E\n",
              "[23077] E E E E D C E E E E E E E D E E E E E E D D D E D E E E E D D E E E E E\n",
              "[23113] E E D E E E E E E E E E E D E D E E E D E E E E E E E E E D E E E E E E\n",
              "[23149] D D E E E C E E E E C D E E E D C E E D D E E D C E E E E E E E E E E E\n",
              "[23185] E D E E E E E E E E E D E D E E E E E E C E E D E D E D E E E E B D E C\n",
              "[23221] D E D E D E D E E E E E E D E E E D D E E E D D C D E D D C E B E E E E\n",
              "[23257] E B E E C B C C E C D E E E E E E E E E E E E E E E E E E C C B C C B B\n",
              "[23293] C C C B D D C D A D D C C D E D E E B C B E B E E E E E D E E E D E E E\n",
              "[23329] D E B D E D E E E E D E E E E E E E D E E E E D E E E E E E E E E E E D\n",
              "[23365] D D C E C C C D C E D E E E E C E E D E E E E E E E B E E E E E E E E E\n",
              "[23401] E E E E E E E E E E E E D E E E E C E E B C B C D C E E D E C D B C C B\n",
              "[23437] E E E E E E E D D E E E E D E E D E C B E E E E E E E D E E C E D D E E\n",
              "[23473] E E E E E E E D D E E E E E E E E E E E D E E E E E E E D E E D E E E E\n",
              "[23509] E E E E E E E E D E E E E E D E E E E E E E E E E E E E E D E E D D E E\n",
              "[23545] E C E E E E E E E E E E E E E E E E E E E E E E E E E E E E E E E E E E\n",
              "[23581] E E E E E E E D E E E E E E E D E E E E E E E E E E E E E E E E E E E E\n",
              "[23617] E D E E D E E E E E E E E D E D D D E E E D E E E E D E E D E E E D D D\n",
              "[23653] E E D E D C E D E E E E E E E E E E E E E E E E E E E E E E E E E E E E\n",
              "[23689] E E E E E E E E E E E E E E E E E E C E C A D C E E C C B D E D B C C D\n",
              "[23725] E B C C E C D C D E E E E D E E E E E E E E E E E E E E E E E E E E E E\n",
              "[23761] E E E E E E E C D E E E E E E E E E E E E E C E E D B E E E E E E E E E\n",
              "[23797] E E E E D E E E E E E E E E E E E E E E E E E E E E E E E E E E E E E E\n",
              "[23833] E E E E D E D E E E E E E E E E E E E E E E E E E E E E E E E E E D E D\n",
              "[23869] E D E E E E C E E D D C E E E E E E E E E E E E E E E E E E E E E E E E\n",
              "[23905] E E D E E E E D D E E E E E E E E E E E D E E E E E E D E E E E E E E E\n",
              "[23941] E E E E E E E D E D C E C E E D E D E D E E E C C C E C E E E E E E D E\n",
              "[23977] E B D E E E E E E E E E E E C E E E E E E E E E E C E E E E E E E E E E\n",
              "[24013] E E E E E E E E E E E E E E E E E E E E E E E E E E D D E E E E E E D E\n",
              "[24049] E E C E E E E E E E E E E E E E E E E E E E E E E D E E E E E E E E E E\n",
              "[24085] D E D E E E E E E E E E E E E E D E D E D E E E E E E E B E E E E E E E\n",
              "[24121] E E E C E E D E E E E E E E E E E E E E E E E E E E E E E E E E E E E E\n",
              "[24157] E E E E E E E E E C E E E E E E E E E E E E E E E E E E E E E E E E C E\n",
              "[24193] C B E E E E E D E E E E D E D E E E D D C D C B D D B E E E E E E E E E\n",
              "[24229] E E E E E E E E E C E E E E E E E E E E E E E C D E E E E E E E E D E D\n",
              "[24265] E E E D E E E E E E E D E E E E E D E E E E D E E E E E E E E E E C E D\n",
              "[24301] E E E E D E E E E E E E E E E E E E C E C D C E C E E D E E E E E E E E\n",
              "[24337] E C E E E E E E E D E E E E E E E D C E D D E E D B D C D D E E E E E E\n",
              "[24373] E E E D E D E E D E E E E E E E E D E E E E E E E E E D E D E D E D E E\n",
              "[24409] E E E E E D E E E E E E E E E E D E E E D E C D D E E D E E E D E E E D\n",
              "[24445] D E C D E D C D E E E D E E E C C D E C E E E E D D E E E D D E E E E E\n",
              "[24481] E E E E E C E E E E E E E E C E E E E E C E E E E E C D E D E D E C E D\n",
              "[24517] C E E E E E E E D E E E E E E D D E D E E E E E E E D E E E E E C E E E\n",
              "[24553] E E E E E E E E E E E E E D D E E E E E E E E E E E D E E E E E E E E E\n",
              "[24589] E E E E D E E E E E E E E E E E E E E E E E E E E E E E E D E E E E E E\n",
              "[24625] E E E E E E E E E E D D E E E E E E E E E E D E E E D E D E E E E E E E\n",
              "[24661] E D E E E E E E E E E C E E C E E E E E E E E E E D E E E E E E E E E E\n",
              "[24697] E E E E E E E E E E E E E E E E E E E E E E E E E E E E E E E E E E E E\n",
              "[24733] E E D E E E E E E E E E E E D D E C E E E E E E E E E E E E E E E E E D\n",
              "[24769] E E E E E C E E E E D E E E E E E E E E E E E E E E E D E E E E E E E E\n",
              "[24805] E E E E E E E E E E D D B C C B C E D C D D C D E E E E E E E E E E D D\n",
              "[24841] E E E D E E E D E C E B E E E E E E C E E E E E E E E E C E E E C C B E\n",
              "[24877] E D D D E D E E D C C C D B D E C D C C D E E D E E E E E E D C E E E E\n",
              "[24913] E E D E B E E E E C E E E E C E E E E E E D E D E E E E D E E E C C E E\n",
              "[24949] E E E C E E D E E E E C E D E E E E D D D C E E E E E E E E E E E E E E\n",
              "[24985] E E E E E E E E E E E E E D E E E C E E E D B D E D D C D E E E C C B D\n",
              "[25021] E E E E C E E D C E D E E E E E E E E D C D E E E D E C E E E E C E E E\n",
              "[25057] B B A B C C C D C C E C E C D E C E E E E E E E E E E E D E E E D E E D\n",
              "[25093] D E E E E E E E E D E E E E E E E E E E E E E E E E E E E E E E E E E E\n",
              "[25129] E E E E E E E E E E E E E C E E E C E D E C E E D E E B E E E E E E E E\n",
              "[25165] E E E E E E E E E E D E E E C E E E E E D E E E E E E E E D E E E E E E\n",
              "[25201] E E E E E E E E E D E E D E E E E D E E E E E E E E E E E E E E E E E E\n",
              "[25237] E E E E E E E E E E D E E E E D E E E E E E D E E E E E E E E E E E E E\n",
              "[25273] E E E E E E E E E E E E E E E E E E E E C E E E E E E E D B D B E E C E\n",
              "[25309] E E E E E E E E E E E E E E D E E E E E E E E E E E E E E E E E E E E E\n",
              "[25345] E E E D E E E E E E C E E E C D D D C E E E E E D E E E E E E E E E E E\n",
              "[25381] E E E E E E E E E E C E E C E E E E E E E E E E E E E E E E E E E E E E\n",
              "[25417] E E E E E E E E E E E E E E E E E E E E E E E E E E E E E E D E E E E E\n",
              "[25453] E E E E E E E E E D E E E E E D E D E E E E E E E E E E E E D E E E E E\n",
              "[25489] E E E E E E E E E E E E E E E E E E E E E E E E E E E E E E E E E E E E\n",
              "[25525] E E E E E E E E E D E E E D C E D E D D E E E C D E E E E E E E D D E E\n",
              "[25561] C E E D E E E E E E E E E E E E E E E E D C E E E D E E E E E E D D C E\n",
              "[25597] E E E E E E E E E E D E D E E E E E E E E E E E E E E E E E E E E E E E\n",
              "[25633] E E E D D E E E E E E E C E E E E E E E E E E E E E E E E D E E E E E E\n",
              "[25669] E E E E E E E E E E E E E E E E E E E C E E E E E E E E E E E E E E D E\n",
              "[25705] E E E E E E E E D E C D E E E E C D C E E E E E D E E E E E E E E E E E\n",
              "[25741] E E E E E E E E E E E D E E E E E E E E E E E E E E E D E E E E E E E E\n",
              "[25777] E E C E E E E E E E D E E E E E E E E E E E E E E E E E C E E E E E E E\n",
              "[25813] D D E E E D E E E E E E E E E E E E E E E E E E E E E E E E E E E E E E\n",
              "[25849] E E E E E E E E E E E E E E E E E E E E E E E E E E E E E E E E E E E E\n",
              "[25885] E E E E E E E E E D E E E E E E E E E E E E E E E E D E E D E E E C E E\n",
              "[25921] E E C C E E E E E E E E E E E E E E D D C E E C E E D D D E D E E E E E\n",
              "[25957] E E E E E E E E E E E E E E E E E E D E D E E E E E E E E E E E E E E E\n",
              "[25993] E E E E E E D E E E E E E E E E E E E E E E E E C E E E D E E E E E E E\n",
              "[26029] E E C E E E E E E E D E E E E E E E E E E E C E E E E E E E E E E E E E\n",
              "[26065] E E E D E E E E E D E E E E E E E E E E E E E E E E E E E E E E E E E E\n",
              "[26101] E E D E C D E D E E E E E E E E E E E E E E D E D E E E E E E E E E D E\n",
              "[26137] E E E E E E D E E E E D E E E E D C E E E D E E E E D D E C E E D C E D\n",
              "[26173] E E D E E E E C E E E D E D E E E E E E E E E E E E E E E E E B E E E E\n",
              "[26209] E E E E E E E E E E E E E E E E E C E E E E E E E E E E E E E E E E E E\n",
              "[26245] E D E E E E E E E E E E E E E E E E E E E E E E E E E E E E E E E E E E\n",
              "[26281] E E E E E E E E E E E E E E E E E E D E D D E C D C E E E E E E E E D E\n",
              "[26317] E B E E E D E E E E E E E E E E E E E E E E E E E E E E E E E E E E E E\n",
              "[26353] E E E E E E E E E E E E E E E E E E E D E E C E D E E E E E E E E E E E\n",
              "[26389] E E E E E E E E E E E E E E E E E E E E E E E E E E D E E E E E E E E E\n",
              "[26425] E E E E E E E E E E E E E E E E E E E E E E E E E E E E E E E E E E E E\n",
              "[26461] E E E D E E E E E D E E E E E E E E E D E E D E D D E D E C D D E E E D\n",
              "[26497] E E E E E E E E B B A C E E D E E E E E E D E E E E E E E E E E E E E E\n",
              "[26533] E E E E E E E E E D E E E E E E D C D E D D E C C E E E E E E E E E E E\n",
              "[26569] E E E E E E E E E E E E E E E E E E E E D E D E D D C D E C C D D D E E\n",
              "[26605] C E E D E E E E E D E E D D C D E E E D D E C C E C E D E D E D C E C D\n",
              "[26641] E E C D C E E E E E D E E D E E E E E E E E D E E E E C E D E E D D C E\n",
              "[26677] D E D E C E E E E D E E E E E E D E D E E E E D E E E E E E C D D D D E\n",
              "[26713] E E E E E D C E E E E E E E E E E E E E E E E E E D E C E D E E E E E E\n",
              "[26749] E E D E E E E E E E E E E D E E E D E E E E E E E E E D D E E E E E E C\n",
              "[26785] E E E E E E E E E E E E E E E E E E E E E E E E E E E E E E E E E E E E\n",
              "[26821] E E E D E E E E E E E E E D E E E E D E E E E E E E E E E E E D E E E E\n",
              "[26857] E E E E E E E E E E E E E E D E E E E E E E E E E E E E D E E E E E E E\n",
              "[26893] E E E E E E E E D E E E E E E E D E E E D E D E E E E E E E D E E E E D\n",
              "[26929] D D E E E E E E E E E E E E E E E E E E E E E E E E E E E E E E E E E E\n",
              "[26965] D E E E E E E E E E E E E D E E E E E E E E E E E E E C E E D E E E E E\n",
              "[27001] E E E E E E E D E E E E E E D E E E E E E E E E E E E E E E E E E C E E\n",
              "[27037] E E E E E E E E D E E E E E D E E E E E E E E E E D E E E E E E D E E D\n",
              "[27073] C E C D E E E E E E E E E E E E E E E E E E E E E E E E E E E E E E E E\n",
              "[27109] D D E E D E E E E E E E E E E E E E E E E E E E E E E E E E E E E E E E\n",
              "[27145] E E E E E E E E E E E E E E E E E E E E E E E B C E D D E E E E E E E E\n",
              "[27181] E E E E E E E D D D D D D D E D E D D E E E E D E E E E E D E C E D E C\n",
              "[27217] B E D E E E E C E D E E E E E E E E E E E E E E E E E E E E E E E E E E\n",
              "[27253] E E E E E E E E E E E E E E D E E E E E E C D C E E D D E E E D D E D C\n",
              "[27289] D D E E E D E E E E E E E E E D E E E E E D E E E E E C E E C E E E E E\n",
              "[27325] E E E E E E E E E E E E E C E E D E E E E E E E D E E E C E D E D E E E\n",
              "[27361] D D E E E E E E E E E E E D E C E D E E C E E E D E E D E E D E E E E E\n",
              "[27397] E D D E D E E E D E E D E E E E E D E E E C E B C E B C C C C D E E E E\n",
              "[27433] E E E E E E E E E E E E E E E D E E E E D E C D E E E E E E E E E E E E\n",
              "[27469] E E E E E E E E E E D E E C E E E D D E E E C D E E D E E E E E E D E E\n",
              "[27505] E E D E E E D D C E E E E E D E E E E E E E E E E E E E E E E E E E E C\n",
              "[27541] E E E E D C E E E E E E E D D E E E E E E E E D E E E E E E E E E E D E\n",
              "[27577] E E E E E E E E E E E E E E E E E E E E E E E E E E E E E E E E E E E E\n",
              "[27613] D E E E E E D D E E E C E E E E E E E D E E E E E E E E E E E E E E E E\n",
              "[27649] E E E D E E E E E E E E E E E E E E C E D D E E E E E E E C E E E E E E\n",
              "[27685] E E E E E E E A B C D E C C D E D D E E E E E C E E E E E E E E E E E E\n",
              "[27721] E D E E E E E E E E E E D D E E E E E E E E E D C E C E E D E E E E D E\n",
              "[27757] E E E E E E E D E E E E E D E E E E E E E E D E E E E E E E E E E E D E\n",
              "[27793] E E E D E E E D E E D E E D E E E E E E E E E E E E E E E E E E E D E E\n",
              "[27829] E D E E C E D E E E E E E D E E E E D E E E E E D C E D E E E E E E E E\n",
              "[27865] E E E D E E C E E E E E D E E E E E E E E E E E E E E E E E E B C E B E\n",
              "[27901] E E C E E E E E E E D E E E D E E B A D E D D E D E E E E E E E E E E E\n",
              "[27937] E E E E E E E E E E E E C E D E E E E E E D E C E E E E E E E E E E E E\n",
              "[27973] E E E E E E E E E D E E E E E E D C E E E E E E E E E E E E E E E E E E\n",
              "[28009] E E E E E E E E E E E C E E E E E E E E E E E B E E D E E E E E E E E E\n",
              "[28045] E D E E E E D D D D E E E E D E E E E E E E C E C E E E E E E D E E D E\n",
              "[28081] E C E E C E D E E E D E E E E D E D E E E E E E E E E E E C A D A A D E\n",
              "[28117] E C E D D D E E D E D D E D E E E E E E E E E E E E D E D D B E D E E D\n",
              "[28153] E E D D E E E E E E D E E E D E E E E E E E E D E E E E E E E E E E E D\n",
              "[28189] E C D E D D E E E E E E E E E D C E E E E E E E E E E E E E E D E E E E\n",
              "[28225] E E E E E E E E E E D E E E E E E E E E E C E E E E E E E D E D B C E E\n",
              "[28261] E E E E E E E E E E E E E E E E E E E E E E E E D E E E E E D E C E E E\n",
              "[28297] E E E E E E D C E E E E E E C D E E E E E D E D E E D E E E E E E E E E\n",
              "[28333] E E E E E C D E E E E E E E E E E E E E E E E E E E E E E E E E E E E E\n",
              "[28369] E E E E E E E E E E E E E E E D D D E E E E E E E E E D E E E E E E E D\n",
              "[28405] E E E E E E E E E E E E E E E E E E E E E E E E E E E E E E E E E E E E\n",
              "[28441] E E D E E E E E E E E E E E D E E E E E E E E E E E E E E E E E E E E E\n",
              "[28477] E D E E E E E E E E E E E E E E E E E E E E E E E E E E E E E E C E E E\n",
              "[28513] E E E E E D E E E E E E C E D E E E E E E E E E E E E E E E E E E E E E\n",
              "[28549] C E E E E E D E C E E E E E C E E E C D C E D D E E E E E E E E E E D E\n",
              "[28585] E E E E E E E E E E E E E E E E E E E E E E E E E E E E E E E D E E E E\n",
              "[28621] E E E E E E E E E D E E E E D E E E E E E E E E E E E E E E E E E E E E\n",
              "[28657] C E E E E E E E E D E E D C E E C E E E E D E E E E E D E D E E E C D E\n",
              "[28693] E E E E D D E E D D E E E D D E E D E E E E E E D E E E E D E E E E C E\n",
              "[28729] E D E E E D E E D E E E E E E E E E E D E E E E E E E E E E E E E E E E\n",
              "[28765] E E E E E E E E E E E E E E E E E E E E E E E E E E E E E E E E E E E E\n",
              "[28801] E E E E D E E E E E E E E C D D E E E E E E E E E E C E E E E E E E E E\n",
              "[28837] E E E E E E E E E E E E E E E E D D D E E E E E E E E E E E E E E E E E\n",
              "[28873] E E E E E E E E E E E E E E E E E E E E E E E E E E E E E E E E E E E E\n",
              "[28909] E E E E E E E E E E E E E E E E E E E E E E E E E E E E E D E E E D E E\n",
              "[28945] E E E E E E E E E E E E E E E E E E E E E E E E E E E E E E E E E E E E\n",
              "[28981] E E E D E D E E E E E E E E E E E E E E E E E E E E E E E E D E E E E C\n",
              "[29017] E E E E E E E E E E E E E E E E E E E E E E E D E E E E E E E E E E E D\n",
              "[29053] E E C E E E E E E C E E E E E E E E E E E E E E E E E E E D E E C E D E\n",
              "[29089] E E E E E E E E E E E E E E E E C C C E E C E E C D E C E E E E C E E E\n",
              "[29125] C E E E E E E E B A C C E D C E C E D C D D A D B D B B E D E C C A B C\n",
              "[29161] C C E C D C C B B E B D D E D C B D B C B C C E C E E D D D E D E E E C\n",
              "[29197] C E D E D E E E E E E C D D E E E E D E E E E E E E C A C C C C E E E E\n",
              "[29233] E E E E E B D C B B E B C C E D B C B A C C C C C E C C C E D D D C E C\n",
              "[29269] C A B C C C C C C C D C E D E E D D C D D C D C E D D C C E C C C E D C\n",
              "[29305] D E E E E E E D D E D C E E E E E E E C E E D E E D E E E E E E E E E E\n",
              "[29341] E E E E E D E E E D D C B D E E E D C C D E C D E E E D E E E E E E E E\n",
              "[29377] E E E E E E E E E E E E E D C C C C D D E E C E E E E E E D E E E D E E\n",
              "[29413] D E E E E E E D E E E E B C B A A A C D D C D C C A C D D D C D E D C C\n",
              "[29449] D E D E D D E E C E E E E E D E E D E E E E E C E E E D E E E E E E E E\n",
              "[29485] D C B C B C A C C D E E E D E E D E D E E E E E E E E E E E E E E E E E\n",
              "[29521] E E E E D B C A D E C B C D D E E E E E E E E E B E C D E B A B B C E E\n",
              "[29557] E E E E E B E D D D E D E E E E E E E E E E E E E E E E E E E E E E E E\n",
              "[29593] D E E D E E E E E E E E E E E E E E E E E E E E E E E E E E E E E E E E\n",
              "[29629] E E E E E E E E E E E D E D D E E E D E E C E D E E E E E E E E E E E E\n",
              "[29665] E E E E C E D E E E E D E E E D E E E E E E E E E E E E E E E D E E E D\n",
              "[29701] E E E B C C E E E E E E E E E E E D E E E E E E E D E D E E E E E E E E\n",
              "[29737] D E E E E D E D D E E E E E E D E E E E E E E E E E E C E E D E E D E E\n",
              "[29773] E D E E D E E E E E E E E E E E E E E E E E E E E D D E E E E E E D E E\n",
              "[29809] E C E E D E E E E C E E E E E E E E E E D E E E D E E E E E E E E E E E\n",
              "[29845] D E E E E E E E D E E E E E E E E E E E E E E E E E E E E E D E C E E B\n",
              "[29881] C E C E E E E E E E E E E E E E E E E E E E D C E C E E E D E E E D E E\n",
              "[29917] E E E E E E E E E D E D D D D C D D E D D C C D D D D D D D E C C C D C\n",
              "[29953] D D B E D E D E E D E C D D D D D E E E E E E E E E E E E E E E E E E D\n",
              "[29989] E D E E D E E E E D E E E E D E D E E E E E E E E E E E E E E E E E E E\n",
              "[30025] E E E E E E E E E E E E D E E E E D C E E E D E E E D D D E E E D E E E\n",
              "[30061] D E E E D E E E E E E D E E E E E E E E E E E E E D E D E E E E D E D D\n",
              "[30097] E E E D C E E E D E E E E E E E E E E E E E D E E E E E E E E E E E D E\n",
              "[30133] E E E D E E E E E E E E C D D E E C E E E E D D E E D E E D E E D E E E\n",
              "[30169] E E D E E E E D E D E E E E E E E E E E E D E E E E E D E E E D E E E D\n",
              "[30205] E D E E E C E D D C E D E E E D C C E E D E E E E E E E D C D E E E E E\n",
              "[30241] E D E E D E E D E E E E E E E D D E D E D E E E E E C E E E E E E E E E\n",
              "[30277] E E E E E E E E D E E E D C C E E E E E D D E E C D D D C E E E B D E C\n",
              "[30313] E D C E E E E E C E E E E E E E C D E D E E E E E E E E E E D E D E D E\n",
              "[30349] D E D E E E E E E E E D E E E E E E E E E E E E E E E E E C D E E D E D\n",
              "[30385] E E E E E E E E E E E E D E E E E E E E E E D E C E E D D E E E E E E E\n",
              "[30421] E E E E D E E E E D E E E E E E E E E E E E E E E E C E E E D E E E E E\n",
              "[30457] E D E E D E D E E E E E E D E C C E E E E E E D E E E D E E E E E E E E\n",
              "[30493] C E E E E E E D E C E C D C E E E E E E E E E E E E E E E E E E E E D E\n",
              "[30529] E E E E E E E E C C E E C D E E E D E E E C E E E E E E D E E E D E E E\n",
              "[30565] E E E E E E E E E D D C C D C C C E D E D E E E E E E E E E E E E E E E\n",
              "[30601] D E E E E D D E E E E D E E E D E E D E E E C E E E E C D D E E C E E E\n",
              "[30637] E E D C D E E E E E E E E E E D E D E E E E C E E E E E E E E E C E E E\n",
              "[30673] E D E D E E E E E E E E E E C E E E E E E D E E E E E D E A E D E E E E\n",
              "[30709] E E E E D E E E E E E E D C D C D C C B D E D E C D D D D E D D C D C E\n",
              "[30745] E E E E E E D D D D E E E E E E E E E E E E E E E E D E E C E E D C D E\n",
              "[30781] D E E E E E E E E E D E D E E E D E E E D E E E E E E E E E D E E E E C\n",
              "[30817] E D E D C E E E E E E D E E D D D D D D D D D D D E E E E E E C C C E E\n",
              "[30853] E E E C D E E E E E D D E E E D D C E C D E E E E E E E E D E E E E E E\n",
              "[30889] E D D E E E E E C D E E D E C E C E E C E D E D E E E E D E E D E E E E\n",
              "[30925] E E E E E E E E E E E E E D E D E E E E E E E E E D E E E E E E E E E D\n",
              "[30961] E E E E D E E E E D E E D D E E E C E E E D E E E E E E E C E E E D E E\n",
              "[30997] E D E E E E E D D E E E E E B C D B A B D B E E E E E C D E E B C D C B\n",
              "[31033] C B C B C D E E D E E E E E E E E E E E E E E E E E E E C D C B E E C C\n",
              "[31069] C C D D B C A E E E D D C D D B A C A B E E E E D E E E E C E E E E E C\n",
              "[31105] E D D B E C E C D E E E E E E E E C E E D E E D E E E E E E E E E E E E\n",
              "[31141] E E E E E D E E E E E D E E E E E E E E E E E E E E E E E E D E E E E E\n",
              "[31177] E E E E E E E E E E E E E E E C E C E D C E E E E E E E E E E E D E E E\n",
              "[31213] E E E C E E E E E E E E E E E E E E D E E E E E E E E E E E E E E E C E\n",
              "[31249] E E E E E E D E E E E E E E D E D E E E E E E E E E E E E E E E E E E E\n",
              "[31285] C E D E E E E E E E E E E E E E E E E E D C E E E E E E D E E E E D E E\n",
              "[31321] E E E E E E E E E E E C E E E E D E E D E E C E D E E E E E E D C D C D\n",
              "[31357] E E E E E E D E E E E E E E E E E E E E E E E E E E E E E E E E E E E E\n",
              "[31393] E E E E E E E E E E D E E E E E E E E E C E E E E E E E E D E E E E E E\n",
              "[31429] E E E E E E E E E D E E C E E E E E E E E E E E E E E E D E D D E E E E\n",
              "[31465] E E E E E E E E D E E E E E D E E E E D D E C E D E E E E E D E E E E E\n",
              "[31501] E D E E E E E E E E E E D D D E E E D E E E D E D E E E D E E D E E E C\n",
              "[31537] E E E E E E E E E E E E E D D E E E D D D D D D E D E D E E E D E E E E\n",
              "[31573] E E E E E E E B E E D E E E E E E E E E E E D E E E E E E E E D E E E E\n",
              "[31609] D E E E E D E D E E E E E E E E A E E E C E E E E E E B E E D E D E E E\n",
              "[31645] E D E E E E E E E E E E E E E C E E E E E E E E E E E D E E E E E E E E\n",
              "[31681] E D E E C C C E C E B D E E D E E E E E E E E E E D E C C D E E E E E E\n",
              "[31717] E E E E E E C D D C D C D E D D E D D C C E E E E E E D E E E E E E E E\n",
              "[31753] E E E E E E E D E E E D D E E E E E E E E B D C B E D E E D E E C E C D\n",
              "[31789] E D E E E E E E E E E E E E E E E E E E E E D E D D D E E D D E E E D E\n",
              "[31825] E D D D D E E E E E E E E E E D E E D E E E E E D D E E E E E C E C D D\n",
              "[31861] E E E D D D D E D E E E E E E E D E D D E E D E E E C E D D E E E E D E\n",
              "[31897] C E E D E E E E E E E E E E E E E E D E E E E E D E D E E E E D D E E E\n",
              "[31933] D E E E E E E E E E E E E E E E D E E E E E E D E D E E E E E E E E E E\n",
              "[31969] E E E E E E E E D E E E D E E E E E E E E D E E E D E D E E D D D E E E\n",
              "[32005] D D D E E C E E E E E E E E E E D E E D E E E D E E D E E C E C E E D C\n",
              "[32041] E E E E E E D D D C D E E E E D D C E D E E D D E E D E D C E E E E D C\n",
              "[32077] D D E E C D E E E E E E E E E E D E E E E E D C D E E E E E E E E E E E\n",
              "[32113] E E E D D E E E E D E B E E D D E E E C E E E E C E D D D E E E E D E E\n",
              "[32149] D E E E E E D D D E E D C D E E E E E C E D D C E E E E E E E E E D D E\n",
              "[32185] C E E D E E E E E E E E E D D E C E D E E E E C E D D E A C C C B E E E\n",
              "[32221] B E E C E C E E C C C C B A D B C B C B B C C B E D B B B C D C C D B E\n",
              "[32257] E E D E E E E D D E E C B C C C E D B E D D C E C C C C C D D B B C E E\n",
              "[32293] E C C A E A B E D A A C B B D A C C E B B C D C B C B D D B C A C E E E\n",
              "[32329] E C A E B D C C B C D A B E E D C B C B C D B D B C B B B C B C B B C C\n",
              "[32365] C C C E D C A E A B D D E A D A B C C D E C E E E E E E C D D E B B E C\n",
              "[32401] C E D E C E D C C E C E E D C C E E E E E B B A D C E E C E E E E C E C\n",
              "[32437] E B D B D E C C D E E C E B B E E D E E E E D B B B E B D D B D E E E E\n",
              "[32473] D E E E E D E E E E E E E E E E D E C B C C E C D C B D C C C C B C D D\n",
              "[32509] D C C D C E B E D C B E C C D C C E B A B C E E D E D E D E B E E E E E\n",
              "[32545] E E E E E E E E C E D B D C E B A C E C D B B A B D C C C B D D C D C E\n",
              "[32581] D E D D C E E E E E D D D D B C C C D E D E E E E E E E E E B E E D D D\n",
              "[32617] E E B D D E C B E B C B C C C E E E D E C E D E E E E E E D D E E E D D\n",
              "[32653] E D E E D E E E E E E E C E E E E D E E E C E D C E D E E D E D E D E D\n",
              "[32689] E B D E D E E C E E D C E B D E E E C C D D C C D C C E E D E C D D D D\n",
              "[32725] D B E E E E C D C C C E E E E C E E D E E E E E E D E D D E E C E E E E\n",
              "[32761] E E E E E E E E D E E E E E E E E B C D B A B C B C C B B C E E E E E E\n",
              "[32797] D E D E E D E B B C D D E B C A E B C C C C C E D D C E C E D D D E E E\n",
              "[32833] C D D C B E C E E C D D A B C D B B A B B B E C D B E E E E E E E E E E\n",
              "[32869] E E C C C C D D B C D E C D A C D B E C B C D E C D E C E C B D D C E C\n",
              "[32905] E D C D B B A C B C A C B C C D B C C B D D E D E C E E E D E D C B E D\n",
              "[32941] C E D D B D B E E C B D E D D B B E C C C D C D D B C E D D E E E E D E\n",
              "[32977] E E E E E E D D C E D D C E E D D D D D E D E C E E C C E B C D E D C D\n",
              "[33013] D C D E E E D D D E E C E E D E D D C D D E C D D C E C E E C C E D E C\n",
              "[33049] E C E E D E E E E E C E E D D C E E E E D E E E E E D E E E E D E E E E\n",
              "[33085] E E E E E E D E D E D E E E E E E E E D D D E E E D D D E E E E D D D E\n",
              "[33121] E E E D E E D E E E D D E D D E E C E E D E E E E D E E E E E E E E E D\n",
              "[33157] E E E E E D D E D E D D D E E D E E D E E E B D D C D D D E E E D D E D\n",
              "[33193] E E E E D B C E E D D C E E A C E C E E D C E D D D D E E E E E C D E E\n",
              "[33229] D E D E D D E E E E E E C C D E D E D D E D E D C D E E E D D C B C E D\n",
              "[33265] E E E C E E B D E D E E E E E E E E D E E E E E D D E E E E D E D C D D\n",
              "[33301] D E D E D E C E E E E E E D D E E E D D E E D E E E D D E E D D E C D E\n",
              "[33337] C D D E B C D E D C D D E E D E C E D C D C D C D E D E E D C C E E C C\n",
              "[33373] C D E C E E C D D E D E E E E E C D D D E E E D E E E E E E E D E E E E\n",
              "[33409] E E E E E E E E E E D E E E E D D E E E E E E E E E E E D C E E E E C C\n",
              "[33445] C D E E E E E E E E D E E E E E E D E D D E D D E D C E E D E E E E E E\n",
              "[33481] D E D E D E E E E E E E E E E E E D D E B C C B E C D D D E E E D D E E\n",
              "[33517] D E E D E E B D D D D E D E C E E C C E D E C E D D D E D E E E E E E D\n",
              "[33553] D D D E E D D E C E C E E E D E E E E E E D E D B D E E E D E E D E D E\n",
              "[33589] E D E D E D E E E C E B D E E E E E E D E E E D E E E E E E E D E D C E\n",
              "[33625] D D D E D C E B E E E E C D D D E D E E E E E D D E C E E D E E E E D E\n",
              "[33661] C E E E D D E D E D E E E C E E E E D E E E E E E E E E D D C D E E E E\n",
              "[33697] D E E E E E D E E E E E E E E E E E E E E E E E E E E E E E E E E E E E\n",
              "[33733] E E E D E E E E E E D E E B E E E D C D B E C E E B D E E E E D E E E D\n",
              "[33769] E E D E E E E E E E E E D D D D E E E E E E E D C E E E D E E E C E E E\n",
              "[33805] E E E E E E E E E E E E E E D E E E E E D D E E E E E E E E E E E D E E\n",
              "[33841] E D E E E E E E D E D E C E E E E E E D E E E E E E E E E E E E E E E E\n",
              "[33877] E E E E E E E E E C D E E D D D E D D E C E E E E E E E E E E E E E E E\n",
              "[33913] E B E E C E E C E E E E E E D D E E E E E E E E E E E E E D D C D E C E\n",
              "[33949] D D E D D D D C C A E E E E E D E E E C E C E E E D E E D E E E A D C E\n",
              "[33985] D D E E D E E D E E E E D E E E E D E E E D E E E E D E E E E D E E E E\n",
              "[34021] E E D E E E E E E E E D E E E E E E E E E E D E E D E E E E D E E E C E\n",
              "[34057] D E D E E E E D E E E E E E E E E C E E E E E E E E E E B E E E D E D E\n",
              "[34093] E D E E E E E E E E E E E E E E E E E E E E E E E D E E C E E E E E E E\n",
              "[34129] E E E E E D E E E E E D E E E E E E D E E E E E A E E E E E E A E E E E\n",
              "[34165] E E E E B E E D E E D E E E D E E D E D E E E E E E E E E E E E E E E E\n",
              "[34201] E E E E E E E E E E E E E E E E E E C E E E E E D D E E E E E E E E D D\n",
              "[34237] C E E B E E C D E E E E E E E C E E D E E D C C D D E E E E E E E E E E\n",
              "[34273] E E E E E E E E E E D D D E E E E E E E E D E E E D E E E D D D D E E E\n",
              "[34309] E E E E E E D D E E E E E E E E E E E E E E E E E E E B E E E D E D E E\n",
              "[34345] E C C E E C E E D E E E E E E E E E D E D C E E E D E E E E E E B E C D\n",
              "[34381] D D C E D E E D E E E E E D E E C D E D E D E D D E E D D E E D D E E E\n",
              "[34417] E E E E C D E D E E E E E E E B E A D E C D E E E C D E E E E E E E E E\n",
              "[34453] E E E E E E E E E E E E E E E D E E E D D E E E C E E E E E D C C C E E\n",
              "[34489] E C E D E C C E D D C E E E E E D C E E C E C E E C E E D D C D D D E E\n",
              "[34525] E D D E E E D E E E E E E E C E E E D C C E E E D D E C E D D E E E D E\n",
              "[34561] D E D C D D E D E E E D E E C D E E E E D E D E D D E E E E D E E E D E\n",
              "[34597] D E D E D C E D C D E D E E C E E D C E E D E D D D D E C E E E E C E E\n",
              "[34633] E E E C E E D E D B E E D D E E C E D B E E D E E E D D D E D E E E D D\n",
              "[34669] D D E D E E E E D E E E E D E E E E E D C E D E E D B E E E E E E E E E\n",
              "[34705] E E E E E E E E E B C E D E E E C E E E C C E E D E E D E D E E E E E E\n",
              "[34741] E E E D E C C C E E E D C D D E E E D E E E C E E E E E D D E E D E E E\n",
              "[34777] E E E E E E E E E E E E C E E E E E E E E E E E E E E E E E E E E E E E\n",
              "[34813] E E E E E E E E E E E E E E C E E E E E E E E E D E E E D E E D E D E C\n",
              "[34849] B D D E E D D E D D E E E E D D B E A E D D E E D D D E E D E D E D E E\n",
              "[34885] C C E E E D D E D D E D D E D E E E E E E D E E E B D C E E D C E D E C\n",
              "[34921] D E E E E E E D E E D E E E C E E E E E E D E D D D E E D E E E C D E E\n",
              "[34957] E E E E E E E E E E E E E D D C D E E D D D E E E D E E E C E E D E B D\n",
              "[34993] E E E C D C E E E D E D C C C C D D E D E C E D D D E E E E E E D D E E\n",
              "[35029] D D E E E E E E D E E E E E E E E E E D C E E E C E E D E E E E E E D D\n",
              "[35065] D E D D E E E E E E E E E E E E C E D E E E D D E E C D D E E D D E D D\n",
              "[35101] E E C D E D E D E E E D E E E D C E E D E E E E E D D E E E D E E D E E\n",
              "[35137] D E C D B E E B E D D A C B E E E D D D E E C D E E E A B C D E E E E E\n",
              "[35173] E E E D E E C D E C D E E E C E E E E E C E E E E E E E E E E E E E E E\n",
              "[35209] E E E E E D C E D E E E E C E E E E B E E E E E E E E E E E E E E E C E\n",
              "[35245] E D B B D D D E E E E D E E E E D D E E E E D E E E C E E E E D D E E E\n",
              "[35281] E E E E E C E E D E E E E E E E E E E E E E E E E D E E E C D E E E D C\n",
              "[35317] E D E E D D D D E E E E E E E E D E E E E E E E E E E E D E E E E D E E\n",
              "[35353] E E E E D E D E E C E D D E E E C E D E D E E E D E E E E E D C E E C E\n",
              "[35389] E D E E E E E E E E E E E D C E D D E E E E E E E D E E E E E E E E E E\n",
              "[35425] E D D E E E E E E E E E E E E E E E E C E E E D E E E E E E E E E E E D\n",
              "[35461] D D E B E E E E E D E E E D E E D E D E E E D E E E E E E E E C E E D D\n",
              "[35497] E E E E D E E E C E E D D E E B E E E D E D D E C E D E E E D E E E D E\n",
              "[35533] E E E E E E E E E E D D D D D D D E D E E D E E D E E E E E E E C E D E\n",
              "[35569] E E D C D C C E C C C D D C D E E D C B E D C B E C E C E D E E E E E D\n",
              "[35605] E E E C D E E E B E D E C E D E E E E E E E D D D E D E D D E D E E E D\n",
              "[35641] E E E E E E E E E E E E E E E E E E E E E D E E C E D E E E E E E E E D\n",
              "[35677] E E E E E D E E C E E E E B E D E E D E E E E E E E E E E E C D E E E E\n",
              "[35713] E E E C E D E E E E E E E E D E E E E E E E E E E E E E E E E E E E D D\n",
              "[35749] E C D D E C E E D E D C E D E E E D E E E C D C E E E E E E E E D E E E\n",
              "[35785] E E E E E D D B D C D E E E C C E D E E E E E E E E E D D B D E D E C E\n",
              "[35821] E E E E E E E E D E E D E E E E E C E D E C C B C C E C E E D E D E E E\n",
              "[35857] E D C E C E C E A E E D E C E E E E E E D E E E E E E E E E E E E E E D\n",
              "[35893] D E E E E D C D D C E E C C C E E E D E E E E E C E E D C E E E E E E E\n",
              "[35929] E E E E E E E E E E E E E B E C E D E E E D C C E E E E D B E E E E E E\n",
              "[35965] E E E E E E E E C E E E E E E E E D E D E E E D B C D E E E D E D E A E\n",
              "[36001] A C B D E C E E D D E D A B E D E D D D B C C C D D C C D C E E E B B E\n",
              "[36037] D E D E E C E D D E E E E E D C E E E B B E D E C E E E D D E E E E E E\n",
              "[36073] E D E E D D E E E E E E D D C E E E E E D E D E E D B D E E E E E E E C\n",
              "[36109] B C E B B D C C C D B E E E E E E C E E E D D E D E E E D C E E E E E E\n",
              "[36145] E E E E E C E E C E D E E E D E E E E D D D E E D E E C E E E E C D E E\n",
              "[36181] E E E E E D C C D E B E E E C E E E E E D D E E E E E E E E E D D E E E\n",
              "[36217] E E D E D E E D E D E D E E E C B E D E C E E E E E E E E E E E E E E E\n",
              "[36253] E E E E D D E E E E E E E E E E E E C C D E E C E C E E D E E E E E E E\n",
              "[36289] E E E E E C D D E C D B D B D E D E E E E E E D E E E E E D E D E E E E\n",
              "[36325] E E E C E D D E E E E E E E E C E D D E E E E E E D E D E E E E E E C E\n",
              "[36361] E E D E E E E E C E E E E D E E C D D E E E E E E E E E C E E E E E D E\n",
              "[36397] E D D E E E E C D E E E E D E E E E D D E D D E D E D D D E E E D E E E\n",
              "[36433] E D E E D E D C B E D E E E E E E E D E E D E D C D E E E E C D E E E D\n",
              "[36469] D D E E C D E E E D E E E E E E E E E E D E E E E A C E E E E E E E E E\n",
              "[36505] E E E E E D E E E E E E E E E E E E D E E E E E E E D E E D E C E E E E\n",
              "[36541] E E E E E E E E E E E E E E E E E E E E E E E E E E D E E E C B E E D E\n",
              "[36577] E E B C D C D E E D E E C C E D E D E D E D B D E E E E E E E D E D D E\n",
              "[36613] E E E E E E E E E E E E C D C C D E C C C B D C D E C E D D E C E D E E\n",
              "[36649] E E E E D E D E E E E D E E E D E B C D C D C E E D B E E D E E E E D C\n",
              "[36685] E E E E E E C E E E E E E E C E E D E E D E E E E D E E D D E C C E D D\n",
              "[36721] C D E E C E E E E E E E E E E E E E D D D E E E E E C E D E E E C E B C\n",
              "[36757] D D C E C D E E E E E E E D E E E E E E E E E E E E E E B E E E C E E E\n",
              "[36793] E E E E E D D E E D E D E E E E E E E E E E B B D E E E E E E E E E C D\n",
              "[36829] E D E D E E E E E E E E E E E E E E E E E E E E E E E E E C E E C D E E\n",
              "[36865] D E D D D E E E E E D C D E D C C A D B B E C A A A B D B B A A E E E E\n",
              "[36901] E E E D D E E E E E E E E E E E E E E E E E E E E E E E E E E E E D B E\n",
              "[36937] C E E E D C C E D E E D D D D E D E E E E E E E E E E D E E E D E E D E\n",
              "[36973] E E E E E E E C E D D C C D A E C D E C D D E E B E E C D E E D E D E E\n",
              "[37009] E D E E E E E E D E E E E E D A E E E D B C E D D E E E D D E E E E E E\n",
              "[37045] E E E E C D D E E E C E E C D D C E E E B B E B C C D E D D E C E E D E\n",
              "[37081] E E D C E E D E E D E E E E D E E D D D D C E E E E D E D E E E E C C C\n",
              "[37117] B E D D B D C E E E E E D E E E E E E E E D E E C E C D E E D E D E C E\n",
              "[37153] D E E E E D D E C E E E C E E E E E C E E E E E E E E D E E E E E D D D\n",
              "[37189] E E D D E E E E E E E D E E C E D E D E E E B E B D E E E E E E E E E E\n",
              "[37225] E E E E E E E E E C B E C E E E D E E E D E E E E E E D E E E E E E E E\n",
              "[37261] D E E D E E E E E E D D E E E E D E E E E C C E D D E D D E E D D B E E\n",
              "[37297] E D D D D D D C E D E A D C E E E C E E E E D E E E E E E B E E E D D B\n",
              "[37333] E E C D D E E E E D E E E E E E E E E E C E E D E E A E E E E E E E E E\n",
              "[37369] E E E E E D D E E E E E E E E E E D E E E E E E E D E E E E D D E C C C\n",
              "[37405] D D E C B D D E E E D D E C E E E E C D C E E E D D E E E E E E E E E E\n",
              "[37441] D E E D E E E E E C E C C E E C E E E E E E D E C E D E D C E E E D C E\n",
              "[37477] E E C D E E E E E E D E E E E E E E E D D A E E D E D E E E D E D D E E\n",
              "[37513] E D D D E E E D E E C D D E E E D D E E D D E D C E E E E E E E D E E D\n",
              "[37549] E E E E E E D E E E E E E E E E E E E E E E E E E E E E E E E E E E E E\n",
              "[37585] E E E E E E E E E E E E E D E E E D D E B C C E A C B E A B D A C E B E\n",
              "[37621] D D C D E D E E C E C E D C C D D C E E D E B E E E E E D D E E E E D E\n",
              "[37657] E C E E E E E E E E E E E E E E E E E E E E D E D C E D E E E C C E E E\n",
              "[37693] E D E E C D E E E E E E E E E E E E E E E E D E D D D D E D E E D E E E\n",
              "[37729] E E E E E C E E C E E E E D C E D D E E E E E E E E E E E E E E E E D E\n",
              "[37765] E E D E E E C E E D D E E D E E C D E E D E E C E E E E D E E E E D E E\n",
              "[37801] E C E C E E E C E E E E E E E E D D E E C E E E E E E E D D E E D E E D\n",
              "[37837] E E D E E E E D C E C C E E E D E D E E E E D E D E E D E E C E E E E E\n",
              "[37873] E E E E E E E E E E E D E E E E E E E E E E C E E E E E E E D E E E C E\n",
              "[37909] D C D E E E E E E E E D E E E E E E E E E E D D E D E E E E E E E E E E\n",
              "[37945] E E E E E E E E E E E E E D E E D D D E E E E E E D E E E E E E E E E E\n",
              "[37981] E E E E E E E E D E E E E D D E E C E C E E D D D E D D E E E E D E E E\n",
              "[38017] E E E D E E E E E E E E E E E E E E E E D E E D D D E E E D C C E D E E\n",
              "[38053] E E E E E D E E E E E E E E E E E E E E E E E E E E E E E E D E E E E E\n",
              "[38089] E E E E E E E E E E E E E E E E E E E E E E D E E E C E D E D E E E D D\n",
              "[38125] D E E C E E E D E E E D E E D D D E E D D E E D E D D E E D D C D C D E\n",
              "[38161] E E D D D E D D C D C C E D E D E E D E E E E E E E E E C E E E E D D D\n",
              "[38197] E E E E E E E E D E B D E E E E E E E E E E E E E E E E E E D D E C E D\n",
              "[38233] D D D E E C E E D D D E E E D E E E D E E D C E E E D C E C D C D C E E\n",
              "[38269] D E E E D D D C C D C E E E D E D E E E E E D E E E E E E E E E E E E E\n",
              "[38305] E E E E D E E E E E D C D D C D C D D E E D D E E E E D E D D E D E E E\n",
              "[38341] E E E E E E E E E E E E E E E E E E E E E C E E D E D D E C E B D E E D\n",
              "[38377] E E E D E D E D C E E E D E D C C D E D E E D D E E E E E D E E E E E E\n",
              "[38413] D E E E E C E E D C E E E E E E E E C E D E E E D E E E E E E E E E E E\n",
              "[38449] E E E E E E E E E E E E E E C E E E E E E E E E E E E E C D E E E E E E\n",
              "[38485] E E E E E E D E E E E A D E E E E E D E E E E E E E E E E E E E E E E E\n",
              "[38521] E E E D B E E E C E E C E C E E E E E E E E D E E D E E E E E E D D D D\n",
              "[38557] E E D D D D E E D E E E C D D E E E E D C B D C E E E E E E E E E E D E\n",
              "[38593] E E E E E D E E E E E E E E E C E E E E E E E E E E E E E E E E E E E E\n",
              "[38629] E E E E E E E E E E E E E E E E D E E E E E E E E E E C E E D E E E D C\n",
              "[38665] E B A D C C E E D D E D E D E E A D E E E E E E E D D E E E D E E E E D\n",
              "[38701] D E D E D E E E D E E E E E D D E C C D D D D C E D C E E C C D E E E E\n",
              "[38737] D E E E E E D E E E E E E E E E D D E E D E E E C E D C E D C A C B B C\n",
              "[38773] B E C B E D E E D D E D D E C E E E E E E E E E E E C E E E E D E C E E\n",
              "[38809] E C E E D E E D D E E E D E E E E E E D C C C E D E D E E E E D E E E E\n",
              "[38845] E E E D D E E E E E E E D E E E E E E E E E D E E E E E E E E D E E E E\n",
              "[38881] E E E E D A E E E E D E E E D E E E E E D D D E E E E E E E E E E E E E\n",
              "[38917] E E E C D E E D E E E E E E E C D D C E E E E E E C E E E C E E E E E D\n",
              "[38953] D E D D E D E E E D B E E E E D C E E E E E D D C E E C C D D C C C D E\n",
              "[38989] C E D C E D E E C E C D E D E D E E C C D E E E E E B E E D D C E E C D\n",
              "[39025] C E E E D E E E E E E D E D E E D D E D E E E D D D D D E E E E E E E D\n",
              "[39061] E C E E D E D D E D D D E C D C D C D E B E E D D D D E E E E D E C E E\n",
              "[39097] E D D D D D E E E C E E B D E E D B E D D D C D C C D D D D D D E D C D\n",
              "[39133] D E D E E B D D D D E C D E C E C E B E E E E E E D D E C D C E E E D C\n",
              "[39169] E D D E E E E E E E E D D E E D C E D E D D E E D D D D E E E C D E D D\n",
              "[39205] D E E C E B E C E E E B D C B C C E D E B D E D C B C A B C E D C E E C\n",
              "[39241] E E E E C D E D D E D E D C E E E E C E E E D E D D D D E E E C C D E D\n",
              "[39277] E D E E D D E D C E E E D E D D D E D E E E E B E E B C E E E C E E D D\n",
              "[39313] E E E C E B D D E D E E E E E E E E E E E B D E E D D E E D D E E D D E\n",
              "[39349] E E E E E E D D E E E E D E D D D D E E E D E E E D E D E E E E E D E E\n",
              "[39385] E E E E E E E D E D E E E E E E C E E E D E E D E C D E E E E E D E D D\n",
              "[39421] E D E E E E D E E C D E E D C B E E C D E E B C C E E C D D E E D E E E\n",
              "[39457] E E E E E E B D C E E E E E E E D E D D E D E E E E E E E E E E D E E E\n",
              "[39493] E E E E D E E E E E E E D D D E D D E E D E E D D C E E E E E E E E E E\n",
              "[39529] D E E E E E E D E E E E E E E E E D E D E D E C D D D E E E E E E D E B\n",
              "[39565] D E C E D E E E E D C D E E E E D E C D E E D E E E E E D E E D D D D D\n",
              "[39601] D C D E D D E E E E E E E E E E D D E E E E E E E E E E E E E E E E E D\n",
              "[39637] E E E E E E E E E D E E E E E D D E D D E E E E E D E D D E E E E E E E\n",
              "[39673] C B E D E D E D E E E E E E E E E D E E E E D D D E E E E E E E E E E E\n",
              "[39709] E E E C E E E D E E E E E E E E D E E E E E E E E E E E E D E D E E E E\n",
              "[39745] D E E D E E D C D D E E E E E E E E E E E E D D E E E D D E E E D E D C\n",
              "[39781] D C B D D E E E D E E D C D D E E E E E D E E E E E E C D D D D C D E E\n",
              "[39817] D E D E D E D C E E E D E E E E E E E E D E C C E E E E E E E D E E E E\n",
              "[39853] E E E D E E E E D E E E E E B E E E E E E D E E D C D E B E E E E E E E\n",
              "[39889] E E E E E E C C D E D D E E D D D E E D E E D C E D E C D E E D E C D E\n",
              "[39925] E D E C E D E E E E E C E D D C E E E E E E E E D E E E E E E D D E D E\n",
              "[39961] C E E E E E D D E E E D E D D E D E E E E E E C B C E D E E B E E E D E\n",
              "[39997] E E E E E E E E E E D E D E E E E E E E D E E E E E D E D E E E E E E D\n",
              "[40033] E E D E E E E E E D D D B E E E E E C C E E C A D D D D E E E B E E E E\n",
              "[40069] E E E D E E C E D D E E D C D D E E D D E E D E E E D E E E E E E D C D\n",
              "[40105] C C D C D D D E C E D D D E D C C D E E D E D E D E E E E E D E D E D E\n",
              "[40141] E E C C D E E E E B D E E D E D E E E E E E E E E E E E E E E E B C E D\n",
              "[40177] E D E E E E E E E E E E E E E D E E E E E E E E E D E E E E E E D E E E\n",
              "[40213] E E E E E E D E E D E D E D E D E E E E C E E E E E E E E E D D E D D E\n",
              "[40249] E E D E D E E E E E E E E E E E D D E E E C E E E D E E D D E E E E E E\n",
              "[40285] E E E E E E D D E E E D E D E E D E E E D E C D E D E D B D E E E E E E\n",
              "[40321] A C D D D E E B E E E E E D E E E E E E E E E D E D E D D E E E E E E E\n",
              "[40357] E E E D E C D D E E E D D E C E E E D C C D D C E E C E E E E E E E E E\n",
              "[40393] E E D D D E D E E E E D E C C E E E D D D B E E E E E E E E E B E D E D\n",
              "[40429] D C D D E D D E E E E E E D E E E D B E B C B E E D E E E E E E E E D E\n",
              "[40465] C D E E E E C D E E E D E E E E E E D C D D E E E E E E E D E E E E E E\n",
              "[40501] D E D C E E E E E E E D E D E E E E D D D D E D D E E D E E E E E E B E\n",
              "[40537] D E E E E E E E E E D E C E D E D E E C E E E E E E E E E E E E D E E E\n",
              "[40573] E D E D E E E E E D C D E D E D E D D D D E E E E D D D D D C E D D E E\n",
              "[40609] E D E E D E E E E D E B E E D C E E D E D E C C E E E E E D E E E E E E\n",
              "[40645] E E D E E E E E E E D C E E E E E B E B E E E E E E E E E E D E E E E E\n",
              "[40681] E E E E E E E E E E E E D E D E D E E E D E C E E D C A D D B D E C E E\n",
              "[40717] D D D C D E D D C E D D D D E E C E E E E D E D C C D D C B C E D B B C\n",
              "[40753] C B C C E D D B B D D D D C E E C C D E D E C C D E B E E E E E D E E E\n",
              "[40789] D E E E E E E E C E E D D D D E E E E E E E C C D E E E E E E D E E E D\n",
              "[40825] D E E E E D E D E E E E E E E E E E E E E D E E E E E D D B E E D E E E\n",
              "[40861] E E E E D E C D D C E C E D D B D D D D C D D E E E D C C D E E E E D C\n",
              "[40897] E D D C E C D C E D C E D C E E D E E E E E E D E E E D E E C E E D D C\n",
              "[40933] D C A D B C B C B D E E E E E D E E E E E B E D D E E C E D D D C C C C\n",
              "[40969] D E D C C A C C C C E D C B B C D D B C C C B B C C B B C C C C D C D D\n",
              "[41005] C C D D B B C C C C C E D D D D D E E E E E E E D D D B C D E E E E E D\n",
              "[41041] C E E E E D E D D E E E E D E E E E C E E E E E E E E E D E E D D E D E\n",
              "[41077] C E D E E D E E D C C D E E E E E E E E E E E E E D D C D D E C D C A B\n",
              "[41113] C E E E E D E C E E E D D D D E C D B C E E E E D C D D D E E E E E E E\n",
              "[41149] E E E D C D E E E E E E E E E E E E E E D E D E D E E E E E E D E E E E\n",
              "[41185] E E E E E D D D E C E E D D D E E E A E E D E E E E E E D E D E E D D D\n",
              "[41221] E E E E E E E E C E E E E D E E E E E E D D E E E E E E D E E D E D E E\n",
              "[41257] E E E E E D D D D E E E D E E E D E E E E E E E E E E C D C D E D D D D\n",
              "[41293] E E E E D E D E E E E D E E E E E E E E E E E E E E E E D E E E E E E D\n",
              "[41329] E D E E E E E E E D E D D E E E E D C E E E E E E E E E E E E E E E E E\n",
              "[41365] E D D E E E E D E E D E E D E D E E E E D E E E E E E E E E D E D D E D\n",
              "[41401] E E E D D E E D E E E E E E C E A C C E E E A B E B D E D E E E C E E E\n",
              "[41437] D E E E D E E E D E C E D C C D E D E D D D D D C E E E E E E C D C B E\n",
              "[41473] D E E D C E E D E E E D E E C E E E E E C E E E E E D D E E E D D E E D\n",
              "[41509] E D E E D D E E E D D C E E D E E D D E E E D D E D E D C E E E E E E E\n",
              "[41545] C E E E D E E C E E E D E D E E E D A D D E D B E B E E D D D E D D E E\n",
              "[41581] E E E E E E E D E E C D D D D E C E D C D D D E E C D E E E E D E D E E\n",
              "[41617] E E E E E E E E E E E E E E E E E D E E E D E D E E D E E E E E B E E D\n",
              "[41653] E E E E E E E E E E E D E C E E E D E E E E D E E E E E D E E E E E E D\n",
              "[41689] E E E E D E E E E E E E E E D C D E E C D C D E E E E E E E E D E D E E\n",
              "[41725] E D E E D E D C E E E D D D C D E D D C E E E E E E E E E D E E E E E E\n",
              "[41761] E E E E E E D E E E E D E D D D D E E C E E E E E E E E E E D E E D E D\n",
              "[41797] E E D E E D E E E E E E E E E D E E E D E E E D E E E D E E E E D E E E\n",
              "[41833] E D D E E E E E E D E E E E C E E E E E E E E E E E E E E E D E D D D D\n",
              "[41869] E E E E E E E D D D E E E E E D E E E E E E E D D E E E E E E E E E E E\n",
              "[41905] D D E D E D D D E E D E D E E E D E E E E E E E E D E E D E E E E E E E\n",
              "[41941] E E E E E E E E E E E E E E E E E E E E E D D D D D D D E E D E E E E D\n",
              "[41977] E E D D E E E E D E E E E E E E E E E D D E E D D D D E D D D D D D E E\n",
              "[42013] D D D E E E E E C D C D E E B E C E E E E D C C B E E D D E E D D D E E\n",
              "[42049] D E E E E E E E D E D E E E E E D E E D D E E D E E E E E E E E E E E E\n",
              "[42085] E E E D D D D C C E C E C E D C E E E E E E E E E D E D E E E D E E E E\n",
              "[42121] E E E D D E D E E E E E D D E E D E E E E E E E E D E C E C E E D E E E\n",
              "[42157] E D E D E E C A B A E C B E E B E E D C E D E E E E E E E E E E E E E E\n",
              "[42193] E C D C E D D E B E E E E E E E E E E E E E E D E E E E E E E E E E C E\n",
              "[42229] E E E E E E E E C E E E D E E E D E E E D E E D C E C D E E D E E E E E\n",
              "[42265] E A E D D C C C E D E E D D D C E E E B C E B E E D C E D E E E E E E D\n",
              "[42301] D E E E E E C D E E E E E E E D E E E D D E E E E E E E E C E C C E D C\n",
              "[42337] E D E E D D E D E E E D D E E E E D E E E D E E E E E E C D E E E D E E\n",
              "[42373] E D D E E C E C C E D C D D D E E E D D E E D C D C C C C E C E D D E E\n",
              "[42409] E E E D D E E E E D D E E C E E E D E E E E E D E D D E D E D D E D E E\n",
              "[42445] E C E D E E D E D E B E E E D E E E E E E D E D E E E E D D E E A D E E\n",
              "[42481] C E E E D E E C C D E E D C C C C E C E E E E E E D D D E D D C E E E E\n",
              "[42517] C E D E E D E E E E E D C D E E D C E E E E D D E D E C E D E E D D D E\n",
              "[42553] E E E E E E D E D D E E E D D C E E E E D E E E D D E D E C D E E E E D\n",
              "[42589] A C D D C E E D C C D C E B D A A E A C E D D D C B D B C C C C B D D D\n",
              "[42625] E C C D D E D E C C C D C D E B C E D E D C C C C D C E C A D C D C C C\n",
              "[42661] D B E D E E E D E E D E E E E D B B D C C A D E C D C C C A D D C A A B\n",
              "[42697] B A E E E E D E E D E D E C E E C D E E E D E D E D E E E E D E D E E E\n",
              "[42733] D E E E C E E D E E E D E E E E E E E E E E E D E E D D E D D D D C D D\n",
              "[42769] D C D D D D E D E E D D D D E E E D E E D C E E D E E E D D E D E E D D\n",
              "[42805] D C E E D E E C E D E D E E E E E E C D E E E E D E E E E E E E E C E D\n",
              "[42841] E E E E E E D D E E E D E E D E D E E E E D E D D E E E E E E E E D E D\n",
              "[42877] E D E E E E E D E D E E E E E E E D E D E C D E E E E E E E D E D E D D\n",
              "[42913] E D D D D E E D E D E E D D E E D E E E E E E E D D D E E D E D E D D E\n",
              "[42949] D D E E E E E E E E D D E E D E D D E E E D E D C D D D B D E E D E E E\n",
              "[42985] D D E D D D E E D E E E E D E E D D E E E C D E E D E C E E D E E E E D\n",
              "[43021] E C E D E E E E E E E E E E D E E E E E E E E E E E E E E E E D D D C D\n",
              "[43057] E E E E E E E C E E E E E E E C B E C D C E D C D D D D D D D E E E D C\n",
              "[43093] B E E E E E E E E E E E E E E E E E E E A B E D E E D E E E E E E E E E\n",
              "[43129] E D E E E C D E E D D E E E D D E C D E E E E D E E E D D E E E E D D E\n",
              "[43165] D E E D E C E C E E D E E E E E E C D D C C E E D D E E E E C E C E E E\n",
              "[43201] E E E D E E C E D D E E E E E C E E E E A E E E E E E E E E E E E E E E\n",
              "[43237] E E E E E D E E E E E D E E E E E E C E D E D E D E E B E E E E D E D D\n",
              "[43273] E D D E D E E D C D D E D E E E E E E C D D E E C C D D D C D D C E C D\n",
              "[43309] D E E E D D E D E E E C C E C E D C C D D C E E E E E E E E E E D D D E\n",
              "[43345] E E E E D D E E D E C E E E D E E E D D E E E D E E E E D E D E E E E E\n",
              "[43381] E E E E E E E B D D E E D D D E D E D D E E D D D E E E C E E E E D E D\n",
              "[43417] D E D D E D D E E D D E E D D E E E C D E D C D D E D D D E D E D E E E\n",
              "[43453] E E D E E D E B B C A E E E D D D C E C C D C C C D E D D D E E E E E E\n",
              "[43489] E E C E E D E C C C B C C C D C C D C B C C C C C D D D C E C B E E E E\n",
              "[43525] E E E D E C B C B B B C D C C C C C B D C B C C C C E B C A C B D B B E\n",
              "[43561] C B C C B C E D E D D E E C C D D E B C A C A A B C D B C A C E B B E E\n",
              "[43597] E B C B C D D B C B C C C B C D D E D C C D D C A E B B D A C C C E B B\n",
              "[43633] D B E B C C A C C A A B C C D C B C E B E A B B C C A C C B A C B C B C\n",
              "[43669] C B C C A D A E D A A A B A E E E B C E C B D C C A A D B A B A A A A A\n",
              "[43705] A A B B B B A C C B A D E B A B C B A A E B B E A B C E D D D E C D E C\n",
              "[43741] C C D C E D C C C E C C E E D D B C C C C C D C C D C C D E C C C D B E\n",
              "[43777] B D C C D C C C E C D C C D C C B C D C D D C C C E D D C D C D C D C D\n",
              "[43813] D D E D E E D D B C B C D E B E E E C E D C B E C C D C D C C E C D E C\n",
              "[43849] B B B B C C C E B C B D C C B C D B E D C B B C B E C C A C D C D C B E\n",
              "[43885] A E E E E E E E E E D D E D E E D B E E C E D E E E C D E D E E E D D D\n",
              "[43921] D E D C D E C D D E E E D E E E E E D E D E E E E E C D E E E E E E D E\n",
              "[43957] E E D D D E E D E C D E E E E E D E E D D D C D C D D E E C D E E C D E\n",
              "[43993] D E D E E E E E E E E D D D E E E E E D D D D E D E E C C C C D C D D D\n",
              "[44029] E E E D E E E E E E E E D E E D E E E E C C E D E B D D C D D E D C C B\n",
              "[44065] B C E C C E C D D C C C E E C D D D E C D D C E C D D E C C D D C C C D\n",
              "[44101] E C D C C E E E E E D D D E E C E C E D E E E E E E E D D E E E E D D C\n",
              "[44137] C D C C C C D E D C E D D D E D E E E D E E E E E D D E E D E E C D D E\n",
              "[44173] E E E E D D D E E D E C D E C D D D D E D E D C D E C C E E B E D E D E\n",
              "[44209] D D E E E E E E E D C E E E D E E E E D D E E E E B E D E E E E D E E E\n",
              "[44245] E E E E E E E E E E E E C C E E D C C D C C E D E E E D E E D E E D E D\n",
              "[44281] D E D E D E E E E E E D C D D E C E E E D E E E D E D E E E D C E D D D\n",
              "[44317] D D E C E D E E C D E E E D E E E D E D E D D D D C C C C E C E D E C E\n",
              "[44353] E D D C E E E B B D E B E C E C D E E D D D E C C C E E D B D D D E C D\n",
              "[44389] D C B D B B C D E D E D E E B D D D C C C C C C C D D C C E A C D B C B\n",
              "[44425] C C E D C C C C B C C E C D C E C E D C E D E E E E E E E E D C E E E B\n",
              "[44461] C E C C D E E E D C D D D B C E E B E E E E E E E E E E E E E E E D D E\n",
              "[44497] E E D E E C A D D B E A B D E A A D C B A C D E C E E E D E D E E E E E\n",
              "[44533] E E E E E E E E C E E E E C E C B B B B C C B C B B E E E E E E E E C E\n",
              "[44569] D C C C E C D D E D D E C D E E E E E E E D C E E E E D E C D E E E D D\n",
              "[44605] E D E E E C E E D E E E E D E E C D E E D E E D B D D E D E C E E C D E\n",
              "[44641] E E E E E E E E E D D C D E E E E E E D D E E E E E D D D D D D C E C E\n",
              "[44677] D E C D D D D E E E E E E E D E D D E E E E E E E E E E D D D D D E D D\n",
              "[44713] E E D C E D E C D D E E E E E E E D D C E D D E E E D E D D D E E E D D\n",
              "[44749] B C C E E E E D C E D D D D D D E D E E D E C C D C D D D C E C E D B E\n",
              "[44785] E E E C D E E D E E D E E E E E E C D E C E E E E D E E E D E E E E E E\n",
              "[44821] E E E E E E E C E D E E D E E D E C E D C D C E E E E E C C E E E C E C\n",
              "[44857] E D D E E E E E E E E E D D E E C D E C E D E E E E E E E E E E E D E E\n",
              "[44893] D E E D D E E D E E D E E E C D E E E E D E E E E E D D E D E E D E D E\n",
              "[44929] E E C E E E E D E C E E D E E D C E D E E D E D D D D D E E C E D D E D\n",
              "[44965] E E E D E D E E D E D D E E E E D E D D E D E E E C C E D E D D D E E E\n",
              "[45001] C D E D E E D E E E E E E E D E E E E E E E E E E E C C D A D A B D C E\n",
              "[45037] C C D C E C E D E D D E D B B B C B D E E E E E E D E E E D E E E C B B\n",
              "[45073] B E E E E E E E E E E E E E E E E E E E E E E E E D E E E E D D E D E E\n",
              "[45109] C E E D E D E E E E D C E E D E E E D E E E E E E E E C E C D D E B E C\n",
              "[45145] B D E E D E E E E D D E D B B D B E D C C A C A C C D B D C B E B C B D\n",
              "[45181] B C C B D C C E E C B C B C B C A E D E D C C E C D E E E E D E E E C E\n",
              "[45217] D E E A E D E D D E E D E C E E E C C D E B B C B A A B A A B B B A B E\n",
              "[45253] E C E D C E D E E D E D D D E E E E C E D D D E C E D E E E E E E E E E\n",
              "[45289] D E E D D E E D E E D E E E E E D E D E D D E E E E E E E E D E E E E D\n",
              "[45325] D E D D E E E D E E D D E D E E C D D C D E D D E E E E E D E E D E E E\n",
              "[45361] C C E D E D D E E E D E C E E E E E E E E C E E D D E E D E D E E E D E\n",
              "[45397] E E D E E E E E E E E E E D E D D D D D D E E E E E D D E E E E E E D C\n",
              "[45433] C D D E D D E E E E E E D E E D E E E E E E E D E E E E E E D D D D D E\n",
              "[45469] E E E E D C E E E E E E D E E E E E E C E E E E E E D D D E E D E E E E\n",
              "[45505] E E E E E E E E E D E E E E E E E E E E D E E E E E E E E D E E E E D E\n",
              "[45541] E D E D D D E D E E E E E E E E E E E D E E E E E D D D E E D E D D D E\n",
              "[45577] D E E E E E E E E E E E E E E E E E E E E E E E D E E D C C C D D D C D\n",
              "[45613] D D D D C E C C E E E D D D E E E E E D D E D E E E E E E E E E C E B E\n",
              "[45649] D D E E E C E E E D C E B E E E E E C D E D E E E D E E E E B E E E E D\n",
              "[45685] E D D D E E E E E D D C E D E D E E D E E C D E E E E E E C E D E D E E\n",
              "[45721] E E E D E D E C D E C E D E D C E C D D E C D E D D D D C E E E E E E C\n",
              "[45757] E E E E E E E E E E E E E D E E E E E E D E E E E D D E D D E E D E E E\n",
              "[45793] E E E E E E E E E E E E E E D D D E D D D E E E E E E E E E E E E E E E\n",
              "[45829] E E E E C E D E E E E E D E E E D E C D E E D E E E D E D D E E E E E D\n",
              "[45865] D E E E E E E E E E E E B C D C C E D B E E E E E D E D E E E D C E E E\n",
              "[45901] E E E E D E E D D D D D D D E E D C E D E E C E D E C E E D E D E E E D\n",
              "[45937] E E E D E D D E E E E E E E E D E E C E E E C E E E E D E E E E E E C E\n",
              "[45973] E E D E E E E D E E E E E C E E D D E E E C E E E E E E E E E E E E E E\n",
              "[46009] D E E E E E B E E E E E E D E D D E D E E E E E D E E E E E E E E D C D\n",
              "[46045] E D E D E E D E E D E D E E D E E E E E E D D E E D B D E E E D C E E E\n",
              "[46081] E E E C C E C E B C C D E E E E D D E D E E D D C D E D E E E E D E E E\n",
              "[46117] E E D D E D D E E E D D E E E E E E E E C E E E D E E E E D E D E D E E\n",
              "[46153] E E D D D E E E D E E D E C E D D D E E E B E D E E D D D E D E D E E D\n",
              "[46189] C D E E E E E E C E E E E E D E E E E E E E D E E D E E E E D E E D E E\n",
              "[46225] E E D D E E E E E D D E E D D D D D E D D D E D D E E E E D E C D E E D\n",
              "[46261] D E D E E E E E E D E C E E E E E E E E E E E E E E E D E E E E E D E E\n",
              "[46297] E E E E E C E E E E E E E E E E E C E E E D E C D E D E E E E E E E E E\n",
              "[46333] E E E E E E E E E E E D E D E E E E D C E E E D E E E D E E E E E D E D\n",
              "[46369] C C C C B E E A D E D C E E E E D E E D D E E E E E D E C E E D E D D D\n",
              "[46405] D E E E D E B C C D E E E D E E E E E E D D E C E C E E E E E E E E E E\n",
              "[46441] D E E E E E E C E E E E E E C D D E E E E C E E C E D D E D E E E E E E\n",
              "[46477] E E E E E E B E E E C E D C E E D E E E E D E E D E D E E E E E E E D E\n",
              "[46513] E E E E E E E E E E E E E E E D D E E E C E D E E E E E E E D E E E E D\n",
              "[46549] E E B D E C E D D D E E E E E E C E E D E D E C E D D E E D E D D E E E\n",
              "[46585] E E D E E E E C E E E D E E E E E E E E E D E D C E D E C C A D D D D B\n",
              "[46621] C D B D C D D E D D D C E B C C C B C C D D C C D B B B B E B E E D E C\n",
              "[46657] D E D E E E E E E E D D D D E E D C B D C D D D D E E C E E D E D D D E\n",
              "[46693] E E D E D E E E E E D E E E E E E E E D E C D E E B D E D E E E E E C D\n",
              "[46729] E E E E D D E E E E E C D C E C C E E D E D D A D D E E B E E D D E C D\n",
              "[46765] C E E E E E E D E E E D C D E D E D E E E C C E C E D D D C D D C D D E\n",
              "[46801] D D E E D D E D E E D E E E E D E E D E B D D E D E C E E E E D D E E D\n",
              "[46837] D E D E C D E B C E E D E E D E E E E E D E E D E E E E E D E E D E E E\n",
              "[46873] D E D D D D E E E E E E D E E E E D E E D E E E E E D E E C C D D E E E\n",
              "[46909] D E E D E E C D C C E E E C E E D E E E D C E E E E C D D E E E E E D E\n",
              "[46945] E E D E E D D C D E E D D E D E C D E D E E D E E D E E E C E D D B C D\n",
              "[46981] E E C B E D D D E E E E D D C E E E D E E E D E C E E E E D E E C C B B\n",
              "[47017] D B E E C E D B C E D E D C D E E E E E E E E C D D E E D E E E C D E E\n",
              "[47053] E E D E E E E E D E D E D E D E C D E D E E D E E D D E D D D E E E C E\n",
              "[47089] D E E D D E E D E E B D C D C E E E D D D D D C B C D B C C D C C C C C\n",
              "[47125] E C C D C E C D C C C E E D A B B A C B B C B A C A B B C B A B B A B B\n",
              "[47161] E C C B B B D C C E C E E D E E D E E E D E E E D E D D E E E E E E E D\n",
              "[47197] E E B E D D E C C C E E C D E E E D D D D E E E E D D E E D E C E E D C\n",
              "[47233] D D E D E E D C D E C B E D C B B D B B D E E E E E E E E C E D C C B D\n",
              "[47269] D C E E E E A E D D E D C E D D E D E D D C D E D D E D E D E E E E D E\n",
              "[47305] E E E C D D B A B B A A B C C A B C E E E E D E D D C D E E E D C D E D\n",
              "[47341] E D E E E C E E E E E E E E E C D E E E D E D E E D E E D E E E E E E E\n",
              "[47377] E E E D E E D E E E E C D E E E E E E E E E D E E E E E D E E D E E E E\n",
              "[47413] E E E E E E E C E E E D D E D D D E C D D E E E E E E E E E D D C D E E\n",
              "[47449] E E D E E E E D E D D D E D D C E E E E E E E E D E E D E C D C D D C D\n",
              "[47485] E E E E D D E C E D D E E D E D C B E E E E E E E E E B A E D E C D D D\n",
              "[47521] E D D C C E E E D D D E E E E C E E D D E D D E D E E D D C C B E E C A\n",
              "[47557] B E E D D C C E D E E E E E D E E E E D E E E E E E E E D E E E D D E E\n",
              "[47593] E E E E D E E E E E C B C E C E E C E C D E E D C D D C D B B C C C D D\n",
              "[47629] C C D D D B C D C C C C C C B D C D C C C D D E E E D D C E E E E C D E\n",
              "[47665] D B D B C D C B D E C B B C C C E D C C D C B D D C D E E E C E D D C D\n",
              "[47701] D E C C D C D D C D E D E D C D D D E D E E E D D D C C E E E D C D D E\n",
              "[47737] C C E E D E E C B C E D E C D D B E D E C C D C E E E B C A A D D E E D\n",
              "[47773] E D D D D E D D D B E E B E D C C C D C D C D D B B D D D D A B E B C D\n",
              "[47809] C E D D D D E D D D D D E E C E E E D E D D E D D D D C E E D D D C E D\n",
              "[47845] D E D E D E D D D E E E E C E D E D D E D D E E D E E E E E E E E E C E\n",
              "[47881] D E E E E E E E B E C D E E E D C E D D D E E D D B D C D C D C E D E E\n",
              "[47917] C E E E D D D D E E D E E E D E E D C D C E B E E E D C E E D E E E E E\n",
              "[47953] C D E D D E E E E E E E E E D E E E D E D C E D E D C E C D D C E E E D\n",
              "[47989] E E E E E E E D D E E D E E E D E E D D E E E E E D E D E E E E E D E E\n",
              "[48025] E E E E E D E E E D E E E E E E E E E E D C E E E E D C D E E E D E E E\n",
              "[48061] E D E E C B C D B B C C C B C C E E D D D D E C E D D E E C E E E E E E\n",
              "[48097] E E E E E E E E E E D D C E D E E D D E C D E E D E D D E E E E E D D E\n",
              "[48133] E E E E D E E E D E D B E E D C E D D C C E E C E E E E E E E E D D E E\n",
              "[48169] E D D D C D D E E D D D C E E D E E E D E D E E E E E D E E E E D E E E\n",
              "[48205] E D D D E E E D D C C D D E C C E D E C E E E D E E D D E D D E E C C E\n",
              "[48241] D E D D D D E E E D D E E E C D D E D D C D D C D E E E C D E E E E D D\n",
              "[48277] D E E E D D E E E E D E D E B D C C B A C E E B E D E D E E C E E B E D\n",
              "[48313] D E E E E E E D E D E D E E E E E E D E D E D D E E E C D D E E E B E E\n",
              "[48349] E E D C E D E E E E E E E E D E E D D D D D E D D E D D E D E D C E D E\n",
              "[48385] D D E C E C D B E D B C E E E E E D E D D D E E D E E E D E E E D D E E\n",
              "[48421] D E D E D E D E E E D D E E E D D E D E D D D E E E D D E E E C D D C E\n",
              "[48457] D C D E B D A C D E E E E E E E E E D D E C E E E E E E E D E E E E E C\n",
              "[48493] E C E E E E E E E E E D D E E D E E D E E D E D E E E E E E E C E D E E\n",
              "[48529] E E E D D E D E E D D E D D E E E D D D D D D D D D C E D E D E E E D E\n",
              "[48565] E D C E D E E E D E E D E E E E E E E E E E E E E E D E E E E E D C E D\n",
              "[48601] D E E E D C D E D D D B D D D E E E E E E E E E D E E E E C D E E E E D\n",
              "[48637] E E C E D D D E C E C D B C C E D C D C C E B D C D E D C D D E D C B C\n",
              "[48673] C E E D D E D D D E C E E E D E E E C E C E E D D D E D C D C D C D E E\n",
              "[48709] E D E E D E E D E C C E D E D E E E E E D E E E E E E D E E E D E E C E\n",
              "[48745] D D E E E E E E E E E E D C B D D C E D D E E E B D E C C D C C A D E E\n",
              "[48781] D D E E E D D D E E E E E E E E D D D E E D E E E C E D E E D D E E E E\n",
              "[48817] D E E C D E E D E E E E E E E E E E D E E E E E E E E E E E E E E E E D\n",
              "[48853] D E D E E E E D C C D E E E D B D E E E E E D E E E D E E D C A E E C E\n",
              "[48889] E B D D D C D D E E C E D C C D D E D E E D D E C D D D D E E E E D D E\n",
              "[48925] E E D D C D D D D D E E E B D D E E D E C E D E D E C E C E E D E D D D\n",
              "[48961] C E D E B D E E D E D E D D E E D D D E E D E E C E D E E E D E E E E E\n",
              "[48997] D D E E C D E E E D E E C B D E C C B E D C E E E D D B C E C D D E E D\n",
              "[49033] E E E E E E E E E E E E E E E D E D E D D D D D C C E B D C C B B D D D\n",
              "[49069] D D D C D E E B E D D D D C C D C D C E E D C E D D D D E E E E E E E E\n",
              "[49105] E E E D E E E D D E E D E E D E E E D D E E D E E E E D D D E E E C E E\n",
              "[49141] E E D E E C E E E E E E E E E E E E E E D E E E E E E E D E E E E E E E\n",
              "[49177] E E D C E C C E E D D E D E C E D D D E E D E D E E D E E C B C E E C E\n",
              "[49213] C E D C E D D D E E E D E E D D E C E E D E C E D E E E E E E E E E E E\n",
              "[49249] E D D E D D E E E E D E E E E E D E E E E E E D D E E E E E E E D E E E\n",
              "[49285] E E E E D E D D E E E D E E D E E E E E D D E E E E E E E E E E E D E E\n",
              "[49321] E E E D E E E E E E D E D E E E E E E D E E E E E E D D E E D C E E E E\n",
              "[49357] C E C C E C C E C D E E D D C E E D E D D C C D E C D C E E E E E E D E\n",
              "[49393] D E E E E E E E E E E E D E E E D E E E C E E E E E E E E E E E E E D D\n",
              "[49429] D E E E D E B E B D D C E E E E D B E D E B D D E C E E E D E D D E D D\n",
              "[49465] E E E D E D E C E E E E D E E D D D D E E B D E E E E E E E E D D D E E\n",
              "[49501] D E E D E E D D E D E D E B B B E D E E E E E D E D E E D D D E E D E E\n",
              "[49537] E E D E D D D D E D D E E E E C E E E E E E D E E E E E C D E D E E D D\n",
              "[49573] B C E E D D E E E E E E D D D E D E E C D E E D E C E E E E D E E E E D\n",
              "[49609] D C C D D E C E D D D D E D E E E C D D D E D D D D D E E D E C C E E D\n",
              "[49645] E E E E D D D D D D D D E D D D D D D D D E D E E E E E E D D C D E E E\n",
              "[49681] E E E E B D D D D D E E E D D D D E C E E D D E E E E D D C E D E E D E\n",
              "[49717] E E D E E E E D E D E C E D D D D C C C C D D C D E D E E E D E E E E D\n",
              "[49753] E E D E E D E E E D D E E E E C D E E E E E E D E E E E E E E D D D E C\n",
              "[49789] E D C E C E D C D D C E E D E E D E C E C D C C D C C D B E E D E D D E\n",
              "[49825] D D C E E E E D D E D E E D D E E E E E D D E D C C E E E B D E E E E E\n",
              "[49861] E E D D D E D E E E E E E E E E E B A C B E E D D D D E E D E E D E D E\n",
              "[49897] E D D E D E D E C D D D E D E D E D E E E E E E C E D E E E E C E E E A\n",
              "[49933] B C D D B D B C D C A B C C A C D E B E E C E C C E E B E E D E E C E E\n",
              "[49969] D D E D D E E E E C E E E D D E E E D E D D D D E E E E C E E D E D E D\n",
              "[50005] D E C D D E E C E D E E E D E E E D E E D E C D D B D D E E D E E E E D\n",
              "[50041] E E C D C E E D E E D C D D D C E D D E C E E C D D B E E E C D C D D E\n",
              "[50077] E D D E C E E D E E E D E D E D D E E D D E E E E E E E E C E E E D E E\n",
              "[50113] E E E E E E E D E E C D D E C C D B E C C E E D C E D E E E E E E D E E\n",
              "[50149] E E E E D E E E D E E E E D E C E E E E D E E E D C E D C E E E D E E D\n",
              "[50185] E E E E E D E D E E A D E D E D D E E E E E E B E D D D D D D D D D E D\n",
              "[50221] D E D D E E E E E E E D E D D D D D C C C B D D D E B C D D E E C D D E\n",
              "[50257] E E D D E D E D E D E D E D D D C E E E D B E C C B C B B C C B B C B C\n",
              "[50293] E D D D E D D B D C C B B C D D D D D E D C E D D E D D D D E E D D E D\n",
              "[50329] E D E E D C D C D D D D D C E E D D E D E E E D D D E E E D C D D D E E\n",
              "[50365] D E D E E E E E E D D D E D D C C E E C D E D D D E E D D D D C E C D E\n",
              "[50401] E C B E E E C E E E E D E D D E E E E E E C E E D E E D E D D D E E E E\n",
              "[50437] E D E D E E E E E E B E D E C E C D C C E E C C C C C E D C D D E E C E\n",
              "[50473] E E D E D E E E E E E E D E E E C E D E E E D D E C D E E E E E D E E D\n",
              "[50509] E E D E E E E E E E D E C D D E D E E E E E E E E E D E E D E E E E D E\n",
              "[50545] E E D E E D D D D E E D E D D D C E D E C D E D E D E D D D E D D E D E\n",
              "[50581] D D E D C E B B B E E D B C D C D C D B B B E B D E E E C D E D D E E D\n",
              "[50617] D E D E E D C E E E E E D E D E E E E D D C D C D D D E D D E E E D E D\n",
              "[50653] D E D D E E D E C D D D E E D E E E D D D D C E D D E D D E D B E D D C\n",
              "[50689] D C D C E D E C D D E E C E E D E E E D D E E E E E E C D E E E D E E E\n",
              "[50725] E D E D E C C C C A D E D E C B D D E D D E E E D D E D E E D C E E E E\n",
              "[50761] E E C C D D E D E E E E C D E D D E E E E E D E C E C D B E D D D E D E\n",
              "[50797] E E D C B E C D E E E E E D E E E E E D E E E E E E E D D D E D D E D E\n",
              "[50833] E E A C A C D E E E D E E C D E C D B D D E D D D E E E E C C E E E E E\n",
              "[50869] E E E E D E E E E E E E D E E E D D E E E D E A C E E E E D B C C D E E\n",
              "[50905] E D D E D E E D E D E E E E E E C C E E D D E E E E E E E E E E D C E D\n",
              "[50941] D E D D D E E E C E E E E C C D D E E D C E C B E B E B C C C E B C C E\n",
              "[50977] E D C D E E E E E C D C C E E E E E E E E E E E E D E D D D D C D E E E\n",
              "[51013] E E E E E D E D D E D E C E D D E D D E E D E D D E D D E D D E E E D D\n",
              "[51049] E D E E D C E D E E E D C D E D D E E C C C D D E D E E D D E D C D C C\n",
              "[51085] E C E E C E D D E D D E D E E D E D D E E E E D C D C D D D D C D E D D\n",
              "[51121] D E D E D B E E E D D E E E E E C C E D C E E E C E C D D E E E E E E D\n",
              "[51157] E D E E C E E C D D E D E D D E D C D D C C D E C A C E E D D D E E C E\n",
              "[51193] E C E D E D E E D E D E E D D C E E D B E D D E D D E E E D D E E E E D\n",
              "[51229] E D E E D C E C E D E E D D E E C E D E E E D D E E D E E E D C E D B D\n",
              "[51265] A C E C C D A C B C D C C E C E E D C B B D D C D C E C C E D E C A D C\n",
              "[51301] D D E C C D D E E D E D E E D E E E D E D E E E E D D C E C D B E C D B\n",
              "[51337] C A D D C A D B C C C C B E C C C D B D D E E D D D D E D E E D E D E E\n",
              "[51373] C B E B D C D B C C E D E C B E E B C C C E C B D E E D D E D D D B E D\n",
              "[51409] C D E D E C C C C C D C C E E E B E B D E E D E C C E D C E E D C D C B\n",
              "[51445] C D B C E D C E A D E D E C E C D B E E E E D E E E E E E D E D E E E D\n",
              "[51481] C B C B C C C E C B D C C B E E B B C B B E C E C C E E D B D E E E E E\n",
              "[51517] E D E E B B E B B D C E C E C C C E C E E C C D E E C D D D E C C D D E\n",
              "[51553] D E E E E E E E E E E E E E D E E E E E E D E C E D E E C E E D E D E D\n",
              "[51589] D E E D C B B C C D D B C C C C D E E A C C C C E C E D B C C C C D C E\n",
              "[51625] D D E D C C E D E D E E D D D E E D E E D B D C E E D E C E D C E D E E\n",
              "[51661] E D E E E E E C C B A D C A B B B D B C D A E C C C D D E D E D D D D E\n",
              "[51697] D E E E B E E C B C C D E C C C D D E E D E C D E E E D C E E C D E E E\n",
              "[51733] E C C E E E E D E E E E E D E D C D C E D D D E E E D E D E E E C E D E\n",
              "[51769] E D E D D D E C E E C E E D E E C D E D E E E E D D C D D E E E E E E E\n",
              "[51805] D E D E D D D E D E D D D D D E C D E E D D D E D E E D B E D D D D C D\n",
              "[51841] C D D E D E E E D C E D D D D E E E E D C D E E E E E E D D D D D D D E\n",
              "[51877] E E C E E E E E C D E C B E D D E E D E E E D E E E E E E D C D E E D E\n",
              "[51913] E D E E B D D C B B E E E E E E D E E E E E E C C C C C C C C D C C C C\n",
              "[51949] C C D B B B B B E C D E E D E C D E C E E E D E E D D D E E E E E E C D\n",
              "[51985] E E D E E E E E D E D E E E C E D E C C E E E D E C D B D C D C C A B D\n",
              "[52021] A A B E D D E D D E E E E D E D E E C E E E D E D E D D D D E E E E D E\n",
              "[52057] E D E B C C C D E E C E A B C B C C C C D C C C D C C D D E E D D E D D\n",
              "[52093] C E D E D E B E C D E D E E E E E D E D E D D E E D C E D E D E D E E E\n",
              "[52129] D D E E E D D E D D E E E D E E E E D E E E E E E E D D C D C E D D E C\n",
              "[52165] C D E E E D D C D E D D E E E D D C E D E C C E D C D D D C C A C D E D\n",
              "[52201] D C D D D C E C C D C C D E B D C C B B B B D C B D D E D C C E D D D D\n",
              "[52237] E E E D D E E E C D D C E E D E E E E E E E E D E E D E E E D D E D E E\n",
              "[52273] C E D E C E C E D D D C E E D B D D E D D E C C D D E E E E E E E D E C\n",
              "[52309] C E E D E D D C C D D E E E E E E E E D E E E E E E E C C D E D C C D C\n",
              "[52345] A C C D D B C C E E D D D E E E E E E E E E D D E E D D C C E E D D E D\n",
              "[52381] E E D E E E D E E D E D D D E D D B D C C B E C E E D E C E B E D E B D\n",
              "[52417] D D E E C E E E E E E E D D E D B D D E E E D E D E E E E E D E E E E E\n",
              "[52453] E E D E E E D E D E E E D C E E E E E D D D D E E E E D E E E E E E E D\n",
              "[52489] E D D E C E E E D E E D E E E D D D E D D D E D E D D E E E E E E E D D\n",
              "[52525] E E E E D E D E E E E E E D D D E E E E D D E E E E E D E D D D E E E C\n",
              "[52561] C C B E B A D B C B C C C C C D C C C D B D E C D D D D D E C D B D D E\n",
              "[52597] D C D E E D B C B E D E E E E D E E C E D C E E E E E E E C D E C C E D\n",
              "[52633] D E D D E C E E D E D E D D C C D E B C C C E E E E D E D D E E E E E E\n",
              "[52669] E D E D E E E D E D D C E C C E E E E E E D E E E E E D E E E E E E D D\n",
              "[52705] E E E E E E D E E E D E C D B E D E D E D E E E C E D E D E D E D E D E\n",
              "[52741] D D D E E E E E E E E E E D B E A E B C B B C A B C A B C A B D D E D E\n",
              "[52777] E E E E E E D E E E E D E E D E D D D D D E C C C E E E E E C B B B B E\n",
              "[52813] D B C B C D B D D B C B A B A D A A B A A B C B E B B C B C E E E E E E\n",
              "[52849] E E E E E E E D E E D E E D E C C E D E E E E E D E E E E E E E E E E D\n",
              "[52885] E D D E E C E E D E E E E E E E D E D E E D C D C E D C C C E E E D E E\n",
              "[52921] E E D E D D C E E E D E D B E D E C C B C D D B B E D D D D C C D E D E\n",
              "[52957] C D D D E D B A B A B C C D D E E D D D E E D E E E D D E C D E E E D C\n",
              "[52993] E D A C C B C C B B E E D D D D E D D E E E E E C C E D C E E D D E E E\n",
              "[53029] E E E E D D E E D D E D D E E E D E D E E E E E E E E D E E C E D E E E\n",
              "[53065] E E E D D D E E C D E E E E D E E E E E E E D D E D E E E E E E E E E E\n",
              "[53101] E D E E E E D E E D E D E E E E C E E E E E D E E D D E D E E E E E E D\n",
              "[53137] E E D E E C E E C B C C C C C B E B B A C A B B D B E C B B C B C B D B\n",
              "[53173] E E E D C E E D E E D E D E D D E E E E E D D C E C D D D E E C D D E E\n",
              "[53209] E D E E E D D D D D C D E D D C D D D D E E E E E D E D E E C E D E C E\n",
              "[53245] E E D D E D E E E D E E D C E E E E E E D D B C D C A A E C C E B C B C\n",
              "[53281] B D B E D C E B C C C A D B C D D D D C C E D E D E D D D C E C B E E E\n",
              "[53317] B B E D C E D E E E C D E D D E D E E E E E C C D B B C C B D C B C E D\n",
              "[53353] E D E E E E E E D D D E E E D E E E E E E E E D E C D E D D C D D D E D\n",
              "[53389] E C D E E D D E E E E E C E D E C E E E E E E D E E D E D E E E E D D E\n",
              "[53425] E D C E D E D C D E C E B E D D D E E D D B D E B C A D C B B A B C E E\n",
              "[53461] E E C B B B C D C C D E E E E D C C C C E C D B B C B B B B C A E A A A\n",
              "[53497] E A C B A A A A B B C C E C D C E B C E C C D E E E E E E D E E E E D E\n",
              "[53533] E E D E E D E E D D E E D E D D E D D D E D E C D D D D D C C D D E D B\n",
              "[53569] C D D C B C E D C E D B D C E C C C B D E C D D E D C E E B D E C D C C\n",
              "[53605] E E C D E E E D D D C E D E E E E E D E D E D D D E E E D E C E B D D C\n",
              "[53641] C D E C E D D E B C D C D C E D E E D C D E C E E D E C E D D E C E E E\n",
              "[53677] C E D E E D D E A B D C E C E C D C D C D D C C B E C E E E B D C C D D\n",
              "[53713] B C C B D D C C C D C C D E E B D D C D D C C C E C D C D B E C E C D D\n",
              "[53749] D E E C D D B E D D C E D D C C E C D E C D D E E D E D E E E E D E E E\n",
              "[53785] E E E E E D E D D E D E E E D E E C E E E D E E E D E E E E E E E E E D\n",
              "[53821] D C D E C D E E E D E E E C E E E D E C D E E E E E E E E D D D C E E E\n",
              "[53857] E D E E E E E E D E E E C E E D E D D D E D D D D D D E E D C C D E D D\n",
              "[53893] D E E B C E D D E D D D E B B A A A D D D D E B D B D D D C C B B A C D\n",
              "[53929] C E A B C D C D D D D C D C D C B B B C D D E E E C D C E E D C E E D D\n",
              "[53965] E C C B D D C A C C C C D C B B C C E E E D D D A B D C B C D E D D D D\n",
              "[54001] D C D E E D D C D D D D C E C D C C C D C C E A B B C B A C C E D E D D\n",
              "[54037] E D E C E D E D E D E D E D E E C C D E E D E E E D E E E D D E E D D D\n",
              "[54073] C D E C D E E D D E D E E E E C D E D E D E D E D C E D D D B A B C B C\n",
              "[54109] C D E D D D B B D E E D E D E E E D E D E B E E E E E D E D D D E E D E\n",
              "[54145] E D E B E D C C D C E E D E E E D E D E D E C C E C E E E C E E C E E D\n",
              "[54181] E E C D D B E D C D A B B C B C D B B C B C E C B C A C D B E A A A B A\n",
              "[54217] A B C B D E C D C D C E D E E D D D D E E E E E E D B E D D E D E E D C\n",
              "[54253] D B C D E D E E C D E C C D D D D E D D D D D D D D D D E D E E E D D B\n",
              "[54289] A D B D A C B B C D D B A C C C D B E D E D E E E E E D E E D D D C E D\n",
              "[54325] E E D D E D D E C E E E E E E D E E E E E E E E E E D E B E D E E E D E\n",
              "[54361] D E E E E E E E E E E D E B D E E E E D D C E C D D D D D B E C B C C D\n",
              "[54397] D E C E E D E E D E D D C C E D D E D E E E E E E E D E C E D C E D E E\n",
              "[54433] C E E E C E E E E E E D E D D C D E D D C D E D B D D D E D C B D D D D\n",
              "[54469] D E E E C E C E D D E D E C E E D B C D E D D E C D D D E D D E D D D E\n",
              "[54505] E D E D E D E D E E E E E E E D E D C C C D E D D E C E E E D E D C B D\n",
              "[54541] C E E D E E D E E D E E C E E E E D E E E E E E E D D E D E E E E D D C\n",
              "[54577] D E D E D E D D C E E D E E D E E E E D D E D D C E D E E D D D E E D E\n",
              "[54613] D D D D D D C D C E E D E E D E E E C E D D D D E D D C A E D E D E E D\n",
              "[54649] D E E D E E E E D E D B D E D D E D E C D E E D E E D E E E E E E E E D\n",
              "[54685] D D D E D E D D E E D D E D D D E D D E E D C D D C D D E E E D D D E E\n",
              "[54721] E E E E D E E D E C D D E E E E D D D E E E D C E E D E E C E E E D D D\n",
              "[54757] E D E E E E E D E E E E E E D D E C C D D C D D E E D E E D D E E E D E\n",
              "[54793] C E E E E D E E E C C E E E E E D E E D D C D B E D E E E D E E E E E D\n",
              "[54829] D E E D E E E D D C E E D B D B E E D D E E D D C C E E E E D D D D E E\n",
              "[54865] D D E E E E D E E E E E E E D D D D E E E D D D D D E D C E D C D E D E\n",
              "[54901] D E E C D E C C E E E D E D E D E E E E D E E E D E E E E E E D E E E E\n",
              "[54937] E E E E D E E E E E E D E E E E D D E E D D D E D E E E E E E E E E E D\n",
              "[54973] C D D D E D E E D E E E E E E D D E E D E E D E E E D E E D D D D D E D\n",
              "[55009] E C D C D E B E E E E C D E E E E E E D C E C D E E D D D E C E E D D D\n",
              "[55045] E E E D E E D C E E E E D D D E D D D D E E E C E D E D E E D E D E E E\n",
              "[55081] D D E E C C E E E E E E C E E D C B C D C D B D D D D E E E E E E D D E\n",
              "[55117] E E E E E E D D E D D E E E E D C D E D C E D E E D D E D D E C D E D D\n",
              "[55153] D D E D E D C D D E E D E D D E E C E E E D C D E D C D A D E E D D C E\n",
              "[55189] E E D C E E B E E E E E E E D E E E E E E E E E E E D C B E E E B E D C\n",
              "[55225] E E C D C E D E E E D D E D D E D E D E D C E C E D C D D D C D D D E E\n",
              "[55261] E D E D E E D E E D C E E D E E E B E D D C E E E E D D E D C E D D D D\n",
              "[55297] E E E E E D E E E D D E E D D D D D D C E D D D E E D E E E E D D E E E\n",
              "[55333] C D D E E E E E C E E E C D E D E E E E E E E E E E E D E D E E E E E E\n",
              "[55369] E E E E E E E E E E E D D D D E E E E B E D E C D E E E D D E E D C E D\n",
              "[55405] E B D D D E D D D D E E E D E D D D E D D E C D D E E D D E C E C E D E\n",
              "[55441] D E E E E D D E D E D D D E D E E D D C C C D E E D C C C D C E C D D E\n",
              "[55477] E E D D E E E E E D D E E E D E D E E D E E E E E E D D C E D D E E E E\n",
              "[55513] E E E E D D D D C D D E D D D E D C D C D C D D D D C E D D D E D D E D\n",
              "[55549] C D D E E E E D D E E B D E E D E D E B D C E D D D D E E D E E E E E D\n",
              "[55585] E E E D E D D E D E D E E D E A E A C C E E E D E E D D E D E C D E E D\n",
              "[55621] E D E E E E E D E E D C C D D C D B D E D D D E D D E C D D E E C D D D\n",
              "[55657] D C C D D E B C C E C C E E E E D D D D E E C E E E C E E D D D D E D D\n",
              "[55693] E E D D E D D E C E E D B C B D E E C C C E C E D D B E E D E C E D E D\n",
              "[55729] D E D E D E E D E D E D C D E D D D E E E E E D E E C D E A E C C B D C\n",
              "[55765] E C D A E E E E E C D B E C E E D D E E D E E E E E C D E E E E E E E E\n",
              "[55801] C E D E E E C D C E C D E D D D D C D E D D E C E E E E D D E E E D E E\n",
              "[55837] D C E D E D E E C D D E D C C D D D D E D D E D E D D D E D D D E E D D\n",
              "[55873] D E D D E D E E D D D D D D E E D E E D E D D D D D D C D E E D E C D D\n",
              "[55909] E E D D D D D D E D E C E D D C D D D E D E D D E E E E D E C D E D D E\n",
              "[55945] D E E E E E E E C E E E D B C E E C C E E E D E E E E D E E D E E D D E\n",
              "[55981] C E D E D D E E E E E E E E E C D E B E C D E E E E E D E E E E E E E E\n",
              "[56017] E E D E E E E D E E B E E E E E E E E D C D D E B E E D E D C E E E E E\n",
              "[56053] E E D E D D D D E E C C D E D D B E E D E C C C D C E B D C C D A B C D\n",
              "[56089] E D C D C D B C B C B B C C D C D C B D D B B A C B A C C A A B C E B B\n",
              "[56125] C C A B C A B B C C A A B C A C B A E C B E C A B B B C A B C C A D D B\n",
              "[56161] A C B D E D E E E E D D E D D E A D C B D D C D D D D C D E E E E E E D\n",
              "[56197] E D E C E C C D C D E C D B D D E E C C E E C D B B C E E E C E E C D D\n",
              "[56233] A C D C E B D C E B E A D D E D C E C D C C C D D E E D E E B C E D D C\n",
              "[56269] C C C D C E E D E D D E A C C C E E E D C D E C C C E D E E E E E C C D\n",
              "[56305] D D D D D D E E D E E D E C E C D D E C B D D D E C C C E B D A B A D D\n",
              "[56341] D E E C E E D B C B C C C D E E C D B D D E C B C C D C E E D C C B C E\n",
              "[56377] B E E E E D D D C B E C D C E E E D D B E E E C E E C C E B D D C E D C\n",
              "[56413] D D D E E D D E C D C C C D D D E C C D C D C D D C D D D D E C C D D D\n",
              "[56449] E E E E D E D D E D E C D D E E D B C D C C D C C E A C E E D E D D E E\n",
              "[56485] D D C C C C E E E D C D E C D E D D C A B C E D D D D B D D D C D C D B\n",
              "[56521] C D D E D E E D D D C C E D C C E E E E C C B B B E D D D D E D E D E E\n",
              "[56557] D D D D E E D D D C E D E E E D C D D C C E E E D E D D E E D E E B D D\n",
              "[56593] E E D D D E E E B D D D E E D C E D C C D C C C C C C C C C C B D C C C\n",
              "[56629] C D B E C E D D C A A C B B B C C A C A C B A B D B D A B B B B D E E E\n",
              "[56665] C C E D E B C B B C B D D C C E D D D D B C E D B D D D C C D D D E C C\n",
              "[56701] C E D D E E E C D C E D E D D E E D E E E D E D D D C D D C E D E E E D\n",
              "[56737] E D D D E E D E D D E E C E D E D A C E C E C B D C B C C E C E D E D E\n",
              "[56773] E D D D D E E E E E B D E D E E E D E E D E E E E E E D E B C C E C C D\n",
              "[56809] C B E D E D E D E C E E D C C C E D E E D D D E E D D D D E E C D D E D\n",
              "[56845] E E D E D E E E E D C D E D E E E D D E D D E E E E D D E D E D E E D E\n",
              "[56881] C D E C E E C E E E E D E C D D D D C D B D D D D E E C E D E C D E C E\n",
              "[56917] C C C C B D E E E D E D E D C C E E E D E D D D D C E D E D D E D E E E\n",
              "[56953] E E E D E D E D E D E E D D D E E D D E E D E E E E E E E E E E E E D D\n",
              "[56989] E E E E E E E E E E E E E D C D D E D D D D E E E E D E E E E C E E E D\n",
              "[57025] D E E E E E D E D E E E E E E E D D D E E E E E D E E E C E E E D E E E\n",
              "[57061] C E E C E E E D C C D E E C C C E C D E E D E E E D E E E D E E E E E D\n",
              "[57097] E E D E D D D E E E E E E D E E D C D E E D D E D E E E E E E E E E E E\n",
              "[57133] E D E E E E D E D E E E E E E E E E D E E D E E E E E E E E E E E C D E\n",
              "[57169] D D D E E E D E D C D D D D E D E C E E C C E E E C E E D E E B C D E D\n",
              "[57205] E E D E E E D E D E E E D E D E D D E D C E E E E C E D E E D D E E E E\n",
              "[57241] E E D E E D E E D E E D D C E E E E E E E E E D E D E E E E E D C E E E\n",
              "[57277] D E D E E E E D E E D E E D E C E E E E E E D E D D E E D C E E E E E D\n",
              "[57313] D E D E E E D E E D E E D E E E D D D E E B E E D D D D E E D E E E E E\n",
              "[57349] E E E D E E E D C D D E E B D D C D E D E E D D E D E E E E E E E D D E\n",
              "[57385] E E E E E C E E E E E E E D D D C E E D D D E E C E E E E E D E B C D C\n",
              "[57421] E D E E D E E E C D E D E E E D E E E E E E E E E E E E E E E E E E E B\n",
              "[57457] D E E C E C E E E E E E C E E E E E D E E E C E E E E E E E E E D D E D\n",
              "[57493] E C D E C D C E D D E E E E E E E D E E D E D C E E A E E E D D D C E E\n",
              "[57529] D D E E C D E E D D E D D D E D D D D D D E E D E E D E E D D E D D E D\n",
              "[57565] C A E B E E E E E E C E E E E C D E D B D D D A D E D D C E E C D E E D\n",
              "[57601] E E C E E E E E D E E C C D D B B A C C C D D E D E C E E E E D C D D E\n",
              "[57637] E E E E E E E E E D E D E D E E E E E E E E E C E E E D E D E E E B E D\n",
              "[57673] D E E E E E E B E E E E E E E E D E E E D E C D C E D E E C E D E B E E\n",
              "[57709] E D E E C E E E E C B E D D E E E E E D E E E E C E B E E E D E E D E B\n",
              "[57745] C C E C B B E D B B E E D C B E D C E E E E E D C E E E D C E C B E E C\n",
              "[57781] D E E E E C C E C D E C C D E E E E E E D D D D D D D E E E E E E E C D\n",
              "[57817] D C C C D C E D B D E E D E E E E E E D C E D C E B D C D E E E B E E D\n",
              "[57853] C C E D C E C E E D C E C E D E D C C E D E E E D B D E E E E E E E E E\n",
              "[57889] E D D E E D E D D E D E D E C C E E E D E D E B E E C E D D E C C E C D\n",
              "[57925] E D C E D D D E E D E E D E D E D E E E D D D E E E E E E D E D E D E E\n",
              "[57961] E E D E E E D E D E E E C D E D C B C E D B D E D C E C E E D C E E D D\n",
              "[57997] B C A C E E C A E C E E C E E C E E C E E D E E C C C B C D D E D D D C\n",
              "[58033] E D C E D E D E C D E E E E E E D E E E D D E C E C E D C D D C D E E D\n",
              "[58069] D E E E E E E E E E E E E E D D E E E C D D E D E D E E E E E E D D E E\n",
              "[58105] E E E E D D E E D E E E E E E D E D E E B E D E E D E C E E E E E E D E\n",
              "[58141] E E E D D D D E D E E E E D D E E D E E E E E E E E E E E E C E E E E E\n",
              "[58177] E D E E C E E E E E E E E D E E D E E E E E E E E E E E E E E E D E C E\n",
              "[58213] D E E B E E E D E C D E C A E E C E E D E E D E E E E E D E D E E E E D\n",
              "[58249] E E D E E E B E E C C E E E E E E C E E E E E D D E C E E E E D D D E D\n",
              "[58285] D E E E E E E B E E C E D D E E E E E E E E E D E E E D E E E D E E D D\n",
              "[58321] D C D D D E D E E D E D C E E D E D D E E E E D C C E C D E D E E E E E\n",
              "[58357] E E E C E E E C D E D E E E E E E E E E E E E E E D E E D D C D E D D D\n",
              "[58393] D E E D D D D E E E E D E E D C D D B E D E B D D D C D D E D D D E E E\n",
              "[58429] C C E D E B D D C D E E C C D E C E E D C E D E C D D E C E D E D D E E\n",
              "[58465] E D E E E C D C C C D D E E E E E E E E D E C D E D D C E E E E E E E E\n",
              "[58501] E D C E E E E E E D E E E E D E E D D D D E D D E D D E D E E D E D D D\n",
              "[58537] E D E E E E D E E E D D E E E E D D E D D E E D D E D E D D E E C E E E\n",
              "[58573] E E E E E E C A B B B A A C A B A E D E E D E D D D C D C E D C E E E E\n",
              "[58609] E D D C E D D E E E E E E E E E E E E E E E E E E D C E D D E E B C E E\n",
              "[58645] D D D D E E E D E D C D E A E C E E D E E B E E E E E E E D E E E D E E\n",
              "[58681] D E D C D E E E E E D E E D D C D D E E E E E D D C D D D D E E D D E E\n",
              "[58717] E D E D D C E E D E D E D D D E E E E E D E D D E C E E E E E E D D E D\n",
              "[58753] E E E E E E E E E E D E E E E C C D E C B E C E E C C E D B D B E D E E\n",
              "[58789] E E E E E E E E E E D D E E E E E E D E E E C D D E D C D E C E C D E D\n",
              "[58825] C E C D D E E D E E C D E C E E E E E E E D E E E E E D E E D C E D D E\n",
              "[58861] E E D D E E E C E E E C E D D E E E E E E E D E E E E D E E E E E E D E\n",
              "[58897] D E D E C E D E D D E E E E D E E E D C C D D D E D E E C D E E E E E E\n",
              "[58933] E D E E E D E E D E D D E D E E E E E E E E D E D E E D E D C D E E E E\n",
              "[58969] E D E E E E E E C E E E E D D E C C C E E C B E C C D D E E E E D E E E\n",
              "[59005] E E D B E C C E B C D C B D D D C D C D E D C D E D C C C E D D D C D D\n",
              "[59041] E D E E D D B D D C E D D D E D D E D E E E E E E D E D C E E C E D E D\n",
              "[59077] E E D E E D E D D C E E E D D E D E C E D E D D D C E E D C D D E E E D\n",
              "[59113] E C E E C E D D E D E B E E E E E D D D D E E E E D E D C E C C E E E E\n",
              "[59149] D D E E E E C E E E D D E D E E E E E E D E C E E E C E E E D E D E E D\n",
              "[59185] E E E E D C C E E E E D E E E D D E D E C D E D E E E E E E E D E D D E\n",
              "[59221] E D C E D D D D D C D C D E E D D E D E E D D D D D C E D D C D D E E E\n",
              "[59257] D D C D D E B E C D C D C C B E C E D E E D E E D E E E E D E E E E E E\n",
              "[59293] E E E D D E E D D E E E D E E E D E E E E D D C C D E B E E E E E E E E\n",
              "[59329] E E E E E B E E D E D D E D E E E D E E E E D E E E E E E E E D E E E E\n",
              "[59365] E D E E E D E E C B E E C D E E E E E E E E E E D D E E E D E E D E E E\n",
              "[59401] D C E C D C C E C C D E D E E D E D D E D D E E C C E C A C A D D D D E\n",
              "[59437] E C C D E D E C E D D D C E E E E D E D E E E D E D E E E D E E D D D E\n",
              "[59473] E C E D C E E E D D E D E D D E D E D D D C C C E D E C C C C E E E D D\n",
              "[59509] E E E E E E D E D E E E E E E E E D E D C E E E E D D E D E E E C C D E\n",
              "[59545] E E D D E E D D E E C D E E E E E E C D E E D E D D D D E D D E D E E E\n",
              "[59581] D D D D E E C E D C D D D D E D D D E E D D D D D C C E D C E D E C E E\n",
              "[59617] D D D D D D D E D E D D D E D E D D E D D E E E C C C D B C D E B C E D\n",
              "[59653] E B D D C E C D E D D D D D E D E D D C D E D E D E C C E C C D E E C E\n",
              "[59689] E E E C E D C E E D D E E E D E E C D D B D E E E D D D E C B C E D D C\n",
              "[59725] E D C D D E D E D D E D C E D E D D E C C E D E C E D D D D C C D E C C\n",
              "[59761] D E D E E E E C D D E E D E D D D E E E C E E D C D D D E D E D C D E C\n",
              "[59797] D D C E C B D D E D D D E C D D D D D C E D D E D E D E D D E D D E D D\n",
              "[59833] E E C D E D D D D D D D C D E D D D C E B B C C C D C E D D E D D D D E\n",
              "[59869] E C D E B C E E E C E D E E E D E D D E E D D C C E A D C D E E D E D E\n",
              "[59905] E E D E D E E D E E D D E D E C D D E C C E E D B D E E D D E C D D D C\n",
              "[59941] D C D D C D C E D E C D E E E E E E D E E E E E E E E C E D E D E E D D\n",
              "[59977] D D D D E D E E E E D C C E E D D E E E C A D D A A B B C D E C C E D E\n",
              "[60013] C E B C C C E C D E D E E C E E E E D D E E D D E A D C D E B E D D E D\n",
              "[60049] D E D D E D D E D C D D D D D E E D E D E E E D E E D E E E D E C D E E\n",
              "[60085] E E E D E E E D E D D D E D E E D E D E E E E D E D E E C D C D E E D D\n",
              "[60121] E E D C E E E C D E E E E E E E D E D D E D E E D C C D E D D D D E E E\n",
              "[60157] E E E D E D E D E E E E E E E C E D E E E E E C E B E D E E C D D A E D\n",
              "[60193] D D D D D B D C C C E D C E C E D D D A B C C D E D E D E C C E D D B C\n",
              "[60229] D B E E C B C E D B C C C D D C D E C A C B C D B C C E D D C C E E D D\n",
              "[60265] D B E D D C C D B C E E D E E B B B E C E E E C E E D E E E D E E E E D\n",
              "[60301] E D D C E D D D E C E E E E E D C E D D D E D D E D D D E D E D C E E D\n",
              "[60337] D E D D E C E E E D D D E D C E E E E D D E C D E E D E D D E D D E C E\n",
              "[60373] D C D E D E D D E E D E D E D E D D D E D E D D C E D C C E E D E B E D\n",
              "[60409] E D E D D D D D E D D D C D D D C D E D D E E E E D D E D D C C E E D D\n",
              "[60445] D E E E D E D D E E E E E D E E D E E E E E E D E E E E A E E E D E D E\n",
              "[60481] E E E C D D E E E E E E C E D D E E E E D E E E C E E E E D C E E C E E\n",
              "[60517] E D C E D E E D C E E E D C E D E E E D E E C E E E E E D E E E E D D D\n",
              "[60553] E D E D E E E C D D E D E D E D E D E E E E E E C B C D E D E C C D D D\n",
              "[60589] E D E E D E D E E D E D D E D D C E D C D E E D C D C E D D D E D C E E\n",
              "[60625] D D E E D E D D C C D E B C C D E E D D C E D D D D D D D C E E E D E D\n",
              "[60661] E E D D D E E D D E E D E D E D C C C D E E D D C D D E E E D B E D D E\n",
              "[60697] D E D D C C C D D E D D E E E C E C C B D D D E C D D C D D E E C D D E\n",
              "[60733] C C E D C C C C C E C E D E E E D E E E E D C D C E E D E E E E D D D E\n",
              "[60769] E C D E E D C D D E E C D D E D D E D E E D D D D E D D D C E D E D C E\n",
              "[60805] E E C D D D D E E D E E D E E D D E D E E E D E E E E E E D D C C A B D\n",
              "[60841] C B C B E C E D C D D D E C D D C D D C C C E E D E E D D D E E E D D E\n",
              "[60877] C E D D E A D E C E D E E D D D C E B E A C C E C E E C C E E E E D C E\n",
              "[60913] C B C D D C E D D E C E E D D D D C E D C D C E E E E E D E D D D C E E\n",
              "[60949] E D D E D D E E D E E E E D D C D D D E C D E E D C E E E E E D E D E E\n",
              "[60985] D E D E D E E E E E E E E E D E E C E E E E E E D E E E E E D E E D E E\n",
              "[61021] E E E E E E E C D D E D D E D E E E D E E D E D E C D C D C D D E C D C\n",
              "[61057] D D E C D C D E D E E D E C E D E D C B C B D D C C C B D D C C B C D E\n",
              "[61093] C E E C C D C C C D E C D C E E B E E E E E E E D C E D D E E E E E D E\n",
              "[61129] E E E E E E E E E E E E E D E E D E E E E E E D E E E D E D E D D D D C\n",
              "[61165] D A C C B D D D E E E D E C E E D E E D E D E E E E E D E E A D C E C D\n",
              "[61201] E E E D D E D E E E E E C E D E E E E C E E E E D E E E D C C D E E D D\n",
              "[61237] C E C D D E D D E D D D E E E B E D E E E B C C D C E E C B E E D E E D\n",
              "[61273] E C E D D E E D C D D D D D D D E E D E E D D C D E D E D E E D D D E E\n",
              "[61309] D D D C D B E E D E B D C A D D D E E D D D E D C D C E D E D D D E E D\n",
              "[61345] D D E B E D E D D C C C C D C B E D D D D E E E E E C D D D E D B D E C\n",
              "[61381] C E C D D E E E E D D E E E E D E D C D C D E E B D E E B E E C E D E E\n",
              "[61417] E D E C E D D E E D D D C C D C E D C D C E E C D B B E E E E E E E E E\n",
              "[61453] D E D C D D E D E C C C E D E D C E D D E C C D B D C E C C D E D E B C\n",
              "[61489] D C E C E E D E D D C D E D D E E E D E D E D E D E E E D D E E E E E D\n",
              "[61525] E C E E E E E D D D E E D D D E D E B D E E D D E E E E B E D D E D E D\n",
              "[61561] E E E E E E D D E E E E E E E E E E E E E E E E E E E E E D D C E C E E\n",
              "[61597] E E E E E D D E D D D E D E D D D C E E E E C E D E D D D B C D E D C D\n",
              "[61633] C C D D D E D C C C E D C D D E D D E E D C D E C B B D E E E E E D E E\n",
              "[61669] E C C C E D C E E D C D E E D E E D E E D E E E E E D E E C D E E E D D\n",
              "[61705] E E C E C D D D E D E C E D E C E D C E D D C D E D E E E D E E D D E E\n",
              "[61741] E D D D D B B E E E E D E D D E E E E D D D E D E E E C D D D D C E D D\n",
              "[61777] C D E E E E D E E E E E E D E D E E E E D D D D D E E E E E E E E E B D\n",
              "[61813] D D C E D D E E C E D D E E C E E E D E E E D E D E D D D E D E D E E E\n",
              "[61849] E E D E E E E E E D D E E C E E D D D E E E E D E D E D E E E E E E E D\n",
              "[61885] D E D D E E E E E E E E E E D E E E E E E E E E E E D E E E E D E E E E\n",
              "[61921] C D E E E D E E E E E E E E D E C D E E E E E E D E C E C D D C E E D E\n",
              "[61957] E D C E C C C B C B C D E E E D D D E D D D E D D E E E C D D C E C E E\n",
              "[61993] E E D E C D B C E E D D C D E D B E E D D D D D D D E D E E D E D E E E\n",
              "[62029] D E D D E E D E E E E E E E D D E E E E E D D E E E E E E B E E E E E E\n",
              "[62065] E D B C C D E D C D E D E E E D E D E E E E E E E E E E E E E E E E D E\n",
              "[62101] E E D E E E E D D E D E E D C E E D D E D E D E E D E E E E D D C E E E\n",
              "[62137] E E B E E E E E E E D E D E E E D E E E D D C E D C D E E D E E D E E E\n",
              "[62173] E D D D C E E D E E E E E D E E E C D E C E C D C E D E E E D E E D E D\n",
              "[62209] D D D E D E E D E E E E E E C E E D D E C E D D E D D E D E E D D D C E\n",
              "[62245] D E D E D E D E D C E C E D D D E E E D D E E E D E E C E E E D E E E E\n",
              "[62281] D E D B C C C E C A B C C E D E D E E D D E E E E C E D E E E D C B E E\n",
              "[62317] E E E D C C E C E D D C D E D E D E D E D E E E E E D E E E E E E E E D\n",
              "[62353] C E D E D E E E C E E D E E E D E E C D E C E C D E C E D E E E E E D E\n",
              "[62389] D E E E E E E E C E E E E E D E E C E D E E D E E D D E E D E E E E E E\n",
              "[62425] E D C E D E E E E E E E E E D D E E E E E D E D E E E E E E D D E E D D\n",
              "[62461] D C C D E D D D E E E D D C E D E D E E E C D E D E E E C D C C D E E D\n",
              "[62497] E E E E E E E E D D D E E E D E D D D E D E D E E D E D E E E E D E D D\n",
              "[62533] E E D D C E E D C E B E E E E E E E C D D C C E E D D E D E D D D E E E\n",
              "[62569] E D E D E E E E E E E E E E E E E E E E C B E D E E E E E E E E E D E E\n",
              "[62605] E D C E C D D D D E E E D E E D C D D D D C E E E E D E D D D D E D E D\n",
              "[62641] B E D D E E C E E D E E E E E E D E E E E E E E E E E E E E E D E E D E\n",
              "[62677] E E E E D E D D E E E E D D E C D D C E E D D C D E D D D E E D D E E D\n",
              "[62713] E E C E D C C D E E E D E E D E C E E E E D E E E E E E E D E E C E E C\n",
              "[62749] C E E D D C C D C E D E D E C E D E E E D E E C D D E D E E D D D E C C\n",
              "[62785] C E C E C D D C D C A C B C C C C C B D D E E E E E D E E C E E E E D E\n",
              "[62821] E E D E D D C D D E C E E D E D D C D E E C E E C E C E D E E E E E E E\n",
              "[62857] E E E D E E E C D E C D C E D D E B E C D D D C D C E E E E E C E E E E\n",
              "[62893] C B C C E C E C D D D D D C D D E D E B E D E D E E E D E E E E D D E E\n",
              "[62929] E E E D E C E E E E E E E E D E C E D C C C E D D E E E E D D D C E D E\n",
              "[62965] E E E E C C E E D E D D D D D D D D D E E D E D E E E D E E E D E E E E\n",
              "[63001] E E D E E E E E E E E E C E E C E D E E E E E D B D D C B E E D E E D E\n",
              "[63037] E D E D E D E B E E E D C E D D E D D E D E E D C D E D C D D E D E E E\n",
              "[63073] C C E E D E E E E E E E E E E E E E E E E E E E E E E E E E C E E E E D\n",
              "[63109] E E E E C E E E E D E E D E D E E E E D E E D E D C D E E E E E E D E E\n",
              "[63145] E E E D E C E D E D A E D D E E E E E C E E E E C E C E E D E E D E D D\n",
              "[63181] E E E E B E E C E E E E D E D D D C E E D D D E D D E E D D D D B A E C\n",
              "[63217] C D D E D E C D E E E D E C D E E C E D E E C E E E E D D D E D B D E E\n",
              "[63253] E C E D C D E D E D E E D C D B E D E E C D E C E D D E E E E D E E E E\n",
              "[63289] E E E E E E E D E D E E E E E E E D E E E E E D E E D D D E E C E B E E\n",
              "[63325] E E D E D E E E C E C E E D E E C C E E E E D E E E D E E E E E E D E C\n",
              "[63361] B E E E E E C C D E D C D C C C D C E D D E E E C E D E D D E E E D C E\n",
              "[63397] D D D D E E D D E E E D E D D E D E E E E E D E D E D D D D D D D E E E\n",
              "[63433] D E D E D E E D D D E C E D D D E C D E D E D D D E D E D D E E D D C E\n",
              "[63469] E D E E D E E E D D E E D E D E D D D D E E D D E D E E E E E E E D E D\n",
              "[63505] E D E D E E E E C D D E E E D E E E D E D E D E C E E E D D E D E E D E\n",
              "[63541] E D E E E D E E C E D E D E D D E C E E E E E E E E D D E D D D E E D E\n",
              "[63577] E E E D E E E E E D D C D C C C C D B D C C E E E E D E C D E D D E D E\n",
              "[63613] E E E E D D E D E D D D E E E D E E E E D E B E E D C E E E E C E E E E\n",
              "[63649] E E D E E E C B D A E E D E D D E E E E C D D E E D E E E E E E E E D E\n",
              "[63685] E E D E E E C D D E E E E D D E E D E D E E E E E E D E E C D E D E E E\n",
              "[63721] D E D D D D E E E E E E E E C C C E C E E E C D D D E E E D E E D E E D\n",
              "[63757] E D D E E D A E E E D E E E E E E D D E C E D D D E C C E E E D D E E E\n",
              "[63793] E E C D D E E D C E E E E E E E E D E E E E E D C E D D E D D E E C E D\n",
              "[63829] E D B E D E D E D E E E E E E E E E E E E E E E E C B E E E E E D C D D\n",
              "[63865] E E E E E E D D C D D C E D D D E D E B E E B E E D D D D C D E D D D E\n",
              "[63901] E D D C D E D E E E D E E D E E D D D E E E E E D D E D D E C C B E C D\n",
              "[63937] C C C E C E E E E D E E E E E E E E D E E E E E D E E E E E E E E E E E\n",
              "[63973] E D E E E B E E E E D D E E E E E E E E E E D D C C E D D E B E E E C C\n",
              "[64009] C C D E E D C E E D E E E E D E E D D D E D D E D E E D E E E E E E E D\n",
              "[64045] D D E E C E C E E E E E E E D E C C D D E E D E D E E C E C E E D E E D\n",
              "[64081] E D E D E E E E E D E D E C D E C E E D E D E E E E E E D E E E D D D E\n",
              "[64117] D D D E D C B D E D C E E C D E C E D D D C D E E E E E E E E E D E E D\n",
              "[64153] D E E E E C E E E D E C E E E C D C C E D C D E D E C D B E D D C E E E\n",
              "[64189] D D D C C E E E E E D C D E D E E E E E D E B E B E E E D E D E D D D C\n",
              "[64225] D E E E D E E D E E E E D D E E E E D E E D E E D E E E E E E E D C D E\n",
              "[64261] D C E E E C B E E E E E E E D D E E E E E E E E E D E D E E D B E E D E\n",
              "[64297] E E E E E D E E E E E D E E E E C E E C C E E D E D E C E D D E D C E E\n",
              "[64333] E E E E E E E E E E E B C E E B E E E C C D E D E E E E E E D E D D D E\n",
              "[64369] D E E D E E E E E E E C E E D E E C D E E C E E C D E D D D D E E D D D\n",
              "[64405] E D E E E E E E E E E E E E E E E D E E E E E C C D E E E E E E E D E D\n",
              "[64441] D E E C C D E D D D E E C E E E D E E D D E E E E E E E D D E D E D E E\n",
              "[64477] E D E D E E E D D E E E D D D E E D D E E D E D D E E E E E D E D D E E\n",
              "[64513] D E E E E E E D E C C E D E D E E E E E D E E E E E E B D B C C C E B B\n",
              "[64549] C E D D C D D D C E C D D E E E D C B E E D E E D E D D D C E E D E D E\n",
              "[64585] D D E E E D D E C E E D C E E E D E C E D E E E E D D E E E E D E E E E\n",
              "[64621] E C D D D A E D D C C E E E E E E D E D C D E E E D D E E D E E D D E D\n",
              "[64657] E E A B E C E D E B E C D B E E E E E E E E C E E C E E E E E E E D E E\n",
              "[64693] E E E E E B B D E D E E D E E E D E E E E D E E C E E E E D E E D D E E\n",
              "[64729] E E E D E D C C E E E E D D C E B C C B B D E C D D C E C D C C E D E E\n",
              "[64765] E B B C C E D C D E D C C E E D E E B D C C D C C C E C C D C C C C E B\n",
              "[64801] C D C E D D D E A D D C D C D C E B C E C B D E B D C D D C E D B C C D\n",
              "[64837] D E E D D D C C D C B B C E B B D D B E D C B C D B B A D C B C C D E C\n",
              "[64873] E C D C C C C C C C E A C C D E C B B B A C C D D C E C E B B B C B D D\n",
              "[64909] B B A B A C E D E E D D E E E D E E B D B E D E C D D E E C C D C E E E\n",
              "[64945] E C D E E D D D E E E E E D E C D E D D D C D D C D D D C C B C C D D D\n",
              "[64981] C B D B D C C C E D C B C E D E E D D D E E D E E E E E E E E E D D D D\n",
              "[65017] D C D C E E E D E E C E B E E E C C D C E E E E E D D E E D E E E D E D\n",
              "[65053] E D E D D E D E E E D E D D D A D D E E D D E E D E E E E E B D D C E E\n",
              "[65089] E E D D C B D B D C E C E D E E E E D E D E E E E D E E D E C D E C D E\n",
              "[65125] E E B E E E E D E D E E E E E E D C D D D E E D D E C C D D E B E E E D\n",
              "[65161] D E E E D D C B C C B B C C C E B D B B E C C C E A B D C B A A B A E E\n",
              "[65197] A C C A D D D C C E D E D B D D B C E E E D E E D E E D D E E E E E E E\n",
              "[65233] D E D D D E E E D E D D C D C D E E E D E E D E E D E E E B D E D D E E\n",
              "[65269] E E C E D E B C E D D C E C B E C D C D C E D D E D D D D E D A C E D E\n",
              "[65305] E D D C E C E E C E E E D D E E E C D E B E E E E C D D C E E E D E E E\n",
              "[65341] D D E D E D E E D E E E E E E E E E D D E E E D D D E E E E E D E E E E\n",
              "[65377] E E C E D E E E E E B E E E E E D D E E E D E E E E E D D E E D E C D E\n",
              "[65413] D D D D E D D D B B D E C B E D E D E D E E E D E D E E E E D E B E D D\n",
              "[65449] E D E C E E C C D D D C D C E D D D E C C D E B B D C B C D D B C E A B\n",
              "[65485] A B C A A E E A D B C E C E C E E E C C D D E E E E D E E E E D D E E E\n",
              "[65521] E E E D D E E E E B E D E E C E E E C D D E D D B B B B C D B E E C C D\n",
              "[65557] E E E E D D E D E E E E E D D D C E E C E E C E D D E E D D E D D D E E\n",
              "[65593] E E E E E E E E E E E C E C D C D C D E C C C B E C B D C C D C C D E E\n",
              "[65629] E E E E E E E E D C C C C D E E E B B E D B C C D C D B E B C C D C E D\n",
              "[65665] D C C E D E B D C E C C A B C D E D C C B E C D E C A E C B D A A C B B\n",
              "[65701] C A A E B A B E B D B B A E B D D D C A A D B A C C A B D B E A B B D B\n",
              "[65737] D C C B B C B D C E B B C E C B D C C B B C D D E D B D A C B D B C D B\n",
              "[65773] C D D B E E E C D E E D C C C E E D D D D B C D C D C D C A D B C E D D\n",
              "[65809] E E B E D B A A A A E D D C D A A A A C C E B E E C C B A D E D B C B B\n",
              "[65845] B D E E D C D C E D D B E E E B D D D D C C D B B D C E D D C D E C E C\n",
              "[65881] D E D E E E E D C C C C C C C C D A E E D B B E B B D C B D E E C B E C\n",
              "[65917] D E D D E D D E C D E E E E C C D E E D D E E E E E B E E E E D E D D D\n",
              "[65953] D E D E C E D D C D C E E E D E E D D D E C E E D E E E E E E D D D D E\n",
              "[65989] D E D D D E E E D E C D E E E C E E C D C D E C C E E E E C E C C E E E\n",
              "[66025] E D D E D E E E E D E E C E E E E E E D E C E E E D E D E E C D D D E D\n",
              "[66061] E E E D C C E E E E E E E E D E D E D D E C E E E D E C E C D D D D D E\n",
              "[66097] E E D E D D E D E C E D E E E E E E E E C D C C C E D C E E E D C D E D\n",
              "[66133] D E D A E E D D C B C D E E E E E E E D D E E E E E B D E D B C C B C A\n",
              "[66169] C C B D C C D D B C A A D C E C C C E A A C D B B B C B B C C D A B E C\n",
              "[66205] C D C E B C D E B D D E E D E E E C E E E E E C B C C C D D E E C D D E\n",
              "[66241] D D D E E E E C E D E E E D E E D E E E E E E D D D D E D D D D C D E E\n",
              "[66277] D A C C B C B D B A D D D E D E E E D E E E D E C C D D D D C C C E E E\n",
              "[66313] C E E E D E E E E E E E E E C C D E D E D D D E E D E D D E E D D E E E\n",
              "[66349] E C E D E E E D E C D E E E E E E D D D E D E E E E E D B D D C E E E D\n",
              "[66385] E D E D C D E D E E E E E E E E E D E E E E D D E E E E D E E E E D E E\n",
              "[66421] E E E E E E C D D E E C D C E E E E C E E E E E C E E E D E E D E E E E\n",
              "[66457] E E E D E E D E E E E E D D E E C D E E E E E E E E E E D E E D E D C E\n",
              "[66493] E E D D E D E E E D E E E E E E E E E E E E E D E E E E E E D D E D E C\n",
              "[66529] D E E E E E D E D E E E E E E E E D E D E E D D E D E E E D E D D E D E\n",
              "[66565] D D E E D D E E C E E E E C E B D C D C D C C E E D C D E D E D E E E E\n",
              "[66601] E E D D E D D C E E B B D E C B C B E E D E E E D E D E D E C C E D C E\n",
              "[66637] D E D D E C D E E D E E E D C E E D E E C D E D C E D E C D E C E E D D\n",
              "[66673] E E E D D E D E C E D E C D E E D E E E E D D D C E E E E D E E E E E E\n",
              "[66709] D E E E C D E C D E E E E D D C D E E E E E E E D D E E E E E E E E E E\n",
              "[66745] E E E E E E E E E D D E E E E D E D E D E D E E E D E C E E E C E E E E\n",
              "[66781] D D E E E E E E D E E E E C B E E E E E E D E E E E E E D D E E E E E E\n",
              "[66817] E E E E E E E E E D E E E E D E D E E D D D D E D D E E E C E E C A C D\n",
              "[66853] E E E E C E E D E E E D E E B E E D E E E D E D C E D E D B D E E E E E\n",
              "[66889] E D E B E E E C B E C C E E E E E E E E D E E E C E E E D D E E E E D E\n",
              "[66925] C E C D D E E C D E E E D E E E E E C D D E B B C E D B E D C E E C C D\n",
              "[66961] D D D D C E E E D E E E D E E D E E B B E D E D E E E D E E E E D D E E\n",
              "[66997] E D D C E D D D D D E E E E E D E E C E D E E E D E D D E E D D E E D E\n",
              "[67033] E E E E E E E E E E E E D E E D D D E E D E D E D E E E D E E E E D D C\n",
              "[67069] C E D C C E E D E E D E E D D E E E E E C E E E D E E D E E C E D D E D\n",
              "[67105] D E E D D E D D E E E D E E D C E E E D D E E D D D E E E E D D E D E D\n",
              "[67141] E D E E E E E D E D E D C D E E E D C D D D A A D E E E E D D E E E D E\n",
              "[67177] E E E E E D D E C E E C B D D E D E E E D D E D E D C E D E E E E D E E\n",
              "[67213] E E D E E E E E E E E D E C C C D C E C E C E D D D D E D E E D E C E E\n",
              "[67249] E E D D E E E D E E E D E E E E E E E E E E E C E E D E D E D E D D D D\n",
              "[67285] E E E E E D E C E E E E E E D E E E E E D D D E E E E E D E E E D D D E\n",
              "[67321] E D D B C D D E E E E E E E D E D D E D D D C E D E E E E C E D E E E E\n",
              "[67357] E E D D D E D D D E D D C D D D E E E C E E D E D E E E E E E E E D E E\n",
              "[67393] E E E E E D E E E E D E E C E E E E E E E E E E E E E E E E E E E E E E\n",
              "[67429] E E D E E D D E E E D D E D E E E E C E E E E E E E E E E E E D E E D E\n",
              "[67465] E D B E E E E E E E D E E E E E E D D D E B E E E E E E D E E C D D E E\n",
              "[67501] E E E E E B E E E D E E E D E D E E E D D E E D E E E E E E D E E E E E\n",
              "[67537] C D E E E E E D D E E E E E C E E E E E E E E E C C D C D E E E D D D E\n",
              "[67573] E E E D C D E E C D D E E E E E E D E E E E E E E E E E E C E E D E D E\n",
              "[67609] E E D E E C D E E E E B E E E E D D D E E B D E E E D E E E E B E E D E\n",
              "[67645] E D C E E C D C E E D D E E D D E E E E B C E E E E D E E D E E E E E E\n",
              "[67681] E E E E E E E E E E D E E E E D D D E E D E E E E D E D C D E D E D E E\n",
              "[67717] E E E E E E E E E E E E D D D E D E D E E D E D E E E E E D D D E E E D\n",
              "[67753] D E E E E E E E E E D C D E C E C D D D E E E E E E E D E D E D E E D E\n",
              "[67789] D E D E E E D E E E D D E D D E E D E E E E E E D E C E E D E B E D E E\n",
              "[67825] D E D D E D E E D E D D D E E E C D C E D E D D E E E E E E E E E E D E\n",
              "[67861] E E E E E D D E D C E E E E E D C D E E E D D E E E C C E E E E E E E D\n",
              "[67897] E D E D D E D D D E E D D E D E E E E D E D D D E D E D E E D E E D D D\n",
              "[67933] E E D C E D E D D D E E D E E D E E E E D D E D E D D E E E E D E C C D\n",
              "[67969] E E E D E E D D E E E E C C E C D D E D E E D E D E E E E E D D E C E C\n",
              "[68005] E C E D E D D D E E D E E D D E E E E D E E D E E D E D E E D D E E E E\n",
              "[68041] D D C E E E C B E E E E D C E C E E D E D E E E E E E E E E E C E E D E\n",
              "[68077] E C C E E C E E D E E D E E E E D E E D E E E E E D E D E E E C D C C C\n",
              "[68113] E E E E E C E E E E E C C D A E E C D C E E E D E E E D E E E E D D E E\n",
              "[68149] E D E E E D D C E D E B E D E E D E E E D B E D C D D E D D D C E E D E\n",
              "[68185] E E E E D C D D E E E E E E E E D E D D E E C C D C B D E E A D E E E C\n",
              "[68221] E E E C E E E E D E C D D D D E E E E E E E E E B C E D C D C D E E C B\n",
              "[68257] D E E C D D C E E A E C E A E C C D E E C E E E E E E E E D D D D E D D\n",
              "[68293] E A E E E C E E D E E D E D D E E D E E E E E E E E E C E E E E E C E E\n",
              "[68329] E E E E D E E E E B B B E D B D D E C D E B D C E D B E B A A A E B C D\n",
              "[68365] C B B D E C E E D C D E C D E B D E B B B A A A B C D E D D E E E E E E\n",
              "[68401] E E D E E D E E E E D D D E D E E E E E E E E D D D E D D E E D D E E D\n",
              "[68437] D E D E E D D E E D E D E E E B D E C C E C E E C D C E C D C D E E D E\n",
              "[68473] C E E E E D E E E E E E E E E E E E D D D D E E E D E E E E E D D C E C\n",
              "[68509] C D C C C D E E D E D E E B D E D D E E E E E E D D E E E D E E E C B E\n",
              "[68545] E D C D C E D E D E E E E E E D D D E D D D C E E E D D E E E E E E E E\n",
              "[68581] E E E E E C D E E E E E E D E E E E D E D D E E E E D E E E E E C E E D\n",
              "[68617] C E E C D D D D D C B E D D C C B D D C E C E D D D D B D E D E C E E C\n",
              "[68653] D D E E E D C D E C D D C C B D D C E E B C C E D E E E D B E E C E D D\n",
              "[68689] E E D D D D D E E E D E E E E E D E D C C E C D D C B D E D C E D E E D\n",
              "[68725] D E D E E D E D C E E D C E E E E E E E D D D D C E C E E E D D E D E D\n",
              "[68761] E E D E E E E E D E D D C C C E C D E E E E D D C E E E E E E D E E E E\n",
              "[68797] E E E C C C E C E C D E E E E C D E E D E E C E E C E E D E E E C E D E\n",
              "[68833] E E E E D E D E D D E D C E E E E E E E E E C E E D D D E E E C D E B E\n",
              "[68869] E B D E E E E E E E E E D D E E C E D C B E E E C E D D C E E D E E E D\n",
              "[68905] D E E D E E D E D E C E E E E D E E E E E E D D D D D D E E D C E D C C\n",
              "[68941] D C D E C D E E C B C B D B E B B C D E C E C E E D E D E E E E E E D E\n",
              "[68977] E E B C E E E E D E E E E E C D D D D E E E D D E E E C E E D E C C E E\n",
              "[69013] E E E E E D E E E D D D E D E E E E C C E D E E D C E D C C D E E C E D\n",
              "[69049] D D E E E E E E D E E E E D E E E E E D E E E E C B D D E D C E E E E E\n",
              "[69085] E D E D D C D E E D C E E E E D D D E D E E E D E E E E D C E E E D D C\n",
              "[69121] D E E E E E E D D E E E E E E E E D E E C E C D E D D A B D E E D E E E\n",
              "[69157] E E E E E D E D E E D B E E C C D C E D D E E E D E E E E E E E E E E E\n",
              "[69193] E D E D E E E D D E E C E C E D D E D E E E D E D E E E E D E E E D E E\n",
              "[69229] E E C E C E E E E E C E E E E E D E E D C D E E E E E E E D E E E E E E\n",
              "[69265] D E D C E C D D D D C B E E C C D C C E B E E E E E E D D E E E E E E C\n",
              "[69301] E E E E E D E E E E E D D E E E E E D D D E E E D E D E E E E E E E E E\n",
              "[69337] D C D D C D E D C E D E D E E E E E E D E E D C E D D C C D C C E C C E\n",
              "[69373] D D E E E D C D C E D E D E E D D E E D E E E D C D C B C D D D E E E C\n",
              "[69409] E E E D E D C D E E E D E C E E E E D E E E E D E E E E D D E C E D D D\n",
              "[69445] E D E D E E E E E E E D E E E E E E B D D E D E E E D B E D E C B D D E\n",
              "[69481] D E E E E E E E E E E E E E E E E D E E E E D E C E E E E C E E E E D D\n",
              "[69517] B C D C E E D E E E E E E E E E E E E E E E E E E E E E D E E E E E D E\n",
              "[69553] E E D B D E C E C D D D E E D E E D E E E E E E D E D D D D E E E E E E\n",
              "[69589] D E E B D E C D D E E C C C E C D C E E D C D E D E D C D C D E D D E E\n",
              "[69625] E E E D D D D E D D E D E E E D E D E E E D E E E E E E E D E E E E E D\n",
              "[69661] D C E D C E E C D D E E E E E E E C D E E E E E C D E D D D E E E D D E\n",
              "[69697] D D C E E D D E E D D E D E D C D D D D D E E D E E E E C D D C E E E C\n",
              "[69733] D A D E D D E D E D E E E E C C B E B B D E E E C E D E E E E E E D D E\n",
              "[69769] C E E E C E E E E D E D D E E E E E E E C E D E E E E E C E C E D E E D\n",
              "[69805] E E E E D D C D D E E E D B D D E D E D D D D C B E E D E D D B D D E C\n",
              "[69841] D C E E C E E E D D E E E D C D C D D D D E E E E E E D E D D E D D E D\n",
              "[69877] C E D E E D E E C E D E E D C C C C C D C E D D E D E E C E B E D C C C\n",
              "[69913] C C A B E C A A D B C B B E E E E C C E E E E D D D E E C D E B C C E C\n",
              "[69949] E E C B C D C E C B C C B C B C B C C B D D D D E E E D E D C E D D B C\n",
              "[69985] D D E D E E C D E E E B B E D E E E E D D E D D E E E E D D E D E E E E\n",
              "[70021] E E D E E E E E E E E E E E E E E D E E D E E E E B E E D D B D E E E E\n",
              "[70057] C E E D D D D E E D C D C E E E B E E C E D E D D E E E C D E E E E C E\n",
              "[70093] E C E E E D D E E D E D E E E D D D E E B E E D D C E D D E E E E E C E\n",
              "[70129] C E D D D D D E E C E E E D D D E D E D E E E E E E E E D E E E D E E E\n",
              "[70165] E E E E E E E E E E E E D C E D E C E E E D E E B D C E E E D E E E E E\n",
              "[70201] E E D E E D E D E E E E E E E D C D C D E D D E E E D D D E D E D C C D\n",
              "[70237] C E C C E D D D E E E E D E C E B D E E E E D C C D D C E E E D E D E D\n",
              "[70273] E E E D C C D D D E D E C E E D D E B D E D D E E E E E D D E C E E D E\n",
              "[70309] E E E E E E E E D E C C C D D D E E D D E B D E C D C E E E D E D D D D\n",
              "[70345] D D C E D E E E E D A E C D D D C E E C D D E E E E E C E D D E D B D D\n",
              "[70381] A E E D C C E E D E E E D D E E D E E D E E E D D D E E E E C E E E E E\n",
              "[70417] E E D E E E E E E E E E E E E E E E E E E D D E E E E D E E C E E E E E\n",
              "[70453] E D E E E E E D D E E D D C E E E D D E D E D D E D D E E E E E E E E E\n",
              "[70489] E E E D E E D E E E D C E D D E E C E C D D E D D C D C E D E E E E E E\n",
              "[70525] D D D D E E E E D E D C E E D D E E D E E D C E E D E E E B B D D D E C\n",
              "[70561] D D E E E E E E D E E E D E E E E D D D E E E E E D E E E D D E C E D C\n",
              "[70597] E D C E E E E B D C D D D E E D E D D E D E D E E C D E E D E E E E E D\n",
              "[70633] D D C E D C D E D C E E C E E D C E E D E E D E E D E C D C D E E D E D\n",
              "[70669] E E E E E E E E E E E E D E E E E E E D D E E E E D E D C D E D E E E B\n",
              "[70705] D C E E E E E E E C E D D D D D D C E B D E E E A D D E E D D D E D E A\n",
              "[70741] E D E D E E E C E D D D E E E E D E E E E E E E E C E E E E D E E E E E\n",
              "[70777] D E E D E E D E D E E E E E E E E E E D E E E E E E E D E E E E E E E C\n",
              "[70813] E D D C E E D D C D E E D E D E E D E D E E D E C D E D E E E E E D E E\n",
              "[70849] D E E D E D D E E D E E E E D E E E E E D E E D E E E D C E D E E C E E\n",
              "[70885] E C E E E D C B D E C D C E C C D B C C D D A C E E E E D E C E C D E E\n",
              "[70921] E E E E E E E E D D D D E D E E E E E D E E E D C B D D C C E C D E E E\n",
              "[70957] C E D D E D D C D D C E B E E B B E E C E E C E D C E E E E E D C D E E\n",
              "[70993] C C D A B D B E D E E E D E D D E E E D D C E D C D D D E E D D D E D D\n",
              "[71029] D E E C D E E D E E E E E D D E C E C D B D E E D E E E D E E D D E E E\n",
              "[71065] D D E E D D D C E E E C E D E E E E C E E E E E C E D E E D D D E E E D\n",
              "[71101] D E E E E D E C D E E D E E E D E E E D E D E E D E C E E D D D D E E E\n",
              "[71137] E D E E D E E E E E E E E D E E E E D B D D D E E D D D D E E E E E E D\n",
              "[71173] E E E E E E E E D E E E D E C E E E D E E E E D E E D D E C C E D E E E\n",
              "[71209] D E D D E D D D E C D C D E E E E E E E E D D C C D E D C E D E E E E D\n",
              "[71245] E E D E E E E E E E E E D C E E E E D C E C E E E D D E E E D E D E E C\n",
              "[71281] D D E E D E E B C C E C C C C E D D E E C A C D C E E D D E D D E E E E\n",
              "[71317] D E D E D D E E E D E D E D E E E E E E E D D E E E D E D E E D C D C D\n",
              "[71353] E D E E E E C E D E C E E D C E D E C D E D D E E D D E E E E E E D E D\n",
              "[71389] D E E E E E E E E D E D D D C D E E D E E D D D E D D E D E E D E E E E\n",
              "[71425] C E E C C E E E E A E E E D E E C E A E E D E E E D E E B D E D E C C E\n",
              "[71461] C D E E E D E E C E E E E D D E C D E C E E E E C E D E D C C E C B D E\n",
              "[71497] E E E E E E D E E C C E E E E E C D E E E E E E E E D E E D E C A C C E\n",
              "[71533] C D D C D D D E E E E E D E E D E D E E E E E D D D E C D E E E E E C E\n",
              "[71569] E E D E E E E E D E D E E E C E D E E E E E E E E E D D D E E C E E E D\n",
              "[71605] D E D E D E D D E E E E E E C E D E E D E E D D E D D D E E E E E E E E\n",
              "[71641] C C D C C D E C E E E C E C E E E C E C E E C E D C D E E E C E E E E D\n",
              "[71677] C C C C E D D E E E E E E E C D E E E E E E E D E E D E D B D E E E E E\n",
              "[71713] C E D D E E E E E E E D D E D D E E E C E E D E E E E E D E E E D D E E\n",
              "[71749] E E E E E C D E D D E E E E E E E D E E C E C E E E E E E E E E E E E D\n",
              "[71785] E E E D E C C E D E E E E E D E D E C E E C E E E E D C C E D E E D E E\n",
              "[71821] E E E E E E E E D E E E E E E E E C D E E E E D D E D E D E D E D E D E\n",
              "[71857] D D E D E E E E D E E C E E E C D C E E E D E E E E E E D E E E B E D D\n",
              "[71893] D D D E D D E C B D D D E E E E E E E E E D E D E E C C E E E C E D E D\n",
              "[71929] E E D C E E E D E D E E E E D E E E E E D D E D C C E E E E C D D D C C\n",
              "[71965] C D E C E E E E E E D D D E E C E E C E E E E E E E E E E D E C E E E E\n",
              "[72001] E E E E D E E D D D E E D E E E E C E E A E E E E E E E E E E E D D E C\n",
              "[72037] D D C D C C D E C D D C E D C D C E E E E E D D D D D D E C D D D C D C\n",
              "[72073] D E D D E E E E C E E E E E C E D E E E E E E E E E E E D E D E D E E E\n",
              "[72109] E E E D E E E D E E C D E E E E E E E D E E E E D E E E E D C E D B C C\n",
              "[72145] E C E D D E E D E E D E D D E E E C E E E E C E E E D C C C E E E E D E\n",
              "[72181] D E E E D E C C E C E C E D C C C D E D E E E E D E C E E E D D D C D D\n",
              "[72217] D D E E E E D E E D D E E C D D E E D D C E D E E D E E E E E E D D E E\n",
              "[72253] D D C D D D E E D E D C D E E D E E E E E E E E E D E C C E C D D E E E\n",
              "[72289] E D E D D E E E E D D D D E E C E E D D E E D D E E D E D C D D E C D D\n",
              "[72325] E C D E D C E E D E C E E E E E C E E E E E D E D E E E E E C D C D C E\n",
              "[72361] C E D E D E D D C D E E E E B E D E E E D E E C B D E D D D E C E E E E\n",
              "[72397] E E E E E E E E E E E E D E E E E E E E D D D D D E E C E E D E B D C C\n",
              "[72433] C D C A C A D C E B C C B D D C C E C D B D E D D E D B D D D D E E E E\n",
              "[72469] C E E D E D D C E D D D E D E D E E E E E E B E C D C C D E D B B C B C\n",
              "[72505] D E C B B C C C C C C A B E C D D D D E C D E E E C B D E E E D C E D D\n",
              "[72541] E C C D E E D D E E E E E E E C C C C D D E E D E E E E E D C D E D E E\n",
              "[72577] D B E E E D D D E E C D D E C E E D E E E E C B E D E E E E E E E E C E\n",
              "[72613] D D E D B E C D E E E E E E E E E D E E E D E E E E E E D D D E E C D C\n",
              "[72649] E E E E E E E E E D C E D C E E E D E D E E E D D C D C E D C D C D D C\n",
              "[72685] B C A E A E C B B B A D C E E E E E E E E E E D D E E D D E D E B B A B\n",
              "[72721] C E E D E D D E D D E E C D C E D E E D D E D D D E D E C E C E E D E B\n",
              "[72757] D C C B C D E E E D E E E E E E D D E E E E E E E D D D D D E D C E D D\n",
              "[72793] E E E E E E E D E E E E D C D D E E D E E C D E E E C D D E D C C E C D\n",
              "[72829] D C D D D C E D E E D E D E D D D D E D D C D E E D D E E E D E D D E D\n",
              "[72865] D E E E D D D E E E D D D D E E C D E D C C E D D E E E E C D D E E D E\n",
              "[72901] E E D C E E D D D E E E C D E E D D D E E E D D D D D D E D D E E D E E\n",
              "[72937] E D D C E D D E C E E E C E E E E B D E D E E E E E E E E E E D E E D E\n",
              "[72973] D E E E E D E E E E D D E D E E E E E D E E E C E D E D D E D D C D D C\n",
              "[73009] D D D E D E D E D D D E D E E E D E C E E E D E E D E C E E E C E C E D\n",
              "[73045] E E E C E E E E E D C E D E D E E E E E D E E E E E E E E E E E E E E E\n",
              "[73081] D A E E E E E D C E E E E E E E E E E E E E E E E E D E E E E E E E E E\n",
              "[73117] E E E E E E D E D E D E A D E C C E D D D E D E D E E E D E D C E E E E\n",
              "[73153] E E D E C E D E C D D C E D E E D E E D D D E E E D E D E E E E E E E E\n",
              "[73189] E D D E E C E D D E E E E E E D E D E D B E E E D E D E D E C E E D D E\n",
              "[73225] E C D E E E E D D D E E E E E E E E D D E C D C D D E D E E E E D E E E\n",
              "[73261] E E D E E E D E E D D C E E E E E E E E E E E E E E E E E D E E E E C C\n",
              "[73297] E E D E E E C E E E E E E E E E E E D E D E E E E E E E E E E E D C C C\n",
              "[73333] C E C E E D E D E D C E E C D E C E D D E D B D B C D D E D E D E D D D\n",
              "[73369] D D D D E D E C C B E B D E E D E D E E B E E E D D D E E E E D D D E E\n",
              "[73405] E E E E E E D E E E E E D E E D E C C D D E D D E D D E C E C D E E D E\n",
              "[73441] D C C B E C B E E E D D E E D E E D D D E C E E C E E E E D C E D E E E\n",
              "[73477] D C E E E E E D D D C E D E C D D E D E D C E E D E D C E E C E D D D E\n",
              "[73513] E D E E E E E D D E D E E E E E D E E E E E E E D D E E D E E D E E E D\n",
              "[73549] D E E E D E E B E E E D D E E E E E E E E E C E E E E E E C E D E E E E\n",
              "[73585] E E E E E D E E E C E E E E C C D C D E E E E C D E E E D E E D C C D C\n",
              "[73621] E D E D E E E E D E D D E E E D E E E D D E C E D E C D C C D D E E D E\n",
              "[73657] E D E E C D E E D E E E E E D D A E D E D D E E E E D E E E E D E E E E\n",
              "[73693] E E E E E E E E D E D E D D E E E E D E E E D D E E E D E E E E E E E D\n",
              "[73729] E E C E E E E E E E E B E E E D D E E E D E E E E E E E E E E D E D D D\n",
              "[73765] C D D E E E E E C D D E E D E C C E E D D D D E C D D E E D D E D E D E\n",
              "[73801] C D E E D E E E E E E E E E D E E E D E D C E E D E D E E D E E E E E C\n",
              "[73837] E E E D E E E E E E E D E E D D E D E E E E E D E E B D E C E D E E E E\n",
              "[73873] E B D D E E E E D E E E C E D B D D E E E D D D E E E D E D C D E D A E\n",
              "[73909] E D E E D E E E E D E D E D E E E D D E E C E E E E E D E E E D E E E E\n",
              "[73945] D E D D E E D E D D D E D D E E E E E E D E C E E E E E E D E E D E E E\n",
              "[73981] E E E E E D E D E D E E E E E E E E D E E D C D D D D B E D C E E C E D\n",
              "[74017] E C D D C C D D D C C E E C C C E E C C B E E E E D D D D E E E E E D D\n",
              "[74053] C C C C D D D E E D E E E D D E E B E D E E E D E E B E D C E D E D E E\n",
              "[74089] D E D E E D D C E E E E E E C E E E D E E E D D D E E E E E E E E E E E\n",
              "[74125] E E C E E E E D E D E D D E D E E D D E D C E E C E E E E E D C E E E E\n",
              "[74161] C C E E D C C D D B D C C E A B C E D D E E E E E E E C B C B B D C D C\n",
              "[74197] E E E E D E E E E E E E E D E E D E C E E E D D E E E E D E D E E E E D\n",
              "[74233] E C D E C C D E E E D C D C C E E E D D E E D B E E E E D D D D D C E E\n",
              "[74269] D C E D D D D D D D E E D E B D C D D E E D E C D E E E E D E D D E E E\n",
              "[74305] D E D E D E D E E E D E E E D E E C D D C E E E C C E B E E A E E E E E\n",
              "[74341] D E E D E E D E E E D E E D D E D D E D D C E C E E E E E D E E E E C D\n",
              "[74377] E D E D D C D E E E E E D E E E E E E C B B E E E D D D D E E E E D C C\n",
              "[74413] C D E D D E E D E E D E C C E E E E E E E C D E E E E E E E E E E E E E\n",
              "[74449] E D E E E D E A E D D E E E E C E E E E E D E D E E E E E E E E E E E E\n",
              "[74485] E D E E E E D E E E E E E E D E D D E E D E D E E E D E D E E E D D E E\n",
              "[74521] E E E E E E E D E E E E E D C D E E D E E C E D E E E E E D E E D E E E\n",
              "[74557] E E E E E E E E D E E D E D E D E E E E D E E D D D E E E E E E E D E D\n",
              "[74593] D E E E E E E E E E E D E E E D E E D D E B E D E E E E D E E D E D E E\n",
              "[74629] E D D E E E D E D E E D E C D E C D E E D E C D E E E C C D E B E C E E\n",
              "[74665] D C E E D E D E E B E D E E D D D D D C E E E E E E E E E E E C E D D E\n",
              "[74701] E E E E E D E E E E E E D E E D D E E E E E D E E E E E C E E E D D C D\n",
              "[74737] E E E E E E D E E E E E E E E D E E E E E E D E E E E D D D D E E E D D\n",
              "[74773] E E D C E E E E D E D E E E B B B B B B C A B C A D C C A A A D C E A D\n",
              "[74809] E E B D B E E C B E B A C A B B B C B E A C D C D B B A B C B B C A C B\n",
              "[74845] B A B B C C C A C C C D B A A A A C B B D B B A E D B E C B A B E A D C\n",
              "[74881] B A C B B C B D A C D B C A E B A E C D C C B B E B E E E E E D D B C E\n",
              "[74917] C E E C A A A B B B A B A A C B E C B A C D B C B E C D C E B C B A A A\n",
              "[74953] D E C A A B B B C C B C B A C C A E A D C B A B C C A C B C C C E C D B\n",
              "[74989] C D B E C E E D D D B C C D D D E C D E C D E E E E E E D C E E E C D D\n",
              "[75025] B C E C B C C E E B E E C D E E D E E D A C C E C E E E C E E E E C C D\n",
              "[75061] E E D B C D E E E C E C C C E C D E D C E C D E D E E C E C D E E E E E\n",
              "[75097] C D E C E E E D E C E E E C C D E E D D E D C E E E E D E D D E E C E E\n",
              "[75133] E C C B C C B E C C B C A B A B B A B D D C B C B C D C C B B B B B A B\n",
              "[75169] C C E C B D B C B B B C C C D C B B A C D C C B E E C C C B D D E C D C\n",
              "[75205] E C C D C C C C C C D E D B C D E E E C E E C E C D C B E C D E D D E E\n",
              "[75241] D E E D C E D E E C D D E D D D E D D E C C D E C E E E E C C D E C B D\n",
              "[75277] C C D C C E C E E C D D E D C C D D C D C E C D D D E D C C C D D E C D\n",
              "[75313] C B C D C D B C C C D D B A C D B D A D C D C D B D D E C D E E E C E D\n",
              "[75349] D B C C E B E C E E C B B D B D A B C E B C B D B C D B C B B D C C A C\n",
              "[75385] C C A B C A B B B B D B C C C C B E C B D D C D D E E C E C D C C B C C\n",
              "[75421] C C D C C B D C C B C C E B C C C D B D D C E D E C C C E C C E D D E D\n",
              "[75457] D E D C E D D E E D D E B D D D E E E C E E E D E B C D C C E C B E D E\n",
              "[75493] E A C D B B C D C C B E B C D D D E C E B E D C C C B B C B B B B E E B\n",
              "[75529] B C B B B B C C C B C D A E D E E E E E E C E E E E E D E E D E E D E E\n",
              "[75565] E E E E D D D D E E E E D E C D D E C B D E D E D D E D D C D C C C E B\n",
              "[75601] B D C C C D C C E B B D D C C C C C B E E E E E D E E E E E E C E C E B\n",
              "[75637] E D E E E E E D E E E E D D E E D D E B E D E E E E E E E C E E D D E E\n",
              "[75673] E E E E D E D E E C C E E E E C E C C E E E E E E E E E D C C E E E E E\n",
              "[75709] E E E E D D D E E C E D E D D E E E C E C D E E E E C D E D E E E E D E\n",
              "[75745] C E D E E E E C E E E C D D E E E E E E E C E E E D D E C D E E E C E E\n",
              "[75781] C E E E E E D E D E E E E E E A E A C C B C B C C B E A B B A B C C C C\n",
              "[75817] B C C D C C B A E C E E C D D E D E B E C E E C D E E E E C B C A B E B\n",
              "[75853] D C E E D D D E E D E D D E E E E B E E C D E C E D D E C B E D C D E E\n",
              "[75889] A A B B A C A B A B C E A E C A E E C D E E C C E D E E D C E E C E D C\n",
              "[75925] E E E E D E E E E E E E E E E E E D E D E D C D E E D C E C E E E D D E\n",
              "[75961] D D C E E D E E E E E D E E C E E E D C E E E E E E E D E D E E C E E C\n",
              "[75997] D C E E D E E E E D D C E E D D C D D D E D D E E D D E D E E E E D E D\n",
              "[76033] D E D D E D D E E E D D E E E B C C D E E C C D E E E E E C D E E E D B\n",
              "[76069] E E E E E C C D E E E E E D D E E D E E D E E E D E E D E E D E B B D D\n",
              "[76105] E E E E E E E D C E D D D E E C D E D C E E E E E C E D E E E E D E C C\n",
              "[76141] E C E C E D E E E D E E E E E E D E E E E E D C E E E E E D E E E D E D\n",
              "[76177] E D D E C E E E D E D D E E E E E D E E E E E D E E D E E E E D E E C C\n",
              "[76213] D C E D C E C C B B A B E C E B E B C B D D B C B D C E C B D C D C D D\n",
              "[76249] E E E E E C C E D C C C E E D B E D D E E C E C D E D E D D E D E E E E\n",
              "[76285] E E E D E B B B B A B E C B D B B B C C C A C D C C C C C B B B D C E C\n",
              "[76321] B C D D C C C D C D C C C C C B B A A C B B A D D C E B C C B B C B A B\n",
              "[76357] A B B B C D C C C B B B B A B C B B C C E B E C A A B E E D D D D E E E\n",
              "[76393] E E E E E E D E D E C B E D E D D D E D C C D D D C E D E C E C E C D E\n",
              "[76429] E E E E D E D E C E E D B E D E E C D E E E D C E E E E E E E E E E E E\n",
              "[76465] E E E E D E E E E C E E E D C C D E E D C E D E B B C D E E D C E E E E\n",
              "[76501] E D D D D E D E E C E E E E E D D E E E C A E D E B D E E E D E D E E E\n",
              "[76537] C E E D E E E E E D E E E E D E C C E E E E E E D E C E E E D D C D D E\n",
              "[76573] D E E E E E E D E E D D E D E E D E E C D C C E E D D C D E E D E E E E\n",
              "[76609] E C E E E D D E D D E C C B D D C B B E C E D D B C A A A C C A C A A A\n",
              "[76645] D E A C A B A A A A B B A E E E E D D E E D D E E E E D E D E E E D E D\n",
              "[76681] D D D D C C C E E E E E E E C E D D E E E E E E E E D E E E E E E D E E\n",
              "[76717] E E E D C D D D E C D E C D C D E E E D D E D E E E E C D D E D D D E C\n",
              "[76753] E C D E E E D E E D D E E E E D E D E E B E D C D E C D E E E D E E D E\n",
              "[76789] E E E E E E D D E E E E E C E E E E D E E E D E E D C C E E E E E E B C\n",
              "[76825] C B C B B A C A C D E E E E E E\n",
              "Levels: E D C B A"
            ]
          },
          "metadata": {}
        }
      ]
    },
    {
      "cell_type": "code",
      "metadata": {
        "id": "lZYIiayk6u7e"
      },
      "source": [
        "TabelaFrequencia = table(cut(\n",
        "    x = dados$Renda,\n",
        "    breaks = classes,\n",
        "    labels = labels,\n",
        "    include.lowest = TRUE\n",
        "))"
      ],
      "execution_count": null,
      "outputs": []
    },
    {
      "cell_type": "code",
      "metadata": {
        "id": "WrZ2m2GajQLo",
        "colab": {
          "base_uri": "https://localhost:8080/"
        },
        "outputId": "7a4e2588-d32b-4f23-f0bc-02cfbefc057e"
      },
      "source": [
        "TabelaFrequencia"
      ],
      "execution_count": null,
      "outputs": [
        {
          "output_type": "display_data",
          "data": {
            "text/plain": [
              "\n",
              "    E     D     C     B     A \n",
              "49755 16700  7599  2178   608 "
            ]
          },
          "metadata": {}
        }
      ]
    },
    {
      "cell_type": "code",
      "metadata": {
        "id": "ejc2SED07t5F"
      },
      "source": [
        "PercentualFrequencia = prop.table(TabelaFrequencia) * 100"
      ],
      "execution_count": null,
      "outputs": []
    },
    {
      "cell_type": "code",
      "metadata": {
        "id": "btKoxJDujQLp"
      },
      "source": [
        "PercentualFrequencia"
      ],
      "execution_count": null,
      "outputs": []
    },
    {
      "cell_type": "code",
      "metadata": {
        "id": "uTMEJXUHjQLs"
      },
      "source": [
        "Dist_Freq_Quantitativa = cbind('Frequencia' = TabelaFrequencia, 'Porcentagem(%)' = PercentualFrequencia)\n",
        "\n",
        "Dist_Freq_Quantitativa"
      ],
      "execution_count": null,
      "outputs": []
    },
    {
      "cell_type": "code",
      "metadata": {
        "id": "9DYOKhm78Xxh"
      },
      "source": [
        "# Ordenando por ordem alfabética\n",
        "\n",
        "Dist_Freq_Qualitativa_Bonito = Dist_Freq_Quantitativa[\n",
        "  order(row.names(Dist_Freq_Quantitativa)),\n",
        "]"
      ],
      "execution_count": null,
      "outputs": []
    },
    {
      "cell_type": "code",
      "metadata": {
        "id": "1iNce5VDI7jS"
      },
      "source": [
        "Dist_Freq_Qualitativa_Bonito"
      ],
      "execution_count": null,
      "outputs": []
    },
    {
      "cell_type": "markdown",
      "metadata": {
        "id": "ViJYvvjujQLu"
      },
      "source": [
        "## <font color=green>2.3 Distribuição de frequências para variáveis quantitativas (classes de amplitude fixa)</font>\n",
        "***"
      ]
    },
    {
      "cell_type": "markdown",
      "metadata": {
        "id": "kZ786JkLpunX"
      },
      "source": [
        "### <font color=red>Documentações:\n",
        "\n",
        "- [**nrow**](https://www.rdocumentation.org/packages/base/versions/3.6.1/topics/nrow)\n",
        "- [**log**](https://www.rdocumentation.org/packages/base/versions/3.6.1/topics/log)\n",
        "- [**round**](https://www.rdocumentation.org/packages/base/versions/3.6.1/topics/Round)"
      ]
    },
    {
      "cell_type": "markdown",
      "metadata": {
        "id": "s9UGNaMzjQLy"
      },
      "source": [
        "### Passo 1 - Definindo o número de classes"
      ]
    },
    {
      "cell_type": "markdown",
      "metadata": {
        "id": "p268tvNHjQLy"
      },
      "source": [
        "#### Regra de Sturges\n",
        "\n",
        "# $$k = 1 + \\frac {10}{3}\\log_{10}n$$"
      ]
    },
    {
      "cell_type": "code",
      "metadata": {
        "id": "wgLH6gGqjQLz"
      },
      "source": [
        "# N é o tamanho do dataset\n",
        "N = nrow(dados)\n",
        "N"
      ],
      "execution_count": null,
      "outputs": []
    },
    {
      "cell_type": "code",
      "metadata": {
        "id": "uTuVep-8jQL0"
      },
      "source": [
        "k = 1 + (10/3) * log10(N)\n",
        "k"
      ],
      "execution_count": null,
      "outputs": []
    },
    {
      "cell_type": "code",
      "metadata": {
        "id": "B_Y66_KFjQL4"
      },
      "source": [
        "ArredondaK = round(k)\n",
        "ArredondaK "
      ],
      "execution_count": null,
      "outputs": []
    },
    {
      "cell_type": "markdown",
      "metadata": {
        "id": "5eO-RhaljQL6"
      },
      "source": [
        "### Passo 2 - Criar a tabela de frequências"
      ]
    },
    {
      "cell_type": "code",
      "metadata": {
        "id": "lJ35KI-NpunZ"
      },
      "source": [
        "labels <- c(\n",
        "    '      0.00 |—|  11,764.70', \n",
        "    ' 11,764.70  —|  23,529.40', \n",
        "    ' 23,529.40  —|  35,294.10', \n",
        "    ' 35,294.10  —|  47,058.80', \n",
        "    ' 47,058.80  —|  58,823.50', \n",
        "    ' 58,823.50  —|  70,588.20', \n",
        "    ' 70,588.20  —|  82,352.90', \n",
        "    ' 82,352.90  —|  94,117.60', \n",
        "    ' 94,117.60  —| 105,882.00', \n",
        "    '105,882.00  —| 117,647.00', \n",
        "    '117,647.00  —| 129,412.00', \n",
        "    '129,412.00  —| 141,176.00', \n",
        "    '141,176.00  —| 152,941.00', \n",
        "    '152,941.00  —| 164,706.00', \n",
        "    '164,706.00  —| 176,471.00', \n",
        "    '176,471.00  —| 188,235.00', \n",
        "    '188,235.00  —| 200,000.00'\n",
        ")"
      ],
      "execution_count": null,
      "outputs": []
    },
    {
      "cell_type": "code",
      "metadata": {
        "id": "sVVA-jvDjQL7"
      },
      "source": [
        "TabelaFrequencia = table(cut(\n",
        "    x = dados$Renda,\n",
        "    breaks = k,\n",
        "    labels = labels,\n",
        "    include.lowest = TRUE\n",
        "))"
      ],
      "execution_count": null,
      "outputs": []
    },
    {
      "cell_type": "code",
      "metadata": {
        "id": "-ylxSip1jQL9"
      },
      "source": [
        "TabelaFrequenciaProp = prop.table(TabelaFrequencia) * 100\n",
        "TabelaFrequenciaProp"
      ],
      "execution_count": null,
      "outputs": []
    },
    {
      "cell_type": "code",
      "metadata": {
        "id": "n9kkJ0WTjQL_"
      },
      "source": [
        "Dist_Freq_Quantitativa_Amplitude_Fixa = cbind('Frequencia' = TabelaFrequencia, 'Porcentagem(%)' = TabelaFrequenciaProp)\n",
        "Dist_Freq_Quantitativa_Amplitude_Fixa"
      ],
      "execution_count": null,
      "outputs": []
    },
    {
      "cell_type": "markdown",
      "metadata": {
        "id": "Js9iLwNkjQME"
      },
      "source": [
        "## <font color=green>2.4 Histograma</font>\n",
        "***\n",
        "\n",
        "O <b>HISTOGRAMA</b> é a representação gráfica de uma distribuição de frequências. É um gráfico formado por um conjunto de retângulos colocados lado a lado, onde a área de cada retângulo é proporcional à frequência da classe que ele representa."
      ]
    },
    {
      "cell_type": "markdown",
      "metadata": {
        "id": "KnW_YNUhpunb"
      },
      "source": [
        "### <font color=red>Documentações:\n",
        "\n",
        "- [***package* graphics**](https://www.rdocumentation.org/packages/graphics)\n",
        "- [**hist**](https://www.rdocumentation.org/packages/graphics/versions/3.6.1/topics/hist)\n",
        "- [***package* ggplot2**](https://www.rdocumentation.org/packages/ggplot2)\n",
        "- [**data.frame**](https://www.rdocumentation.org/packages/base/versions/3.6.1/topics/data.frame)"
      ]
    },
    {
      "cell_type": "code",
      "metadata": {
        "id": "RF9ceMerpunb"
      },
      "source": [
        "# Aumentando a dimensão dos plots no r-\n",
        "options(repr.plot.width = 7, repr.plot.height = 4)"
      ],
      "execution_count": null,
      "outputs": []
    },
    {
      "cell_type": "code",
      "metadata": {
        "id": "PYRaBCnxjQME",
        "colab": {
          "base_uri": "https://localhost:8080/"
        },
        "outputId": "aa686ac4-27bf-416e-cec6-0c6fddf81bd7"
      },
      "source": [
        "hist(dados$Altura)"
      ],
      "execution_count": null,
      "outputs": [
        {
          "output_type": "display_data",
          "data": {
            "text/plain": [
              "Plot with title “Histogram of dados$Altura”"
            ],
            "image/png": "[encoded data removed]"
          },
          "metadata": {
            "image/png": {
              "width": 420,
              "height": 240
            }
          }
        }
      ]
    },
    {
      "cell_type": "code",
      "metadata": {
        "id": "Xh9FX6ULpunc",
        "colab": {
          "base_uri": "https://localhost:8080/"
        },
        "outputId": "003eb8a4-2ab3-48cb-c2d1-08a743252e9e"
      },
      "source": [
        "hist(\n",
        "    x = dados$Altura,\n",
        "    breaks = 'Sturges',\n",
        "    col = 'lightblue',\n",
        "    main = 'Histograma das Alturas',\n",
        "    xlab = 'Altura',\n",
        "    ylab = 'Frequências',\n",
        "    prob = TRUE,\n",
        "    las = 1\n",
        ")"
      ],
      "execution_count": null,
      "outputs": [
        {
          "output_type": "display_data",
          "data": {
            "text/plain": [
              "Plot with title “Histograma das Alturas”"
            ],
            "image/png": "[encoded data removed]"
          },
          "metadata": {
            "image/png": {
              "width": 420,
              "height": 240
            }
          }
        }
      ]
    },
    {
      "cell_type": "code",
      "metadata": {
        "id": "5P4QmjHPpunc"
      },
      "source": [
        "library(ggplot2)"
      ],
      "execution_count": null,
      "outputs": []
    },
    {
      "cell_type": "code",
      "metadata": {
        "id": "Wgbg4osCpund",
        "colab": {
          "base_uri": "https://localhost:8080/"
        },
        "outputId": "b4f34c13-c999-4984-fb6c-0ee993c9d451"
      },
      "source": [
        "ggplot(dados, aes(x = Altura)) + \n",
        "    geom_histogram(binwidth = 0.02, color = \"black\", alpha = 0.9) + \n",
        "    ylab(\"Frequência\") + \n",
        "    xlab(\"Alturas\") + \n",
        "    ggtitle('Histograma das Alturas') +\n",
        "    theme(\n",
        "        plot.title = element_text(size = 14, hjust = 0.5),\n",
        "        axis.title.y = element_text(size = 12, vjust = +0.2),\n",
        "        axis.title.x = element_text(size = 12, vjust = -0.2),\n",
        "        axis.text.y = element_text(size = 10),\n",
        "        axis.text.x = element_text(size = 10)\n",
        "    )"
      ],
      "execution_count": null,
      "outputs": [
        {
          "output_type": "display_data",
          "data": {
            "text/plain": [
              "plot without title"
            ],
            "image/png": "[encoded data removed]"
          },
          "metadata": {
            "image/png": {
              "width": 420,
              "height": 240
            }
          }
        }
      ]
    },
    {
      "cell_type": "code",
      "metadata": {
        "id": "QOp_jWKgpund"
      },
      "source": [
        "formatos = theme(\n",
        "        plot.title = element_text(size = 14, hjust = 0.5),\n",
        "        axis.title.y = element_text(size = 12, vjust = +0.2),\n",
        "        axis.title.x = element_text(size = 12, vjust = -0.2),\n",
        "        axis.text.y = element_text(size = 10),\n",
        "        axis.text.x = element_text(size = 10)\n",
        "    )"
      ],
      "execution_count": null,
      "outputs": []
    },
    {
      "cell_type": "code",
      "metadata": {
        "id": "_xud-pq8pund",
        "colab": {
          "base_uri": "https://localhost:8080/"
        },
        "outputId": "89abb768-9459-4dc2-ac73-613fd442a8a5"
      },
      "source": [
        "# variavel do ggplot para fazer a linha --> ..density.. #\n",
        "ggplot(dados, aes(x = Altura, y = ..density..)) + \n",
        "    geom_histogram(binwidth = 0.02, color = \"black\", alpha = 0.9) + \n",
        "    geom_density(color = 'green') +\n",
        "    ylab(\"Frequência\") + \n",
        "    xlab(\"Alturas\") + \n",
        "    ggtitle('Histograma das Alturas') +\n",
        "    formatos"
      ],
      "execution_count": null,
      "outputs": [
        {
          "output_type": "display_data",
          "data": {
            "text/plain": [
              "plot without title"
            ],
            "image/png": "[encoded data removed]"
          },
          "metadata": {
            "image/png": {
              "width": 420,
              "height": 240
            }
          }
        }
      ]
    },
    {
      "cell_type": "code",
      "metadata": {
        "id": "0HcLhLYtjQMM",
        "colab": {
          "base_uri": "https://localhost:8080/"
        },
        "outputId": "d06029d1-a5e4-4587-a908-b8aa87fb93df"
      },
      "source": [
        "GraficoDeBarras = data.frame(Dist_Freq_Qualitativa_Bonito)\n",
        "GraficoDeBarras"
      ],
      "execution_count": null,
      "outputs": [
        {
          "output_type": "display_data",
          "data": {
            "text/html": [
              "<table class=\"dataframe\">\n",
              "<caption>A data.frame: 5 × 2</caption>\n",
              "<thead>\n",
              "\t<tr><th></th><th scope=col>Frequencia</th><th scope=col>Porcentagem...</th></tr>\n",
              "\t<tr><th></th><th scope=col>&lt;dbl&gt;</th><th scope=col>&lt;dbl&gt;</th></tr>\n",
              "</thead>\n",
              "<tbody>\n",
              "\t<tr><th scope=row>A</th><td>  608</td><td> 0.7912546</td></tr>\n",
              "\t<tr><th scope=row>B</th><td> 2178</td><td> 2.8344612</td></tr>\n",
              "\t<tr><th scope=row>C</th><td> 7599</td><td> 9.8893805</td></tr>\n",
              "\t<tr><th scope=row>D</th><td>16700</td><td>21.7334721</td></tr>\n",
              "\t<tr><th scope=row>E</th><td>49755</td><td>64.7514315</td></tr>\n",
              "</tbody>\n",
              "</table>\n"
            ],
            "text/markdown": "\nA data.frame: 5 × 2\n\n| <!--/--> | Frequencia &lt;dbl&gt; | Porcentagem... &lt;dbl&gt; |\n|---|---|---|\n| A |   608 |  0.7912546 |\n| B |  2178 |  2.8344612 |\n| C |  7599 |  9.8893805 |\n| D | 16700 | 21.7334721 |\n| E | 49755 | 64.7514315 |\n\n",
            "text/latex": "A data.frame: 5 × 2\n\\begin{tabular}{r|ll}\n  & Frequencia & Porcentagem...\\\\\n  & <dbl> & <dbl>\\\\\n\\hline\n\tA &   608 &  0.7912546\\\\\n\tB &  2178 &  2.8344612\\\\\n\tC &  7599 &  9.8893805\\\\\n\tD & 16700 & 21.7334721\\\\\n\tE & 49755 & 64.7514315\\\\\n\\end{tabular}\n",
            "text/plain": [
              "  Frequencia Porcentagem...\n",
              "A   608       0.7912546    \n",
              "B  2178       2.8344612    \n",
              "C  7599       9.8893805    \n",
              "D 16700      21.7334721    \n",
              "E 49755      64.7514315    "
            ]
          },
          "metadata": {}
        }
      ]
    },
    {
      "cell_type": "code",
      "metadata": {
        "id": "_qDv5D4Gpune",
        "colab": {
          "base_uri": "https://localhost:8080/"
        },
        "outputId": "58542e7b-833a-409f-a9cc-a559822f83c5"
      },
      "source": [
        "ggplot(GraficoDeBarras, aes(x = row.names(GraficoDeBarras), y = Frequencia)) + \n",
        "    geom_bar(stat = \"identity\") + \n",
        "    ylab(\"Frequência\") + \n",
        "    xlab(\"Classes de Renda\") + \n",
        "    ggtitle('Gráfico Classes de Renda') +\n",
        "    formatos"
      ],
      "execution_count": null,
      "outputs": [
        {
          "output_type": "display_data",
          "data": {
            "text/plain": [
              "plot without title"
            ],
            "image/png": "[encoded data removed]"
          },
          "metadata": {
            "image/png": {
              "width": 420,
              "height": 240
            }
          }
        }
      ]
    },
    {
      "cell_type": "markdown",
      "metadata": {
        "id": "uIb17Es3jQMP"
      },
      "source": [
        "# <font color=green>3 MEDIDAS DE TENDÊNCIA CENTRAL</font>\n",
        "***"
      ]
    },
    {
      "cell_type": "markdown",
      "metadata": {
        "id": "Wrya4suEX7H-"
      },
      "source": [
        "## DataFrame de exemplo"
      ]
    },
    {
      "cell_type": "code",
      "metadata": {
        "id": "4vKWdyAZpunf"
      },
      "source": [
        "materias <- c('Matemática', 'Português', 'Inglês', 'Geografia', 'História', 'Física', 'Química')\n",
        "Fulano <- c(8, 10, 4, 8, 6, 10, 8)\n",
        "Beltrano <- c(10, 2, 0.5, 1, 3, 9.5, 10)\n",
        "Sicrano <- c(7.5, 8, 7, 8, 8, 8.5, 7)"
      ],
      "execution_count": null,
      "outputs": []
    },
    {
      "cell_type": "code",
      "metadata": {
        "id": "hRdCKDBZpung"
      },
      "source": [
        "DataFrame = data.frame(Fulano,Beltrano,Sicrano,row.names = materias)"
      ],
      "execution_count": null,
      "outputs": []
    },
    {
      "cell_type": "code",
      "metadata": {
        "colab": {
          "base_uri": "https://localhost:8080/"
        },
        "id": "EJSrDwDeAbGa",
        "outputId": "9d9656ae-6696-455a-b960-6008ee19621c"
      },
      "source": [
        "DataFrame"
      ],
      "execution_count": null,
      "outputs": [
        {
          "output_type": "display_data",
          "data": {
            "text/html": [
              "<table class=\"dataframe\">\n",
              "<caption>A data.frame: 7 × 3</caption>\n",
              "<thead>\n",
              "\t<tr><th></th><th scope=col>Fulano</th><th scope=col>Beltrano</th><th scope=col>Sicrano</th></tr>\n",
              "\t<tr><th></th><th scope=col>&lt;dbl&gt;</th><th scope=col>&lt;dbl&gt;</th><th scope=col>&lt;dbl&gt;</th></tr>\n",
              "</thead>\n",
              "<tbody>\n",
              "\t<tr><th scope=row>Matemática</th><td> 8</td><td>10.0</td><td>7.5</td></tr>\n",
              "\t<tr><th scope=row>Português</th><td>10</td><td> 2.0</td><td>8.0</td></tr>\n",
              "\t<tr><th scope=row>Inglês</th><td> 4</td><td> 0.5</td><td>7.0</td></tr>\n",
              "\t<tr><th scope=row>Geografia</th><td> 8</td><td> 1.0</td><td>8.0</td></tr>\n",
              "\t<tr><th scope=row>História</th><td> 6</td><td> 3.0</td><td>8.0</td></tr>\n",
              "\t<tr><th scope=row>Física</th><td>10</td><td> 9.5</td><td>8.5</td></tr>\n",
              "\t<tr><th scope=row>Química</th><td> 8</td><td>10.0</td><td>7.0</td></tr>\n",
              "</tbody>\n",
              "</table>\n"
            ],
            "text/markdown": "\nA data.frame: 7 × 3\n\n| <!--/--> | Fulano &lt;dbl&gt; | Beltrano &lt;dbl&gt; | Sicrano &lt;dbl&gt; |\n|---|---|---|---|\n| Matemática |  8 | 10.0 | 7.5 |\n| Português | 10 |  2.0 | 8.0 |\n| Inglês |  4 |  0.5 | 7.0 |\n| Geografia |  8 |  1.0 | 8.0 |\n| História |  6 |  3.0 | 8.0 |\n| Física | 10 |  9.5 | 8.5 |\n| Química |  8 | 10.0 | 7.0 |\n\n",
            "text/latex": "A data.frame: 7 × 3\n\\begin{tabular}{r|lll}\n  & Fulano & Beltrano & Sicrano\\\\\n  & <dbl> & <dbl> & <dbl>\\\\\n\\hline\n\tMatemática &  8 & 10.0 & 7.5\\\\\n\tPortuguês & 10 &  2.0 & 8.0\\\\\n\tInglês &  4 &  0.5 & 7.0\\\\\n\tGeografia &  8 &  1.0 & 8.0\\\\\n\tHistória &  6 &  3.0 & 8.0\\\\\n\tFísica & 10 &  9.5 & 8.5\\\\\n\tQuímica &  8 & 10.0 & 7.0\\\\\n\\end{tabular}\n",
            "text/plain": [
              "           Fulano Beltrano Sicrano\n",
              "Matemática  8     10.0     7.5    \n",
              "Português  10      2.0     8.0    \n",
              "Inglês      4      0.5     7.0    \n",
              "Geografia   8      1.0     8.0    \n",
              "História    6      3.0     8.0    \n",
              "Física     10      9.5     8.5    \n",
              "Química     8     10.0     7.0    "
            ]
          },
          "metadata": {}
        }
      ]
    },
    {
      "cell_type": "markdown",
      "metadata": {
        "id": "kcHJFW-YjQMP"
      },
      "source": [
        "## <font color=green>3.1 Média aritmética</font>\n",
        "***\n",
        "\n",
        "É representada por $\\mu$ quando se refere à população e por $\\bar{X}$ quando se refere à amostra\n",
        "\n",
        "# $$\\mu = \\frac 1n\\sum_{i=1}^{n}X_i$$\n",
        "\n",
        "onde \n",
        "\n",
        "$n$ = número de observações (registros)\n",
        "\n",
        "$X_i$ = valor da i-ésima observação (registro)"
      ]
    },
    {
      "cell_type": "markdown",
      "metadata": {
        "id": "yYnKkU08punh"
      },
      "source": [
        "### <font color=red>Documentações:\n",
        "\n",
        "- [**mean**](https://www.rdocumentation.org/packages/base/versions/3.6.1/topics/mean)\n",
        "- [**aggregate**](https://www.rdocumentation.org/packages/stats/versions/3.6.1/topics/aggregate)\n",
        "- [**list**](https://www.rdocumentation.org/packages/base/versions/3.6.1/topics/list)"
      ]
    },
    {
      "cell_type": "code",
      "metadata": {
        "id": "QW4JPcBmX7IA"
      },
      "source": [
        "MediaAMaoFulano = (8 + 10 + 4 + 8 + 6 + 10 + 8)/7"
      ],
      "execution_count": null,
      "outputs": []
    },
    {
      "cell_type": "code",
      "metadata": {
        "id": "LuT8WNy5X7IB",
        "colab": {
          "base_uri": "https://localhost:8080/"
        },
        "outputId": "1cc48a1b-7225-4217-ee93-3ef04538f28f"
      },
      "source": [
        "MediaAMaoFulano"
      ],
      "execution_count": null,
      "outputs": [
        {
          "output_type": "display_data",
          "data": {
            "text/html": [
              "7.71428571428571"
            ],
            "text/markdown": "7.71428571428571",
            "text/latex": "7.71428571428571",
            "text/plain": [
              "[1] 7.714286"
            ]
          },
          "metadata": {}
        }
      ]
    },
    {
      "cell_type": "code",
      "metadata": {
        "id": "e9VimTpepuni",
        "colab": {
          "base_uri": "https://localhost:8080/"
        },
        "outputId": "d0642978-8b33-4e05-82b1-68e729056404"
      },
      "source": [
        "# Ou podemos usar funções\n",
        "\n",
        "mean(DataFrame$Fulano)"
      ],
      "execution_count": null,
      "outputs": [
        {
          "output_type": "display_data",
          "data": {
            "text/html": [
              "7.71428571428571"
            ],
            "text/markdown": "7.71428571428571",
            "text/latex": "7.71428571428571",
            "text/plain": [
              "[1] 7.714286"
            ]
          },
          "metadata": {}
        }
      ]
    },
    {
      "cell_type": "code",
      "metadata": {
        "id": "Gabk8KYVpuni",
        "colab": {
          "base_uri": "https://localhost:8080/"
        },
        "outputId": "e8e72e9b-7828-4df9-c88a-f378a56d1cee"
      },
      "source": [
        "mean(dados$Renda)"
      ],
      "execution_count": null,
      "outputs": [
        {
          "output_type": "display_data",
          "data": {
            "text/html": [
              "2000.38319885476"
            ],
            "text/markdown": "2000.38319885476",
            "text/latex": "2000.38319885476",
            "text/plain": [
              "[1] 2000.383"
            ]
          },
          "metadata": {}
        }
      ]
    },
    {
      "cell_type": "code",
      "metadata": {
        "id": "xdeq-ypwCSQt",
        "colab": {
          "base_uri": "https://localhost:8080/"
        },
        "outputId": "f35c7bd9-49e9-487d-88fd-87c9f2555421"
      },
      "source": [
        "# Para fazer a média de duas ou mais variaveis usaremos o aggregate\n",
        "# Vamo testa duas variaveis sendo uma delas, quant e outra quali\n",
        "# A segunda variavel sempre em List()\n",
        "aggregate(dados$Renda,list(dados$Sexo), mean)"
      ],
      "execution_count": null,
      "outputs": [
        {
          "output_type": "display_data",
          "data": {
            "text/html": [
              "<table class=\"dataframe\">\n",
              "<caption>A data.frame: 2 × 2</caption>\n",
              "<thead>\n",
              "\t<tr><th scope=col>Group.1</th><th scope=col>x</th></tr>\n",
              "\t<tr><th scope=col>&lt;int&gt;</th><th scope=col>&lt;dbl&gt;</th></tr>\n",
              "</thead>\n",
              "<tbody>\n",
              "\t<tr><td>0</td><td>2192.442</td></tr>\n",
              "\t<tr><td>1</td><td>1566.847</td></tr>\n",
              "</tbody>\n",
              "</table>\n"
            ],
            "text/markdown": "\nA data.frame: 2 × 2\n\n| Group.1 &lt;int&gt; | x &lt;dbl&gt; |\n|---|---|\n| 0 | 2192.442 |\n| 1 | 1566.847 |\n\n",
            "text/latex": "A data.frame: 2 × 2\n\\begin{tabular}{ll}\n Group.1 & x\\\\\n <int> & <dbl>\\\\\n\\hline\n\t 0 & 2192.442\\\\\n\t 1 & 1566.847\\\\\n\\end{tabular}\n",
            "text/plain": [
              "  Group.1 x       \n",
              "1 0       2192.442\n",
              "2 1       1566.847"
            ]
          },
          "metadata": {}
        }
      ]
    },
    {
      "cell_type": "code",
      "metadata": {
        "id": "ADPJddVwDW_N"
      },
      "source": [
        "# Melhorando !\n",
        "# Primeiro um nome\n",
        "\n",
        "MediaDeRendaPorSexo = aggregate(list(Renda = dados$Renda),list(Sexo = dados$Sexo), mean)"
      ],
      "execution_count": null,
      "outputs": []
    },
    {
      "cell_type": "code",
      "metadata": {
        "colab": {
          "base_uri": "https://localhost:8080/"
        },
        "id": "xKw7dI4TFONW",
        "outputId": "8560d98b-b2b2-4abe-c386-6dfe7e2f61b3"
      },
      "source": [
        "# Colocando Nome nas Linhas\n",
        "row.names(MediaDeRendaPorSexo) = c('Masculino','Feminino')\n",
        "MediaDeRendaPorSexo"
      ],
      "execution_count": null,
      "outputs": [
        {
          "output_type": "display_data",
          "data": {
            "text/html": [
              "<table class=\"dataframe\">\n",
              "<caption>A data.frame: 2 × 2</caption>\n",
              "<thead>\n",
              "\t<tr><th></th><th scope=col>Sexo</th><th scope=col>Renda</th></tr>\n",
              "\t<tr><th></th><th scope=col>&lt;int&gt;</th><th scope=col>&lt;dbl&gt;</th></tr>\n",
              "</thead>\n",
              "<tbody>\n",
              "\t<tr><th scope=row>Masculino</th><td>0</td><td>2192.442</td></tr>\n",
              "\t<tr><th scope=row>Feminino</th><td>1</td><td>1566.847</td></tr>\n",
              "</tbody>\n",
              "</table>\n"
            ],
            "text/markdown": "\nA data.frame: 2 × 2\n\n| <!--/--> | Sexo &lt;int&gt; | Renda &lt;dbl&gt; |\n|---|---|---|\n| Masculino | 0 | 2192.442 |\n| Feminino | 1 | 1566.847 |\n\n",
            "text/latex": "A data.frame: 2 × 2\n\\begin{tabular}{r|ll}\n  & Sexo & Renda\\\\\n  & <int> & <dbl>\\\\\n\\hline\n\tMasculino & 0 & 2192.442\\\\\n\tFeminino & 1 & 1566.847\\\\\n\\end{tabular}\n",
            "text/plain": [
              "          Sexo Renda   \n",
              "Masculino 0    2192.442\n",
              "Feminino  1    1566.847"
            ]
          },
          "metadata": {}
        }
      ]
    },
    {
      "cell_type": "markdown",
      "metadata": {
        "id": "9geu3UcKjQMS"
      },
      "source": [
        "## <font color=green>3.2 Mediana</font>\n",
        "***\n",
        "\n",
        "Para obtermos a mediana de uma conjunto de dados devemos proceder da seguinte maneira:\n",
        "1. Ordenar o conjunto de dados;\n",
        "2. Identificar o número de observações (registros) do conjunto de dados ($n$);\n",
        "3. Identicar o elemento mediano:\n",
        "\n",
        "> Quando $n$ for ímpar, a posição do elemento mediano será obtida da seguinte forma:\n",
        "\n",
        "\n",
        "# $$Elemento_{Md} = \\frac{n+1}2$$\n",
        "\n",
        "> Quando $n$ for par, a posição do elemento mediano será obtida da seguinte forma:\n",
        "\n",
        "\n",
        "# $$Elemento_{Md} = \\frac{n}2$$\n",
        "\n",
        "4. Obter a mediana:\n",
        "\n",
        "> Quando $n$ for ímpar:\n",
        "\n",
        "\n",
        "# $$Md = X_{Elemento_{Md}}$$\n",
        "\n",
        "> Quando $n$ for par:\n",
        "\n",
        "\n",
        "# $$Md = \\frac{X_{Elemento_{Md}} + X_{Elemento_{Md}+1}}2$$\n",
        "***"
      ]
    },
    {
      "cell_type": "markdown",
      "metadata": {
        "id": "c1nWKy9Spunj"
      },
      "source": [
        "### <font color=red>Documentações:\n",
        "\n",
        "- [**median**](https://www.rdocumentation.org/packages/stats/versions/3.6.1/topics/median)\n",
        "- [**set.seed**](https://www.rdocumentation.org/packages/simEd/versions/1.0.3/topics/set.seed)\n",
        "- [**sample**](https://www.rdocumentation.org/packages/base/versions/3.6.1/topics/sample)"
      ]
    },
    {
      "cell_type": "markdown",
      "metadata": {
        "id": "e0IuYdJFjQMT"
      },
      "source": [
        "### Exemplo 1 - n ímpar\n",
        "\n",
        "<img src='https://caelum-online-public.s3.amazonaws.com/1177-estatistica-parte1/01/img002.png' width='40%' style=\"float:left\">"
      ]
    },
    {
      "cell_type": "code",
      "metadata": {
        "id": "DLBHqK2hpunk"
      },
      "source": [
        "# Vamos calcular a mediana do Fulano da DataFrame\n",
        "DataFrameFulano = DataFrame[order(DataFrame$Fulano), ]\n",
        "# Esse codigo quer dizer que, dentro do DataFrame, quero a coluna do Fulano e todas as linhas, so que como eu quero ordenada em ordem númerica ele já me retorna pronto"
      ],
      "execution_count": null,
      "outputs": []
    },
    {
      "cell_type": "code",
      "metadata": {
        "id": "GYzeE9oZpunk",
        "colab": {
          "base_uri": "https://localhost:8080/"
        },
        "outputId": "d6c60aa2-0c84-4f08-e96d-38ce68c5b44d"
      },
      "source": [
        "DataFrameFulano"
      ],
      "execution_count": null,
      "outputs": [
        {
          "output_type": "display_data",
          "data": {
            "text/html": [
              "<table class=\"dataframe\">\n",
              "<caption>A data.frame: 7 × 3</caption>\n",
              "<thead>\n",
              "\t<tr><th></th><th scope=col>Fulano</th><th scope=col>Beltrano</th><th scope=col>Sicrano</th></tr>\n",
              "\t<tr><th></th><th scope=col>&lt;dbl&gt;</th><th scope=col>&lt;dbl&gt;</th><th scope=col>&lt;dbl&gt;</th></tr>\n",
              "</thead>\n",
              "<tbody>\n",
              "\t<tr><th scope=row>Inglês</th><td> 4</td><td> 0.5</td><td>7.0</td></tr>\n",
              "\t<tr><th scope=row>História</th><td> 6</td><td> 3.0</td><td>8.0</td></tr>\n",
              "\t<tr><th scope=row>Matemática</th><td> 8</td><td>10.0</td><td>7.5</td></tr>\n",
              "\t<tr><th scope=row>Geografia</th><td> 8</td><td> 1.0</td><td>8.0</td></tr>\n",
              "\t<tr><th scope=row>Química</th><td> 8</td><td>10.0</td><td>7.0</td></tr>\n",
              "\t<tr><th scope=row>Português</th><td>10</td><td> 2.0</td><td>8.0</td></tr>\n",
              "\t<tr><th scope=row>Física</th><td>10</td><td> 9.5</td><td>8.5</td></tr>\n",
              "</tbody>\n",
              "</table>\n"
            ],
            "text/markdown": "\nA data.frame: 7 × 3\n\n| <!--/--> | Fulano &lt;dbl&gt; | Beltrano &lt;dbl&gt; | Sicrano &lt;dbl&gt; |\n|---|---|---|---|\n| Inglês |  4 |  0.5 | 7.0 |\n| História |  6 |  3.0 | 8.0 |\n| Matemática |  8 | 10.0 | 7.5 |\n| Geografia |  8 |  1.0 | 8.0 |\n| Química |  8 | 10.0 | 7.0 |\n| Português | 10 |  2.0 | 8.0 |\n| Física | 10 |  9.5 | 8.5 |\n\n",
            "text/latex": "A data.frame: 7 × 3\n\\begin{tabular}{r|lll}\n  & Fulano & Beltrano & Sicrano\\\\\n  & <dbl> & <dbl> & <dbl>\\\\\n\\hline\n\tInglês &  4 &  0.5 & 7.0\\\\\n\tHistória &  6 &  3.0 & 8.0\\\\\n\tMatemática &  8 & 10.0 & 7.5\\\\\n\tGeografia &  8 &  1.0 & 8.0\\\\\n\tQuímica &  8 & 10.0 & 7.0\\\\\n\tPortuguês & 10 &  2.0 & 8.0\\\\\n\tFísica & 10 &  9.5 & 8.5\\\\\n\\end{tabular}\n",
            "text/plain": [
              "           Fulano Beltrano Sicrano\n",
              "Inglês      4      0.5     7.0    \n",
              "História    6      3.0     8.0    \n",
              "Matemática  8     10.0     7.5    \n",
              "Geografia   8      1.0     8.0    \n",
              "Química     8     10.0     7.0    \n",
              "Português  10      2.0     8.0    \n",
              "Física     10      9.5     8.5    "
            ]
          },
          "metadata": {}
        }
      ]
    },
    {
      "cell_type": "code",
      "metadata": {
        "id": "FiNnGUe9punl"
      },
      "source": [
        "n = nrow(DataFrameFulano)"
      ],
      "execution_count": null,
      "outputs": []
    },
    {
      "cell_type": "code",
      "metadata": {
        "id": "trC12MHxjQMY",
        "colab": {
          "base_uri": "https://localhost:8080/"
        },
        "outputId": "6108e79c-5bac-4ace-f229-0f7a96a3d0cf"
      },
      "source": [
        "n"
      ],
      "execution_count": null,
      "outputs": [
        {
          "output_type": "display_data",
          "data": {
            "text/html": [
              "7"
            ],
            "text/markdown": "7",
            "text/latex": "7",
            "text/plain": [
              "[1] 7"
            ]
          },
          "metadata": {}
        }
      ]
    },
    {
      "cell_type": "code",
      "metadata": {
        "id": "NKccffcLjQMZ",
        "colab": {
          "base_uri": "https://localhost:8080/"
        },
        "outputId": "d859b1ee-8635-466e-c66d-c95ef77a9503"
      },
      "source": [
        "ElementoAMao = (n + 1)/2\n",
        "ElementoAMao"
      ],
      "execution_count": null,
      "outputs": [
        {
          "output_type": "display_data",
          "data": {
            "text/html": [
              "4"
            ],
            "text/markdown": "4",
            "text/latex": "4",
            "text/plain": [
              "[1] 4"
            ]
          },
          "metadata": {}
        }
      ]
    },
    {
      "cell_type": "code",
      "metadata": {
        "id": "ody5mfXLjQMb",
        "colab": {
          "base_uri": "https://localhost:8080/"
        },
        "outputId": "02a7b50e-8c68-46f0-83a7-b0fb7838f2ab"
      },
      "source": [
        "DataFrameFulano[ElementoAMao, ]"
      ],
      "execution_count": null,
      "outputs": [
        {
          "output_type": "display_data",
          "data": {
            "text/html": [
              "<table class=\"dataframe\">\n",
              "<caption>A data.frame: 1 × 3</caption>\n",
              "<thead>\n",
              "\t<tr><th></th><th scope=col>Fulano</th><th scope=col>Beltrano</th><th scope=col>Sicrano</th></tr>\n",
              "\t<tr><th></th><th scope=col>&lt;dbl&gt;</th><th scope=col>&lt;dbl&gt;</th><th scope=col>&lt;dbl&gt;</th></tr>\n",
              "</thead>\n",
              "<tbody>\n",
              "\t<tr><th scope=row>Geografia</th><td>8</td><td>1</td><td>8</td></tr>\n",
              "</tbody>\n",
              "</table>\n"
            ],
            "text/markdown": "\nA data.frame: 1 × 3\n\n| <!--/--> | Fulano &lt;dbl&gt; | Beltrano &lt;dbl&gt; | Sicrano &lt;dbl&gt; |\n|---|---|---|---|\n| Geografia | 8 | 1 | 8 |\n\n",
            "text/latex": "A data.frame: 1 × 3\n\\begin{tabular}{r|lll}\n  & Fulano & Beltrano & Sicrano\\\\\n  & <dbl> & <dbl> & <dbl>\\\\\n\\hline\n\tGeografia & 8 & 1 & 8\\\\\n\\end{tabular}\n",
            "text/plain": [
              "          Fulano Beltrano Sicrano\n",
              "Geografia 8      1        8      "
            ]
          },
          "metadata": {}
        }
      ]
    },
    {
      "cell_type": "code",
      "metadata": {
        "colab": {
          "base_uri": "https://localhost:8080/"
        },
        "id": "vd3Vvd8oLVWg",
        "outputId": "cfd2cba5-82a6-4421-b046-607791bfc675"
      },
      "source": [
        "median(DataFrameFulano$Fulano)"
      ],
      "execution_count": null,
      "outputs": [
        {
          "output_type": "display_data",
          "data": {
            "text/html": [
              "8"
            ],
            "text/markdown": "8",
            "text/latex": "8",
            "text/plain": [
              "[1] 8"
            ]
          },
          "metadata": {}
        }
      ]
    },
    {
      "cell_type": "markdown",
      "metadata": {
        "id": "hQHyjfLkjQMe"
      },
      "source": [
        "    ### Exemplo 2 - n par\n",
        "\n",
        "<img src='https://caelum-online-public.s3.amazonaws.com/1177-estatistica-parte1/01/img003.png' width='50%' style=\"float:left\">"
      ]
    },
    {
      "cell_type": "markdown",
      "metadata": {
        "id": "rAzzZIaIpunm"
      },
      "source": [
        "### Obtendo uma amostra aleatória dos dados"
      ]
    },
    {
      "cell_type": "code",
      "metadata": {
        "id": "1g0vZ3ROpunn",
        "colab": {
          "base_uri": "https://localhost:8080/"
        },
        "outputId": "920fb2ee-1c1a-49b5-f26a-a1585f601729"
      },
      "source": [
        "set.seed(101)\n",
        "sample(nrow(DataFrame),6)"
      ],
      "execution_count": null,
      "outputs": [
        {
          "output_type": "display_data",
          "data": {
            "text/html": [
              "<style>\n",
              ".list-inline {list-style: none; margin:0; padding: 0}\n",
              ".list-inline>li {display: inline-block}\n",
              ".list-inline>li:not(:last-child)::after {content: \"\\00b7\"; padding: 0 .5ex}\n",
              "</style>\n",
              "<ol class=list-inline><li>1</li><li>7</li><li>6</li><li>2</li><li>3</li><li>5</li></ol>\n"
            ],
            "text/markdown": "1. 1\n2. 7\n3. 6\n4. 2\n5. 3\n6. 5\n\n\n",
            "text/latex": "\\begin{enumerate*}\n\\item 1\n\\item 7\n\\item 6\n\\item 2\n\\item 3\n\\item 5\n\\end{enumerate*}\n",
            "text/plain": [
              "[1] 1 7 6 2 3 5"
            ]
          },
          "metadata": {}
        }
      ]
    },
    {
      "cell_type": "code",
      "metadata": {
        "id": "S53-BO8xpunn",
        "colab": {
          "base_uri": "https://localhost:8080/"
        },
        "outputId": "c1b673de-095c-47e2-cc53-c587789a6d5c"
      },
      "source": [
        "set.seed(101)\n",
        "df_beltrano = DataFrame[sample(nrow(DataFrame),6), ]\n",
        "df_beltrano"
      ],
      "execution_count": null,
      "outputs": [
        {
          "output_type": "display_data",
          "data": {
            "text/html": [
              "<table class=\"dataframe\">\n",
              "<caption>A data.frame: 6 × 3</caption>\n",
              "<thead>\n",
              "\t<tr><th></th><th scope=col>Fulano</th><th scope=col>Beltrano</th><th scope=col>Sicrano</th></tr>\n",
              "\t<tr><th></th><th scope=col>&lt;dbl&gt;</th><th scope=col>&lt;dbl&gt;</th><th scope=col>&lt;dbl&gt;</th></tr>\n",
              "</thead>\n",
              "<tbody>\n",
              "\t<tr><th scope=row>Matemática</th><td> 8</td><td>10.0</td><td>7.5</td></tr>\n",
              "\t<tr><th scope=row>Química</th><td> 8</td><td>10.0</td><td>7.0</td></tr>\n",
              "\t<tr><th scope=row>Física</th><td>10</td><td> 9.5</td><td>8.5</td></tr>\n",
              "\t<tr><th scope=row>Português</th><td>10</td><td> 2.0</td><td>8.0</td></tr>\n",
              "\t<tr><th scope=row>Inglês</th><td> 4</td><td> 0.5</td><td>7.0</td></tr>\n",
              "\t<tr><th scope=row>História</th><td> 6</td><td> 3.0</td><td>8.0</td></tr>\n",
              "</tbody>\n",
              "</table>\n"
            ],
            "text/markdown": "\nA data.frame: 6 × 3\n\n| <!--/--> | Fulano &lt;dbl&gt; | Beltrano &lt;dbl&gt; | Sicrano &lt;dbl&gt; |\n|---|---|---|---|\n| Matemática |  8 | 10.0 | 7.5 |\n| Química |  8 | 10.0 | 7.0 |\n| Física | 10 |  9.5 | 8.5 |\n| Português | 10 |  2.0 | 8.0 |\n| Inglês |  4 |  0.5 | 7.0 |\n| História |  6 |  3.0 | 8.0 |\n\n",
            "text/latex": "A data.frame: 6 × 3\n\\begin{tabular}{r|lll}\n  & Fulano & Beltrano & Sicrano\\\\\n  & <dbl> & <dbl> & <dbl>\\\\\n\\hline\n\tMatemática &  8 & 10.0 & 7.5\\\\\n\tQuímica &  8 & 10.0 & 7.0\\\\\n\tFísica & 10 &  9.5 & 8.5\\\\\n\tPortuguês & 10 &  2.0 & 8.0\\\\\n\tInglês &  4 &  0.5 & 7.0\\\\\n\tHistória &  6 &  3.0 & 8.0\\\\\n\\end{tabular}\n",
            "text/plain": [
              "           Fulano Beltrano Sicrano\n",
              "Matemática  8     10.0     7.5    \n",
              "Química     8     10.0     7.0    \n",
              "Física     10      9.5     8.5    \n",
              "Português  10      2.0     8.0    \n",
              "Inglês      4      0.5     7.0    \n",
              "História    6      3.0     8.0    "
            ]
          },
          "metadata": {}
        }
      ]
    },
    {
      "cell_type": "code",
      "metadata": {
        "id": "2Kxr8DY4punn",
        "colab": {
          "base_uri": "https://localhost:8080/"
        },
        "outputId": "47794e4a-afdc-42dc-f708-ca5c230f2b56"
      },
      "source": [
        "df_beltrano = df_beltrano[order(df_beltrano$Beltrano),]\n",
        "n = nrow(df_beltrano) \n",
        "df_beltrano"
      ],
      "execution_count": null,
      "outputs": [
        {
          "output_type": "display_data",
          "data": {
            "text/html": [
              "<table class=\"dataframe\">\n",
              "<caption>A data.frame: 6 × 3</caption>\n",
              "<thead>\n",
              "\t<tr><th></th><th scope=col>Fulano</th><th scope=col>Beltrano</th><th scope=col>Sicrano</th></tr>\n",
              "\t<tr><th></th><th scope=col>&lt;dbl&gt;</th><th scope=col>&lt;dbl&gt;</th><th scope=col>&lt;dbl&gt;</th></tr>\n",
              "</thead>\n",
              "<tbody>\n",
              "\t<tr><th scope=row>Inglês</th><td> 4</td><td> 0.5</td><td>7.0</td></tr>\n",
              "\t<tr><th scope=row>Português</th><td>10</td><td> 2.0</td><td>8.0</td></tr>\n",
              "\t<tr><th scope=row>História</th><td> 6</td><td> 3.0</td><td>8.0</td></tr>\n",
              "\t<tr><th scope=row>Física</th><td>10</td><td> 9.5</td><td>8.5</td></tr>\n",
              "\t<tr><th scope=row>Matemática</th><td> 8</td><td>10.0</td><td>7.5</td></tr>\n",
              "\t<tr><th scope=row>Química</th><td> 8</td><td>10.0</td><td>7.0</td></tr>\n",
              "</tbody>\n",
              "</table>\n"
            ],
            "text/markdown": "\nA data.frame: 6 × 3\n\n| <!--/--> | Fulano &lt;dbl&gt; | Beltrano &lt;dbl&gt; | Sicrano &lt;dbl&gt; |\n|---|---|---|---|\n| Inglês |  4 |  0.5 | 7.0 |\n| Português | 10 |  2.0 | 8.0 |\n| História |  6 |  3.0 | 8.0 |\n| Física | 10 |  9.5 | 8.5 |\n| Matemática |  8 | 10.0 | 7.5 |\n| Química |  8 | 10.0 | 7.0 |\n\n",
            "text/latex": "A data.frame: 6 × 3\n\\begin{tabular}{r|lll}\n  & Fulano & Beltrano & Sicrano\\\\\n  & <dbl> & <dbl> & <dbl>\\\\\n\\hline\n\tInglês &  4 &  0.5 & 7.0\\\\\n\tPortuguês & 10 &  2.0 & 8.0\\\\\n\tHistória &  6 &  3.0 & 8.0\\\\\n\tFísica & 10 &  9.5 & 8.5\\\\\n\tMatemática &  8 & 10.0 & 7.5\\\\\n\tQuímica &  8 & 10.0 & 7.0\\\\\n\\end{tabular}\n",
            "text/plain": [
              "           Fulano Beltrano Sicrano\n",
              "Inglês      4      0.5     7.0    \n",
              "Português  10      2.0     8.0    \n",
              "História    6      3.0     8.0    \n",
              "Física     10      9.5     8.5    \n",
              "Matemática  8     10.0     7.5    \n",
              "Química     8     10.0     7.0    "
            ]
          },
          "metadata": {}
        }
      ]
    },
    {
      "cell_type": "code",
      "metadata": {
        "id": "JZqebYeFpunn",
        "colab": {
          "base_uri": "https://localhost:8080/"
        },
        "outputId": "921df602-fbbc-43e1-f447-e02e55fc8f08"
      },
      "source": [
        "elemento_Mediano = n / 2\n",
        "elemento_Mediano"
      ],
      "execution_count": null,
      "outputs": [
        {
          "output_type": "display_data",
          "data": {
            "text/html": [
              "3"
            ],
            "text/markdown": "3",
            "text/latex": "3",
            "text/plain": [
              "[1] 3"
            ]
          },
          "metadata": {}
        }
      ]
    },
    {
      "cell_type": "code",
      "metadata": {
        "id": "6wB1UztBjQMf",
        "colab": {
          "base_uri": "https://localhost:8080/"
        },
        "outputId": "adeaf68f-416e-4e58-e0d6-dd3501cf6140"
      },
      "source": [
        "mean(df_beltrano[c(elemento_Mediano, elemento_Mediano + 1),]$Beltrano)"
      ],
      "execution_count": null,
      "outputs": [
        {
          "output_type": "display_data",
          "data": {
            "text/html": [
              "6.25"
            ],
            "text/markdown": "6.25",
            "text/latex": "6.25",
            "text/plain": [
              "[1] 6.25"
            ]
          },
          "metadata": {}
        }
      ]
    },
    {
      "cell_type": "code",
      "metadata": {
        "id": "tEBVXl7CjQMh"
      },
      "source": [
        ""
      ],
      "execution_count": null,
      "outputs": []
    },
    {
      "cell_type": "code",
      "metadata": {
        "id": "yPUIJxi6puno"
      },
      "source": [
        ""
      ],
      "execution_count": null,
      "outputs": []
    },
    {
      "cell_type": "code",
      "metadata": {
        "id": "IevBBtrRjQMj"
      },
      "source": [
        ""
      ],
      "execution_count": null,
      "outputs": []
    },
    {
      "cell_type": "markdown",
      "metadata": {
        "id": "nK27TxrkjQMl"
      },
      "source": [
        "### Obtendo a mediana em nosso dataset"
      ]
    },
    {
      "cell_type": "code",
      "metadata": {
        "id": "dJznpnjUjQMl",
        "colab": {
          "base_uri": "https://localhost:8080/"
        },
        "outputId": "9387ad0a-cef9-4c18-9826-4365aa76a9f6"
      },
      "source": [
        "median(dados$Renda)"
      ],
      "execution_count": null,
      "outputs": [
        {
          "output_type": "display_data",
          "data": {
            "text/html": [
              "1200"
            ],
            "text/markdown": "1200",
            "text/latex": "1200",
            "text/plain": [
              "[1] 1200"
            ]
          },
          "metadata": {}
        }
      ]
    },
    {
      "cell_type": "markdown",
      "metadata": {
        "id": "CmCu6BXQjQMo"
      },
      "source": [
        "## <font color=green>3.3 Moda</font>\n",
        "***\n",
        "\n",
        "Pode-se definir a moda como sendo o valor mais frequente de um conjunto de dados. A moda é bastante utilizada para dados qualitativos."
      ]
    },
    {
      "cell_type": "markdown",
      "metadata": {
        "id": "8qqIwK1kpunp"
      },
      "source": [
        "### <font color=red>Documentações:\n",
        "\n",
        "- [**function**](https://www.rdocumentation.org/packages/base/versions/3.6.1/topics/function)"
      ]
    },
    {
      "cell_type": "code",
      "metadata": {
        "id": "BHibMzw8X7Id",
        "colab": {
          "base_uri": "https://localhost:8080/"
        },
        "outputId": "124b20b8-8759-4d2f-dbb3-c614a03e947b"
      },
      "source": [
        "df_beltrano"
      ],
      "execution_count": null,
      "outputs": [
        {
          "output_type": "display_data",
          "data": {
            "text/html": [
              "<table class=\"dataframe\">\n",
              "<caption>A data.frame: 6 × 3</caption>\n",
              "<thead>\n",
              "\t<tr><th></th><th scope=col>Fulano</th><th scope=col>Beltrano</th><th scope=col>Sicrano</th></tr>\n",
              "\t<tr><th></th><th scope=col>&lt;dbl&gt;</th><th scope=col>&lt;dbl&gt;</th><th scope=col>&lt;dbl&gt;</th></tr>\n",
              "</thead>\n",
              "<tbody>\n",
              "\t<tr><th scope=row>Inglês</th><td> 4</td><td> 0.5</td><td>7.0</td></tr>\n",
              "\t<tr><th scope=row>Português</th><td>10</td><td> 2.0</td><td>8.0</td></tr>\n",
              "\t<tr><th scope=row>História</th><td> 6</td><td> 3.0</td><td>8.0</td></tr>\n",
              "\t<tr><th scope=row>Física</th><td>10</td><td> 9.5</td><td>8.5</td></tr>\n",
              "\t<tr><th scope=row>Matemática</th><td> 8</td><td>10.0</td><td>7.5</td></tr>\n",
              "\t<tr><th scope=row>Química</th><td> 8</td><td>10.0</td><td>7.0</td></tr>\n",
              "</tbody>\n",
              "</table>\n"
            ],
            "text/markdown": "\nA data.frame: 6 × 3\n\n| <!--/--> | Fulano &lt;dbl&gt; | Beltrano &lt;dbl&gt; | Sicrano &lt;dbl&gt; |\n|---|---|---|---|\n| Inglês |  4 |  0.5 | 7.0 |\n| Português | 10 |  2.0 | 8.0 |\n| História |  6 |  3.0 | 8.0 |\n| Física | 10 |  9.5 | 8.5 |\n| Matemática |  8 | 10.0 | 7.5 |\n| Química |  8 | 10.0 | 7.0 |\n\n",
            "text/latex": "A data.frame: 6 × 3\n\\begin{tabular}{r|lll}\n  & Fulano & Beltrano & Sicrano\\\\\n  & <dbl> & <dbl> & <dbl>\\\\\n\\hline\n\tInglês &  4 &  0.5 & 7.0\\\\\n\tPortuguês & 10 &  2.0 & 8.0\\\\\n\tHistória &  6 &  3.0 & 8.0\\\\\n\tFísica & 10 &  9.5 & 8.5\\\\\n\tMatemática &  8 & 10.0 & 7.5\\\\\n\tQuímica &  8 & 10.0 & 7.0\\\\\n\\end{tabular}\n",
            "text/plain": [
              "           Fulano Beltrano Sicrano\n",
              "Inglês      4      0.5     7.0    \n",
              "Português  10      2.0     8.0    \n",
              "História    6      3.0     8.0    \n",
              "Física     10      9.5     8.5    \n",
              "Matemática  8     10.0     7.5    \n",
              "Química     8     10.0     7.0    "
            ]
          },
          "metadata": {}
        }
      ]
    },
    {
      "cell_type": "code",
      "metadata": {
        "id": "48eZG70Rpunq"
      },
      "source": [
        "exemplo_moda = c(1,2,2,3,4,4,5,6,7,7)"
      ],
      "execution_count": null,
      "outputs": []
    },
    {
      "cell_type": "code",
      "metadata": {
        "id": "7O9TAanupunq",
        "colab": {
          "base_uri": "https://localhost:8080/"
        },
        "outputId": "36e18988-3160-488e-a8cc-ac157e9dbb81"
      },
      "source": [
        "freq_moda = table(exemplo_moda)\n",
        "freq_moda"
      ],
      "execution_count": null,
      "outputs": [
        {
          "output_type": "display_data",
          "data": {
            "text/plain": [
              "exemplo_moda\n",
              "1 2 3 4 5 6 7 \n",
              "1 2 1 2 1 1 2 "
            ]
          },
          "metadata": {}
        }
      ]
    },
    {
      "cell_type": "code",
      "metadata": {
        "id": "0BB33gfOpunq",
        "colab": {
          "base_uri": "https://localhost:8080/"
        },
        "outputId": "9646ab0d-4028-48d1-bfc6-e5989f3e46f6"
      },
      "source": [
        "freq_moda[freq_moda == max(freq_moda)]"
      ],
      "execution_count": null,
      "outputs": [
        {
          "output_type": "display_data",
          "data": {
            "text/plain": [
              "exemplo_moda\n",
              "2 4 7 \n",
              "2 2 2 "
            ]
          },
          "metadata": {}
        }
      ]
    },
    {
      "cell_type": "code",
      "metadata": {
        "id": "HHbEDxfqpunr",
        "colab": {
          "base_uri": "https://localhost:8080/"
        },
        "outputId": "ed2d253e-e2fb-426b-8ac1-a6ced207cc1c"
      },
      "source": [
        "names(freq_moda)[freq_moda == max(freq_moda)]"
      ],
      "execution_count": null,
      "outputs": [
        {
          "output_type": "display_data",
          "data": {
            "text/html": [
              "<style>\n",
              ".list-inline {list-style: none; margin:0; padding: 0}\n",
              ".list-inline>li {display: inline-block}\n",
              ".list-inline>li:not(:last-child)::after {content: \"\\00b7\"; padding: 0 .5ex}\n",
              "</style>\n",
              "<ol class=list-inline><li>'2'</li><li>'4'</li><li>'7'</li></ol>\n"
            ],
            "text/markdown": "1. '2'\n2. '4'\n3. '7'\n\n\n",
            "text/latex": "\\begin{enumerate*}\n\\item '2'\n\\item '4'\n\\item '7'\n\\end{enumerate*}\n",
            "text/plain": [
              "[1] \"2\" \"4\" \"7\""
            ]
          },
          "metadata": {}
        }
      ]
    },
    {
      "cell_type": "code",
      "metadata": {
        "id": "7Br0LJE6punr"
      },
      "source": [
        "Moda = function(x){\n",
        "  freq_moda = table(x)\n",
        "  return(names(freq_moda)[freq_moda == max(freq_moda)])\n",
        "}\n"
      ],
      "execution_count": null,
      "outputs": []
    },
    {
      "cell_type": "code",
      "metadata": {
        "id": "shxAytzZpunr",
        "colab": {
          "base_uri": "https://localhost:8080/"
        },
        "outputId": "a02ea84e-8258-4602-8e3b-74a97b96749a"
      },
      "source": [
        "Moda(exemplo_moda)"
      ],
      "execution_count": null,
      "outputs": [
        {
          "output_type": "display_data",
          "data": {
            "text/html": [
              "<style>\n",
              ".list-inline {list-style: none; margin:0; padding: 0}\n",
              ".list-inline>li {display: inline-block}\n",
              ".list-inline>li:not(:last-child)::after {content: \"\\00b7\"; padding: 0 .5ex}\n",
              "</style>\n",
              "<ol class=list-inline><li>'2'</li><li>'4'</li><li>'7'</li></ol>\n"
            ],
            "text/markdown": "1. '2'\n2. '4'\n3. '7'\n\n\n",
            "text/latex": "\\begin{enumerate*}\n\\item '2'\n\\item '4'\n\\item '7'\n\\end{enumerate*}\n",
            "text/plain": [
              "[1] \"2\" \"4\" \"7\""
            ]
          },
          "metadata": {}
        }
      ]
    },
    {
      "cell_type": "code",
      "metadata": {
        "id": "x1x69kddpunr",
        "colab": {
          "base_uri": "https://localhost:8080/"
        },
        "outputId": "7ef1dc79-df52-45cb-c474-1fbe761bcfd9"
      },
      "source": [
        "Moda(df_beltrano$Fulano)"
      ],
      "execution_count": null,
      "outputs": [
        {
          "output_type": "display_data",
          "data": {
            "text/html": [
              "<style>\n",
              ".list-inline {list-style: none; margin:0; padding: 0}\n",
              ".list-inline>li {display: inline-block}\n",
              ".list-inline>li:not(:last-child)::after {content: \"\\00b7\"; padding: 0 .5ex}\n",
              "</style>\n",
              "<ol class=list-inline><li>'8'</li><li>'10'</li></ol>\n"
            ],
            "text/markdown": "1. '8'\n2. '10'\n\n\n",
            "text/latex": "\\begin{enumerate*}\n\\item '8'\n\\item '10'\n\\end{enumerate*}\n",
            "text/plain": [
              "[1] \"8\"  \"10\""
            ]
          },
          "metadata": {}
        }
      ]
    },
    {
      "cell_type": "code",
      "metadata": {
        "id": "Q7EH54Vqpuns",
        "colab": {
          "base_uri": "https://localhost:8080/"
        },
        "outputId": "42acdfa4-26f0-450c-9833-085e464cc459"
      },
      "source": [
        "Moda(df_beltrano$Sicrano)"
      ],
      "execution_count": null,
      "outputs": [
        {
          "output_type": "display_data",
          "data": {
            "text/html": [
              "<style>\n",
              ".list-inline {list-style: none; margin:0; padding: 0}\n",
              ".list-inline>li {display: inline-block}\n",
              ".list-inline>li:not(:last-child)::after {content: \"\\00b7\"; padding: 0 .5ex}\n",
              "</style>\n",
              "<ol class=list-inline><li>'7'</li><li>'8'</li></ol>\n"
            ],
            "text/markdown": "1. '7'\n2. '8'\n\n\n",
            "text/latex": "\\begin{enumerate*}\n\\item '7'\n\\item '8'\n\\end{enumerate*}\n",
            "text/plain": [
              "[1] \"7\" \"8\""
            ]
          },
          "metadata": {}
        }
      ]
    },
    {
      "cell_type": "code",
      "metadata": {
        "id": "VUTurpgLpuns",
        "colab": {
          "base_uri": "https://localhost:8080/"
        },
        "outputId": "3fdbfcd5-e513-4ba9-c0dc-71bdd9693806"
      },
      "source": [
        "Moda(df_beltrano$Beltrano)"
      ],
      "execution_count": null,
      "outputs": [
        {
          "output_type": "display_data",
          "data": {
            "text/html": [
              "'10'"
            ],
            "text/markdown": "'10'",
            "text/latex": "'10'",
            "text/plain": [
              "[1] \"10\""
            ]
          },
          "metadata": {}
        }
      ]
    },
    {
      "cell_type": "markdown",
      "metadata": {
        "id": "YwhBwz-JjQMr"
      },
      "source": [
        "### Obtendo a moda em nosso dataset"
      ]
    },
    {
      "cell_type": "code",
      "metadata": {
        "id": "xYhn3PTIpuns",
        "colab": {
          "base_uri": "https://localhost:8080/"
        },
        "outputId": "f73291f8-a15e-44f6-cb39-2174fdf32e81"
      },
      "source": [
        "Moda(dados$Renda)"
      ],
      "execution_count": null,
      "outputs": [
        {
          "output_type": "display_data",
          "data": {
            "text/html": [
              "'788'"
            ],
            "text/markdown": "'788'",
            "text/latex": "'788'",
            "text/plain": [
              "[1] \"788\""
            ]
          },
          "metadata": {}
        }
      ]
    },
    {
      "cell_type": "code",
      "metadata": {
        "id": "kI1TyW42punt",
        "colab": {
          "base_uri": "https://localhost:8080/"
        },
        "outputId": "efe8597c-984d-42a5-bfeb-4a9d228c5263"
      },
      "source": [
        "Moda(dados$Altura)"
      ],
      "execution_count": null,
      "outputs": [
        {
          "output_type": "display_data",
          "data": {
            "text/html": [
              "<style>\n",
              ".list-inline {list-style: none; margin:0; padding: 0}\n",
              ".list-inline>li {display: inline-block}\n",
              ".list-inline>li:not(:last-child)::after {content: \"\\00b7\"; padding: 0 .5ex}\n",
              "</style>\n",
              "<ol class=list-inline><li>'1.56812756'</li><li>'1.671224912'</li><li>'1.681659101'</li><li>'1.692976729'</li><li>'1.708162716'</li><li>'1.708369705'</li><li>'1.753841591'</li><li>'1.779072545'</li><li>'1.796462296'</li></ol>\n"
            ],
            "text/markdown": "1. '1.56812756'\n2. '1.671224912'\n3. '1.681659101'\n4. '1.692976729'\n5. '1.708162716'\n6. '1.708369705'\n7. '1.753841591'\n8. '1.779072545'\n9. '1.796462296'\n\n\n",
            "text/latex": "\\begin{enumerate*}\n\\item '1.56812756'\n\\item '1.671224912'\n\\item '1.681659101'\n\\item '1.692976729'\n\\item '1.708162716'\n\\item '1.708369705'\n\\item '1.753841591'\n\\item '1.779072545'\n\\item '1.796462296'\n\\end{enumerate*}\n",
            "text/plain": [
              "[1] \"1.56812756\"  \"1.671224912\" \"1.681659101\" \"1.692976729\" \"1.708162716\"\n",
              "[6] \"1.708369705\" \"1.753841591\" \"1.779072545\" \"1.796462296\""
            ]
          },
          "metadata": {}
        }
      ]
    },
    {
      "cell_type": "markdown",
      "metadata": {
        "id": "_-0gjQWFjQMu"
      },
      "source": [
        "## <font color=green>3.4 Relação entre média, mediana e moda</font>\n",
        "***"
      ]
    },
    {
      "cell_type": "markdown",
      "metadata": {
        "id": "0S7pa_jLjQMu"
      },
      "source": [
        "<img src='https://caelum-online-public.s3.amazonaws.com/1177-estatistica-parte1/01/img004.png' width='80%'>"
      ]
    },
    {
      "cell_type": "markdown",
      "metadata": {
        "id": "ljg_9Wu7punv"
      },
      "source": [
        "### <font color=red>Documentações:\n",
        "    \n",
        "- [**as.numeric**](https://www.rdocumentation.org/packages/base/versions/3.6.1/topics/numeric)"
      ]
    },
    {
      "cell_type": "markdown",
      "metadata": {
        "id": "b7ZchyFsjQMu"
      },
      "source": [
        "### Avaliando a variável RENDA"
      ]
    },
    {
      "cell_type": "code",
      "metadata": {
        "id": "KQKG2Ez9pun2",
        "colab": {
          "base_uri": "https://localhost:8080/"
        },
        "outputId": "7f94529d-4d05-431f-e4f9-a1f7b7c7f243"
      },
      "source": [
        "ggplot(dados[dados$Renda < 20000, ], aes(x = Renda, y = ..density..)) + \n",
        "    geom_histogram(binwidth = 500) + \n",
        "    geom_density(color = 'green')"
      ],
      "execution_count": null,
      "outputs": [
        {
          "output_type": "display_data",
          "data": {
            "text/plain": [
              "plot without title"
            ],
            "image/png": "[encoded data removed]"
          },
          "metadata": {
            "image/png": {
              "width": 420,
              "height": 240
            }
          }
        }
      ]
    },
    {
      "cell_type": "code",
      "metadata": {
        "id": "SVvP_Vu3pun3",
        "colab": {
          "base_uri": "https://localhost:8080/"
        },
        "outputId": "f64bdac9-05c6-4880-a79e-9827408e2867"
      },
      "source": [
        "moda <- as.numeric(Moda(dados$Renda)) # as numeric é um float()\n",
        "moda"
      ],
      "execution_count": null,
      "outputs": [
        {
          "output_type": "display_data",
          "data": {
            "text/html": [
              "788"
            ],
            "text/markdown": "788",
            "text/latex": "788",
            "text/plain": [
              "[1] 788"
            ]
          },
          "metadata": {}
        }
      ]
    },
    {
      "cell_type": "code",
      "metadata": {
        "id": "nzMhXErFpun3",
        "colab": {
          "base_uri": "https://localhost:8080/"
        },
        "outputId": "40d26b7c-aafc-47d3-cde4-d6d75473dad0"
      },
      "source": [
        "mediana <- median(dados$Renda)\n",
        "mediana"
      ],
      "execution_count": null,
      "outputs": [
        {
          "output_type": "display_data",
          "data": {
            "text/html": [
              "1200"
            ],
            "text/markdown": "1200",
            "text/latex": "1200",
            "text/plain": [
              "[1] 1200"
            ]
          },
          "metadata": {}
        }
      ]
    },
    {
      "cell_type": "code",
      "metadata": {
        "id": "7TuBJh1lpun4",
        "colab": {
          "base_uri": "https://localhost:8080/"
        },
        "outputId": "8c6b182e-1cd7-4bb6-c8e5-eb6bb6e5552d"
      },
      "source": [
        "media <- mean(dados$Renda)\n",
        "media"
      ],
      "execution_count": null,
      "outputs": [
        {
          "output_type": "display_data",
          "data": {
            "text/html": [
              "2000.38319885476"
            ],
            "text/markdown": "2000.38319885476",
            "text/latex": "2000.38319885476",
            "text/plain": [
              "[1] 2000.383"
            ]
          },
          "metadata": {}
        }
      ]
    },
    {
      "cell_type": "markdown",
      "metadata": {
        "id": "FnLQAxSijQM1"
      },
      "source": [
        "***"
      ]
    },
    {
      "cell_type": "markdown",
      "metadata": {
        "id": "WazchssNjQM1"
      },
      "source": [
        "### Avaliando a variável ALTURA"
      ]
    },
    {
      "cell_type": "code",
      "metadata": {
        "id": "41uJsCk9jQM2",
        "colab": {
          "base_uri": "https://localhost:8080/"
        },
        "outputId": "72a7dafa-7a9b-4fb1-a4a7-230c2b890925"
      },
      "source": [
        "ggplot(dados, aes(x = Altura, y = ..density..)) + \n",
        "    geom_histogram() + \n",
        "    geom_density(color = 'green')"
      ],
      "execution_count": null,
      "outputs": [
        {
          "output_type": "stream",
          "name": "stderr",
          "text": [
            "`stat_bin()` using `bins = 30`. Pick better value with `binwidth`.\n",
            "\n"
          ]
        },
        {
          "output_type": "display_data",
          "data": {
            "text/plain": [
              "plot without title"
            ],
            "image/png": "[encoded data removed]"
          },
          "metadata": {
            "image/png": {
              "width": 420,
              "height": 240
            }
          }
        }
      ]
    },
    {
      "cell_type": "code",
      "metadata": {
        "id": "EkgerGuXjQM3",
        "colab": {
          "base_uri": "https://localhost:8080/"
        },
        "outputId": "653a742b-49bf-4268-fcab-0c064e76c123"
      },
      "source": [
        "moda <- as.numeric(Moda(dados$Altura))\n",
        "moda"
      ],
      "execution_count": null,
      "outputs": [
        {
          "output_type": "display_data",
          "data": {
            "text/html": [
              "<style>\n",
              ".list-inline {list-style: none; margin:0; padding: 0}\n",
              ".list-inline>li {display: inline-block}\n",
              ".list-inline>li:not(:last-child)::after {content: \"\\00b7\"; padding: 0 .5ex}\n",
              "</style>\n",
              "<ol class=list-inline><li>1.56812756</li><li>1.671224912</li><li>1.681659101</li><li>1.692976729</li><li>1.708162716</li><li>1.708369705</li><li>1.753841591</li><li>1.779072545</li><li>1.796462296</li></ol>\n"
            ],
            "text/markdown": "1. 1.56812756\n2. 1.671224912\n3. 1.681659101\n4. 1.692976729\n5. 1.708162716\n6. 1.708369705\n7. 1.753841591\n8. 1.779072545\n9. 1.796462296\n\n\n",
            "text/latex": "\\begin{enumerate*}\n\\item 1.56812756\n\\item 1.671224912\n\\item 1.681659101\n\\item 1.692976729\n\\item 1.708162716\n\\item 1.708369705\n\\item 1.753841591\n\\item 1.779072545\n\\item 1.796462296\n\\end{enumerate*}\n",
            "text/plain": [
              "[1] 1.568128 1.671225 1.681659 1.692977 1.708163 1.708370 1.753842 1.779073\n",
              "[9] 1.796462"
            ]
          },
          "metadata": {}
        }
      ]
    },
    {
      "cell_type": "code",
      "metadata": {
        "id": "Jj6MFUXbjQM4",
        "colab": {
          "base_uri": "https://localhost:8080/"
        },
        "outputId": "55a9fb3e-fe05-4b5f-cd7f-d8246bb9a72f"
      },
      "source": [
        "mediana <- median(dados$Altura)\n",
        "mediana"
      ],
      "execution_count": null,
      "outputs": [
        {
          "output_type": "display_data",
          "data": {
            "text/html": [
              "1.6993247325"
            ],
            "text/markdown": "1.6993247325",
            "text/latex": "1.6993247325",
            "text/plain": [
              "[1] 1.699325"
            ]
          },
          "metadata": {}
        }
      ]
    },
    {
      "cell_type": "code",
      "metadata": {
        "id": "84X-3AzvjQM5",
        "colab": {
          "base_uri": "https://localhost:8080/"
        },
        "outputId": "4bf7e097-46fc-42e8-b97c-8420292a9f32"
      },
      "source": [
        "media <- mean(dados$Altura)\n",
        "media"
      ],
      "execution_count": null,
      "outputs": [
        {
          "output_type": "display_data",
          "data": {
            "text/html": [
              "1.69951245405757"
            ],
            "text/markdown": "1.69951245405757",
            "text/latex": "1.69951245405757",
            "text/plain": [
              "[1] 1.699512"
            ]
          },
          "metadata": {}
        }
      ]
    },
    {
      "cell_type": "markdown",
      "metadata": {
        "id": "PJIMB8i8jQM6"
      },
      "source": [
        "***"
      ]
    },
    {
      "cell_type": "markdown",
      "metadata": {
        "id": "eS4I2H7jjQM7"
      },
      "source": [
        "### Avaliando a variável ANOS DE ESTUDO"
      ]
    },
    {
      "cell_type": "code",
      "metadata": {
        "id": "NPCcjXqPjQM8",
        "colab": {
          "base_uri": "https://localhost:8080/"
        },
        "outputId": "93edcd10-9b6c-49c5-fba5-605cec8919b1"
      },
      "source": [
        "ggplot(dados, aes(x = Anos.de.Estudo, y = ..density..)) + \n",
        "    geom_histogram() + \n",
        "    geom_density(color = 'green')"
      ],
      "execution_count": null,
      "outputs": [
        {
          "output_type": "stream",
          "name": "stderr",
          "text": [
            "`stat_bin()` using `bins = 30`. Pick better value with `binwidth`.\n",
            "\n"
          ]
        },
        {
          "output_type": "display_data",
          "data": {
            "text/plain": [
              "plot without title"
            ],
            "image/png": "[encoded data removed]"
          },
          "metadata": {
            "image/png": {
              "width": 420,
              "height": 240
            }
          }
        }
      ]
    },
    {
      "cell_type": "code",
      "metadata": {
        "id": "PjfvPYUajQM9",
        "colab": {
          "base_uri": "https://localhost:8080/"
        },
        "outputId": "5525e85f-e09a-4892-d275-b4fb88994efa"
      },
      "source": [
        "moda <- as.numeric(Moda(dados$Anos.de.Estudo))\n",
        "moda"
      ],
      "execution_count": null,
      "outputs": [
        {
          "output_type": "display_data",
          "data": {
            "text/html": [
              "12"
            ],
            "text/markdown": "12",
            "text/latex": "12",
            "text/plain": [
              "[1] 12"
            ]
          },
          "metadata": {}
        }
      ]
    },
    {
      "cell_type": "code",
      "metadata": {
        "id": "VF_Bj8x2jQM-",
        "colab": {
          "base_uri": "https://localhost:8080/"
        },
        "outputId": "a869a68f-f1d9-4d05-97b7-f05d6c8997a7"
      },
      "source": [
        "mediana <- median(dados$Anos.de.Estudo)\n",
        "mediana"
      ],
      "execution_count": null,
      "outputs": [
        {
          "output_type": "display_data",
          "data": {
            "text/html": [
              "11"
            ],
            "text/markdown": "11",
            "text/latex": "11",
            "text/plain": [
              "[1] 11"
            ]
          },
          "metadata": {}
        }
      ]
    },
    {
      "cell_type": "code",
      "metadata": {
        "id": "ohqUZ5RsjQNA",
        "colab": {
          "base_uri": "https://localhost:8080/"
        },
        "outputId": "e49f95be-af07-4ded-cbbf-7ff29b1660cb"
      },
      "source": [
        "media = mean(dados$Anos.de.Estudo)\n",
        "media"
      ],
      "execution_count": null,
      "outputs": [
        {
          "output_type": "display_data",
          "data": {
            "text/html": [
              "9.46966423737637"
            ],
            "text/markdown": "9.46966423737637",
            "text/latex": "9.46966423737637",
            "text/plain": [
              "[1] 9.469664"
            ]
          },
          "metadata": {}
        }
      ]
    },
    {
      "cell_type": "code",
      "metadata": {
        "id": "AwM8UvApjQNC"
      },
      "source": [
        ""
      ],
      "execution_count": null,
      "outputs": []
    },
    {
      "cell_type": "markdown",
      "metadata": {
        "id": "vcaIo45UjQND"
      },
      "source": [
        "# <font color=green>4 MEDIDAS SEPARATRIZES</font>\n",
        "***"
      ]
    },
    {
      "cell_type": "markdown",
      "metadata": {
        "id": "f4XrApNxjQNE"
      },
      "source": [
        "## <font color=green>4.1 Quartis, decis e percentis</font>\n",
        "***\n",
        "\n",
        "Há uma série de medidas de posição semelhantes na sua concepção à mediana, embora não sejam medidas de tendência central. Como se sabe, a mediana divide a distribuição em duas partes iguais quanto ao número de elementos de cada parte. Já os quartis permitem dividir a distribuição em quatro partes iguais quanto ao número de elementos de cada uma; os decis em dez partes e os centis em cem partes iguais."
      ]
    },
    {
      "cell_type": "markdown",
      "metadata": {
        "id": "W3SkRMBMpun_"
      },
      "source": [
        "### <font color=red>Documentações:\n",
        "\n",
        "- [**quantile**](https://www.rdocumentation.org/packages/stats/versions/3.6.1/topics/quantile)\n",
        "- [**for**](https://www.rdocumentation.org/packages/base/versions/3.6.1/topics/Control)\n",
        "- [**length**](https://www.rdocumentation.org/packages/base/versions/3.6.1/topics/length)"
      ]
    },
    {
      "cell_type": "code",
      "metadata": {
        "id": "VmbdUO-ujQNE",
        "colab": {
          "base_uri": "https://localhost:8080/"
        },
        "outputId": "595011dc-0ffc-4454-e415-1b1e573ec74b"
      },
      "source": [
        "Quartil = quantile(dados$Renda, c(0.25,0.5,0.75,1)) # Lembrando que 0.25 é 1/4, 0.5 é a mediana, 0.75 representa 3/4, 1 é o maior valor(Max)\n",
        "data.frame(Quartil)\n"
      ],
      "execution_count": null,
      "outputs": [
        {
          "output_type": "display_data",
          "data": {
            "text/html": [
              "<table class=\"dataframe\">\n",
              "<caption>A data.frame: 4 × 1</caption>\n",
              "<thead>\n",
              "\t<tr><th></th><th scope=col>Quartil</th></tr>\n",
              "\t<tr><th></th><th scope=col>&lt;dbl&gt;</th></tr>\n",
              "</thead>\n",
              "<tbody>\n",
              "\t<tr><th scope=row>25%</th><td>   788</td></tr>\n",
              "\t<tr><th scope=row>50%</th><td>  1200</td></tr>\n",
              "\t<tr><th scope=row>75%</th><td>  2000</td></tr>\n",
              "\t<tr><th scope=row>100%</th><td>200000</td></tr>\n",
              "</tbody>\n",
              "</table>\n"
            ],
            "text/markdown": "\nA data.frame: 4 × 1\n\n| <!--/--> | Quartil &lt;dbl&gt; |\n|---|---|\n| 25% |    788 |\n| 50% |   1200 |\n| 75% |   2000 |\n| 100% | 200000 |\n\n",
            "text/latex": "A data.frame: 4 × 1\n\\begin{tabular}{r|l}\n  & Quartil\\\\\n  & <dbl>\\\\\n\\hline\n\t25\\% &    788\\\\\n\t50\\% &   1200\\\\\n\t75\\% &   2000\\\\\n\t100\\% & 200000\\\\\n\\end{tabular}\n",
            "text/plain": [
              "     Quartil\n",
              "25%     788 \n",
              "50%    1200 \n",
              "75%    2000 \n",
              "100% 200000 "
            ]
          },
          "metadata": {}
        }
      ]
    },
    {
      "cell_type": "code",
      "metadata": {
        "id": "H--dP0TwpuoA",
        "colab": {
          "base_uri": "https://localhost:8080/"
        },
        "outputId": "26f39a4b-ce63-4ac6-8883-135b121569b4"
      },
      "source": [
        "summary(dados$Renda)"
      ],
      "execution_count": null,
      "outputs": [
        {
          "output_type": "display_data",
          "data": {
            "text/plain": [
              "   Min. 1st Qu.  Median    Mean 3rd Qu.    Max. \n",
              "      0     788    1200    2000    2000  200000 "
            ]
          },
          "metadata": {}
        }
      ]
    },
    {
      "cell_type": "code",
      "metadata": {
        "id": "EpRKboV5jQNG",
        "colab": {
          "base_uri": "https://localhost:8080/"
        },
        "outputId": "9d5e684e-204b-4e55-efff-952a74b4d756"
      },
      "source": [
        "# Decil\n",
        "Decis = c() # Nesse caso estamos declando o Decis como uma lista vazia\n",
        "for (i in 1:9){\n",
        "  Decis = c(Decis, i/10 ) \n",
        "}\n",
        "Decis"
      ],
      "execution_count": null,
      "outputs": [
        {
          "output_type": "display_data",
          "data": {
            "text/html": [
              "<style>\n",
              ".list-inline {list-style: none; margin:0; padding: 0}\n",
              ".list-inline>li {display: inline-block}\n",
              ".list-inline>li:not(:last-child)::after {content: \"\\00b7\"; padding: 0 .5ex}\n",
              "</style>\n",
              "<ol class=list-inline><li>0.1</li><li>0.2</li><li>0.3</li><li>0.4</li><li>0.5</li><li>0.6</li><li>0.7</li><li>0.8</li><li>0.9</li></ol>\n"
            ],
            "text/markdown": "1. 0.1\n2. 0.2\n3. 0.3\n4. 0.4\n5. 0.5\n6. 0.6\n7. 0.7\n8. 0.8\n9. 0.9\n\n\n",
            "text/latex": "\\begin{enumerate*}\n\\item 0.1\n\\item 0.2\n\\item 0.3\n\\item 0.4\n\\item 0.5\n\\item 0.6\n\\item 0.7\n\\item 0.8\n\\item 0.9\n\\end{enumerate*}\n",
            "text/plain": [
              "[1] 0.1 0.2 0.3 0.4 0.5 0.6 0.7 0.8 0.9"
            ]
          },
          "metadata": {}
        }
      ]
    },
    {
      "cell_type": "code",
      "metadata": {
        "id": "vDnCMsbrpuoB",
        "colab": {
          "base_uri": "https://localhost:8080/"
        },
        "outputId": "e0213da2-80bd-4f29-af28-00214be437fc"
      },
      "source": [
        "Decil = quantile(dados$Renda, Decis)\n",
        "data.frame(Decil)"
      ],
      "execution_count": null,
      "outputs": [
        {
          "output_type": "display_data",
          "data": {
            "text/html": [
              "<table class=\"dataframe\">\n",
              "<caption>A data.frame: 9 × 1</caption>\n",
              "<thead>\n",
              "\t<tr><th></th><th scope=col>Decil</th></tr>\n",
              "\t<tr><th></th><th scope=col>&lt;dbl&gt;</th></tr>\n",
              "</thead>\n",
              "<tbody>\n",
              "\t<tr><th scope=row>10%</th><td> 350</td></tr>\n",
              "\t<tr><th scope=row>20%</th><td> 788</td></tr>\n",
              "\t<tr><th scope=row>30%</th><td> 800</td></tr>\n",
              "\t<tr><th scope=row>40%</th><td>1000</td></tr>\n",
              "\t<tr><th scope=row>50%</th><td>1200</td></tr>\n",
              "\t<tr><th scope=row>60%</th><td>1500</td></tr>\n",
              "\t<tr><th scope=row>70%</th><td>1900</td></tr>\n",
              "\t<tr><th scope=row>80%</th><td>2500</td></tr>\n",
              "\t<tr><th scope=row>90%</th><td>4000</td></tr>\n",
              "</tbody>\n",
              "</table>\n"
            ],
            "text/markdown": "\nA data.frame: 9 × 1\n\n| <!--/--> | Decil &lt;dbl&gt; |\n|---|---|\n| 10% |  350 |\n| 20% |  788 |\n| 30% |  800 |\n| 40% | 1000 |\n| 50% | 1200 |\n| 60% | 1500 |\n| 70% | 1900 |\n| 80% | 2500 |\n| 90% | 4000 |\n\n",
            "text/latex": "A data.frame: 9 × 1\n\\begin{tabular}{r|l}\n  & Decil\\\\\n  & <dbl>\\\\\n\\hline\n\t10\\% &  350\\\\\n\t20\\% &  788\\\\\n\t30\\% &  800\\\\\n\t40\\% & 1000\\\\\n\t50\\% & 1200\\\\\n\t60\\% & 1500\\\\\n\t70\\% & 1900\\\\\n\t80\\% & 2500\\\\\n\t90\\% & 4000\\\\\n\\end{tabular}\n",
            "text/plain": [
              "    Decil\n",
              "10%  350 \n",
              "20%  788 \n",
              "30%  800 \n",
              "40% 1000 \n",
              "50% 1200 \n",
              "60% 1500 \n",
              "70% 1900 \n",
              "80% 2500 \n",
              "90% 4000 "
            ]
          },
          "metadata": {}
        }
      ]
    },
    {
      "cell_type": "code",
      "source": [
        "# Percentil\n",
        "Percen = c() # Nesse caso estamos declando o Percentil como uma lista vazia\n",
        "for (i in 1:99){\n",
        "  Percen = c(Percen ,i/100 ) \n",
        "}\n",
        "Percen"
      ],
      "metadata": {
        "colab": {
          "base_uri": "https://localhost:8080/"
        },
        "id": "bIP2KWP5cqZQ",
        "outputId": "7d0f4bec-dd1a-41d7-ef30-e837eb0f657a"
      },
      "execution_count": null,
      "outputs": [
        {
          "output_type": "display_data",
          "data": {
            "text/html": [
              "<style>\n",
              ".list-inline {list-style: none; margin:0; padding: 0}\n",
              ".list-inline>li {display: inline-block}\n",
              ".list-inline>li:not(:last-child)::after {content: \"\\00b7\"; padding: 0 .5ex}\n",
              "</style>\n",
              "<ol class=list-inline><li>0.01</li><li>0.02</li><li>0.03</li><li>0.04</li><li>0.05</li><li>0.06</li><li>0.07</li><li>0.08</li><li>0.09</li><li>0.1</li><li>0.11</li><li>0.12</li><li>0.13</li><li>0.14</li><li>0.15</li><li>0.16</li><li>0.17</li><li>0.18</li><li>0.19</li><li>0.2</li><li>0.21</li><li>0.22</li><li>0.23</li><li>0.24</li><li>0.25</li><li>0.26</li><li>0.27</li><li>0.28</li><li>0.29</li><li>0.3</li><li>0.31</li><li>0.32</li><li>0.33</li><li>0.34</li><li>0.35</li><li>0.36</li><li>0.37</li><li>0.38</li><li>0.39</li><li>0.4</li><li>0.41</li><li>0.42</li><li>0.43</li><li>0.44</li><li>0.45</li><li>0.46</li><li>0.47</li><li>0.48</li><li>0.49</li><li>0.5</li><li>0.51</li><li>0.52</li><li>0.53</li><li>0.54</li><li>0.55</li><li>0.56</li><li>0.57</li><li>0.58</li><li>0.59</li><li>0.6</li><li>0.61</li><li>0.62</li><li>0.63</li><li>0.64</li><li>0.65</li><li>0.66</li><li>0.67</li><li>0.68</li><li>0.69</li><li>0.7</li><li>0.71</li><li>0.72</li><li>0.73</li><li>0.74</li><li>0.75</li><li>0.76</li><li>0.77</li><li>0.78</li><li>0.79</li><li>0.8</li><li>0.81</li><li>0.82</li><li>0.83</li><li>0.84</li><li>0.85</li><li>0.86</li><li>0.87</li><li>0.88</li><li>0.89</li><li>0.9</li><li>0.91</li><li>0.92</li><li>0.93</li><li>0.94</li><li>0.95</li><li>0.96</li><li>0.97</li><li>0.98</li><li>0.99</li></ol>\n"
            ],
            "text/markdown": "1. 0.01\n2. 0.02\n3. 0.03\n4. 0.04\n5. 0.05\n6. 0.06\n7. 0.07\n8. 0.08\n9. 0.09\n10. 0.1\n11. 0.11\n12. 0.12\n13. 0.13\n14. 0.14\n15. 0.15\n16. 0.16\n17. 0.17\n18. 0.18\n19. 0.19\n20. 0.2\n21. 0.21\n22. 0.22\n23. 0.23\n24. 0.24\n25. 0.25\n26. 0.26\n27. 0.27\n28. 0.28\n29. 0.29\n30. 0.3\n31. 0.31\n32. 0.32\n33. 0.33\n34. 0.34\n35. 0.35\n36. 0.36\n37. 0.37\n38. 0.38\n39. 0.39\n40. 0.4\n41. 0.41\n42. 0.42\n43. 0.43\n44. 0.44\n45. 0.45\n46. 0.46\n47. 0.47\n48. 0.48\n49. 0.49\n50. 0.5\n51. 0.51\n52. 0.52\n53. 0.53\n54. 0.54\n55. 0.55\n56. 0.56\n57. 0.57\n58. 0.58\n59. 0.59\n60. 0.6\n61. 0.61\n62. 0.62\n63. 0.63\n64. 0.64\n65. 0.65\n66. 0.66\n67. 0.67\n68. 0.68\n69. 0.69\n70. 0.7\n71. 0.71\n72. 0.72\n73. 0.73\n74. 0.74\n75. 0.75\n76. 0.76\n77. 0.77\n78. 0.78\n79. 0.79\n80. 0.8\n81. 0.81\n82. 0.82\n83. 0.83\n84. 0.84\n85. 0.85\n86. 0.86\n87. 0.87\n88. 0.88\n89. 0.89\n90. 0.9\n91. 0.91\n92. 0.92\n93. 0.93\n94. 0.94\n95. 0.95\n96. 0.96\n97. 0.97\n98. 0.98\n99. 0.99\n\n\n",
            "text/latex": "\\begin{enumerate*}\n\\item 0.01\n\\item 0.02\n\\item 0.03\n\\item 0.04\n\\item 0.05\n\\item 0.06\n\\item 0.07\n\\item 0.08\n\\item 0.09\n\\item 0.1\n\\item 0.11\n\\item 0.12\n\\item 0.13\n\\item 0.14\n\\item 0.15\n\\item 0.16\n\\item 0.17\n\\item 0.18\n\\item 0.19\n\\item 0.2\n\\item 0.21\n\\item 0.22\n\\item 0.23\n\\item 0.24\n\\item 0.25\n\\item 0.26\n\\item 0.27\n\\item 0.28\n\\item 0.29\n\\item 0.3\n\\item 0.31\n\\item 0.32\n\\item 0.33\n\\item 0.34\n\\item 0.35\n\\item 0.36\n\\item 0.37\n\\item 0.38\n\\item 0.39\n\\item 0.4\n\\item 0.41\n\\item 0.42\n\\item 0.43\n\\item 0.44\n\\item 0.45\n\\item 0.46\n\\item 0.47\n\\item 0.48\n\\item 0.49\n\\item 0.5\n\\item 0.51\n\\item 0.52\n\\item 0.53\n\\item 0.54\n\\item 0.55\n\\item 0.56\n\\item 0.57\n\\item 0.58\n\\item 0.59\n\\item 0.6\n\\item 0.61\n\\item 0.62\n\\item 0.63\n\\item 0.64\n\\item 0.65\n\\item 0.66\n\\item 0.67\n\\item 0.68\n\\item 0.69\n\\item 0.7\n\\item 0.71\n\\item 0.72\n\\item 0.73\n\\item 0.74\n\\item 0.75\n\\item 0.76\n\\item 0.77\n\\item 0.78\n\\item 0.79\n\\item 0.8\n\\item 0.81\n\\item 0.82\n\\item 0.83\n\\item 0.84\n\\item 0.85\n\\item 0.86\n\\item 0.87\n\\item 0.88\n\\item 0.89\n\\item 0.9\n\\item 0.91\n\\item 0.92\n\\item 0.93\n\\item 0.94\n\\item 0.95\n\\item 0.96\n\\item 0.97\n\\item 0.98\n\\item 0.99\n\\end{enumerate*}\n",
            "text/plain": [
              " [1] 0.01 0.02 0.03 0.04 0.05 0.06 0.07 0.08 0.09 0.10 0.11 0.12 0.13 0.14 0.15\n",
              "[16] 0.16 0.17 0.18 0.19 0.20 0.21 0.22 0.23 0.24 0.25 0.26 0.27 0.28 0.29 0.30\n",
              "[31] 0.31 0.32 0.33 0.34 0.35 0.36 0.37 0.38 0.39 0.40 0.41 0.42 0.43 0.44 0.45\n",
              "[46] 0.46 0.47 0.48 0.49 0.50 0.51 0.52 0.53 0.54 0.55 0.56 0.57 0.58 0.59 0.60\n",
              "[61] 0.61 0.62 0.63 0.64 0.65 0.66 0.67 0.68 0.69 0.70 0.71 0.72 0.73 0.74 0.75\n",
              "[76] 0.76 0.77 0.78 0.79 0.80 0.81 0.82 0.83 0.84 0.85 0.86 0.87 0.88 0.89 0.90\n",
              "[91] 0.91 0.92 0.93 0.94 0.95 0.96 0.97 0.98 0.99"
            ]
          },
          "metadata": {}
        }
      ]
    },
    {
      "cell_type": "code",
      "source": [
        "Percentil = quantile(dados$Renda, Percen) # Com esse calculo podemos perceber que 28% da população ganha 788(salario minimo da epoca) pra baixo\n",
        "data.frame(Percentil) # Resulta em algo grande nao vale a pena executar"
      ],
      "metadata": {
        "colab": {
          "base_uri": "https://localhost:8080/"
        },
        "id": "2u5x69s9dO92",
        "outputId": "f4a6f950-7b20-4cc5-d030-58264f4a6198"
      },
      "execution_count": null,
      "outputs": [
        {
          "output_type": "display_data",
          "data": {
            "text/html": [
              "<table class=\"dataframe\">\n",
              "<caption>A data.frame: 99 × 1</caption>\n",
              "<thead>\n",
              "\t<tr><th></th><th scope=col>Percentil</th></tr>\n",
              "\t<tr><th></th><th scope=col>&lt;dbl&gt;</th></tr>\n",
              "</thead>\n",
              "<tbody>\n",
              "\t<tr><th scope=row>1%</th><td>  0</td></tr>\n",
              "\t<tr><th scope=row>2%</th><td>  0</td></tr>\n",
              "\t<tr><th scope=row>3%</th><td>  0</td></tr>\n",
              "\t<tr><th scope=row>4%</th><td> 50</td></tr>\n",
              "\t<tr><th scope=row>5%</th><td>100</td></tr>\n",
              "\t<tr><th scope=row>6%</th><td>180</td></tr>\n",
              "\t<tr><th scope=row>7%</th><td>200</td></tr>\n",
              "\t<tr><th scope=row>8%</th><td>280</td></tr>\n",
              "\t<tr><th scope=row>9%</th><td>300</td></tr>\n",
              "\t<tr><th scope=row>10%</th><td>350</td></tr>\n",
              "\t<tr><th scope=row>11%</th><td>400</td></tr>\n",
              "\t<tr><th scope=row>12%</th><td>400</td></tr>\n",
              "\t<tr><th scope=row>13%</th><td>480</td></tr>\n",
              "\t<tr><th scope=row>14%</th><td>500</td></tr>\n",
              "\t<tr><th scope=row>15%</th><td>500</td></tr>\n",
              "\t<tr><th scope=row>16%</th><td>600</td></tr>\n",
              "\t<tr><th scope=row>17%</th><td>600</td></tr>\n",
              "\t<tr><th scope=row>18%</th><td>700</td></tr>\n",
              "\t<tr><th scope=row>19%</th><td>700</td></tr>\n",
              "\t<tr><th scope=row>20%</th><td>788</td></tr>\n",
              "\t<tr><th scope=row>21%</th><td>788</td></tr>\n",
              "\t<tr><th scope=row>22%</th><td>788</td></tr>\n",
              "\t<tr><th scope=row>23%</th><td>788</td></tr>\n",
              "\t<tr><th scope=row>24%</th><td>788</td></tr>\n",
              "\t<tr><th scope=row>25%</th><td>788</td></tr>\n",
              "\t<tr><th scope=row>26%</th><td>788</td></tr>\n",
              "\t<tr><th scope=row>27%</th><td>788</td></tr>\n",
              "\t<tr><th scope=row>28%</th><td>788</td></tr>\n",
              "\t<tr><th scope=row>29%</th><td>789</td></tr>\n",
              "\t<tr><th scope=row>30%</th><td>800</td></tr>\n",
              "\t<tr><th scope=row>⋮</th><td>⋮</td></tr>\n",
              "\t<tr><th scope=row>70%</th><td> 1900</td></tr>\n",
              "\t<tr><th scope=row>71%</th><td> 2000</td></tr>\n",
              "\t<tr><th scope=row>72%</th><td> 2000</td></tr>\n",
              "\t<tr><th scope=row>73%</th><td> 2000</td></tr>\n",
              "\t<tr><th scope=row>74%</th><td> 2000</td></tr>\n",
              "\t<tr><th scope=row>75%</th><td> 2000</td></tr>\n",
              "\t<tr><th scope=row>76%</th><td> 2000</td></tr>\n",
              "\t<tr><th scope=row>77%</th><td> 2200</td></tr>\n",
              "\t<tr><th scope=row>78%</th><td> 2300</td></tr>\n",
              "\t<tr><th scope=row>79%</th><td> 2400</td></tr>\n",
              "\t<tr><th scope=row>80%</th><td> 2500</td></tr>\n",
              "\t<tr><th scope=row>81%</th><td> 2500</td></tr>\n",
              "\t<tr><th scope=row>82%</th><td> 2600</td></tr>\n",
              "\t<tr><th scope=row>83%</th><td> 3000</td></tr>\n",
              "\t<tr><th scope=row>84%</th><td> 3000</td></tr>\n",
              "\t<tr><th scope=row>85%</th><td> 3000</td></tr>\n",
              "\t<tr><th scope=row>86%</th><td> 3000</td></tr>\n",
              "\t<tr><th scope=row>87%</th><td> 3400</td></tr>\n",
              "\t<tr><th scope=row>88%</th><td> 3500</td></tr>\n",
              "\t<tr><th scope=row>89%</th><td> 4000</td></tr>\n",
              "\t<tr><th scope=row>90%</th><td> 4000</td></tr>\n",
              "\t<tr><th scope=row>91%</th><td> 4200</td></tr>\n",
              "\t<tr><th scope=row>92%</th><td> 5000</td></tr>\n",
              "\t<tr><th scope=row>93%</th><td> 5000</td></tr>\n",
              "\t<tr><th scope=row>94%</th><td> 5400</td></tr>\n",
              "\t<tr><th scope=row>95%</th><td> 6000</td></tr>\n",
              "\t<tr><th scope=row>96%</th><td> 7000</td></tr>\n",
              "\t<tr><th scope=row>97%</th><td> 8000</td></tr>\n",
              "\t<tr><th scope=row>98%</th><td>10000</td></tr>\n",
              "\t<tr><th scope=row>99%</th><td>15000</td></tr>\n",
              "</tbody>\n",
              "</table>\n"
            ],
            "text/markdown": "\nA data.frame: 99 × 1\n\n| <!--/--> | Percentil &lt;dbl&gt; |\n|---|---|\n| 1% |   0 |\n| 2% |   0 |\n| 3% |   0 |\n| 4% |  50 |\n| 5% | 100 |\n| 6% | 180 |\n| 7% | 200 |\n| 8% | 280 |\n| 9% | 300 |\n| 10% | 350 |\n| 11% | 400 |\n| 12% | 400 |\n| 13% | 480 |\n| 14% | 500 |\n| 15% | 500 |\n| 16% | 600 |\n| 17% | 600 |\n| 18% | 700 |\n| 19% | 700 |\n| 20% | 788 |\n| 21% | 788 |\n| 22% | 788 |\n| 23% | 788 |\n| 24% | 788 |\n| 25% | 788 |\n| 26% | 788 |\n| 27% | 788 |\n| 28% | 788 |\n| 29% | 789 |\n| 30% | 800 |\n| ⋮ | ⋮ |\n| 70% |  1900 |\n| 71% |  2000 |\n| 72% |  2000 |\n| 73% |  2000 |\n| 74% |  2000 |\n| 75% |  2000 |\n| 76% |  2000 |\n| 77% |  2200 |\n| 78% |  2300 |\n| 79% |  2400 |\n| 80% |  2500 |\n| 81% |  2500 |\n| 82% |  2600 |\n| 83% |  3000 |\n| 84% |  3000 |\n| 85% |  3000 |\n| 86% |  3000 |\n| 87% |  3400 |\n| 88% |  3500 |\n| 89% |  4000 |\n| 90% |  4000 |\n| 91% |  4200 |\n| 92% |  5000 |\n| 93% |  5000 |\n| 94% |  5400 |\n| 95% |  6000 |\n| 96% |  7000 |\n| 97% |  8000 |\n| 98% | 10000 |\n| 99% | 15000 |\n\n",
            "text/latex": "A data.frame: 99 × 1\n\\begin{tabular}{r|l}\n  & Percentil\\\\\n  & <dbl>\\\\\n\\hline\n\t1\\% &   0\\\\\n\t2\\% &   0\\\\\n\t3\\% &   0\\\\\n\t4\\% &  50\\\\\n\t5\\% & 100\\\\\n\t6\\% & 180\\\\\n\t7\\% & 200\\\\\n\t8\\% & 280\\\\\n\t9\\% & 300\\\\\n\t10\\% & 350\\\\\n\t11\\% & 400\\\\\n\t12\\% & 400\\\\\n\t13\\% & 480\\\\\n\t14\\% & 500\\\\\n\t15\\% & 500\\\\\n\t16\\% & 600\\\\\n\t17\\% & 600\\\\\n\t18\\% & 700\\\\\n\t19\\% & 700\\\\\n\t20\\% & 788\\\\\n\t21\\% & 788\\\\\n\t22\\% & 788\\\\\n\t23\\% & 788\\\\\n\t24\\% & 788\\\\\n\t25\\% & 788\\\\\n\t26\\% & 788\\\\\n\t27\\% & 788\\\\\n\t28\\% & 788\\\\\n\t29\\% & 789\\\\\n\t30\\% & 800\\\\\n\t⋮ & ⋮\\\\\n\t70\\% &  1900\\\\\n\t71\\% &  2000\\\\\n\t72\\% &  2000\\\\\n\t73\\% &  2000\\\\\n\t74\\% &  2000\\\\\n\t75\\% &  2000\\\\\n\t76\\% &  2000\\\\\n\t77\\% &  2200\\\\\n\t78\\% &  2300\\\\\n\t79\\% &  2400\\\\\n\t80\\% &  2500\\\\\n\t81\\% &  2500\\\\\n\t82\\% &  2600\\\\\n\t83\\% &  3000\\\\\n\t84\\% &  3000\\\\\n\t85\\% &  3000\\\\\n\t86\\% &  3000\\\\\n\t87\\% &  3400\\\\\n\t88\\% &  3500\\\\\n\t89\\% &  4000\\\\\n\t90\\% &  4000\\\\\n\t91\\% &  4200\\\\\n\t92\\% &  5000\\\\\n\t93\\% &  5000\\\\\n\t94\\% &  5400\\\\\n\t95\\% &  6000\\\\\n\t96\\% &  7000\\\\\n\t97\\% &  8000\\\\\n\t98\\% & 10000\\\\\n\t99\\% & 15000\\\\\n\\end{tabular}\n",
            "text/plain": [
              "    Percentil\n",
              "1%    0      \n",
              "2%    0      \n",
              "3%    0      \n",
              "4%   50      \n",
              "5%  100      \n",
              "6%  180      \n",
              "7%  200      \n",
              "8%  280      \n",
              "9%  300      \n",
              "10% 350      \n",
              "11% 400      \n",
              "12% 400      \n",
              "13% 480      \n",
              "14% 500      \n",
              "15% 500      \n",
              "16% 600      \n",
              "17% 600      \n",
              "18% 700      \n",
              "19% 700      \n",
              "20% 788      \n",
              "21% 788      \n",
              "22% 788      \n",
              "23% 788      \n",
              "24% 788      \n",
              "25% 788      \n",
              "26% 788      \n",
              "27% 788      \n",
              "28% 788      \n",
              "29% 789      \n",
              "30% 800      \n",
              "⋮   ⋮        \n",
              "70%  1900    \n",
              "71%  2000    \n",
              "72%  2000    \n",
              "73%  2000    \n",
              "74%  2000    \n",
              "75%  2000    \n",
              "76%  2000    \n",
              "77%  2200    \n",
              "78%  2300    \n",
              "79%  2400    \n",
              "80%  2500    \n",
              "81%  2500    \n",
              "82%  2600    \n",
              "83%  3000    \n",
              "84%  3000    \n",
              "85%  3000    \n",
              "86%  3000    \n",
              "87%  3400    \n",
              "88%  3500    \n",
              "89%  4000    \n",
              "90%  4000    \n",
              "91%  4200    \n",
              "92%  5000    \n",
              "93%  5000    \n",
              "94%  5400    \n",
              "95%  6000    \n",
              "96%  7000    \n",
              "97%  8000    \n",
              "98% 10000    \n",
              "99% 15000    "
            ]
          },
          "metadata": {}
        }
      ]
    },
    {
      "cell_type": "code",
      "metadata": {
        "id": "W9ugRA-2puoB",
        "colab": {
          "base_uri": "https://localhost:8080/"
        },
        "outputId": "a543cf11-c3aa-463d-b9c1-1371413e6015"
      },
      "source": [
        "# Grafico de idade acumulado, ou seja porcentagem de idade acumulada\n",
        "\n",
        "ggplot(data = dados, aes(x = Idade)) + \n",
        "    geom_histogram(\n",
        "        aes(y = cumsum(..count..)/sum(..count..)),# esse cumsum o acumulo de uma barra para outra \n",
        "        bins = 10\n",
        "    ) + \n",
        "    geom_freqpoly(\n",
        "        aes(y = cumsum(..count..)/sum(..count..)), \n",
        "        color = 'green'\n",
        "    )"
      ],
      "execution_count": null,
      "outputs": [
        {
          "output_type": "stream",
          "name": "stderr",
          "text": [
            "`stat_bin()` using `bins = 30`. Pick better value with `binwidth`.\n",
            "\n"
          ]
        },
        {
          "output_type": "display_data",
          "data": {
            "text/plain": [
              "plot without title"
            ],
            "image/png": "[encoded data removed]"
          },
          "metadata": {
            "image/png": {
              "width": 420,
              "height": 240
            }
          }
        }
      ]
    },
    {
      "cell_type": "code",
      "metadata": {
        "id": "l8Diz6ZKpuoB",
        "colab": {
          "base_uri": "https://localhost:8080/"
        },
        "outputId": "41e8b7dd-4a5f-4ae7-e5e3-a19de230373d"
      },
      "source": [
        "DecilIdade = quantile(dados$Idade, Decis)\n",
        "data.frame(DecilIdade)"
      ],
      "execution_count": null,
      "outputs": [
        {
          "output_type": "display_data",
          "data": {
            "text/html": [
              "<table class=\"dataframe\">\n",
              "<caption>A data.frame: 9 × 1</caption>\n",
              "<thead>\n",
              "\t<tr><th></th><th scope=col>DecilIdade</th></tr>\n",
              "\t<tr><th></th><th scope=col>&lt;dbl&gt;</th></tr>\n",
              "</thead>\n",
              "<tbody>\n",
              "\t<tr><th scope=row>10%</th><td>28</td></tr>\n",
              "\t<tr><th scope=row>20%</th><td>33</td></tr>\n",
              "\t<tr><th scope=row>30%</th><td>36</td></tr>\n",
              "\t<tr><th scope=row>40%</th><td>40</td></tr>\n",
              "\t<tr><th scope=row>50%</th><td>43</td></tr>\n",
              "\t<tr><th scope=row>60%</th><td>47</td></tr>\n",
              "\t<tr><th scope=row>70%</th><td>51</td></tr>\n",
              "\t<tr><th scope=row>80%</th><td>55</td></tr>\n",
              "\t<tr><th scope=row>90%</th><td>61</td></tr>\n",
              "</tbody>\n",
              "</table>\n"
            ],
            "text/markdown": "\nA data.frame: 9 × 1\n\n| <!--/--> | DecilIdade &lt;dbl&gt; |\n|---|---|\n| 10% | 28 |\n| 20% | 33 |\n| 30% | 36 |\n| 40% | 40 |\n| 50% | 43 |\n| 60% | 47 |\n| 70% | 51 |\n| 80% | 55 |\n| 90% | 61 |\n\n",
            "text/latex": "A data.frame: 9 × 1\n\\begin{tabular}{r|l}\n  & DecilIdade\\\\\n  & <dbl>\\\\\n\\hline\n\t10\\% & 28\\\\\n\t20\\% & 33\\\\\n\t30\\% & 36\\\\\n\t40\\% & 40\\\\\n\t50\\% & 43\\\\\n\t60\\% & 47\\\\\n\t70\\% & 51\\\\\n\t80\\% & 55\\\\\n\t90\\% & 61\\\\\n\\end{tabular}\n",
            "text/plain": [
              "    DecilIdade\n",
              "10% 28        \n",
              "20% 33        \n",
              "30% 36        \n",
              "40% 40        \n",
              "50% 43        \n",
              "60% 47        \n",
              "70% 51        \n",
              "80% 55        \n",
              "90% 61        "
            ]
          },
          "metadata": {}
        }
      ]
    },
    {
      "cell_type": "markdown",
      "metadata": {
        "id": "e4L5mXIQpuoB"
      },
      "source": [
        "### Classificação percentual"
      ]
    },
    {
      "cell_type": "code",
      "metadata": {
        "id": "bKMlKSMnpuoC",
        "colab": {
          "base_uri": "https://localhost:8080/"
        },
        "outputId": "3a4a711b-ae01-4c25-eafd-42df914312a4"
      },
      "source": [
        "PessoasAte40anos = length(dados$Idade[dados$Idade <= '40']) # Esse dados$Idade dentro de dados$Idade é um parametro de seleção\n",
        "PessoasAte40anos\n",
        "# Ou seja há 32331 pessoas que tem 40 anos pra baixo"
      ],
      "execution_count": null,
      "outputs": [
        {
          "output_type": "display_data",
          "data": {
            "text/html": [
              "32331"
            ],
            "text/markdown": "32331",
            "text/latex": "32331",
            "text/plain": [
              "[1] 32331"
            ]
          },
          "metadata": {}
        }
      ]
    },
    {
      "cell_type": "code",
      "source": [
        "# agora vamos calcular a quantidade em porcentagem\n",
        "\n",
        "Porcentagem40Menos = PessoasAte40anos / length(dados$Idade)\n",
        "Porcentagem40Menos"
      ],
      "metadata": {
        "colab": {
          "base_uri": "https://localhost:8080/"
        },
        "id": "MtYf7AN5g_rQ",
        "outputId": "9cb839cb-5be9-473e-9562-0873adc2d518"
      },
      "execution_count": null,
      "outputs": [
        {
          "output_type": "display_data",
          "data": {
            "text/html": [
              "0.420757418011452"
            ],
            "text/markdown": "0.420757418011452",
            "text/latex": "0.420757418011452",
            "text/plain": [
              "[1] 0.4207574"
            ]
          },
          "metadata": {}
        }
      ]
    },
    {
      "cell_type": "code",
      "source": [
        "# Exercicio \n",
        "length(dados$Renda[dados$Renda <= 788/2 ]) / length(dados$Renda) * 100 "
      ],
      "metadata": {
        "colab": {
          "base_uri": "https://localhost:8080/"
        },
        "id": "kVWtSwhyiS-K",
        "outputId": "0e3ba287-5222-4d34-f17c-512c29903721"
      },
      "execution_count": null,
      "outputs": [
        {
          "output_type": "display_data",
          "data": {
            "text/html": [
              "10.6246746486205"
            ],
            "text/markdown": "10.6246746486205",
            "text/latex": "10.6246746486205",
            "text/plain": [
              "[1] 10.62467"
            ]
          },
          "metadata": {}
        }
      ]
    },
    {
      "cell_type": "markdown",
      "metadata": {
        "id": "6gIeZO_CjQNJ"
      },
      "source": [
        "## <font color=green>4.2 Box-plot</font>\n",
        "***\n",
        "\n",
        "O box plot dá uma idéia da posição, dispersão, assimetria, caudas e dados discrepantes (outliers). A posição central é dada pela mediana e a dispersão por $IIQ$. As posições relativas de $Q1$, $Mediana$ e $Q3$ dão uma noção da simetria da distribuição. Os comprimentos das cauda são dados pelas linhas que vão do retângulo aos valores remotos e pelos valores atípicos."
      ]
    },
    {
      "cell_type": "markdown",
      "metadata": {
        "id": "kIvvgL26puoC"
      },
      "source": [
        "#### <font color=red>Documentações:\n",
        "\n",
        "- [**geom_boxplot**](https://www.rdocumentation.org/packages/ggplot2/versions/3.2.1/topics/geom_boxplot)\n",
        "- [**factor**](https://www.rdocumentation.org/packages/base/versions/3.6.1/topics/factor)"
      ]
    },
    {
      "cell_type": "markdown",
      "metadata": {
        "id": "VeiTE_gvjQNK"
      },
      "source": [
        "<img src='https://caelum-online-public.s3.amazonaws.com/1177-estatistica-parte1/01/img005.png' width='65%'>"
      ]
    },
    {
      "cell_type": "code",
      "metadata": {
        "id": "kAOBR9X5puoD"
      },
      "source": [
        "sexo = c(\n",
        "    'Masculino', \n",
        "    'Feminino'\n",
        ")\n",
        "cor = c(\n",
        "    'Indígena', \n",
        "    'Branca', \n",
        "    'Preta', \n",
        "    'Amarela', \n",
        "    'Parda'\n",
        ")\n",
        "anos_de_estudo = c(\n",
        "    'Sem instrução e menos de 1 ano', \n",
        "    '1 ano', \n",
        "    '2 anos', \n",
        "    '3 anos', \n",
        "    '4 anos', \n",
        "    '5 anos', \n",
        "    '6 anos', \n",
        "    '7 anos', \n",
        "    '8 anos', \n",
        "    '9 anos', \n",
        "    '10 anos', \n",
        "    '11 anos', \n",
        "    '12 anos', \n",
        "    '13 anos', \n",
        "    '14 anos', \n",
        "    '15 anos ou mais', \n",
        "    'Não determinados'\n",
        ")"
      ],
      "execution_count": null,
      "outputs": []
    },
    {
      "cell_type": "code",
      "metadata": {
        "id": "-eja051apuoD",
        "colab": {
          "base_uri": "https://localhost:8080/"
        },
        "outputId": "fe8d82ad-efc7-4828-a726-77ce8f618f78"
      },
      "source": [
        "ggplot(data = dados, aes(x = \"\", y = Altura)) + \n",
        "    stat_boxplot(geom ='errorbar', width = 0.4) +  # o Error barrar é os tracinhos que indicam o limite, se tirar fica sem\n",
        "    geom_boxplot(fill = '#3274A1') +  # O boxplot\n",
        "    coord_flip() +\n",
        "    ylab(\"Metros\") + \n",
        "    xlab(\"\") + \n",
        "    ggtitle('Box-plot Alturas') +\n",
        "    formatos"
      ],
      "execution_count": null,
      "outputs": [
        {
          "output_type": "display_data",
          "data": {
            "text/plain": [
              "plot without title"
            ],
            "image/png": "[encoded data removed]"
          },
          "metadata": {
            "image/png": {
              "width": 420,
              "height": 240
            }
          }
        }
      ]
    },
    {
      "cell_type": "code",
      "metadata": {
        "id": "CNNAYUuwpuoD",
        "colab": {
          "base_uri": "https://localhost:8080/"
        },
        "outputId": "91c2dab0-24ef-4ed4-99f7-1268645b7816"
      },
      "source": [
        "ggplot(data = dados, aes(x = Sexo, y = Altura, group = Sexo)) + \n",
        "    stat_boxplot(geom ='errorbar', width = 0.4) + \n",
        "    geom_boxplot(fill = c('#3274A1', \"orange\")) + \n",
        "    coord_flip() +\n",
        "    ylab(\"Metros\") + \n",
        "    xlab(\"Sexo\") + \n",
        "    ggtitle('Box-plot Alturas X Sexo') +\n",
        "    formatos\n",
        "\n",
        "    # Perceba que o gráfico fica esquisito pq ele nao diz qual é o sexo, o porque é que o R não interpreta a variavel como categorica, logo temos um e 0, e meio vazio"
      ],
      "execution_count": null,
      "outputs": [
        {
          "output_type": "display_data",
          "data": {
            "text/plain": [
              "plot without title"
            ],
            "image/png": "[encoded data removed]"
          },
          "metadata": {
            "image/png": {
              "width": 420,
              "height": 240
            }
          }
        }
      ]
    },
    {
      "cell_type": "code",
      "metadata": {
        "id": "NIZddmgGpuoE"
      },
      "source": [
        "# Categorizando uma variavel\n",
        "dados$Cat.sexo = factor(dados$Sexo)\n",
        "levels(dados$Cat.sexo) = sexo"
      ],
      "execution_count": null,
      "outputs": []
    },
    {
      "cell_type": "code",
      "metadata": {
        "id": "R_RdejnFpuoE",
        "colab": {
          "base_uri": "https://localhost:8080/"
        },
        "outputId": "6e84817a-4f4f-43c7-897a-c91a00e450b9"
      },
      "source": [
        "head(dados)"
      ],
      "execution_count": null,
      "outputs": [
        {
          "output_type": "display_data",
          "data": {
            "text/html": [
              "<table class=\"dataframe\">\n",
              "<caption>A data.frame: 6 × 9</caption>\n",
              "<thead>\n",
              "\t<tr><th></th><th scope=col>UF</th><th scope=col>Sexo</th><th scope=col>Idade</th><th scope=col>Cor</th><th scope=col>Anos.de.Estudo</th><th scope=col>Renda</th><th scope=col>Altura</th><th scope=col>Cat.sexo</th><th scope=col>Cat.Ano.De.Estudo</th></tr>\n",
              "\t<tr><th></th><th scope=col>&lt;int&gt;</th><th scope=col>&lt;int&gt;</th><th scope=col>&lt;int&gt;</th><th scope=col>&lt;int&gt;</th><th scope=col>&lt;int&gt;</th><th scope=col>&lt;int&gt;</th><th scope=col>&lt;dbl&gt;</th><th scope=col>&lt;fct&gt;</th><th scope=col>&lt;ord&gt;</th></tr>\n",
              "</thead>\n",
              "<tbody>\n",
              "\t<tr><th scope=row>1</th><td>11</td><td>0</td><td>23</td><td>8</td><td>12</td><td> 800</td><td>1.603808</td><td>Masculino</td><td>11 anos</td></tr>\n",
              "\t<tr><th scope=row>2</th><td>11</td><td>1</td><td>23</td><td>2</td><td>12</td><td>1150</td><td>1.739790</td><td>Feminino </td><td>11 anos</td></tr>\n",
              "\t<tr><th scope=row>3</th><td>11</td><td>1</td><td>35</td><td>8</td><td>15</td><td> 880</td><td>1.760444</td><td>Feminino </td><td>14 anos</td></tr>\n",
              "\t<tr><th scope=row>4</th><td>11</td><td>0</td><td>46</td><td>2</td><td> 6</td><td>3500</td><td>1.783158</td><td>Masculino</td><td>5 anos </td></tr>\n",
              "\t<tr><th scope=row>5</th><td>11</td><td>1</td><td>47</td><td>8</td><td> 9</td><td> 150</td><td>1.690631</td><td>Feminino </td><td>8 anos </td></tr>\n",
              "\t<tr><th scope=row>6</th><td>11</td><td>1</td><td>34</td><td>8</td><td>12</td><td> 790</td><td>1.637906</td><td>Feminino </td><td>11 anos</td></tr>\n",
              "</tbody>\n",
              "</table>\n"
            ],
            "text/markdown": "\nA data.frame: 6 × 9\n\n| <!--/--> | UF &lt;int&gt; | Sexo &lt;int&gt; | Idade &lt;int&gt; | Cor &lt;int&gt; | Anos.de.Estudo &lt;int&gt; | Renda &lt;int&gt; | Altura &lt;dbl&gt; | Cat.sexo &lt;fct&gt; | Cat.Ano.De.Estudo &lt;ord&gt; |\n|---|---|---|---|---|---|---|---|---|---|\n| 1 | 11 | 0 | 23 | 8 | 12 |  800 | 1.603808 | Masculino | 11 anos |\n| 2 | 11 | 1 | 23 | 2 | 12 | 1150 | 1.739790 | Feminino  | 11 anos |\n| 3 | 11 | 1 | 35 | 8 | 15 |  880 | 1.760444 | Feminino  | 14 anos |\n| 4 | 11 | 0 | 46 | 2 |  6 | 3500 | 1.783158 | Masculino | 5 anos  |\n| 5 | 11 | 1 | 47 | 8 |  9 |  150 | 1.690631 | Feminino  | 8 anos  |\n| 6 | 11 | 1 | 34 | 8 | 12 |  790 | 1.637906 | Feminino  | 11 anos |\n\n",
            "text/latex": "A data.frame: 6 × 9\n\\begin{tabular}{r|lllllllll}\n  & UF & Sexo & Idade & Cor & Anos.de.Estudo & Renda & Altura & Cat.sexo & Cat.Ano.De.Estudo\\\\\n  & <int> & <int> & <int> & <int> & <int> & <int> & <dbl> & <fct> & <ord>\\\\\n\\hline\n\t1 & 11 & 0 & 23 & 8 & 12 &  800 & 1.603808 & Masculino & 11 anos\\\\\n\t2 & 11 & 1 & 23 & 2 & 12 & 1150 & 1.739790 & Feminino  & 11 anos\\\\\n\t3 & 11 & 1 & 35 & 8 & 15 &  880 & 1.760444 & Feminino  & 14 anos\\\\\n\t4 & 11 & 0 & 46 & 2 &  6 & 3500 & 1.783158 & Masculino & 5 anos \\\\\n\t5 & 11 & 1 & 47 & 8 &  9 &  150 & 1.690631 & Feminino  & 8 anos \\\\\n\t6 & 11 & 1 & 34 & 8 & 12 &  790 & 1.637906 & Feminino  & 11 anos\\\\\n\\end{tabular}\n",
            "text/plain": [
              "  UF Sexo Idade Cor Anos.de.Estudo Renda Altura   Cat.sexo  Cat.Ano.De.Estudo\n",
              "1 11 0    23    8   12              800  1.603808 Masculino 11 anos          \n",
              "2 11 1    23    2   12             1150  1.739790 Feminino  11 anos          \n",
              "3 11 1    35    8   15              880  1.760444 Feminino  14 anos          \n",
              "4 11 0    46    2    6             3500  1.783158 Masculino 5 anos           \n",
              "5 11 1    47    8    9              150  1.690631 Feminino  8 anos           \n",
              "6 11 1    34    8   12              790  1.637906 Feminino  11 anos          "
            ]
          },
          "metadata": {}
        }
      ]
    },
    {
      "cell_type": "code",
      "metadata": {
        "id": "qf8nIHZ0puoE",
        "colab": {
          "base_uri": "https://localhost:8080/"
        },
        "outputId": "9e865947-1bc8-4d0e-b0eb-9b7e86ce7afc"
      },
      "source": [
        "ggplot(data = dados, aes(x = Cat.sexo, y = Altura)) + \n",
        "    stat_boxplot(geom ='errorbar', width = 0.4) + \n",
        "    geom_boxplot(fill = c('#3274A1', \"orange\")) + \n",
        "    coord_flip() +\n",
        "    ylab(\"Metros\") + \n",
        "    xlab(\"Sexo\") + \n",
        "    ggtitle('Box-plot Alturas X Sexo') +\n",
        "    formatos"
      ],
      "execution_count": null,
      "outputs": [
        {
          "output_type": "display_data",
          "data": {
            "text/plain": [
              "plot without title"
            ],
            "image/png": "[encoded data removed]"
          },
          "metadata": {
            "image/png": {
              "width": 420,
              "height": 240
            }
          }
        }
      ]
    },
    {
      "cell_type": "code",
      "metadata": {
        "id": "tqDaTW5rpuoF",
        "colab": {
          "base_uri": "https://localhost:8080/"
        },
        "outputId": "40328a95-96a3-4de3-c392-b8a49c157a00"
      },
      "source": [
        "ggplot(data = dados[dados$Renda < 10000, ], aes(x = \"\", y = Renda)) + \n",
        "    stat_boxplot(geom ='errorbar', width = 0.4) + \n",
        "    geom_boxplot(fill = '#3274A1') + \n",
        "    coord_flip() +\n",
        "    ylab(\"R$\") + \n",
        "    xlab(\"\") + \n",
        "    ggtitle('Box-plot Renda') +\n",
        "    formatos"
      ],
      "execution_count": null,
      "outputs": [
        {
          "output_type": "display_data",
          "data": {
            "text/plain": [
              "plot without title"
            ],
            "image/png": "[encoded data removed]"
          },
          "metadata": {
            "image/png": {
              "width": 420,
              "height": 240
            }
          }
        }
      ]
    },
    {
      "cell_type": "code",
      "metadata": {
        "id": "7mCwinTtpuoH",
        "colab": {
          "base_uri": "https://localhost:8080/"
        },
        "outputId": "8f9f7d0e-a45d-4414-e127-058fb3ea3cd6"
      },
      "source": [
        "ggplot(data = dados[dados$Renda < 10000, ], aes(x = Cat.sexo, y = Renda)) + \n",
        "    stat_boxplot(geom ='errorbar', width = 0.4) + \n",
        "    geom_boxplot(fill = c('#3274A1',\"orange\")) + \n",
        "    coord_flip() +\n",
        "    ylab(\"R$\") + \n",
        "    xlab(\"\") + \n",
        "    ggtitle('Box-plot Renda') +\n",
        "    formatos"
      ],
      "execution_count": null,
      "outputs": [
        {
          "output_type": "display_data",
          "data": {
            "text/plain": [
              "plot without title"
            ],
            "image/png": "[encoded data removed]"
          },
          "metadata": {
            "image/png": {
              "width": 420,
              "height": 240
            }
          }
        }
      ]
    },
    {
      "cell_type": "code",
      "metadata": {
        "id": "oo6fRHiDpuoH"
      },
      "source": [
        "dados$Cat.Ano.De.Estudo = factor(dados$Anos.de.Estudo, order = T)\n",
        "levels(dados$Cat.Ano.De.Estudo) = anos_de_estudo"
      ],
      "execution_count": null,
      "outputs": []
    },
    {
      "cell_type": "code",
      "metadata": {
        "id": "2-8QbhcppuoI"
      },
      "source": [
        ""
      ],
      "execution_count": null,
      "outputs": []
    },
    {
      "cell_type": "code",
      "metadata": {
        "id": "dS4FaUQ8puoJ",
        "colab": {
          "base_uri": "https://localhost:8080/"
        },
        "outputId": "b760e6cc-ab45-492a-ff6c-9461e98570f9"
      },
      "source": [
        "ggplot(data = dados, aes(x = \"\", y = Anos.de.Estudo)) + \n",
        "    stat_boxplot(geom ='errorbar', width = 0.4) + \n",
        "    geom_boxplot(fill = '#3274A1') + \n",
        "    coord_flip() +\n",
        "    ylab(\"Anos\") + \n",
        "    xlab(\"\") + \n",
        "    ggtitle('Box-plot Anos de Estudo') +\n",
        "    formatos"
      ],
      "execution_count": null,
      "outputs": [
        {
          "output_type": "display_data",
          "data": {
            "text/plain": [
              "plot without title"
            ],
            "image/png": "[encoded data removed]"
          },
          "metadata": {
            "image/png": {
              "width": 420,
              "height": 240
            }
          }
        }
      ]
    },
    {
      "cell_type": "code",
      "metadata": {
        "id": "DEz-pCAWpuoJ",
        "colab": {
          "base_uri": "https://localhost:8080/"
        },
        "outputId": "edc92642-41e8-449a-951a-37d1b96f4437"
      },
      "source": [
        "ggplot(data = dados, aes(x = Cat.sexo, y = Anos.de.Estudo)) + \n",
        "    stat_boxplot(geom ='errorbar', width = 0.4) + \n",
        "    geom_boxplot(fill = c('#3274A1', \"orange\")) + \n",
        "    coord_flip() +\n",
        "    ylab(\"Anos\") + \n",
        "    xlab(\"Sexo\") + \n",
        "    ggtitle('Box-plot Anos de Estudo X Sexo') +\n",
        "    formatos"
      ],
      "execution_count": null,
      "outputs": [
        {
          "output_type": "display_data",
          "data": {
            "text/plain": [
              "plot without title"
            ],
            "image/png": "[encoded data removed]"
          },
          "metadata": {
            "image/png": {
              "width": 420,
              "height": 240
            }
          }
        }
      ]
    },
    {
      "cell_type": "markdown",
      "metadata": {
        "id": "amloMZwVjQNN"
      },
      "source": [
        "<img src='https://caelum-online-public.s3.amazonaws.com/1177-estatistica-parte1/01/img006.png' width='80%'>"
      ]
    },
    {
      "cell_type": "markdown",
      "metadata": {
        "id": "aJ6v_NI9jQNN"
      },
      "source": [
        "# <font color=green>5 MEDIDAS DE DISPERSÃO</font>\n",
        "***\n",
        "\n",
        "Embora as medidas de posição forneçam uma sumarização bastante importante dos dados, elas podem não ser suficientes para caracterizar conjuntos distintos, especialmente quando as observações de determinada distribuição apresentarem dados muito dispersos."
      ]
    },
    {
      "cell_type": "markdown",
      "metadata": {
        "id": "D6xVxAQ7jQNO"
      },
      "source": [
        "## <font color=green>5.1 Desvio médio absoluto</font>\n",
        "***\n",
        "\n",
        "\n",
        "# $$DM = \\frac 1n\\sum_{i=1}^{n}|X_i-\\bar{X}|$$"
      ]
    },
    {
      "cell_type": "markdown",
      "metadata": {
        "id": "C-7WKiFCpuoL"
      },
      "source": [
        "### <font color=red>Documentações:\n",
        "\n",
        "- [**sum**](https://www.rdocumentation.org/packages/base/versions/3.6.1/topics/sum)\n",
        "- [**abs**](https://www.rdocumentation.org/packages/base/versions/3.6.1/topics/MathFun)\n",
        "- [**DescTools**](https://www.rdocumentation.org/packages/DescTools/versions/0.99.30)\n",
        "- [**MeanAD**](https://www.rdocumentation.org/packages/DescTools/versions/0.99.30/topics/MeanAD)"
      ]
    },
    {
      "cell_type": "code",
      "metadata": {
        "id": "0sL31blV7nz3"
      },
      "source": [
        "DataFrame"
      ],
      "execution_count": null,
      "outputs": []
    },
    {
      "cell_type": "code",
      "metadata": {
        "id": "MFhDnjndpuoL"
      },
      "source": [
        "summary(DataFrame)"
      ],
      "execution_count": null,
      "outputs": []
    },
    {
      "cell_type": "code",
      "metadata": {
        "id": "8_Q2tOTmjQNO"
      },
      "source": [
        "notas_Fulano = data.frame(DataFrame$Fulano, row.names = row.names(DataFrame))"
      ],
      "execution_count": null,
      "outputs": []
    },
    {
      "cell_type": "code",
      "metadata": {
        "id": "XKXKvnUypuoL"
      },
      "source": [
        "notas_Fulano"
      ],
      "execution_count": null,
      "outputs": []
    },
    {
      "cell_type": "code",
      "metadata": {
        "id": "OiWDTw0ljQNQ"
      },
      "source": [
        "notaMediaFulano = mean(notas_Fulano$DataFrame.Fulano)\n",
        "notaMediaFulano\n",
        "print(\"===================================\")\n",
        "print(\"===================================\")\n",
        "summary(notas_Fulano)"
      ],
      "execution_count": null,
      "outputs": []
    },
    {
      "cell_type": "code",
      "metadata": {
        "id": "qQbjktz5jQNR"
      },
      "source": [
        "notas_Fulano$DesvioMedioAbsoluto = notas_Fulano$DataFrame.Fulano - notaMediaFulano # MAD\n",
        "notas_Fulano"
      ],
      "execution_count": null,
      "outputs": []
    },
    {
      "cell_type": "code",
      "source": [
        "# Agora com modulo dos valores\n",
        "# o ABS() é absoluto, ou seja só o valor que queremos, ignorando se é positivo ou não!\n",
        "\n",
        "notas_Fulano$DesvioMedioAbsoluto = abs(notas_Fulano$DesvioMedioAbsoluto)\n",
        "notas_Fulano"
      ],
      "metadata": {
        "id": "pwwld1jIOqx3"
      },
      "execution_count": null,
      "outputs": []
    },
    {
      "cell_type": "code",
      "metadata": {
        "id": "m4buiQWF01xt"
      },
      "source": [
        "Materias = row.names(notas_Fulano)"
      ],
      "execution_count": null,
      "outputs": []
    },
    {
      "cell_type": "code",
      "metadata": {
        "id": "BbPOhQ0lpuoM"
      },
      "source": [
        "ggplot(data = notas_Fulano, aes(x = Materias, y = Fulano)) + \n",
        "    geom_point() + \n",
        "    geom_hline(yintercept = mean(notas_Fulano$DataFrame.Fulano), color = 'red') + \n",
        "    geom_segment(aes(x = 1, y = 10, xend = 1, yend = mean(DataFrame.Fulano))) + \n",
        "    geom_segment(aes(x = 2, y = 8, xend = 2, yend = mean(DataFrame.Fulano))) + \n",
        "    geom_segment(aes(x = 3, y = 6, xend = 3, yend = mean(DataFrame.Fulano))) + \n",
        "    geom_segment(aes(x = 4, y = 4, xend = 4, yend = mean(DataFrame.Fulano))) + \n",
        "    geom_segment(aes(x = 5, y = 8, xend = 5, yend = mean(DataFrame.Fulano))) + \n",
        "    geom_segment(aes(x = 6, y = 10, xend = 6, yend = mean(DataFrame.Fulano))) + \n",
        "    geom_segment(aes(x = 7, y = 8, xend = 7, yend = mean(DataFrame.Fulano)))"
      ],
      "execution_count": null,
      "outputs": []
    },
    {
      "cell_type": "code",
      "source": [
        "mean(notas_Fulano$DesvioMedioAbsoluto)"
      ],
      "metadata": {
        "id": "9EEd-HTKeWSn"
      },
      "execution_count": null,
      "outputs": []
    },
    {
      "cell_type": "markdown",
      "metadata": {
        "id": "XhfN0Fq5puoM"
      },
      "source": [
        "### Instalando o pacote DescTools"
      ]
    },
    {
      "cell_type": "code",
      "metadata": {
        "id": "CdVPHiU0puoM"
      },
      "source": [
        "install.packages('DescTools')"
      ],
      "execution_count": null,
      "outputs": []
    },
    {
      "cell_type": "code",
      "metadata": {
        "id": "XD23dWZipuoM"
      },
      "source": [
        "library(DescTools)"
      ],
      "execution_count": null,
      "outputs": []
    },
    {
      "cell_type": "code",
      "metadata": {
        "id": "1PEJ_LUn01eV"
      },
      "source": [
        "MeanAD(DataFrame$Fulano) # Calcula o Desvio Medio Absoluto de  uma vez só"
      ],
      "execution_count": null,
      "outputs": []
    },
    {
      "cell_type": "code",
      "source": [
        "# Exercicio\n",
        "\n",
        "# materias <- c('Matemática', 'Português', 'Inglês', 'Geografia', 'História', 'Física', 'Química') \n",
        "# Fulano <- c(8, 10, 4, 8, 6, 10, 8) \n",
        "# Sicrano <- c(7.5, 8, 7, 8, 8, 8.5, 7) \n",
        "\n",
        "# df <- data.frame(Fulano, Sicrano, row.names = materias) \n",
        "\n",
        "\n",
        "# df$DispersãoFulano = abs(df$Fulano - mean(df$Fulano))\n",
        "# df$DispersãoSicrano = abs(df$Sicrano - mean(df$Sicrano))\n",
        "# df$DesvioAbsolutoFulano = MeanAD(df$Fulano)\n",
        "# df$DesvioAbsolutoSicrano = MeanAD(df$Sicrano)\n",
        "# df "
      ],
      "metadata": {
        "id": "PUOAC0gRg44w"
      },
      "execution_count": null,
      "outputs": []
    },
    {
      "cell_type": "code",
      "source": [
        "# print(\"Essa é a soma de Fulano\")\n",
        "# sum(df$Fulano)\n",
        "# print(\"Essa é a soma de Sicrano\")\n",
        "# sum(df$Sicrano)"
      ],
      "metadata": {
        "id": "l1Mj-pCniH_r"
      },
      "execution_count": null,
      "outputs": []
    },
    {
      "cell_type": "markdown",
      "metadata": {
        "id": "jSKfnKwEjQNW"
      },
      "source": [
        "## <font color=green>5.2 Variância</font>\n",
        "***"
      ]
    },
    {
      "cell_type": "markdown",
      "metadata": {
        "id": "tHD3yNqzjQNW"
      },
      "source": [
        "### Variância\n",
        "\n",
        "A variância é construída a partir das diferenças entre cada observação e a média dos dados, ou seja, o desvio em torno da média. No cálculo da variância, os desvios em torno da média são elevados ao quadrado."
      ]
    },
    {
      "cell_type": "markdown",
      "metadata": {
        "id": "WrCn9hw0jQNX"
      },
      "source": [
        "### Variância populacional\n",
        "\n",
        "# $$\\sigma^2 = \\frac 1n\\sum_{i=1}^{n}(X_i-\\mu)^2$$"
      ]
    },
    {
      "cell_type": "markdown",
      "metadata": {
        "id": "jV5mQT_djQNX"
      },
      "source": [
        "### Variância amostral\n",
        "\n",
        "# $$S^2 = \\frac 1{n-1}\\sum_{i=1}^{n}(X_i-\\bar{X})^2$$"
      ]
    },
    {
      "cell_type": "markdown",
      "metadata": {
        "id": "yVR9y8CspuoO"
      },
      "source": [
        "### <font color=red>Documentações:\n",
        "\n",
        "- [**var**](https://www.rdocumentation.org/packages/stats/versions/3.6.1/topics/cor)"
      ]
    },
    {
      "cell_type": "code",
      "metadata": {
        "id": "4tlbCQeujQNZ"
      },
      "source": [
        "notas_Fulano$Desvio2 = (notas_Fulano$DesvioMedioAbsoluto * notas_Fulano$DesvioMedioAbsoluto) \n",
        "notas_Fulano"
      ],
      "execution_count": null,
      "outputs": []
    },
    {
      "cell_type": "code",
      "metadata": {
        "id": "oCcAfoIOjQNa"
      },
      "source": [
        "sum(notas_Fulano$Desvio2) / (nrow(notas_Fulano) -1) # n - 1"
      ],
      "execution_count": null,
      "outputs": []
    },
    {
      "cell_type": "code",
      "metadata": {
        "id": "EyrfPHLtjQNb"
      },
      "source": [
        "varianciaFulano = var(notas_Fulano$DataFrame.Fulano)\n",
        "varianciaFulano"
      ],
      "execution_count": null,
      "outputs": []
    },
    {
      "cell_type": "markdown",
      "metadata": {
        "id": "wQl_CsytjQNg"
      },
      "source": [
        "## <font color=green>5.3 Desvio padrão</font>\n",
        "***\n",
        "\n",
        "Uma das restrições da variância é o fato de fornecer medidas em quadrados das unidades originais - a variância de medidas de comprimento, por exemplo, é em unidades de área. Logo, o fato de as unidades serem diferentes dificulta a comparação da dispersão com as variáveis que a definem. Um modo de eliminar essa dificuldade é considerar sua raiz quadrada."
      ]
    },
    {
      "cell_type": "markdown",
      "metadata": {
        "id": "X9w1Iqt3jQNg"
      },
      "source": [
        "### Desvio padrão populacional\n",
        "\n",
        "# $$\\sigma = \\sqrt{\\frac 1n\\sum_{i=1}^{n}(X_i-\\mu)^2} \\Longrightarrow \\sigma = \\sqrt{\\sigma^2}$$"
      ]
    },
    {
      "cell_type": "markdown",
      "metadata": {
        "id": "D3J4MvMpjQNg"
      },
      "source": [
        "### Desvio padrão amostral\n",
        "\n",
        "# $$S = \\sqrt{\\frac 1{n-1}\\sum_{i=1}^{n}(X_i-\\bar{X})^2} \\Longrightarrow S = \\sqrt{S^2}$$"
      ]
    },
    {
      "cell_type": "markdown",
      "metadata": {
        "id": "p4_M8lfKpuoP"
      },
      "source": [
        "### <font color=red>Documentações:\n",
        "\n",
        "- [**sd**](https://www.rdocumentation.org/packages/stats/versions/3.6.1/topics/sd)\n",
        "- [**summary**](https://www.rdocumentation.org/packages/base/versions/3.6.1/topics/summary)"
      ]
    },
    {
      "cell_type": "code",
      "metadata": {
        "id": "2di6iLFaSPda",
        "colab": {
          "base_uri": "https://localhost:8080/",
          "height": 34
        },
        "outputId": "22fcb6a6-7612-4e66-84c4-eca49351c615"
      },
      "source": [
        "sqrt(varianciaFulano)"
      ],
      "execution_count": null,
      "outputs": [
        {
          "output_type": "display_data",
          "data": {
            "text/html": [
              "2.1380899352994"
            ],
            "text/markdown": "2.1380899352994",
            "text/latex": "2.1380899352994",
            "text/plain": [
              "[1] 2.13809"
            ]
          },
          "metadata": {}
        }
      ]
    },
    {
      "cell_type": "code",
      "metadata": {
        "id": "BMTx9yKHSPON"
      },
      "source": [
        "desvio_padrao = sd(notas_Fulano$DataFrame.Fulano)"
      ],
      "execution_count": null,
      "outputs": []
    },
    {
      "cell_type": "code",
      "metadata": {
        "id": "_PeQtqbdjQNh",
        "colab": {
          "base_uri": "https://localhost:8080/",
          "height": 34
        },
        "outputId": "fc4258b3-1b15-4ff3-8503-873752aae093"
      },
      "source": [
        "desvio_padrao"
      ],
      "execution_count": null,
      "outputs": [
        {
          "output_type": "display_data",
          "data": {
            "text/html": [
              "2.1380899352994"
            ],
            "text/markdown": "2.1380899352994",
            "text/latex": "2.1380899352994",
            "text/plain": [
              "[1] 2.13809"
            ]
          },
          "metadata": {}
        }
      ]
    },
    {
      "cell_type": "code",
      "metadata": {
        "id": "5LYOKy25jQNi",
        "colab": {
          "base_uri": "https://localhost:8080/",
          "height": 318
        },
        "outputId": "3c0fb5db-1353-4579-ad87-7a5c573c2e38"
      },
      "source": [
        "DataFrame"
      ],
      "execution_count": null,
      "outputs": [
        {
          "output_type": "display_data",
          "data": {
            "text/html": [
              "<table class=\"dataframe\">\n",
              "<caption>A data.frame: 7 × 3</caption>\n",
              "<thead>\n",
              "\t<tr><th></th><th scope=col>Fulano</th><th scope=col>Beltrano</th><th scope=col>Sicrano</th></tr>\n",
              "\t<tr><th></th><th scope=col>&lt;dbl&gt;</th><th scope=col>&lt;dbl&gt;</th><th scope=col>&lt;dbl&gt;</th></tr>\n",
              "</thead>\n",
              "<tbody>\n",
              "\t<tr><th scope=row>Matemática</th><td> 8</td><td>10.0</td><td>7.5</td></tr>\n",
              "\t<tr><th scope=row>Português</th><td>10</td><td> 2.0</td><td>8.0</td></tr>\n",
              "\t<tr><th scope=row>Inglês</th><td> 4</td><td> 0.5</td><td>7.0</td></tr>\n",
              "\t<tr><th scope=row>Geografia</th><td> 8</td><td> 1.0</td><td>8.0</td></tr>\n",
              "\t<tr><th scope=row>História</th><td> 6</td><td> 3.0</td><td>8.0</td></tr>\n",
              "\t<tr><th scope=row>Física</th><td>10</td><td> 9.5</td><td>8.5</td></tr>\n",
              "\t<tr><th scope=row>Química</th><td> 8</td><td>10.0</td><td>7.0</td></tr>\n",
              "</tbody>\n",
              "</table>\n"
            ],
            "text/markdown": "\nA data.frame: 7 × 3\n\n| <!--/--> | Fulano &lt;dbl&gt; | Beltrano &lt;dbl&gt; | Sicrano &lt;dbl&gt; |\n|---|---|---|---|\n| Matemática |  8 | 10.0 | 7.5 |\n| Português | 10 |  2.0 | 8.0 |\n| Inglês |  4 |  0.5 | 7.0 |\n| Geografia |  8 |  1.0 | 8.0 |\n| História |  6 |  3.0 | 8.0 |\n| Física | 10 |  9.5 | 8.5 |\n| Química |  8 | 10.0 | 7.0 |\n\n",
            "text/latex": "A data.frame: 7 × 3\n\\begin{tabular}{r|lll}\n  & Fulano & Beltrano & Sicrano\\\\\n  & <dbl> & <dbl> & <dbl>\\\\\n\\hline\n\tMatemática &  8 & 10.0 & 7.5\\\\\n\tPortuguês & 10 &  2.0 & 8.0\\\\\n\tInglês &  4 &  0.5 & 7.0\\\\\n\tGeografia &  8 &  1.0 & 8.0\\\\\n\tHistória &  6 &  3.0 & 8.0\\\\\n\tFísica & 10 &  9.5 & 8.5\\\\\n\tQuímica &  8 & 10.0 & 7.0\\\\\n\\end{tabular}\n",
            "text/plain": [
              "           Fulano Beltrano Sicrano\n",
              "Matemática  8     10.0     7.5    \n",
              "Português  10      2.0     8.0    \n",
              "Inglês      4      0.5     7.0    \n",
              "Geografia   8      1.0     8.0    \n",
              "História    6      3.0     8.0    \n",
              "Física     10      9.5     8.5    \n",
              "Química     8     10.0     7.0    "
            ]
          },
          "metadata": {}
        }
      ]
    },
    {
      "cell_type": "code",
      "metadata": {
        "id": "G8vorygCjQNk",
        "colab": {
          "base_uri": "https://localhost:8080/",
          "height": 139
        },
        "outputId": "f12e60ed-1c54-47a2-a54f-b5add78cd160"
      },
      "source": [
        "summary(DataFrame)"
      ],
      "execution_count": null,
      "outputs": [
        {
          "output_type": "display_data",
          "data": {
            "text/plain": [
              "     Fulano          Beltrano         Sicrano     \n",
              " Min.   : 4.000   Min.   : 0.500   Min.   :7.000  \n",
              " 1st Qu.: 7.000   1st Qu.: 1.500   1st Qu.:7.250  \n",
              " Median : 8.000   Median : 3.000   Median :8.000  \n",
              " Mean   : 7.714   Mean   : 5.143   Mean   :7.714  \n",
              " 3rd Qu.: 9.000   3rd Qu.: 9.750   3rd Qu.:8.000  \n",
              " Max.   :10.000   Max.   :10.000   Max.   :8.500  "
            ]
          },
          "metadata": {}
        }
      ]
    },
    {
      "cell_type": "code",
      "metadata": {
        "id": "01op3BEvjQNl",
        "colab": {
          "base_uri": "https://localhost:8080/",
          "height": 52
        },
        "outputId": "c5ee7d00-e929-4d84-f21c-6856b9124c48"
      },
      "source": [
        "Moda(DataFrame$Fulano)\n",
        "Moda(DataFrame$Sicrano)"
      ],
      "execution_count": null,
      "outputs": [
        {
          "output_type": "display_data",
          "data": {
            "text/html": [
              "'8'"
            ],
            "text/markdown": "'8'",
            "text/latex": "'8'",
            "text/plain": [
              "[1] \"8\""
            ]
          },
          "metadata": {}
        },
        {
          "output_type": "display_data",
          "data": {
            "text/html": [
              "'8'"
            ],
            "text/markdown": "'8'",
            "text/latex": "'8'",
            "text/plain": [
              "[1] \"8\""
            ]
          },
          "metadata": {}
        }
      ]
    },
    {
      "cell_type": "code",
      "metadata": {
        "id": "aiUvZluhUx-0",
        "colab": {
          "base_uri": "https://localhost:8080/",
          "height": 52
        },
        "outputId": "5d572991-fa31-41ca-e72d-4f7219a2d07c"
      },
      "source": [
        "sd(DataFrame$Fulano)\n",
        "sd(DataFrame$Sicrano)"
      ],
      "execution_count": null,
      "outputs": [
        {
          "output_type": "display_data",
          "data": {
            "text/html": [
              "2.1380899352994"
            ],
            "text/markdown": "2.1380899352994",
            "text/latex": "2.1380899352994",
            "text/plain": [
              "[1] 2.13809"
            ]
          },
          "metadata": {}
        },
        {
          "output_type": "display_data",
          "data": {
            "text/html": [
              "0.566946709513841"
            ],
            "text/markdown": "0.566946709513841",
            "text/latex": "0.566946709513841",
            "text/plain": [
              "[1] 0.5669467"
            ]
          },
          "metadata": {}
        }
      ]
    },
    {
      "cell_type": "code",
      "source": [
        "#  Exercicio <- data.frame( \n",
        "#     Sexo = c('H', 'M', 'M', 'M', 'M', 'H', 'H', 'H', 'M', 'M'), \n",
        "#     Idade = c(53, 72, 54, 27, 30, 40, 58, 32, 44, 51) \n",
        "# ) \n",
        "\n",
        "# sd(Exercicio$Idade)\n",
        "# print(\"====\")\n",
        "# aggregate(list(Idade = Exercicio$Idade), list(Sexo = Exercicio$Sexo),sd)"
      ],
      "metadata": {
        "id": "eH1z9UIO5ymC"
      },
      "execution_count": null,
      "outputs": []
    }
  ]
}